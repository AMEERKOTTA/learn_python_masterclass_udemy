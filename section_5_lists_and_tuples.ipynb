{
 "cells": [
  {
   "cell_type": "markdown",
   "metadata": {},
   "source": [
    "## List and Tuples"
   ]
  },
  {
   "cell_type": "markdown",
   "metadata": {},
   "source": [
    "**Sequence Types**"
   ]
  },
  {
   "cell_type": "markdown",
   "metadata": {},
   "source": [
    "+ Lists\n",
    "+ Tuples\n",
    "+ and Range of Objects\n",
    "\n",
    "+ Sequences are ordered collection of Elements\n",
    "+ Iterables, an iterable is that its an object that contains either\n",
    "    - an __iter__ method\n",
    "    - or an __getitem__ method\n",
    "+ All Sequence types can be iterated Over\n",
    "+ Example : Lists, Tuples, Strings, etc\n",
    "\n",
    "+ Dictionary is not a Sequence, but we can use for loop over dicts, but they are not Sequences."
   ]
  },
  {
   "cell_type": "markdown",
   "metadata": {},
   "source": [
    "**LISTS**"
   ]
  },
  {
   "cell_type": "markdown",
   "metadata": {},
   "source": [
    "+ Lists are collection of Ordered Elements\n",
    "+ We can iterate over the Lists\n",
    "+ We can do Indexing and Slicing over the Lists\n",
    "+ **Lists are Mutable and Strings are Immutable**"
   ]
  },
  {
   "cell_type": "code",
   "execution_count": 1,
   "metadata": {},
   "outputs": [
    {
     "name": "stdout",
     "output_type": "stream",
     "text": [
      "['mouse', 'keyboard', 'monitor', 'mouse mat', 'processor']\n",
      "mouse\n",
      "keyboard\n",
      "['mouse', 'keyboard', 'monitor', 'mouse mat', 'processor']\n",
      "['mouse', 'keyboard', 'monitor']\n",
      "['processor', 'mouse mat', 'monitor', 'keyboard', 'mouse']\n"
     ]
    }
   ],
   "source": [
    "## list example\n",
    "computer_parts = [\"mouse\",\"keyboard\",\"monitor\",\"mouse mat\",\"processor\"]\n",
    "print(computer_parts)\n",
    "## indexing\n",
    "print(computer_parts[0])\n",
    "print(computer_parts[1])\n",
    "\n",
    "## Slicing\n",
    "print(computer_parts[::])     ## to print full list\n",
    "print(computer_parts[0:3])    ## to slice from one index to another index\n",
    "print(computer_parts[::-1])   ## to reverse the elemnts in the list, same as in the strings"
   ]
  },
  {
   "cell_type": "code",
   "execution_count": null,
   "metadata": {},
   "outputs": [],
   "source": []
  },
  {
   "cell_type": "markdown",
   "metadata": {},
   "source": [
    "**IMMUTABLE OBJECTS**"
   ]
  },
  {
   "cell_type": "markdown",
   "metadata": {},
   "source": [
    "Immutable means it cannot change its value, \n",
    "+ Immutable Objects:--\n",
    "        - int\n",
    "        - float\n",
    "        - boolean\n",
    "        - strings\n",
    "        - tuple\n",
    "        - frozenset\n",
    "        - Bytes\n",
    "\n",
    "+ Integer is Immutable\n",
    "+ Float is Immutable\n",
    "+ Booleans are also Immutable"
   ]
  },
  {
   "cell_type": "code",
   "execution_count": 2,
   "metadata": {},
   "outputs": [
    {
     "name": "stdout",
     "output_type": "stream",
     "text": [
      "140736572483408\n",
      "140736572483408\n"
     ]
    }
   ],
   "source": [
    "result = True\n",
    "another_result = result\n",
    "print(id(result))\n",
    "print(id(another_result))"
   ]
  },
  {
   "cell_type": "code",
   "execution_count": 3,
   "metadata": {},
   "outputs": [
    {
     "name": "stdout",
     "output_type": "stream",
     "text": [
      "140736572483440\n"
     ]
    }
   ],
   "source": [
    "result = False\n",
    "print(id(result))"
   ]
  },
  {
   "cell_type": "code",
   "execution_count": 4,
   "metadata": {},
   "outputs": [
    {
     "name": "stdout",
     "output_type": "stream",
     "text": [
      "2471308394608\n",
      "2471308394608\n"
     ]
    }
   ],
   "source": [
    "## differently\n",
    "\n",
    "result = \"Correct\"\n",
    "another_result = result\n",
    "print(id(result))\n",
    "print(id(another_result))"
   ]
  },
  {
   "cell_type": "code",
   "execution_count": 5,
   "metadata": {},
   "outputs": [
    {
     "name": "stdout",
     "output_type": "stream",
     "text": [
      "2471308396144\n"
     ]
    }
   ],
   "source": [
    "result = \"Incorrect\"\n",
    "print(id(result))"
   ]
  },
  {
   "cell_type": "code",
   "execution_count": null,
   "metadata": {},
   "outputs": [],
   "source": []
  },
  {
   "cell_type": "markdown",
   "metadata": {},
   "source": [
    "**MUTABLE OBJECTS**\n",
    "\n",
    "+ Values can be changed\n",
    "+ Following Mutable objects are\n",
    "        - lists\n",
    "        - dicts\n",
    "        - set\n",
    "        - Bytearray\n",
    "        \n",
    "+ Strings are Immutable"
   ]
  },
  {
   "cell_type": "code",
   "execution_count": 6,
   "metadata": {},
   "outputs": [
    {
     "name": "stdout",
     "output_type": "stream",
     "text": [
      "['milk', 'pasta', 'eggs', 'spam', 'bread', 'rice']\n",
      "['pen', 'book', 'eggs', 'spam', 'bread', 'rice', 'cookies']\n"
     ]
    }
   ],
   "source": [
    "shopping_list = [\"milk\",\"pasta\",\"eggs\",\"spam\",\"bread\",\"rice\"]\n",
    "print(shopping_list)\n",
    "\n",
    "## change the first value\n",
    "shopping_list[0] = \"pen\"      ## changing the first value\n",
    "shopping_list[1] = \"book\"     ## changing the second value\n",
    "\n",
    "shopping_list += [\"cookies\"]  ## \"cookies\" are added\n",
    "\n",
    "print(shopping_list)"
   ]
  },
  {
   "cell_type": "code",
   "execution_count": null,
   "metadata": {},
   "outputs": [],
   "source": []
  },
  {
   "cell_type": "markdown",
   "metadata": {},
   "source": [
    "**BINDING MULTIPLE NAMES TO A LIST**"
   ]
  },
  {
   "cell_type": "code",
   "execution_count": 7,
   "metadata": {},
   "outputs": [
    {
     "name": "stdout",
     "output_type": "stream",
     "text": [
      "['pen', 'book', 'eggs', 'spam', 'bread', 'rice', 'cookies']\n",
      "Adding 'cream' to the list\n",
      "['pen', 'book', 'eggs', 'spam', 'bread', 'rice', 'cookies', 'cream']\n",
      "['pen', 'book', 'eggs', 'spam', 'bread', 'rice', 'cookies', 'cream']\n",
      "['pen', 'book', 'eggs', 'spam', 'bread', 'rice', 'cookies', 'cream']\n"
     ]
    }
   ],
   "source": [
    "a=b=c=d=e=f=shopping_list\n",
    "\n",
    "print(a)\n",
    "\n",
    "## adding \"cream\" to the list by appending\n",
    "print(\"Adding 'cream' to the list\")\n",
    "b.append(\"cream\")\n",
    "print(b)\n",
    "\n",
    "print(c)\n",
    "print(d)"
   ]
  },
  {
   "cell_type": "code",
   "execution_count": null,
   "metadata": {},
   "outputs": [],
   "source": []
  },
  {
   "cell_type": "markdown",
   "metadata": {},
   "source": [
    "**APPENDING TO A LIST**"
   ]
  },
  {
   "cell_type": "code",
   "execution_count": 8,
   "metadata": {},
   "outputs": [
    {
     "name": "stdout",
     "output_type": "stream",
     "text": [
      "Please add option from the list below\n",
      "1:\tcomputer\n",
      "2:\tmonitor\n",
      "3:\tmouse\n",
      "4:\tkeyboard\n",
      "5:\tmouse mat\n",
      "0:\tto finish\n",
      "1\n",
      "Adding 1\n",
      "2\n",
      "Adding 2\n",
      "3\n",
      "Adding 3\n",
      "4\n",
      "Adding 4\n",
      "5\n",
      "Adding 5\n",
      "0\n",
      "End of the Program\n",
      "['computer', 'monitor', 'mouse', 'keyboard', 'mouse mat']\n"
     ]
    }
   ],
   "source": [
    "## program to append items to list\n",
    "current_choice = \"-\"\n",
    "computer_parts = []  ## creating a empty list\n",
    "\n",
    "while current_choice != \"0\":\n",
    "    if current_choice in \"12345\":\n",
    "        print(\"Adding {}\".format(current_choice))\n",
    "        if current_choice == \"1\":\n",
    "            computer_parts.append(\"computer\")\n",
    "        elif current_choice == \"2\":\n",
    "            computer_parts.append(\"monitor\")\n",
    "        elif current_choice == \"3\":\n",
    "            computer_parts.append(\"mouse\")\n",
    "        elif current_choice == \"4\":\n",
    "            computer_parts.append(\"keyboard\")\n",
    "        elif current_choice == \"5\":\n",
    "            computer_parts.append(\"mouse mat\")\n",
    "        \n",
    "    else:\n",
    "        print(\"Please add option from the list below\")\n",
    "        print(\"1:\\tcomputer\")\n",
    "        print(\"2:\\tmonitor\")\n",
    "        print(\"3:\\tmouse\")\n",
    "        print(\"4:\\tkeyboard\")\n",
    "        print(\"5:\\tmouse mat\")\n",
    "        print(\"0:\\tto finish\")\n",
    "        \n",
    "    current_choice = input()\n",
    "    \n",
    "else:\n",
    "    print(\"End of the Program\")\n",
    "    print(computer_parts)"
   ]
  },
  {
   "cell_type": "code",
   "execution_count": null,
   "metadata": {},
   "outputs": [],
   "source": []
  },
  {
   "cell_type": "markdown",
   "metadata": {},
   "source": [
    "**MINI CHALLENGE**\n",
    "+ Change the Program to have another Option\n",
    "+ Option 6 for an hdmi cable"
   ]
  },
  {
   "cell_type": "code",
   "execution_count": 9,
   "metadata": {},
   "outputs": [
    {
     "name": "stdout",
     "output_type": "stream",
     "text": [
      "Please add option from the list below\n",
      "1:\tcomputer\n",
      "2:\tmonitor\n",
      "3:\tmouse\n",
      "4:\tkeyboard\n",
      "5:\tmouse mat\n",
      "6:\tHDMI Cable\n",
      "0:\tto finish\n",
      "1\n",
      "Adding 1\n",
      "2\n",
      "Adding 2\n",
      "3\n",
      "Adding 3\n",
      "4\n",
      "Adding 4\n",
      "5\n",
      "Adding 5\n",
      "6\n",
      "Adding 6\n",
      "0\n",
      "End of the Program\n",
      "['computer', 'monitor', 'mouse', 'keyboard', 'mouse mat', 'HDMI Cable']\n"
     ]
    }
   ],
   "source": [
    "## program to append items to list\n",
    "current_choice = \"-\"\n",
    "computer_parts = []  ## creating a empty list\n",
    "\n",
    "while current_choice != \"0\":\n",
    "    if current_choice in \"123456\":\n",
    "        print(\"Adding {}\".format(current_choice))\n",
    "        if current_choice == \"1\":\n",
    "            computer_parts.append(\"computer\")\n",
    "        elif current_choice == \"2\":\n",
    "            computer_parts.append(\"monitor\")\n",
    "        elif current_choice == \"3\":\n",
    "            computer_parts.append(\"mouse\")\n",
    "        elif current_choice == \"4\":\n",
    "            computer_parts.append(\"keyboard\")\n",
    "        elif current_choice == \"5\":\n",
    "            computer_parts.append(\"mouse mat\")\n",
    "        elif current_choice == \"6\":\n",
    "            computer_parts.append(\"HDMI Cable\")\n",
    "        \n",
    "    else:\n",
    "        print(\"Please add option from the list below\")\n",
    "        print(\"1:\\tcomputer\")\n",
    "        print(\"2:\\tmonitor\")\n",
    "        print(\"3:\\tmouse\")\n",
    "        print(\"4:\\tkeyboard\")\n",
    "        print(\"5:\\tmouse mat\")\n",
    "        print(\"6:\\tHDMI Cable\")\n",
    "        print(\"0:\\tto finish\")\n",
    "        \n",
    "    current_choice = input()\n",
    "    \n",
    "else:\n",
    "    print(\"End of the Program\")\n",
    "    print(computer_parts)"
   ]
  },
  {
   "cell_type": "code",
   "execution_count": null,
   "metadata": {},
   "outputs": [],
   "source": []
  },
  {
   "cell_type": "markdown",
   "metadata": {},
   "source": [
    "**ITERATING OVER A STRING**\n",
    "\n",
    "+ To make the above program much simpler\n",
    "+ We can iterate through the list\n",
    "+ and can create and append values to lists"
   ]
  },
  {
   "cell_type": "code",
   "execution_count": 10,
   "metadata": {},
   "outputs": [
    {
     "name": "stdout",
     "output_type": "stream",
     "text": [
      "Please add option from the list below\n",
      "1:\tcomputer\n",
      "2:\tmonitor\n",
      "3:\tkeyboard\n",
      "4:\tmouse\n",
      "5:\tmouse mat\n",
      "6:\tHDMI cable\n",
      "7:\tDVD drive\n",
      "1\n",
      "Adding 1\n",
      "2\n",
      "Adding 2\n",
      "3\n",
      "Adding 3\n",
      "4\n",
      "Adding 4\n",
      "5\n",
      "Adding 5\n",
      "6\n",
      "Adding 6\n",
      "7\n",
      "Adding 7\n",
      "0\n",
      "End of the Program\n",
      "['computer', 'monitor', 'mouse', 'keyboard', 'mouse mat', 'HDMI Cable', 'DVD drive']\n"
     ]
    }
   ],
   "source": [
    "## program to append items to list\n",
    "available_parts = [\"computer\",\"monitor\",\"keyboard\",\"mouse\",\"mouse mat\",\"HDMI cable\",\"DVD drive\"]\n",
    "current_choice = \"-\"\n",
    "computer_parts = []  ## creating a empty list\n",
    "\n",
    "while current_choice != \"0\":\n",
    "    if current_choice in \"1234567\":\n",
    "        print(\"Adding {}\".format(current_choice))\n",
    "        if current_choice == \"1\":\n",
    "            computer_parts.append(\"computer\")\n",
    "        elif current_choice == \"2\":\n",
    "            computer_parts.append(\"monitor\")\n",
    "        elif current_choice == \"3\":\n",
    "            computer_parts.append(\"mouse\")\n",
    "        elif current_choice == \"4\":\n",
    "            computer_parts.append(\"keyboard\")\n",
    "        elif current_choice == \"5\":\n",
    "            computer_parts.append(\"mouse mat\")\n",
    "        elif current_choice == \"6\":\n",
    "            computer_parts.append(\"HDMI Cable\")\n",
    "        elif current_choice == \"7\":\n",
    "            computer_parts.append(\"DVD drive\")\n",
    "            \n",
    "        \n",
    "    else:\n",
    "        print(\"Please add option from the list below\")\n",
    "        for part in available_parts:\n",
    "            print(\"{0}:\\t{1}\".format(available_parts.index(part)+1,part))\n",
    "    current_choice = input()\n",
    "    \n",
    "else:\n",
    "    print(\"End of the Program\")\n",
    "    print(computer_parts)"
   ]
  },
  {
   "cell_type": "code",
   "execution_count": 11,
   "metadata": {},
   "outputs": [
    {
     "name": "stdout",
     "output_type": "stream",
     "text": [
      "1:\tcomputer\n",
      "2:\tmonitor\n",
      "3:\tkeyboard\n",
      "4:\tmouse\n",
      "5:\tmouse mat\n",
      "6:\tHDMI cable\n",
      "7:\tDVD drive\n"
     ]
    }
   ],
   "source": [
    "for part in available_parts:\n",
    "    #print(part)\n",
    "    print(\"{0}:\\t{1}\".format(available_parts.index(part)+1,part))"
   ]
  },
  {
   "cell_type": "code",
   "execution_count": null,
   "metadata": {},
   "outputs": [],
   "source": []
  },
  {
   "cell_type": "markdown",
   "metadata": {},
   "source": [
    "**Using ENUMERATE FUNCTION**"
   ]
  },
  {
   "cell_type": "code",
   "execution_count": 12,
   "metadata": {},
   "outputs": [
    {
     "name": "stdout",
     "output_type": "stream",
     "text": [
      "1:\tcomputer\n",
      "2:\tmonitor\n",
      "3:\tkeyboard\n",
      "4:\tmouse\n",
      "5:\tmouse mat\n",
      "6:\tHDMI cable\n",
      "7:\tDVD drive\n"
     ]
    }
   ],
   "source": [
    "for number,part in enumerate(available_parts):\n",
    "    print(\"{0}:\\t{1}\".format(number+1,part))"
   ]
  },
  {
   "cell_type": "code",
   "execution_count": 13,
   "metadata": {},
   "outputs": [
    {
     "name": "stdout",
     "output_type": "stream",
     "text": [
      "Please add option from the list below\n",
      "1:\tcomputer\n",
      "2:\tmonitor\n",
      "3:\tkeyboard\n",
      "4:\tmouse\n",
      "5:\tmouse mat\n",
      "6:\tHDMI cable\n",
      "7:\tDVD drive\n",
      "1\n",
      "Adding 1\n",
      "2\n",
      "Adding 2\n",
      "3\n",
      "Adding 3\n",
      "4\n",
      "Adding 4\n",
      "5\n",
      "Adding 5\n",
      "6\n",
      "Adding 6\n",
      "7\n",
      "Adding 7\n",
      "8\n",
      "Please add option from the list below\n",
      "1:\tcomputer\n",
      "2:\tmonitor\n",
      "3:\tkeyboard\n",
      "4:\tmouse\n",
      "5:\tmouse mat\n",
      "6:\tHDMI cable\n",
      "7:\tDVD drive\n",
      "0\n",
      "End of the Program\n",
      "['computer', 'monitor', 'mouse', 'keyboard', 'mouse mat', 'HDMI Cable', 'DVD drive']\n"
     ]
    }
   ],
   "source": [
    "## program to append items to list\n",
    "available_parts = [\"computer\",\"monitor\",\"keyboard\",\"mouse\",\"mouse mat\",\"HDMI cable\",\"DVD drive\"]\n",
    "current_choice = \"-\"\n",
    "computer_parts = []  ## creating a empty list\n",
    "\n",
    "while current_choice != \"0\":\n",
    "    if current_choice in \"1234567\":\n",
    "        print(\"Adding {}\".format(current_choice))\n",
    "        if current_choice == \"1\":\n",
    "            computer_parts.append(\"computer\")\n",
    "        elif current_choice == \"2\":\n",
    "            computer_parts.append(\"monitor\")\n",
    "        elif current_choice == \"3\":\n",
    "            computer_parts.append(\"mouse\")\n",
    "        elif current_choice == \"4\":\n",
    "            computer_parts.append(\"keyboard\")\n",
    "        elif current_choice == \"5\":\n",
    "            computer_parts.append(\"mouse mat\")\n",
    "        elif current_choice == \"6\":\n",
    "            computer_parts.append(\"HDMI Cable\")\n",
    "        elif current_choice == \"7\":\n",
    "            computer_parts.append(\"DVD drive\")\n",
    "            \n",
    "        \n",
    "    else:\n",
    "        print(\"Please add option from the list below\")\n",
    "        for number,part in enumerate(available_parts):\n",
    "            print(\"{0}:\\t{1}\".format(number+1,part))\n",
    "    current_choice = input()\n",
    "    \n",
    "else:\n",
    "    print(\"End of the Program\")\n",
    "    print(computer_parts)"
   ]
  },
  {
   "cell_type": "code",
   "execution_count": 14,
   "metadata": {},
   "outputs": [
    {
     "name": "stdout",
     "output_type": "stream",
     "text": [
      "1 ------>>\t a\n",
      "2 ------>>\t b\n",
      "3 ------>>\t c\n",
      "4 ------>>\t d\n",
      "5 ------>>\t e\n",
      "6 ------>>\t f\n",
      "7 ------>>\t g\n",
      "8 ------>>\t h\n"
     ]
    }
   ],
   "source": [
    "## enumerate Example using a String\n",
    "\n",
    "for index,character in enumerate(\"abcdefgh\"):\n",
    "    print(index+1,\"------>>\\t\",character)"
   ]
  },
  {
   "cell_type": "code",
   "execution_count": 15,
   "metadata": {},
   "outputs": [
    {
     "name": "stdout",
     "output_type": "stream",
     "text": [
      "['1', '2', '3', '4', '5', '6', '7']\n"
     ]
    }
   ],
   "source": [
    "valid_choices = [str(i) for i in range(1,len(available_parts)+1)]\n",
    "print(valid_choices)"
   ]
  },
  {
   "cell_type": "code",
   "execution_count": 16,
   "metadata": {},
   "outputs": [
    {
     "data": {
      "text/plain": [
       "['1', '2', '3', '4', '5', '6', '7']"
      ]
     },
     "execution_count": 16,
     "metadata": {},
     "output_type": "execute_result"
    }
   ],
   "source": [
    "[str(i) for i in range(1,len(available_parts)+1)]"
   ]
  },
  {
   "cell_type": "code",
   "execution_count": 17,
   "metadata": {},
   "outputs": [
    {
     "name": "stdout",
     "output_type": "stream",
     "text": [
      "['1', '2', '3', '4', '5', '6', '7']\n",
      "Please add option from the list below\n",
      "1:\tcomputer\n",
      "2:\tmonitor\n",
      "3:\tkeyboard\n",
      "4:\tmouse\n",
      "5:\tmouse mat\n",
      "6:\tHDMI cable\n",
      "7:\tDVD drive\n",
      "\n",
      "Please add option from the list below\n",
      "1:\tcomputer\n",
      "2:\tmonitor\n",
      "3:\tkeyboard\n",
      "4:\tmouse\n",
      "5:\tmouse mat\n",
      "6:\tHDMI cable\n",
      "7:\tDVD drive\n",
      "2\n",
      "Adding 2\n",
      "The Index:-- 1\n",
      "The choosen part-- monitor\n",
      "3\n",
      "Adding 3\n",
      "The Index:-- 2\n",
      "The choosen part-- keyboard\n",
      "4\n",
      "Adding 4\n",
      "The Index:-- 3\n",
      "The choosen part-- mouse\n",
      "6\n",
      "Adding 6\n",
      "The Index:-- 5\n",
      "The choosen part-- HDMI cable\n",
      "0\n",
      "End of the Program\n",
      "['monitor', 'keyboard', 'mouse', 'HDMI cable']\n"
     ]
    }
   ],
   "source": [
    "## program to append items to list\n",
    "available_parts = [\"computer\",\"monitor\",\"keyboard\",\"mouse\",\"mouse mat\",\"HDMI cable\",\"DVD drive\"]\n",
    "current_choice = \"-\"\n",
    "computer_parts = []  ## creating a empty list\n",
    "## [str(i) for i in range(1,len(available_parts)+1)] ------------------LIST COMPREHENSION\n",
    "valid_choices=[]   ## valid choices are to append the number strings\n",
    "for i in range(1,len(available_parts)+1):\n",
    "    valid_choices.append(str(i))\n",
    "print(valid_choices)  ##[\"1\",\"2\",\"3\",\"4\",\"5\",\"6\",\"7\"]\n",
    "\n",
    "while current_choice != \"0\":\n",
    "    if current_choice in valid_choices:              ## if the current choice is there in valid choice\n",
    "        print(\"Adding {}\".format(current_choice))    ## go ahead and add that choice\n",
    "        index = int(current_choice) - 1              ## for that we need index of the current choice\n",
    "        print(\"The Index:--\",index)                  ## out put of the index\n",
    "        chosen_part = available_parts[index]         ## to know the choossen part from the available parts\n",
    "        print(\"The choosen part--\",chosen_part)      ## its output\n",
    "        computer_parts.append(chosen_part)           ## appending that to the empty list\n",
    "    else:\n",
    "        print(\"Please add option from the list below\")\n",
    "        for number,part in enumerate(available_parts):  ## enumerate function will index values from the avalable parts\n",
    "            print(\"{0}:\\t{1}\".format(number+1,part))    ## printing that values\n",
    "    current_choice = input()                            ## the guess of current choice\n",
    "    \n",
    "else:\n",
    "    print(\"End of the Program\")\n",
    "    print(computer_parts)"
   ]
  },
  {
   "cell_type": "markdown",
   "metadata": {},
   "source": [
    "### "
   ]
  },
  {
   "cell_type": "markdown",
   "metadata": {},
   "source": [
    "**CODE EXERCISE**"
   ]
  },
  {
   "cell_type": "code",
   "execution_count": 18,
   "metadata": {},
   "outputs": [
    {
     "name": "stdout",
     "output_type": "stream",
     "text": [
      "Flowers Name ['Bellflower - Flower', 'China Pink - Flower', 'Daffodil - Flower', 'Evening Primrose - Flower', 'French Marigold - Flower', 'Iris - Flower', \"Queen Anne's Lace - Flower\", 'Red Hot Poker - Flower', 'Snapdragon - Flower', 'Sunflower - Flower', 'Tiger Lily - Flower']\n",
      "Shrub Names ['Andromeda - Shrub', 'Hydrangea - Shrub', 'Japanese Camellia - Shrub', 'Lavender - Shrub', 'Lilac - Shrub', 'Magnolia - Shrub', 'Peony - Shrub', 'Witch Hazel - Shrub']\n"
     ]
    }
   ],
   "source": [
    "data = [\n",
    "    \"Andromeda - Shrub\",\n",
    "    \"Bellflower - Flower\",\n",
    "    \"China Pink - Flower\",\n",
    "    \"Daffodil - Flower\",\n",
    "    \"Evening Primrose - Flower\",\n",
    "    \"French Marigold - Flower\",\n",
    "    \"Hydrangea - Shrub\",\n",
    "    \"Iris - Flower\",\n",
    "    \"Japanese Camellia - Shrub\",\n",
    "    \"Lavender - Shrub\",\n",
    "    \"Lilac - Shrub\",\n",
    "    \"Magnolia - Shrub\",\n",
    "    \"Peony - Shrub\",\n",
    "    \"Queen Anne's Lace - Flower\",\n",
    "    \"Red Hot Poker - Flower\",\n",
    "    \"Snapdragon - Flower\",\n",
    "    \"Sunflower - Flower\",\n",
    "    \"Tiger Lily - Flower\",\n",
    "    \"Witch Hazel - Shrub\",\n",
    "]\n",
    "\n",
    "flowers = []\n",
    "shrubs = []\n",
    "\n",
    "# write your code here\n",
    "for plant in data:\n",
    "    if \"Flower\" in plant:\n",
    "        flowers.append(plant)\n",
    "    elif \"Shrub\" in plant:\n",
    "        shrubs.append(plant)\n",
    "        \n",
    "print(\"Flowers Name\",flowers)\n",
    "print(\"Shrub Names\",shrubs)"
   ]
  },
  {
   "cell_type": "code",
   "execution_count": null,
   "metadata": {},
   "outputs": [],
   "source": []
  },
  {
   "cell_type": "markdown",
   "metadata": {},
   "source": [
    "**REMOVING ITEMS FROM A LIST**"
   ]
  },
  {
   "cell_type": "code",
   "execution_count": 19,
   "metadata": {},
   "outputs": [
    {
     "name": "stdout",
     "output_type": "stream",
     "text": [
      "['1', '2', '3', '4', '5', '6', '7']\n",
      "Please add option from the list below\n",
      "1:\tcomputer\n",
      "2:\tmonitor\n",
      "3:\tkeyboard\n",
      "4:\tmouse\n",
      "5:\tmouse mat\n",
      "6:\tHDMI cable\n",
      "7:\tDVD drive\n",
      "\n",
      "Please add option from the list below\n",
      "1:\tcomputer\n",
      "2:\tmonitor\n",
      "3:\tkeyboard\n",
      "4:\tmouse\n",
      "5:\tmouse mat\n",
      "6:\tHDMI cable\n",
      "7:\tDVD drive\n",
      "2\n",
      "The Index:-- 1\n",
      "The choosen part-- monitor\n",
      "Adding monitor\n",
      "3\n",
      "The Index:-- 2\n",
      "The choosen part-- keyboard\n",
      "Adding keyboard\n",
      "4\n",
      "The Index:-- 3\n",
      "The choosen part-- mouse\n",
      "Adding mouse\n",
      "5\n",
      "The Index:-- 4\n",
      "The choosen part-- mouse mat\n",
      "Adding mouse mat\n",
      "6\n",
      "The Index:-- 5\n",
      "The choosen part-- HDMI cable\n",
      "Adding HDMI cable\n",
      "0\n",
      "End of the Program\n",
      "['monitor', 'keyboard', 'mouse', 'mouse mat', 'HDMI cable']\n"
     ]
    }
   ],
   "source": [
    "## program to append items to list\n",
    "available_parts = [\"computer\",\"monitor\",\"keyboard\",\"mouse\",\"mouse mat\",\"HDMI cable\",\"DVD drive\"]\n",
    "current_choice = \"-\"\n",
    "computer_parts = []  ## creating a empty list\n",
    "## [str(i) for i in range(1,len(available_parts)+1)] ------------------LIST COMPREHENSION\n",
    "valid_choices=[]   ## valid choices are to append the number strings\n",
    "for i in range(1,len(available_parts)+1):\n",
    "    valid_choices.append(str(i))\n",
    "print(valid_choices)  ##[\"1\",\"2\",\"3\",\"4\",\"5\",\"6\",\"7\"]\n",
    "\n",
    "while current_choice != \"0\":\n",
    "    if current_choice in valid_choices:              ## if the current choice is there in valid choice \n",
    "        index = int(current_choice) - 1              ## for that we need index of the current choice\n",
    "        print(\"The Index:--\",index)                  ## out put of the index\n",
    "        chosen_part = available_parts[index]         ## to know the choossen part from the available parts\n",
    "        print(\"The choosen part--\",chosen_part)      ## its output\n",
    "        if chosen_part in computer_parts:\n",
    "            print(\"Removing {}\".format(chosen_part))\n",
    "            computer_parts.remove(chosen_part)\n",
    "        else:\n",
    "            print(\"Adding {}\".format(chosen_part))  \n",
    "            computer_parts.append(chosen_part)           ## appending that to the empty list\n",
    "    else:\n",
    "        print(\"Please add option from the list below\")\n",
    "        for number,part in enumerate(available_parts):  ## enumerate function will index values from the avalable parts\n",
    "            print(\"{0}:\\t{1}\".format(number+1,part))    ## printing that values\n",
    "    current_choice = input()                            ## the guess of current choice\n",
    "    \n",
    "else:\n",
    "    print(\"End of the Program\")\n",
    "    print(computer_parts)"
   ]
  },
  {
   "cell_type": "code",
   "execution_count": null,
   "metadata": {},
   "outputs": [],
   "source": []
  },
  {
   "cell_type": "markdown",
   "metadata": {},
   "source": [
    "**SORTING LISTS**"
   ]
  },
  {
   "cell_type": "code",
   "execution_count": 20,
   "metadata": {},
   "outputs": [
    {
     "name": "stdout",
     "output_type": "stream",
     "text": [
      "[2, 4, 6, 8, 1, 3, 5, 7, 9]\n",
      "List Sorted in Ascending Order:- [1, 2, 3, 4, 5, 6, 7, 8, 9]\n",
      "List Sorted in Descending order:- [9, 8, 7, 6, 5, 4, 3, 2, 1]\n"
     ]
    }
   ],
   "source": [
    "even = [2,4,6,8]\n",
    "odd = [1,3,5,7,9]\n",
    "\n",
    "## combining these two lists by extend method\n",
    "even.extend(odd)\n",
    "number_list = even\n",
    "print(number_list)\n",
    "\n",
    "## sorting the list by sort() method\n",
    "number_list.sort()\n",
    "print(\"List Sorted in Ascending Order:-\",number_list)\n",
    "\n",
    "## sorting in reverse order or descending order\n",
    "number_list.sort(reverse=True)\n",
    "print(\"List Sorted in Descending order:-\",number_list)"
   ]
  },
  {
   "cell_type": "code",
   "execution_count": null,
   "metadata": {},
   "outputs": [],
   "source": []
  },
  {
   "cell_type": "markdown",
   "metadata": {},
   "source": [
    "**SORTED THINGS**"
   ]
  },
  {
   "cell_type": "code",
   "execution_count": 21,
   "metadata": {},
   "outputs": [
    {
     "name": "stdout",
     "output_type": "stream",
     "text": [
      "[' ', ' ', ' ', ' ', ' ', ' ', ' ', ' ', 'T', 'a', 'b', 'c', 'd', 'e', 'e', 'e', 'f', 'g', 'h', 'h', 'i', 'j', 'k', 'l', 'm', 'n', 'o', 'o', 'o', 'o', 'p', 'q', 'r', 'r', 's', 't', 'u', 'u', 'v', 'w', 'x', 'y', 'z']\n",
      "[1.6, 2.3, 3.1, 4.5, 8.7, 9.2]\n"
     ]
    }
   ],
   "source": [
    "## defining a string\n",
    "pangram = \"The quick brown fox jumps over the lazy dog\"\n",
    "\n",
    "letters = sorted(pangram)\n",
    "print(letters)\n",
    "\n",
    "## list of numbers\n",
    "numbers = [2.3,4.5,8.7,3.1,9.2,1.6]\n",
    "print(sorted(numbers))"
   ]
  },
  {
   "cell_type": "code",
   "execution_count": null,
   "metadata": {},
   "outputs": [],
   "source": []
  },
  {
   "cell_type": "markdown",
   "metadata": {},
   "source": [
    "**CASE INSENSITIVE SORTING**"
   ]
  },
  {
   "cell_type": "code",
   "execution_count": 22,
   "metadata": {},
   "outputs": [
    {
     "name": "stdout",
     "output_type": "stream",
     "text": [
      "Case Sensitive Output:-- [' ', ' ', ' ', ' ', ' ', ' ', ' ', ' ', 'T', 'a', 'b', 'c', 'd', 'e', 'e', 'e', 'f', 'g', 'h', 'h', 'i', 'j', 'k', 'l', 'm', 'n', 'o', 'o', 'o', 'o', 'p', 'q', 'r', 'r', 's', 't', 'u', 'u', 'v', 'w', 'x', 'y', 'z']\n",
      "Case Insensitive Output:- [' ', ' ', ' ', ' ', ' ', ' ', ' ', ' ', 'a', 'B', 'c', 'd', 'D', 'e', 'e', 'e', 'e', 'F', 'g', 'h', 'h', 'i', 'J', 'k', 'L', 'm', 'n', 'o', 'o', 'O', 'o', 'p', 'Q', 'r', 'r', 'T', 't', 'u', 'u', 'v', 'w', 'x', 'y', 'z']\n"
     ]
    }
   ],
   "source": [
    "## Case Sensitive Sorting\n",
    "pangram = \"The quick brown fox jumps over the lazy dog\"\n",
    "letters = sorted(pangram)\n",
    "print(\"Case Sensitive Output:--\", letters)\n",
    "\n",
    "## Case Insensitive \n",
    "word = \"The Quick Brown Fox Jumped Over the Lazy Dog\"\n",
    "letters_2 = sorted(word,key=str.casefold)\n",
    "print(\"Case Insensitive Output:-\",letters_2)"
   ]
  },
  {
   "cell_type": "code",
   "execution_count": 23,
   "metadata": {},
   "outputs": [
    {
     "name": "stdout",
     "output_type": "stream",
     "text": [
      "Sort() method:-- ['Graham', 'John', 'Terry', 'eric', 'micheal', 'terry']\n",
      "Casefold included in the Sort() method ['eric', 'Graham', 'John', 'micheal', 'Terry', 'terry']\n"
     ]
    }
   ],
   "source": [
    "## another exmple\n",
    "names = [\"Graham\",\"John\",\"terry\",\"eric\",\"Terry\",\"micheal\"]\n",
    "names.sort()  ## here the out would be in the Capital Order as \n",
    "              ## ['Graham', 'John', 'Terry', 'eric', 'micheal', 'terry']\n",
    "print(\"Sort() method:--\",names)\n",
    "\n",
    "\n",
    "## when using casefold\n",
    "names.sort(key=str.casefold)  ## here the output would be in alphabetical order\n",
    "                              ## as ['eric', 'Graham', 'John', 'micheal', 'Terry', 'terry']\n",
    "print(\"Casefold included in the Sort() method\",names)"
   ]
  },
  {
   "cell_type": "code",
   "execution_count": null,
   "metadata": {},
   "outputs": [],
   "source": []
  },
  {
   "cell_type": "markdown",
   "metadata": {},
   "source": [
    "**CREATING LISTS**"
   ]
  },
  {
   "cell_type": "code",
   "execution_count": 24,
   "metadata": {},
   "outputs": [
    {
     "name": "stdout",
     "output_type": "stream",
     "text": [
      "The Numbers:-- [2, 4, 6, 8, 1, 3, 5, 7, 9]\n",
      "Sorted List of Numbers [1, 2, 3, 4, 5, 6, 7, 8, 9]\n",
      "List of sorted Strings ['1', '2', '3', '4', '5', '6', '7', '8', '9']\n",
      "List of String which is not Sorted ['2', '3', '4', '1', '5', '9', '8', '7', '6']\n"
     ]
    }
   ],
   "source": [
    "empty_list = []   ## an empty list\n",
    "even = [2,4,6,8]\n",
    "odd = [1,3,5,7,9]\n",
    "\n",
    "## concatenate two lists\n",
    "numbers = even + odd\n",
    "print(\"The Numbers:--\",numbers)\n",
    "\n",
    "## sorting the list\n",
    "sorted_numbers = sorted(numbers)\n",
    "print(\"Sorted List of Numbers\",sorted_numbers)\n",
    "\n",
    "## list of sorted strings\n",
    "digits = sorted(\"234159876\")\n",
    "print(\"List of sorted Strings\", digits)\n",
    "\n",
    "## List of strings but not sorted\n",
    "digits = list(\"234159876\")\n",
    "print(\"List of String which is not Sorted\",digits)"
   ]
  },
  {
   "cell_type": "code",
   "execution_count": null,
   "metadata": {},
   "outputs": [],
   "source": []
  },
  {
   "cell_type": "markdown",
   "metadata": {},
   "source": [
    "**REPLACING A SLICE**"
   ]
  },
  {
   "cell_type": "code",
   "execution_count": 25,
   "metadata": {},
   "outputs": [
    {
     "name": "stdout",
     "output_type": "stream",
     "text": [
      "Computer Parts are :-- ['computer', 'monitor', 'keyboard', 'mouse', 'mouse mat']\n",
      "New List:-- ['computer', 'monitor', 'keyboard', 'trackball', 'mouse mat']\n",
      "['computer', 'monitor', 'keyboard', 't', 'r', 'a', 'c', 'k', 'b', 'a', 'l', 'l']\n",
      "['computer', 'monitor', 'keyboard', 'mouse', 'mouse mat']\n",
      "['computer', 'monitor', 'keyboard', 'trackball']\n"
     ]
    }
   ],
   "source": [
    "## list of computer parts\n",
    "computer_parts = [\"computer\",\"monitor\",\"keyboard\",\"mouse\",\"mouse mat\"]\n",
    "print(\"Computer Parts are :--\",computer_parts)\n",
    "\n",
    "## changing the value of third position to other name\n",
    "computer_parts[3] = \"trackball\"\n",
    "print(\"New List:--\",computer_parts)\n",
    "\n",
    "## relpacnig a slice as below\n",
    "#print(computer_parts[3:])\n",
    "computer_parts[3:] = \"trackball\"\n",
    "print(computer_parts)\n",
    "\n",
    "computer_parts = [\"computer\",\"monitor\",\"keyboard\",\"mouse\",\"mouse mat\"]\n",
    "print(computer_parts)\n",
    "computer_parts[3:] = [\"trackball\"]  ## so this will add values by iterating through the given sequence\n",
    "print(computer_parts)"
   ]
  },
  {
   "cell_type": "code",
   "execution_count": null,
   "metadata": {},
   "outputs": [],
   "source": []
  },
  {
   "cell_type": "markdown",
   "metadata": {},
   "source": [
    "**DELETING ITEMS FROM A LIST**"
   ]
  },
  {
   "cell_type": "code",
   "execution_count": 26,
   "metadata": {},
   "outputs": [
    {
     "name": "stdout",
     "output_type": "stream",
     "text": [
      "[4, 5, 104, 105, 110, 120, 130, 130, 150, 160, 170, 183, 185, 187, 188, 191, 350, 360]\n",
      "[104, 105, 110, 120, 130, 130, 150, 160, 170, 183, 185, 187, 188, 191, 350, 360]\n",
      "[104, 105, 110, 120, 130, 130, 150, 160, 170, 183, 185, 187, 188, 191]\n"
     ]
    }
   ],
   "source": [
    "data = [4,5,104,105,110,120,130,130,150,160,170,183,185,187,188,191,350,360]\n",
    "print(data)\n",
    "\n",
    "\n",
    "## the first two items are smaller values compared to larger values\n",
    "## to delete that values\n",
    "## \n",
    "\n",
    "del data[0:2]\n",
    "print(data)\n",
    "\n",
    "## delete the values higher than 200\n",
    "del data[14:]\n",
    "print(data)"
   ]
  },
  {
   "cell_type": "code",
   "execution_count": 27,
   "metadata": {},
   "outputs": [
    {
     "name": "stdout",
     "output_type": "stream",
     "text": [
      "[104, 105, 110, 120, 130, 130, 150, 160, 170, 183, 185, 187, 188, 191]\n"
     ]
    }
   ],
   "source": [
    "## do that task in program\n",
    "\n",
    "min_valid = 100\n",
    "max_valid = 200\n",
    "\n",
    "for index,value in enumerate(data):\n",
    "    #print(index+1,value)\n",
    "    if (value < min_valid) or (value > max_valid):\n",
    "        del data[index]\n",
    "        \n",
    "print(data)"
   ]
  },
  {
   "cell_type": "code",
   "execution_count": 28,
   "metadata": {},
   "outputs": [
    {
     "name": "stdout",
     "output_type": "stream",
     "text": [
      "The Origiinal Data [4, 5, 104, 105, 110, 120, 130, 130, 150, 160, 170, 183, 185, 187, 188, 191, 350, 360]\n",
      "The stop value when we need to do indexing:-- 2\n",
      "The Data after Removing the Lowest Values:-- [104, 105, 110, 120, 130, 130, 150, 160, 170, 183, 185, 187, 188, 191, 350, 360]\n",
      "The value from we need to do the Indexing:-- 14\n",
      "The data after removing the Highest Values:-- [104, 105, 110, 120, 130, 130, 150, 160, 170, 183, 185, 187, 188, 191]\n"
     ]
    }
   ],
   "source": [
    "## data\n",
    "data = [4,5,104,105,110,120,130,130,150,160,170,183,185,187,188,191,350,360]\n",
    "print(\"The Origiinal Data\",data)\n",
    "\n",
    "min_valid = 100\n",
    "max_valid = 200\n",
    "\n",
    "## process the low value in the list\n",
    "stop = 0\n",
    "\n",
    "for index,value in enumerate(data):\n",
    "    if value >= min_valid:\n",
    "        stop = index\n",
    "        break\n",
    "        \n",
    "print(\"The stop value when we need to do indexing:--\",stop)\n",
    "del data[:stop]\n",
    "print(\"The Data after Removing the Lowest Values:--\",data)\n",
    "\n",
    "## process the high values in the field\n",
    "start = 0\n",
    "for index in range(len(data)-1,-1,-1):\n",
    "    #print(index)\n",
    "    if data[index] <= max_valid:\n",
    "        start = index + 1  ## the strat value is one value after 13.that is 14, for that we need to give index + 1\n",
    "        break\n",
    "print(\"The value from we need to do the Indexing:--\",start)   \n",
    "del data[start:]\n",
    "print(\"The data after removing the Highest Values:--\",data)"
   ]
  },
  {
   "cell_type": "code",
   "execution_count": null,
   "metadata": {},
   "outputs": [],
   "source": []
  },
  {
   "cell_type": "markdown",
   "metadata": {},
   "source": [
    "**REMOVING ITEMS FROM LIST BACKWARDS**"
   ]
  },
  {
   "cell_type": "code",
   "execution_count": 29,
   "metadata": {},
   "outputs": [
    {
     "name": "stdout",
     "output_type": "stream",
     "text": [
      "The list of Numbers:-- [104, 101, 4, 105, 308, 103, 5, 107, 100, 306, 106, 102, 108]\n",
      "Lenth of the list data:-- 13\n",
      "[104, 101, 4, 105, 308, 103, 5, 107, 100, 306, 106, 102, 108] 9\n",
      "[104, 101, 4, 105, 308, 103, 5, 107, 100, 106, 102, 108] 6\n",
      "[104, 101, 4, 105, 308, 103, 107, 100, 106, 102, 108] 4\n",
      "[104, 101, 4, 105, 103, 107, 100, 106, 102, 108] 2\n",
      "The Output List:-- [104, 101, 105, 103, 107, 100, 106, 102, 108]\n",
      "Length of the Output Lisr:-- 9\n"
     ]
    }
   ],
   "source": [
    "## removing items from a list backwards\n",
    "data = [104,101,4,105,308,103,5,107,100,306,106,102,108]\n",
    "print(\"The list of Numbers:--\",data)\n",
    "print(\"Lenth of the list data:--\",len(data))\n",
    "\n",
    "min_valid = 100\n",
    "max_valid = 200\n",
    "\n",
    "for index in range(len(data)-1,-1,-1):\n",
    "    #print(index)\n",
    "    if data[index] < min_valid or data[index] > max_valid:\n",
    "        print(data,index)\n",
    "        del data[index]\n",
    "        \n",
    "print(\"The Output List:--\",data)\n",
    "print(\"Length of the Output Lisr:--\",len(data))"
   ]
  },
  {
   "cell_type": "code",
   "execution_count": null,
   "metadata": {},
   "outputs": [],
   "source": []
  },
  {
   "cell_type": "markdown",
   "metadata": {},
   "source": [
    "**REMOVING THE ITEMS FROM A LIST USING REVERSED FUNCTION**"
   ]
  },
  {
   "cell_type": "code",
   "execution_count": 30,
   "metadata": {},
   "outputs": [
    {
     "name": "stdout",
     "output_type": "stream",
     "text": [
      "The list of Numbers:-- [104, 101, 4, 105, 308, 103, 5, 107, 100, 306, 106, 102, 108]\n",
      "Lenth of the list data:-- 13\n",
      "The Value :-- 12\n",
      "Top Index Value:-- 12\n",
      "The Index Value:-- 3\n",
      "9 306\n",
      "Top Index Value:-- 12\n",
      "The Index Value:-- 6\n",
      "6 5\n",
      "Top Index Value:-- 12\n",
      "The Index Value:-- 8\n",
      "4 308\n",
      "Top Index Value:-- 12\n",
      "The Index Value:-- 10\n",
      "2 4\n",
      "Length of the final output:-- 9\n",
      "The final output:-- [104, 101, 105, 103, 107, 100, 106, 102, 108]\n"
     ]
    }
   ],
   "source": [
    "## Reversed Function\n",
    "## reverse function returns a reverse iterator\n",
    "data = [104,101,4,105,308,103,5,107,100,306,106,102,108]\n",
    "print(\"The list of Numbers:--\",data)\n",
    "print(\"Lenth of the list data:--\",len(data))\n",
    "\n",
    "min_valid = 100\n",
    "max_valid = 200\n",
    "\n",
    "top_index = len(data) - 1\n",
    "print(\"The Value :--\", top_index)\n",
    "\n",
    "for index, value in enumerate(reversed(data)):\n",
    "    if value < min_valid or value > max_valid:\n",
    "        print(\"Top Index Value:--\",top_index)\n",
    "        print(\"The Index Value:--\",index)\n",
    "        print(top_index-index,value)  ## this will give a result in reverse order\n",
    "        del data[top_index-index]\n",
    "print(\"Length of the final output:--\",len(data)) \n",
    "print(\"The final output:--\",data)"
   ]
  },
  {
   "cell_type": "code",
   "execution_count": null,
   "metadata": {},
   "outputs": [],
   "source": []
  },
  {
   "cell_type": "markdown",
   "metadata": {},
   "source": [
    "**ALGORITHMS PERFOMANCE**"
   ]
  },
  {
   "cell_type": "code",
   "execution_count": 31,
   "metadata": {},
   "outputs": [],
   "source": [
    "import timeit\n",
    "\n",
    "max_value = 1000000  ## 100000000\n",
    "min_valid = 10\n",
    "max_valid = 9999997  ## 999997\n",
    "\n",
    "\n",
    "## defining list of values in three names as given\n",
    "data_list1 = list(range(max_value))\n",
    "#print(\"List 1:--\", data_list1)\n",
    "data_list2 = list(range(max_value))\n",
    "#print(\"List 2:--\", data_list2)\n",
    "data_list3 = list(range(max_value))\n",
    "#print(\"List 3:--\", data_list3)\n",
    "\n",
    "## function 1\n",
    "## contains two loops\n",
    "## ------------------------------------------------------------------\n",
    "def sanitize_1(data):\n",
    "    ## process the low value in the list\n",
    "    stop = 0\n",
    "\n",
    "    for index,value in enumerate(data):\n",
    "        if value >= min_valid:\n",
    "            stop = index\n",
    "            break\n",
    "        \n",
    "    #print(\"The stop value when we need to do indexing:--\",stop)\n",
    "    del data[:stop]\n",
    "    #print(\"The Data after Removing the Lowest Values:--\",data)\n",
    "\n",
    "    ## process the high values in the field\n",
    "    start = 0\n",
    "    for index in range(len(data)-1,-1,-1):\n",
    "        #print(index)\n",
    "        if data[index] <= max_valid:\n",
    "            start = index + 1  ## the strat value is one value after 13.that is 14, for that we need to give index + 1\n",
    "            break\n",
    "    #print(\"The value from we need to do the Indexing:--\",start)   \n",
    "    del data[start:]\n",
    "    #print(\"The data after removing the Highest Values:--\",data)\n",
    "    \n",
    "## -------------------------------------------------------------------------\n",
    "\n",
    "## function 2\n",
    "\n",
    "def sanitize_2(data):\n",
    "    top_index = len(data) - 1\n",
    "    #print(\"The Value :--\", top_index)\n",
    "\n",
    "    for index, value in enumerate(reversed(data)):\n",
    "        if value < min_valid or value > max_valid:\n",
    "            #print(\"Top Index Value:--\",top_index)\n",
    "            #print(\"The Index Value:--\",index)\n",
    "            #print(top_index-index,value)  ## this will give a result in reverse order\n",
    "            del data[top_index-index]\n",
    "    #print(\"Length of the final output:--\",len(data)) \n",
    "    #print(\"The final output:--\",data)\n",
    "    \n",
    "## ------------------------------------------------------------------------------\n",
    "\n",
    "def sanitize_3(data):\n",
    "    for index in range(len(data)-1,-1,-1):\n",
    "    #print(index)\n",
    "        if data[index] < min_valid or data[index] > max_valid:\n",
    "            #print(data,index)\n",
    "            del data[index]\n",
    "        \n",
    "    #print(\"The Output List:--\",data)\n",
    "    #print(\"Length of the Output List:--\",len(data))\n",
    "    \n",
    "## -------------------------------------------------------------------------------\n",
    "\n",
    "\n",
    "    \n",
    "    "
   ]
  },
  {
   "cell_type": "code",
   "execution_count": 32,
   "metadata": {},
   "outputs": [
    {
     "name": "stdout",
     "output_type": "stream",
     "text": [
      "Timing\n",
      "0.001307600000004\n",
      "0.131903799999989\n",
      "0.140466700000005\n"
     ]
    }
   ],
   "source": [
    "if __name__ == \"__main__\":\n",
    "    print(\"Timing\")\n",
    "    x = timeit.timeit(\"sanitize_1(data_list1)\",\n",
    "                      setup=\"from __main__ import sanitize_1,\"\n",
    "                            \"data_list1\",\n",
    "                      number=1)\n",
    "    print(\"{:15.15f}\".format(x))\n",
    "    y = timeit.timeit(\"sanitize_2(data_list2)\",\n",
    "                      setup=\"from __main__ import sanitize_2,\"\n",
    "                            \"data_list2\",\n",
    "                      number=1)\n",
    "    print(\"{:15.15f}\".format(y))\n",
    "    z = timeit.timeit(\"sanitize_3(data_list3)\",\n",
    "                      setup=\"from __main__ import sanitize_3,\"\n",
    "                            \"data_list3\", \n",
    "                      number=1)\n",
    "    print(\"{:15.15f}\".format(z))\n",
    " \n",
    "    #sanitize_1(data_list1)\n",
    "    #print(data_list1)\n",
    "    #sanitize_2(data_list2)\n",
    "    #print(data_list2)\n",
    "    #sanitize_3(data_list3)\n",
    "    #print(data_list3)"
   ]
  },
  {
   "cell_type": "code",
   "execution_count": null,
   "metadata": {},
   "outputs": [],
   "source": []
  },
  {
   "cell_type": "markdown",
   "metadata": {},
   "source": [
    "**NESTED LISTS AND CODE STYLE**"
   ]
  },
  {
   "cell_type": "code",
   "execution_count": 33,
   "metadata": {},
   "outputs": [
    {
     "name": "stdout",
     "output_type": "stream",
     "text": [
      "[2, 4, 6, 8, 1, 3, 5, 7, 9]\n",
      "[[2, 4, 6, 8], [1, 3, 5, 7, 9]]\n",
      "[2, 4, 6, 8]\n",
      "2\n",
      "4\n",
      "6\n",
      "8\n",
      "[1, 3, 5, 7, 9]\n",
      "1\n",
      "3\n",
      "5\n",
      "7\n",
      "9\n"
     ]
    }
   ],
   "source": [
    "empty_lis = []\n",
    "even = [2,4,6,8]\n",
    "odd = [1,3,5,7,9]\n",
    "\n",
    "numbers_1 = even + odd\n",
    "print(numbers_1)\n",
    "\n",
    "numbers_2 = [even, odd]\n",
    "print(numbers_2)\n",
    "\n",
    "for number_list in numbers_2:\n",
    "    print(number_list)\n",
    "    \n",
    "    for value in number_list:\n",
    "        print(value)"
   ]
  },
  {
   "cell_type": "code",
   "execution_count": 34,
   "metadata": {},
   "outputs": [
    {
     "name": "stdout",
     "output_type": "stream",
     "text": [
      "['egg', 'bacon']\n",
      "['egg', 'sausage', 'bacon']\n",
      "['egg', 'spam']\n",
      "['egg', 'bacon', 'spam']\n",
      "['egg', 'bacon', 'sausage', 'spam']\n",
      "['spam', 'bacon', 'sausage', 'spam']\n",
      "['spam', 'egg', 'spam', 'spam', 'bacon', 'spam']\n",
      "['spam', 'sausage', 'spam', 'bacon', 'spam', 'tomato', 'spam']\n"
     ]
    }
   ],
   "source": [
    "menu = [\n",
    "        [\"egg\",\"bacon\",],\n",
    "        [\"egg\",\"sausage\",\"bacon\"],\n",
    "        [\"egg\",\"spam\"],\n",
    "        [\"egg\",\"bacon\",\"spam\"],\n",
    "        [\"egg\",\"bacon\",\"sausage\",\"spam\"],\n",
    "        [\"spam\",\"bacon\",\"sausage\",\"spam\"],\n",
    "        [\"spam\",\"egg\",\"spam\",\"spam\",\"bacon\",\"spam\"],\n",
    "        [\"spam\",\"sausage\",\"spam\",\"bacon\",\"spam\",\"tomato\",\"spam\"]\n",
    "        ]\n",
    "\n",
    "for order in menu:\n",
    "    print(order)"
   ]
  },
  {
   "cell_type": "code",
   "execution_count": 35,
   "metadata": {},
   "outputs": [
    {
     "name": "stdout",
     "output_type": "stream",
     "text": [
      "['egg', 'bacon']\n",
      "egg\n",
      "bacon\n",
      "['egg', 'sausage', 'bacon']\n",
      "egg\n",
      "sausage\n",
      "bacon\n",
      "['egg', 'spam'] has a spam score of 1\n",
      "['egg', 'bacon', 'spam'] has a spam score of 1\n",
      "['egg', 'bacon', 'sausage', 'spam'] has a spam score of 1\n",
      "['spam', 'bacon', 'sausage', 'spam'] has a spam score of 2\n",
      "['spam', 'egg', 'spam', 'spam', 'bacon', 'spam'] has a spam score of 4\n",
      "['spam', 'sausage', 'spam', 'bacon', 'spam', 'tomato', 'spam'] has a spam score of 4\n"
     ]
    }
   ],
   "source": [
    "for meal in menu:\n",
    "    if \"spam\" not in meal:\n",
    "        print(meal)\n",
    "        for item in meal:\n",
    "            print(item)\n",
    "            \n",
    "    else:\n",
    "        print(\"{0} has a spam score of {1}\"\n",
    "             .format(meal,meal.count(\"spam\")))"
   ]
  },
  {
   "cell_type": "code",
   "execution_count": null,
   "metadata": {},
   "outputs": [],
   "source": []
  },
  {
   "cell_type": "markdown",
   "metadata": {},
   "source": [
    "**PROCESSING NESTED LISTS AND SOLUTION TO NOSPAM CHALLENGE**"
   ]
  },
  {
   "cell_type": "markdown",
   "metadata": {},
   "source": [
    "Challenge\n",
    "\n",
    "+ Write a code to print out all meals in the menu, but with spam removed\n",
    "+ Print out the item in each list, as long as it is not spam\n",
    "+ Write two sets of code with two methods"
   ]
  },
  {
   "cell_type": "code",
   "execution_count": 36,
   "metadata": {},
   "outputs": [
    {
     "name": "stdout",
     "output_type": "stream",
     "text": [
      "These are the meals available without spam in it ['egg', 'bacon']\n",
      "These are the meals available without spam in it ['egg', 'sausage', 'bacon']\n",
      "['egg']\n",
      "['egg', 'bacon']\n",
      "['egg', 'bacon', 'sausage']\n",
      "['bacon', 'sausage', 'spam']\n",
      "['egg', 'spam', 'spam', 'bacon', 'spam']\n",
      "['sausage', 'spam', 'bacon', 'spam', 'tomato', 'spam']\n"
     ]
    }
   ],
   "source": [
    "## my solution\n",
    "\n",
    "menu = [\n",
    "        [\"egg\",\"bacon\",],\n",
    "        [\"egg\",\"sausage\",\"bacon\"],\n",
    "        [\"egg\",\"spam\"],\n",
    "        [\"egg\",\"bacon\",\"spam\"],\n",
    "        [\"egg\",\"bacon\",\"sausage\",\"spam\"],\n",
    "        [\"spam\",\"bacon\",\"sausage\",\"spam\"],\n",
    "        [\"spam\",\"egg\",\"spam\",\"spam\",\"bacon\",\"spam\"],\n",
    "        [\"spam\",\"sausage\",\"spam\",\"bacon\",\"spam\",\"tomato\",\"spam\"]\n",
    "        ]\n",
    "\n",
    "for meal in menu:\n",
    "    #print(meal)\n",
    "    if \"spam\" not in meal:\n",
    "        print(\"These are the meals available without spam in it\",meal)\n",
    "    else:\n",
    "        meal.remove(\"spam\")\n",
    "        print(meal)"
   ]
  },
  {
   "cell_type": "code",
   "execution_count": 37,
   "metadata": {},
   "outputs": [
    {
     "name": "stdout",
     "output_type": "stream",
     "text": [
      "['egg', 'bacon']\n",
      "['egg', 'sausage', 'bacon']\n",
      "['egg']\n",
      "['egg', 'bacon']\n",
      "['egg', 'bacon', 'sausage']\n",
      "['bacon', 'sausage']\n",
      "['egg', 'bacon']\n",
      "['sausage', 'bacon', 'tomato']\n"
     ]
    }
   ],
   "source": [
    "## remove \"spam\" from each of the inner lists\n",
    "\n",
    "for meal in menu:\n",
    "    for index in range(len(meal)-1,-1,-1):\n",
    "        if meal[index] == \"spam\":\n",
    "            del meal[index]\n",
    "            \n",
    "    print(meal)"
   ]
  },
  {
   "cell_type": "code",
   "execution_count": 38,
   "metadata": {},
   "outputs": [
    {
     "name": "stdout",
     "output_type": "stream",
     "text": [
      "egg\n",
      "bacon\n",
      "\n",
      "egg\n",
      "sausage\n",
      "bacon\n",
      "\n",
      "egg\n",
      "\n",
      "egg\n",
      "bacon\n",
      "\n",
      "egg\n",
      "bacon\n",
      "sausage\n",
      "\n",
      "bacon\n",
      "sausage\n",
      "\n",
      "egg\n",
      "bacon\n",
      "\n",
      "sausage\n",
      "bacon\n",
      "tomato\n",
      "\n"
     ]
    }
   ],
   "source": [
    "## solution 2\n",
    "## print out the line in each list as long as it is not spam\n",
    "\n",
    "for meal in menu:\n",
    "    for item in meal:\n",
    "        if item != \"spam\":\n",
    "            print(item)\n",
    "            \n",
    "    print()"
   ]
  },
  {
   "cell_type": "code",
   "execution_count": null,
   "metadata": {},
   "outputs": [],
   "source": []
  },
  {
   "cell_type": "markdown",
   "metadata": {},
   "source": [
    "**PRINT REVISITED**"
   ]
  },
  {
   "cell_type": "code",
   "execution_count": 39,
   "metadata": {},
   "outputs": [
    {
     "name": "stdout",
     "output_type": "stream",
     "text": [
      "Ameer 10 Python 2020\n",
      "Ameer, 10, Python, 2020\n"
     ]
    }
   ],
   "source": [
    "name = \"Ameer\"\n",
    "age = 10\n",
    "print(name,age,\"Python\",2020)             ## this will give the output--Ameer 10 Python 2020\n",
    "print(name,age,\"Python\",2020,sep = \", \")  ## this will give the output--Ameer, 10, Python, 2020"
   ]
  },
  {
   "cell_type": "code",
   "execution_count": 40,
   "metadata": {},
   "outputs": [
    {
     "name": "stdout",
     "output_type": "stream",
     "text": [
      "egg, bacon, \n",
      "egg, sausage, bacon, \n",
      "egg, \n",
      "egg, bacon, \n",
      "egg, bacon, sausage, \n",
      "bacon, sausage, \n",
      "egg, bacon, \n",
      "sausage, bacon, tomato, \n"
     ]
    }
   ],
   "source": [
    "## how to get the output in one line\n",
    "## changing the print\n",
    "\n",
    "for meal in menu:\n",
    "    for item in meal:\n",
    "        if item != \"spam\":\n",
    "            print(item, end = \", \")  ## by adding the end = \" \" the output will be printed in same line instead of in one by one in different lines            \n",
    "    print()"
   ]
  },
  {
   "cell_type": "markdown",
   "metadata": {},
   "source": [
    "**Generator Expressions**"
   ]
  },
  {
   "cell_type": "code",
   "execution_count": 41,
   "metadata": {},
   "outputs": [
    {
     "name": "stdout",
     "output_type": "stream",
     "text": [
      "egg, bacon\n",
      "egg, sausage, bacon\n",
      "egg\n",
      "egg, bacon\n",
      "egg, bacon, sausage\n",
      "bacon, sausage\n",
      "egg, bacon\n",
      "sausage, bacon, tomato\n"
     ]
    }
   ],
   "source": [
    "## in the above code\n",
    "## there will be , seperators by the end of all lines\n",
    "## to get rid of that\n",
    "## using generator Expressions\n",
    "\n",
    "for meal in menu:\n",
    "    items = \", \".join((item for item in meal if item != \"spam\"))\n",
    "    print(items)"
   ]
  },
  {
   "cell_type": "code",
   "execution_count": null,
   "metadata": {},
   "outputs": [],
   "source": []
  },
  {
   "cell_type": "markdown",
   "metadata": {},
   "source": [
    "**THE JOIN METHOD**"
   ]
  },
  {
   "cell_type": "code",
   "execution_count": 42,
   "metadata": {},
   "outputs": [
    {
     "name": "stdout",
     "output_type": "stream",
     "text": [
      "Daffodil, Evening Primose, Hydrangea, Iris, Lavender, Sunflower, Tiger Lily, "
     ]
    }
   ],
   "source": [
    "flowers = [\"Daffodil\",\"Evening Primose\",\"Hydrangea\",\"Iris\",\"Lavender\",\"Sunflower\",\"Tiger Lily\"]\n",
    "for flower in flowers:\n",
    "    print(flower,end=\", \")\n",
    "    \n"
   ]
  },
  {
   "cell_type": "code",
   "execution_count": 43,
   "metadata": {},
   "outputs": [
    {
     "name": "stdout",
     "output_type": "stream",
     "text": [
      "Daffodil, Evening Primose, Hydrangea, Iris, Lavender, Sunflower, Tiger Lily\n"
     ]
    }
   ],
   "source": [
    "lsit_flowers=\", \".join((flower for flower in flowers))\n",
    "print(lsit_flowers)"
   ]
  },
  {
   "cell_type": "code",
   "execution_count": 44,
   "metadata": {},
   "outputs": [
    {
     "name": "stdout",
     "output_type": "stream",
     "text": [
      "Daffodil|Evening Primose|Hydrangea|Iris|Lavender|Sunflower|Tiger Lily\n",
      "Daffodil,Evening Primose,Hydrangea,Iris,Lavender,Sunflower,Tiger Lily\n"
     ]
    }
   ],
   "source": [
    "## using seperators\n",
    "\n",
    "seperator = \"|\"\n",
    "output = seperator.join(flowers)\n",
    "print(output)\n",
    "print(\",\".join(flowers))"
   ]
  },
  {
   "cell_type": "code",
   "execution_count": null,
   "metadata": {},
   "outputs": [],
   "source": []
  },
  {
   "cell_type": "markdown",
   "metadata": {},
   "source": [
    "**SPLIT METHOD**"
   ]
  },
  {
   "cell_type": "code",
   "execution_count": 45,
   "metadata": {},
   "outputs": [
    {
     "name": "stdout",
     "output_type": "stream",
     "text": [
      "['The', 'quick', 'brown', 'fox', 'jumps', 'over', 'the', 'lazy', 'dogs']\n"
     ]
    }
   ],
   "source": [
    "panagram = \"The quick brown fox jumps over the lazy dogs\"\n",
    "words = panagram.split()\n",
    "print(words)"
   ]
  },
  {
   "cell_type": "code",
   "execution_count": 46,
   "metadata": {},
   "outputs": [
    {
     "name": "stdout",
     "output_type": "stream",
     "text": [
      "['9', '22', '333', '2223', '23456', '456789', '2345678', '12345678', '123456789']\n"
     ]
    }
   ],
   "source": [
    "numbers = \"9,22,333,2223,23456,456789,2345678,12345678,123456789\"\n",
    "list_numbers = numbers.split(\",\")\n",
    "print(list_numbers)"
   ]
  },
  {
   "cell_type": "code",
   "execution_count": 47,
   "metadata": {},
   "outputs": [
    {
     "name": "stdout",
     "output_type": "stream",
     "text": [
      "['The', 'quick', 'brown', 'fox', 'jumps', 'over', 'the', 'lazy', 'dog']\n"
     ]
    }
   ],
   "source": [
    "sentence = \"\"\"The quick brown\n",
    "                fox jumps\\t over\n",
    "                the lazy dog\"\"\"\n",
    "words = sentence.split()\n",
    "print(words)"
   ]
  },
  {
   "cell_type": "code",
   "execution_count": 48,
   "metadata": {},
   "outputs": [
    {
     "ename": "NameError",
     "evalue": "name 'separators' is not defined",
     "output_type": "error",
     "traceback": [
      "\u001b[1;31m---------------------------------------------------------------------------\u001b[0m",
      "\u001b[1;31mNameError\u001b[0m                                 Traceback (most recent call last)",
      "\u001b[1;32m<ipython-input-48-e54013f956cf>\u001b[0m in \u001b[0;36m<module>\u001b[1;34m\u001b[0m\n\u001b[0;32m      1\u001b[0m \u001b[1;31m## split used in the earlier examples\u001b[0m\u001b[1;33m\u001b[0m\u001b[1;33m\u001b[0m\u001b[1;33m\u001b[0m\u001b[0m\n\u001b[0;32m      2\u001b[0m \u001b[0mnumbers\u001b[0m \u001b[1;33m=\u001b[0m \u001b[1;34m\"9,22,333,2223,23456,456789,2345678,12345678,123456789\"\u001b[0m\u001b[1;33m\u001b[0m\u001b[1;33m\u001b[0m\u001b[0m\n\u001b[1;32m----> 3\u001b[1;33m \u001b[0mvalues\u001b[0m \u001b[1;33m=\u001b[0m \u001b[1;34m\"\"\u001b[0m\u001b[1;33m.\u001b[0m\u001b[0mjoin\u001b[0m\u001b[1;33m(\u001b[0m\u001b[0mchar\u001b[0m \u001b[1;32mif\u001b[0m \u001b[0mchar\u001b[0m \u001b[1;32mnot\u001b[0m \u001b[1;32min\u001b[0m \u001b[0mseparators\u001b[0m \u001b[1;32melse\u001b[0m \u001b[1;34m\" \"\u001b[0m \u001b[1;32mfor\u001b[0m \u001b[0mchar\u001b[0m \u001b[1;32min\u001b[0m \u001b[0mnumbers\u001b[0m\u001b[1;33m)\u001b[0m\u001b[1;33m.\u001b[0m\u001b[0msplit\u001b[0m\u001b[1;33m(\u001b[0m\u001b[1;33m)\u001b[0m\u001b[1;33m\u001b[0m\u001b[1;33m\u001b[0m\u001b[0m\n\u001b[0m\u001b[0;32m      4\u001b[0m \u001b[0mprint\u001b[0m\u001b[1;33m(\u001b[0m\u001b[0mvalues\u001b[0m\u001b[1;33m)\u001b[0m\u001b[1;33m\u001b[0m\u001b[1;33m\u001b[0m\u001b[0m\n",
      "\u001b[1;32m<ipython-input-48-e54013f956cf>\u001b[0m in \u001b[0;36m<genexpr>\u001b[1;34m(.0)\u001b[0m\n\u001b[0;32m      1\u001b[0m \u001b[1;31m## split used in the earlier examples\u001b[0m\u001b[1;33m\u001b[0m\u001b[1;33m\u001b[0m\u001b[1;33m\u001b[0m\u001b[0m\n\u001b[0;32m      2\u001b[0m \u001b[0mnumbers\u001b[0m \u001b[1;33m=\u001b[0m \u001b[1;34m\"9,22,333,2223,23456,456789,2345678,12345678,123456789\"\u001b[0m\u001b[1;33m\u001b[0m\u001b[1;33m\u001b[0m\u001b[0m\n\u001b[1;32m----> 3\u001b[1;33m \u001b[0mvalues\u001b[0m \u001b[1;33m=\u001b[0m \u001b[1;34m\"\"\u001b[0m\u001b[1;33m.\u001b[0m\u001b[0mjoin\u001b[0m\u001b[1;33m(\u001b[0m\u001b[0mchar\u001b[0m \u001b[1;32mif\u001b[0m \u001b[0mchar\u001b[0m \u001b[1;32mnot\u001b[0m \u001b[1;32min\u001b[0m \u001b[0mseparators\u001b[0m \u001b[1;32melse\u001b[0m \u001b[1;34m\" \"\u001b[0m \u001b[1;32mfor\u001b[0m \u001b[0mchar\u001b[0m \u001b[1;32min\u001b[0m \u001b[0mnumbers\u001b[0m\u001b[1;33m)\u001b[0m\u001b[1;33m.\u001b[0m\u001b[0msplit\u001b[0m\u001b[1;33m(\u001b[0m\u001b[1;33m)\u001b[0m\u001b[1;33m\u001b[0m\u001b[1;33m\u001b[0m\u001b[0m\n\u001b[0m\u001b[0;32m      4\u001b[0m \u001b[0mprint\u001b[0m\u001b[1;33m(\u001b[0m\u001b[0mvalues\u001b[0m\u001b[1;33m)\u001b[0m\u001b[1;33m\u001b[0m\u001b[1;33m\u001b[0m\u001b[0m\n",
      "\u001b[1;31mNameError\u001b[0m: name 'separators' is not defined"
     ]
    }
   ],
   "source": [
    "## split used in the earlier examples\n",
    "numbers = \"9,22,333,2223,23456,456789,2345678,12345678,123456789\"\n",
    "values = \"\".join(char if char not in separators else \" \" for char in numbers).split()\n",
    "print(values)"
   ]
  },
  {
   "cell_type": "code",
   "execution_count": null,
   "metadata": {},
   "outputs": [],
   "source": [
    "generated_list = [\"9\",\" \",\" \",\n",
    "                 \"2\",\"2\",\" \",\n",
    "                 \"3\",\"3\",\"3\",\" \",\n",
    "                 \"2\",\"2\",\"2\",\"3\",\" \",\n",
    "                 \"2\",\"3\",\"4\",\"5\",\"6\",\" \",\n",
    "                 \"4\",\"5\",\"6\",\"7\",\"8\",\"9\",\" \",\n",
    "                 \"2\",\"3\",\"4\",\"5\",\"6\",\"7\",\"8\",\" \",\n",
    "                 \"1\",\"2\",\"3\",\"4\",\"5\",\"6\",\"7\",\"8\",\" \",\n",
    "                 \"1\",\"2\",\"3\",\"4\",\"5\",\"6\",\"7\",\"8\",\"9\",\" \",]\n",
    "#generated_list\n",
    "\n",
    "values = \"\".join(generated_list).split()\n",
    "print(values)"
   ]
  },
  {
   "cell_type": "code",
   "execution_count": null,
   "metadata": {},
   "outputs": [],
   "source": [
    "values_list = values.split()\n",
    "print(values_list)"
   ]
  },
  {
   "cell_type": "code",
   "execution_count": null,
   "metadata": {},
   "outputs": [],
   "source": [
    "list_1 = [\"apple\",\"orange\",\"pineapple\",\"potato\",\"tomato\",\"king\",\"labour\",\"business\"]\n",
    "#list_1.split()"
   ]
  },
  {
   "cell_type": "markdown",
   "metadata": {},
   "source": [
    "### List Object has no Attribute Split.\n",
    "\n",
    "+ ie, we cannot split from a list.\n",
    "+ split will only works in String.\n",
    "+ So if we have a list in Place, and if we are trying to split from it, that cannot happen.\n",
    "+ Instead, we can do the operation of splitting on top of String."
   ]
  },
  {
   "cell_type": "code",
   "execution_count": 49,
   "metadata": {},
   "outputs": [
    {
     "name": "stdout",
     "output_type": "stream",
     "text": [
      "9  22 333 2223 23456 456789 2345678 12345678 123456789 \n",
      "<class 'str'>\n",
      "['9', '22', '333', '2223', '23456', '456789', '2345678', '12345678', '123456789']\n"
     ]
    }
   ],
   "source": [
    "generated_list = [\"9\",\" \",\" \",\n",
    "                 \"2\",\"2\",\" \",\n",
    "                 \"3\",\"3\",\"3\",\" \",\n",
    "                 \"2\",\"2\",\"2\",\"3\",\" \",\n",
    "                 \"2\",\"3\",\"4\",\"5\",\"6\",\" \",\n",
    "                 \"4\",\"5\",\"6\",\"7\",\"8\",\"9\",\" \",\n",
    "                 \"2\",\"3\",\"4\",\"5\",\"6\",\"7\",\"8\",\" \",\n",
    "                 \"1\",\"2\",\"3\",\"4\",\"5\",\"6\",\"7\",\"8\",\" \",\n",
    "                 \"1\",\"2\",\"3\",\"4\",\"5\",\"6\",\"7\",\"8\",\"9\",\" \",]\n",
    "#generated_list\n",
    "\n",
    "values = \"\".join(generated_list)\n",
    "print(values)\n",
    "print(type(values))\n",
    "\n",
    "values_list = values.split()\n",
    "print(values_list)"
   ]
  },
  {
   "cell_type": "code",
   "execution_count": 50,
   "metadata": {},
   "outputs": [
    {
     "data": {
      "text/plain": [
       "12345678"
      ]
     },
     "execution_count": 50,
     "metadata": {},
     "output_type": "execute_result"
    }
   ],
   "source": [
    "int(values_list[index-2])"
   ]
  },
  {
   "cell_type": "code",
   "execution_count": 51,
   "metadata": {},
   "outputs": [
    {
     "name": "stdout",
     "output_type": "stream",
     "text": [
      "[9, 22, 333, 2223, 23456, 456789, 2345678, 12345678, 123456789]\n"
     ]
    }
   ],
   "source": [
    "for index in range(len(values_list)):\n",
    "    #print(index)\n",
    "    values_list[index] = int(values_list[index])  ## the element in the index position is now converted to integer.\n",
    "    \n",
    "print(values_list)"
   ]
  },
  {
   "cell_type": "code",
   "execution_count": 52,
   "metadata": {},
   "outputs": [
    {
     "name": "stdout",
     "output_type": "stream",
     "text": [
      "['9', '22', '333', '2223', '23456', '456789', '2345678', '12345678', '123456789']\n"
     ]
    }
   ],
   "source": [
    "for index in range(len(values_list)):\n",
    "    #print(index)\n",
    "    values_list[index] = str(values_list[index])  ## the element in the index position is now converted to string.\n",
    "    \n",
    "print(values_list)"
   ]
  },
  {
   "cell_type": "code",
   "execution_count": 53,
   "metadata": {},
   "outputs": [
    {
     "name": "stdout",
     "output_type": "stream",
     "text": [
      "[9, 22, 333, 2223, 23456, 456789, 2345678, 12345678, 123456789]\n"
     ]
    }
   ],
   "source": [
    "## creating the new List of Integers\n",
    "integer_values = []  ## an empty list.\n",
    "for value in values_list:\n",
    "    integer_values.append(int(value))  ## the values will be added as integers.\n",
    "    \n",
    "print(integer_values)"
   ]
  },
  {
   "cell_type": "code",
   "execution_count": 54,
   "metadata": {},
   "outputs": [
    {
     "name": "stdout",
     "output_type": "stream",
     "text": [
      "['9', '22', '333', '2223', '23456', '456789', '2345678', '12345678', '123456789']\n"
     ]
    }
   ],
   "source": [
    "## creating the new List of Strings\n",
    "integer_values = []  ## an empty list.\n",
    "for value in values_list:\n",
    "    integer_values.append(str(value))  ## the values will be added as strings.\n",
    "    \n",
    "print(integer_values)"
   ]
  },
  {
   "cell_type": "markdown",
   "metadata": {},
   "source": [
    "### Challenge : The Magical Adder\n",
    "\n",
    "+ Write a Python Program which Prompts the User to enter the three integers seperated by \",\".\n",
    "+ The User input is of the form a,b,c.\n",
    "+ Where a,b,c are numbers.\n",
    "+ Your Program should Calculate and display the result of a+b-c\n"
   ]
  },
  {
   "cell_type": "code",
   "execution_count": 55,
   "metadata": {},
   "outputs": [
    {
     "name": "stdout",
     "output_type": "stream",
     "text": [
      "Please Enter three Numbers:--2,3,5\n",
      "The Numbers:------- 2,3,5\n",
      "<class 'list'>\n",
      "Numbers after Splitting:--- ['2', '3', '5']\n",
      "Token Integers:------- [2, 3, 5]\n",
      "The Number a:--- 2\n",
      "The Number b:--- 3\n",
      "The Number c:--- 5\n",
      "The Result:--------- 0\n"
     ]
    }
   ],
   "source": [
    "## get the input from User\n",
    "user_input = input(\"Please Enter three Numbers:--\")\n",
    "print(\"The Numbers:-------\",user_input)\n",
    "\n",
    "## split the given input string into three parts\n",
    "string_tokens = user_input.split(\",\")\n",
    "print(type(string_tokens))\n",
    "print(\"Numbers after Splitting:---\",string_tokens)\n",
    "\n",
    "## Convert the tokens into integers\n",
    "token_integers = []\n",
    "for token in string_tokens:\n",
    "    token_integers.append(int(token))\n",
    "    \n",
    "print(\"Token Integers:-------\",token_integers)\n",
    "    \n",
    "## Calculate the result a + b - c\n",
    "a,b,c = token_integers\n",
    "print(\"The Number a:---\",a)\n",
    "print(\"The Number b:---\",b)\n",
    "print(\"The Number c:---\",c)\n",
    "result = a + b - c\n",
    "#result = token_integers[0] + token_integers[1] - token_integers[2]\n",
    "\n",
    "## Output the Result\n",
    "\n",
    "print(\"The Result:---------\",result)"
   ]
  },
  {
   "cell_type": "markdown",
   "metadata": {},
   "source": [
    "# Tuples\n",
    "\n",
    "+ Tuple is a Mathematical name for an Ordered set of Data\n",
    "+ Being Ordered is a Requirement for Python Sequence.\n",
    "+ Tuples is another Sequence Type, along with strings, lists and ranges.\n",
    "+ **Tuples are Immutable, they cannot be changed by its Values.**\n",
    "\n",
    "+ Tuples are Immutable\n",
    "+ That is the main difference between Tuples and Lists\n",
    "+ Indexing is same as used in Lists and Strings.\n",
    "+ Tuples use less memory than lists.\n",
    "+ So preferring tuples over lists are USeful."
   ]
  },
  {
   "cell_type": "code",
   "execution_count": 56,
   "metadata": {},
   "outputs": [
    {
     "name": "stdout",
     "output_type": "stream",
     "text": [
      "('a', 'b', 'c')\n"
     ]
    }
   ],
   "source": [
    "## Examples\n",
    "Tuple = (\"a\",\"b\",\"c\")\n",
    "print(Tuple)"
   ]
  },
  {
   "cell_type": "code",
   "execution_count": 57,
   "metadata": {},
   "outputs": [
    {
     "name": "stdout",
     "output_type": "stream",
     "text": [
      "Tim 10 Python 2020\n",
      "('Tim', 10, 'Python', 2022)\n"
     ]
    }
   ],
   "source": [
    "name = \"Tim\"\n",
    "age = 10\n",
    "print(name,age,\"Python\",2020)    ## this is a statement with two variables.\n",
    "print((name,age,\"Python\",2022))  ## this is a tuple with the value of the valiables."
   ]
  },
  {
   "cell_type": "code",
   "execution_count": 58,
   "metadata": {},
   "outputs": [
    {
     "name": "stdout",
     "output_type": "stream",
     "text": [
      "('Ride the Lightning', 'Metallica', 1984)\n",
      "('Welcome to my Nightmare', 'Alice Cooper', 1975)\n",
      "('Bad Company', 'Bad Company', 1974)\n",
      "('NightFlight', 'BUdgie', 1981)\n",
      "('More Mayhem', 'Emilda May', 2011)\n"
     ]
    }
   ],
   "source": [
    "## some examples - all are tuples of ordered collection of (Song, Artist, Year)\n",
    "\n",
    "welcome = \"Welcome to my Nightmare\",\"Alice Cooper\", 1975\n",
    "bad = \"Bad Company\", \"Bad Company\", 1974\n",
    "budgie = \"NightFlight\", \"BUdgie\", 1981\n",
    "imelda = \"More Mayhem\", \"Emilda May\", 2011\n",
    "metallica = \"Ride the Lightning\", \"Metallica\", 1984\n",
    "\n",
    "print(metallica)\n",
    "print(welcome)\n",
    "print(bad)\n",
    "print(budgie)\n",
    "print(imelda)"
   ]
  },
  {
   "cell_type": "code",
   "execution_count": 59,
   "metadata": {},
   "outputs": [
    {
     "name": "stdout",
     "output_type": "stream",
     "text": [
      "Ride the Lightning\n",
      "Metallica\n",
      "1984\n"
     ]
    }
   ],
   "source": [
    "## indexing\n",
    "\n",
    "print(metallica[0])  ## the Album\n",
    "print(metallica[1])  ## the Artist\n",
    "print(metallica[2])  ## the year of Release"
   ]
  },
  {
   "cell_type": "code",
   "execution_count": 60,
   "metadata": {},
   "outputs": [
    {
     "name": "stdout",
     "output_type": "stream",
     "text": [
      "['Ride the Lightning', 'Metallica', 1984]\n"
     ]
    }
   ],
   "source": [
    "metallica2 = list(metallica)\n",
    "print(metallica2)"
   ]
  },
  {
   "cell_type": "markdown",
   "metadata": {},
   "source": [
    "**UNPACKING A TUPLE**"
   ]
  },
  {
   "cell_type": "code",
   "execution_count": 62,
   "metadata": {},
   "outputs": [
    {
     "name": "stdout",
     "output_type": "stream",
     "text": [
      "12\n",
      "12\n",
      "12\n"
     ]
    }
   ],
   "source": [
    "a=b=c=d=e=f=12\n",
    "print(a)\n",
    "print(b)\n",
    "print(c)"
   ]
  },
  {
   "cell_type": "code",
   "execution_count": 63,
   "metadata": {},
   "outputs": [
    {
     "name": "stdout",
     "output_type": "stream",
     "text": [
      "1\n",
      "2\n"
     ]
    }
   ],
   "source": [
    "x,y=1,2\n",
    "print(x)\n",
    "print(y)"
   ]
  },
  {
   "cell_type": "code",
   "execution_count": 64,
   "metadata": {},
   "outputs": [
    {
     "name": "stdout",
     "output_type": "stream",
     "text": [
      "1\n",
      "2\n",
      "76\n"
     ]
    }
   ],
   "source": [
    "x,y,z = 1,2,76\n",
    "print(x)\n",
    "print(y)\n",
    "print(z)"
   ]
  },
  {
   "cell_type": "markdown",
   "metadata": {},
   "source": [
    "**So this is Called Unpacking a Tuple**"
   ]
  },
  {
   "cell_type": "code",
   "execution_count": 65,
   "metadata": {},
   "outputs": [
    {
     "name": "stdout",
     "output_type": "stream",
     "text": [
      "Unboxing a Tuple\n",
      "1\n",
      "2\n",
      "76\n"
     ]
    }
   ],
   "source": [
    "print(\"Unboxing a Tuple\")\n",
    "data = 1,2,76   ## data represents a tuple\n",
    "x,y,z = data\n",
    "\n",
    "print(x)\n",
    "print(y)\n",
    "print(z)"
   ]
  },
  {
   "cell_type": "code",
   "execution_count": 67,
   "metadata": {},
   "outputs": [
    {
     "ename": "AttributeError",
     "evalue": "'tuple' object has no attribute 'append'",
     "output_type": "error",
     "traceback": [
      "\u001b[1;31m---------------------------------------------------------------------------\u001b[0m",
      "\u001b[1;31mAttributeError\u001b[0m                            Traceback (most recent call last)",
      "\u001b[1;32m<ipython-input-67-894bf7afb14f>\u001b[0m in \u001b[0;36m<module>\u001b[1;34m\u001b[0m\n\u001b[1;32m----> 1\u001b[1;33m \u001b[0mdata\u001b[0m\u001b[1;33m.\u001b[0m\u001b[0mappend\u001b[0m\u001b[1;33m(\u001b[0m\u001b[1;36m4\u001b[0m\u001b[1;33m)\u001b[0m\u001b[1;33m\u001b[0m\u001b[1;33m\u001b[0m\u001b[0m\n\u001b[0m",
      "\u001b[1;31mAttributeError\u001b[0m: 'tuple' object has no attribute 'append'"
     ]
    }
   ],
   "source": [
    "data.append(4)"
   ]
  },
  {
   "cell_type": "markdown",
   "metadata": {},
   "source": [
    "**We cannot append any values to a Tuple**"
   ]
  },
  {
   "cell_type": "code",
   "execution_count": 68,
   "metadata": {},
   "outputs": [
    {
     "name": "stdout",
     "output_type": "stream",
     "text": [
      "Unpacking a List\n",
      "12\n",
      "23\n",
      "34\n"
     ]
    }
   ],
   "source": [
    "## Unpacking a List\n",
    "print(\"Unpacking a List\")\n",
    "\n",
    "data_list = [12,23,34]\n",
    "p,q,r = data_list\n",
    "print(p)\n",
    "print(q)\n",
    "print(r)"
   ]
  },
  {
   "cell_type": "code",
   "execution_count": 69,
   "metadata": {},
   "outputs": [
    {
     "name": "stdout",
     "output_type": "stream",
     "text": [
      "[12, 23, 34, 34]\n"
     ]
    }
   ],
   "source": [
    "## now since list are Mutable\n",
    "## we can append items to list.\n",
    "## so, \n",
    "data_list.append(34)\n",
    "print(data_list)"
   ]
  },
  {
   "cell_type": "code",
   "execution_count": 70,
   "metadata": {},
   "outputs": [
    {
     "ename": "ValueError",
     "evalue": "too many values to unpack (expected 3)",
     "output_type": "error",
     "traceback": [
      "\u001b[1;31m---------------------------------------------------------------------------\u001b[0m",
      "\u001b[1;31mValueError\u001b[0m                                Traceback (most recent call last)",
      "\u001b[1;32m<ipython-input-70-e60a7ca56797>\u001b[0m in \u001b[0;36m<module>\u001b[1;34m\u001b[0m\n\u001b[1;32m----> 1\u001b[1;33m \u001b[0mp\u001b[0m\u001b[1;33m,\u001b[0m\u001b[0mq\u001b[0m\u001b[1;33m,\u001b[0m\u001b[0mr\u001b[0m\u001b[1;33m=\u001b[0m\u001b[0mdata_list\u001b[0m\u001b[1;33m\u001b[0m\u001b[1;33m\u001b[0m\u001b[0m\n\u001b[0m\u001b[0;32m      2\u001b[0m \u001b[1;33m\u001b[0m\u001b[0m\n\u001b[0;32m      3\u001b[0m \u001b[0mprint\u001b[0m\u001b[1;33m(\u001b[0m\u001b[0mp\u001b[0m\u001b[1;33m)\u001b[0m\u001b[1;33m\u001b[0m\u001b[1;33m\u001b[0m\u001b[0m\n\u001b[0;32m      4\u001b[0m \u001b[0mprint\u001b[0m\u001b[1;33m(\u001b[0m\u001b[0mq\u001b[0m\u001b[1;33m)\u001b[0m\u001b[1;33m\u001b[0m\u001b[1;33m\u001b[0m\u001b[0m\n\u001b[0;32m      5\u001b[0m \u001b[0mprint\u001b[0m\u001b[1;33m(\u001b[0m\u001b[0mr\u001b[0m\u001b[1;33m)\u001b[0m\u001b[1;33m\u001b[0m\u001b[1;33m\u001b[0m\u001b[0m\n",
      "\u001b[1;31mValueError\u001b[0m: too many values to unpack (expected 3)"
     ]
    }
   ],
   "source": [
    "p,q,r=data_list\n",
    "\n",
    "print(p)\n",
    "print(q)\n",
    "print(r)"
   ]
  },
  {
   "cell_type": "markdown",
   "metadata": {},
   "source": [
    "So We cannot Unpack the List Like this."
   ]
  },
  {
   "cell_type": "markdown",
   "metadata": {},
   "source": [
    "**PRACTICAL USE FOR UNPACKING TUPLES**\n",
    "\n",
    "+ What the enumerate function will do,\n",
    "+ It will show the index position and the value in the sequence by iterating over the sequence using for loop.\n",
    "+ Check the Example"
   ]
  },
  {
   "cell_type": "code",
   "execution_count": 73,
   "metadata": {},
   "outputs": [
    {
     "name": "stdout",
     "output_type": "stream",
     "text": [
      "0 a\n",
      "1 b\n",
      "2 c\n",
      "3 d\n",
      "4 e\n",
      "5 f\n",
      "6 g\n",
      "7 h\n"
     ]
    }
   ],
   "source": [
    "for index, character in enumerate(\"abcdefgh\"):\n",
    "    print(index,character)"
   ]
  },
  {
   "cell_type": "code",
   "execution_count": 74,
   "metadata": {},
   "outputs": [
    {
     "name": "stdout",
     "output_type": "stream",
     "text": [
      "(0, 'a')\n",
      "(1, 'b')\n",
      "(2, 'c')\n",
      "(3, 'd')\n",
      "(4, 'e')\n",
      "(5, 'f')\n",
      "(6, 'g')\n",
      "(7, 'h')\n"
     ]
    }
   ],
   "source": [
    "## dfferenctly\n",
    "\n",
    "for t in enumerate(\"abcdefgh\"):\n",
    "    print(t)"
   ]
  },
  {
   "cell_type": "code",
   "execution_count": 75,
   "metadata": {},
   "outputs": [
    {
     "name": "stdout",
     "output_type": "stream",
     "text": [
      "0\n",
      "a\n"
     ]
    }
   ],
   "source": [
    "## so in the first line of enumerate function\n",
    "## \n",
    "\n",
    "index,character=(0,\"a\")\n",
    "print(index)\n",
    "print(character)"
   ]
  },
  {
   "cell_type": "code",
   "execution_count": 78,
   "metadata": {},
   "outputs": [
    {
     "name": "stdout",
     "output_type": "stream",
     "text": [
      "0 a\n",
      "1 b\n",
      "2 c\n",
      "3 d\n",
      "4 e\n",
      "5 f\n",
      "6 g\n",
      "7 h\n"
     ]
    }
   ],
   "source": [
    "## similarly in for loop\n",
    "for t in enumerate(\"abcdefgh\"):\n",
    "    index,character = t\n",
    "    print(index, character)"
   ]
  },
  {
   "cell_type": "code",
   "execution_count": 79,
   "metadata": {},
   "outputs": [
    {
     "name": "stdout",
     "output_type": "stream",
     "text": [
      "20000\n"
     ]
    }
   ],
   "source": [
    "## specs of a table ##\n",
    "table = (\"Coffee Table\",200,100,75,34.50)\n",
    "## calculating the Area of the Table\n",
    "print(table[1] * table[2])"
   ]
  },
  {
   "cell_type": "code",
   "execution_count": 80,
   "metadata": {},
   "outputs": [
    {
     "name": "stdout",
     "output_type": "stream",
     "text": [
      "20000\n"
     ]
    }
   ],
   "source": [
    "## doing the process by Tuple Unpacking.\n",
    "name,length,width,height,price=table\n",
    "print(length * width)"
   ]
  },
  {
   "cell_type": "code",
   "execution_count": 81,
   "metadata": {},
   "outputs": [
    {
     "name": "stdout",
     "output_type": "stream",
     "text": [
      "('Ride the Lightning', 'Metallica', 1984)\n"
     ]
    }
   ],
   "source": [
    "## Practical Use of Unpacking tuples and Lists.\n",
    "metallica = \"Ride the Lightning\", \"Metallica\", 1984\n",
    "\n",
    "print(metallica)"
   ]
  },
  {
   "cell_type": "code",
   "execution_count": 82,
   "metadata": {},
   "outputs": [
    {
     "name": "stdout",
     "output_type": "stream",
     "text": [
      "Ride the Lightning\n",
      "Metallica\n",
      "1984\n"
     ]
    }
   ],
   "source": [
    "## Unpacking the Tuple Using Variable\n",
    "title,artist,year=metallica\n",
    "print(title)\n",
    "print(artist)\n",
    "print(year)"
   ]
  },
  {
   "cell_type": "code",
   "execution_count": 83,
   "metadata": {},
   "outputs": [
    {
     "name": "stdout",
     "output_type": "stream",
     "text": [
      "20000\n"
     ]
    }
   ],
   "source": [
    "## let us consider specs of a table\n",
    "table = (\"Coffee Table\", 200, 100, 75, 34.50)\n",
    "## now to calculate the area\n",
    "## using indexing.\n",
    "## so we need to know which is the loction for length and width from the tuple\n",
    "## here 200 is length, and 100 is width\n",
    "\n",
    "## area is \n",
    "print(table[1]*table[2])"
   ]
  },
  {
   "cell_type": "code",
   "execution_count": 85,
   "metadata": {},
   "outputs": [
    {
     "name": "stdout",
     "output_type": "stream",
     "text": [
      "('Coffee Table', 200, 100, 75, 34.5)\n",
      "20000\n"
     ]
    }
   ],
   "source": [
    "## to make the process easy\n",
    "## unpack the tuple\n",
    "## using Variable assignment.\n",
    "\n",
    "name,length,width,height,price = table\n",
    "print(table)\n",
    "\n",
    "Area = length * width\n",
    "print(Area)"
   ]
  },
  {
   "cell_type": "code",
   "execution_count": 86,
   "metadata": {},
   "outputs": [],
   "source": [
    "## So here there will be no Confusion about the Index Position of the Length and Width of the Table.\n",
    "## Since we are Unpacking the Tuple into Variable names.\n",
    "## So the Process is Easy,"
   ]
  },
  {
   "cell_type": "markdown",
   "metadata": {},
   "source": [
    "**NESTED TUPLES AND LISTS**"
   ]
  },
  {
   "cell_type": "code",
   "execution_count": 87,
   "metadata": {},
   "outputs": [
    {
     "name": "stdout",
     "output_type": "stream",
     "text": [
      "5\n"
     ]
    }
   ],
   "source": [
    "albums = [(\"Welcome to my Nightmare\",\"Alice Cooper\", 1975),\n",
    "            (\"Bad Company\", \"Bad Company\", 1974),\n",
    "            (\"NightFlight\", \"BUdgie\", 1981),\n",
    "            (\"More Mayhem\", \"Emilda May\", 2011),\n",
    "            (\"Ride the Lightning\", \"Metallica\", 1984)]\n",
    "\n",
    "print(len(albums))"
   ]
  },
  {
   "cell_type": "code",
   "execution_count": 88,
   "metadata": {},
   "outputs": [
    {
     "name": "stdout",
     "output_type": "stream",
     "text": [
      "Album : Welcome to my Nightmare, Artist : Alice Cooper, Year : 1975\n",
      "Album : Bad Company, Artist : Bad Company, Year : 1974\n",
      "Album : NightFlight, Artist : BUdgie, Year : 1981\n",
      "Album : More Mayhem, Artist : Emilda May, Year : 2011\n",
      "Album : Ride the Lightning, Artist : Metallica, Year : 1984\n"
     ]
    }
   ],
   "source": [
    "## iterating over the list\n",
    "for album in albums:\n",
    "    print(\"Album : {}, Artist : {}, Year : {}\".format(album[0],album[1],album[2]))"
   ]
  },
  {
   "cell_type": "code",
   "execution_count": 89,
   "metadata": {},
   "outputs": [
    {
     "name": "stdout",
     "output_type": "stream",
     "text": [
      "Album : Coffee Table, Artist : Metallica, Year : 1984\n",
      "Album : Coffee Table, Artist : Metallica, Year : 1984\n",
      "Album : Coffee Table, Artist : Metallica, Year : 1984\n",
      "Album : Coffee Table, Artist : Metallica, Year : 1984\n",
      "Album : Coffee Table, Artist : Metallica, Year : 1984\n"
     ]
    }
   ],
   "source": [
    "for album in albums:\n",
    "    print(\"Album : {}, Artist : {}, Year : {}\".format(name,artist,year))"
   ]
  },
  {
   "cell_type": "code",
   "execution_count": 90,
   "metadata": {},
   "outputs": [
    {
     "name": "stdout",
     "output_type": "stream",
     "text": [
      "Album : Welcome to my Nightmare, Artist : Alice Cooper, Year : 1975\n",
      "Album : Bad Company, Artist : Bad Company, Year : 1974\n",
      "Album : NightFlight, Artist : BUdgie, Year : 1981\n",
      "Album : More Mayhem, Artist : Emilda May, Year : 2011\n",
      "Album : Ride the Lightning, Artist : Metallica, Year : 1984\n"
     ]
    }
   ],
   "source": [
    "for name,artist,year in albums:\n",
    "    print(\"Album : {}, Artist : {}, Year : {}\".format(name,artist,year))"
   ]
  },
  {
   "cell_type": "code",
   "execution_count": 94,
   "metadata": {},
   "outputs": [
    {
     "name": "stdout",
     "output_type": "stream",
     "text": [
      "Album : Welcome to my Nightmare, Artist : Alice Cooper, Year : 1975 \n",
      "Album : Bad Company, Artist : Bad Company, Year : 1974 \n",
      "Album : NightFlight, Artist : BUdgie, Year : 1981 \n",
      "Album : More Mayhem, Artist : Emilda May, Year : 2011 \n",
      "Album : Ride the Lightning, Artist : Metallica, Year : 1984 \n"
     ]
    }
   ],
   "source": [
    "## indexing the list of tuples using unpacking the Tuple.\n",
    "for album in albums:\n",
    "    name,artist,year = album\n",
    "    print(\"Album : {}, Artist : {}, Year : {} \".format(name,artist,year))"
   ]
  },
  {
   "cell_type": "markdown",
   "metadata": {},
   "source": [
    "**NESTED DATA STRUCTURES**"
   ]
  },
  {
   "cell_type": "code",
   "execution_count": 95,
   "metadata": {},
   "outputs": [],
   "source": [
    "albums = [\n",
    "    (\"Welcome to my Nightmare\", \"Alice Cooper\", 1975,\n",
    "     [\n",
    "         (1, \"Welcome to my Nightmare\"),\n",
    "         (2, \"Devil's Food\"),\n",
    "         (3, \"The Black Widow\"),\n",
    "         (4, \"Some Folks\"),\n",
    "         (5, \"Only Women Bleed\"),\n",
    "     ]\n",
    "     ),\n",
    "    (\"Bad Company\", \"Bad Company\", 1974,\n",
    "     [\n",
    "         (1, \"Can't Get Enough\"),\n",
    "         (2, \"Rock Steady\"),\n",
    "         (3, \"Ready for Love\"),\n",
    "         (4, \"Don't Let Me Down\"),\n",
    "         (5, \"Bad Company\"),\n",
    "         (6, \"The Way I Choose\"),\n",
    "         (7, \"Movin' On\"),\n",
    "         (8, \"Seagull\"),\n",
    "     ]\n",
    "     ),\n",
    "    (\"Nightflight\", \"Budgie\", 1981,\n",
    "     [\n",
    "         (1, \"I Turned to Stone\"),\n",
    "         (2, \"Keeping a Rendezvous\"),\n",
    "         (3, \"Reaper of the Glory\"),\n",
    "         (4, \"She Used Me Up\"),\n",
    "     ]\n",
    "     ),\n",
    "    (\"More Mayhem\", \"Imelda May\", 2011,\n",
    "     [\n",
    "         (1, \"Pulling the Rug\"),\n",
    "         (2, \"Psycho\"),\n",
    "         (3, \"Mayhem\"),\n",
    "         (4, \"Kentish Town Waltz\"),\n",
    "     ]\n",
    "     ),\n",
    "]"
   ]
  },
  {
   "cell_type": "code",
   "execution_count": 97,
   "metadata": {},
   "outputs": [
    {
     "name": "stdout",
     "output_type": "stream",
     "text": [
      "('Welcome to my Nightmare', 'Alice Cooper', 1975, [(1, 'Welcome to my Nightmare'), (2, \"Devil's Food\"), (3, 'The Black Widow'), (4, 'Some Folks'), (5, 'Only Women Bleed')])\n",
      "('Bad Company', 'Bad Company', 1974, [(1, \"Can't Get Enough\"), (2, 'Rock Steady'), (3, 'Ready for Love'), (4, \"Don't Let Me Down\"), (5, 'Bad Company'), (6, 'The Way I Choose'), (7, \"Movin' On\"), (8, 'Seagull')])\n",
      "('Nightflight', 'Budgie', 1981, [(1, 'I Turned to Stone'), (2, 'Keeping a Rendezvous'), (3, 'Reaper of the Glory'), (4, 'She Used Me Up')])\n",
      "('More Mayhem', 'Imelda May', 2011, [(1, 'Pulling the Rug'), (2, 'Psycho'), (3, 'Mayhem'), (4, 'Kentish Town Waltz')])\n"
     ]
    }
   ],
   "source": [
    "for album in albums:\n",
    "    print(album)"
   ]
  },
  {
   "cell_type": "code",
   "execution_count": 98,
   "metadata": {},
   "outputs": [
    {
     "name": "stdout",
     "output_type": "stream",
     "text": [
      "Album : Welcome to my Nightmare, Artist : Alice Cooper, Year : 1975, Songs : [(1, 'Welcome to my Nightmare'), (2, \"Devil's Food\"), (3, 'The Black Widow'), (4, 'Some Folks'), (5, 'Only Women Bleed')]\n",
      "Album : Bad Company, Artist : Bad Company, Year : 1974, Songs : [(1, \"Can't Get Enough\"), (2, 'Rock Steady'), (3, 'Ready for Love'), (4, \"Don't Let Me Down\"), (5, 'Bad Company'), (6, 'The Way I Choose'), (7, \"Movin' On\"), (8, 'Seagull')]\n",
      "Album : Nightflight, Artist : Budgie, Year : 1981, Songs : [(1, 'I Turned to Stone'), (2, 'Keeping a Rendezvous'), (3, 'Reaper of the Glory'), (4, 'She Used Me Up')]\n",
      "Album : More Mayhem, Artist : Imelda May, Year : 2011, Songs : [(1, 'Pulling the Rug'), (2, 'Psycho'), (3, 'Mayhem'), (4, 'Kentish Town Waltz')]\n"
     ]
    }
   ],
   "source": [
    "for name,artist,year,songs in albums:\n",
    "    print(\"Album : {}, Artist : {}, Year : {}, Songs : {}\".format(name,artist,year,songs))"
   ]
  },
  {
   "cell_type": "code",
   "execution_count": 99,
   "metadata": {},
   "outputs": [
    {
     "name": "stdout",
     "output_type": "stream",
     "text": [
      "('Nightflight', 'Budgie', 1981, [(1, 'I Turned to Stone'), (2, 'Keeping a Rendezvous'), (3, 'Reaper of the Glory'), (4, 'She Used Me Up')])\n"
     ]
    }
   ],
   "source": [
    "## indexing the particular album\n",
    "## here 3 rd Album\n",
    "\n",
    "album = albums[2]\n",
    "print(album)"
   ]
  },
  {
   "cell_type": "code",
   "execution_count": 100,
   "metadata": {},
   "outputs": [
    {
     "name": "stdout",
     "output_type": "stream",
     "text": [
      "[(1, 'I Turned to Stone'), (2, 'Keeping a Rendezvous'), (3, 'Reaper of the Glory'), (4, 'She Used Me Up')]\n"
     ]
    }
   ],
   "source": [
    "## indexing the List of Songs from the Album Selected earlier.\n",
    "## \n",
    "songs = album[3]\n",
    "print(songs)"
   ]
  },
  {
   "cell_type": "code",
   "execution_count": 101,
   "metadata": {},
   "outputs": [
    {
     "name": "stdout",
     "output_type": "stream",
     "text": [
      "(3, 'Reaper of the Glory')\n"
     ]
    }
   ],
   "source": [
    "## indexing the particular song from the list of tuples\n",
    "## 3rd song\n",
    "\n",
    "song = songs[2]\n",
    "print(song)"
   ]
  },
  {
   "cell_type": "code",
   "execution_count": 102,
   "metadata": {},
   "outputs": [
    {
     "name": "stdout",
     "output_type": "stream",
     "text": [
      "Psycho\n"
     ]
    }
   ],
   "source": [
    "## nested Indexing\n",
    "psycho = albums[3][3][1][1]\n",
    "print(psycho)"
   ]
  },
  {
   "cell_type": "markdown",
   "metadata": {},
   "source": [
    "**CHALLENGE**\n",
    "\n",
    "Use nested indexing to print the following items from our albums structure.\n",
    "\n",
    "\n",
    "\n",
    "The title of the song \"The Way I Choose\" from the \"Bad Company\" album.\n",
    "\n",
    "The year that the album \"Nightflight\" was released.\n",
    "\n",
    "The track number of the song \"Kentish Town Waltz\" from the Imelda May album \"More Mayhem\".\n",
    "\n",
    "The tuple representing the song \"Keeping a Rendezvous\" from the Budgie album \"Nightflight\".\n",
    "\n",
    "\n",
    "\n",
    "Write your code below the comment, starting on line 42.\n",
    "\n",
    "\n",
    "\n",
    "The output from your program should be\n",
    "\n",
    "\n",
    "\n",
    "The Way I Choose\n",
    "1981\n",
    "4\n",
    "(2, 'Keeping a Rendezvous')"
   ]
  },
  {
   "cell_type": "code",
   "execution_count": 103,
   "metadata": {},
   "outputs": [],
   "source": [
    "albums = [\n",
    "    (\"Welcome to my Nightmare\", \"Alice Cooper\", 1975,\n",
    "     [\n",
    "         (1, \"Welcome to my Nightmare\"),\n",
    "         (2, \"Devil's Food\"),\n",
    "         (3, \"The Black Widow\"),\n",
    "         (4, \"Some Folks\"),\n",
    "         (5, \"Only Women Bleed\"),\n",
    "     ]\n",
    "     ),\n",
    "    (\"Bad Company\", \"Bad Company\", 1974,\n",
    "     [\n",
    "         (1, \"Can't Get Enough\"),\n",
    "         (2, \"Rock Steady\"),\n",
    "         (3, \"Ready for Love\"),\n",
    "         (4, \"Don't Let Me Down\"),\n",
    "         (5, \"Bad Company\"),\n",
    "         (6, \"The Way I Choose\"),\n",
    "         (7, \"Movin' On\"),\n",
    "         (8, \"Seagull\"),\n",
    "     ]\n",
    "     ),\n",
    "    (\"Nightflight\", \"Budgie\", 1981,\n",
    "     [\n",
    "         (1, \"I Turned to Stone\"),\n",
    "         (2, \"Keeping a Rendezvous\"),\n",
    "         (3, \"Reaper of the Glory\"),\n",
    "         (4, \"She Used Me Up\"),\n",
    "     ]\n",
    "     ),\n",
    "    (\"More Mayhem\", \"Imelda May\", 2011,\n",
    "     [\n",
    "         (1, \"Pulling the Rug\"),\n",
    "         (2, \"Psycho\"),\n",
    "         (3, \"Mayhem\"),\n",
    "         (4, \"Kentish Town Waltz\"),\n",
    "     ]\n",
    "     ),\n",
    "]\n",
    " "
   ]
  },
  {
   "cell_type": "code",
   "execution_count": 108,
   "metadata": {},
   "outputs": [
    {
     "name": "stdout",
     "output_type": "stream",
     "text": [
      "The Way I Choose\n",
      "1981\n",
      "4\n",
      "(2, 'Keeping a Rendezvous')\n"
     ]
    }
   ],
   "source": [
    "print(albums[1][3][5][1])\n",
    "print(albums[2][2])\n",
    "print(albums[1][3][3][0])\n",
    "print(albums[2][3][1])"
   ]
  },
  {
   "cell_type": "markdown",
   "metadata": {},
   "source": [
    "**JUKEBOX**"
   ]
  },
  {
   "cell_type": "code",
   "execution_count": 16,
   "metadata": {},
   "outputs": [
    {
     "name": "stdout",
     "output_type": "stream",
     "text": [
      "Please Choose your album (invalid option exists):--\n",
      "1 : Welcome to my Nightmare, Alice Cooper, 1975, [(1, 'Welcome to my Nightmare'), (2, \"Devil's Food\"), (3, 'The Black Widow'), (4, 'Some Folks'), (5, 'Only Women Bleed')]\n",
      "2 : Bad Company, Bad Company, 1974, [(1, \"Can't Get Enough\"), (2, 'Rock Steady'), (3, 'Ready for Love'), (4, \"Don't Let Me Down\"), (5, 'Bad Company'), (6, 'The Way I Choose'), (7, \"Movin' On\"), (8, 'Seagull')]\n",
      "3 : Nightflight, Budgie, 1981, [(1, 'I Turned to Stone'), (2, 'Keeping a Rendezvous'), (3, 'Reaper of the Glory'), (4, 'She Used Me Up')]\n",
      "4 : More Mayhem, Imelda May, 2011, [(1, 'Pulling the Rug'), (2, 'Psycho'), (3, 'Mayhem'), (4, 'Kentish Town Waltz')]\n"
     ]
    }
   ],
   "source": [
    "## importing Data from Nested_Data\n",
    "from nested_data import albums\n",
    "\n",
    "## \n",
    "\n",
    "while True:\n",
    "    print(\"Please Choose your album (invalid option exists):--\")\n",
    "    for index, (title,artist,year,songs) in enumerate(albums):\n",
    "        print(\"{} : {}, {}, {}, {}\".format(index + 1,title,artist,year,songs))\n",
    "    \n",
    "    #for index,value in enumerate(albums):\n",
    "    #    print(index,value)\n",
    "    \n",
    "    #for index,value in enumerate(albums):\n",
    "    #   title,artist,year,songs = value\n",
    "    #    print(index, title, artist, year, songs)\n",
    "    break"
   ]
  },
  {
   "cell_type": "code",
   "execution_count": 27,
   "metadata": {},
   "outputs": [
    {
     "name": "stdout",
     "output_type": "stream",
     "text": [
      "Please Choose your album (invalid option exists):--\n",
      "1 : Welcome to my Nightmare\n",
      "2 : Bad Company\n",
      "3 : Nightflight\n",
      "4 : More Mayhem\n",
      "2\n",
      "[(1, \"Can't Get Enough\"), (2, 'Rock Steady'), (3, 'Ready for Love'), (4, \"Don't Let Me Down\"), (5, 'Bad Company'), (6, 'The Way I Choose'), (7, \"Movin' On\"), (8, 'Seagull')]\n",
      "('Bad Company', 'Bad Company', 1974, [(1, \"Can't Get Enough\"), (2, 'Rock Steady'), (3, 'Ready for Love'), (4, \"Don't Let Me Down\"), (5, 'Bad Company'), (6, 'The Way I Choose'), (7, \"Movin' On\"), (8, 'Seagull')])\n",
      "[(1, \"Can't Get Enough\"), (2, 'Rock Steady'), (3, 'Ready for Love'), (4, \"Don't Let Me Down\"), (5, 'Bad Company'), (6, 'The Way I Choose'), (7, \"Movin' On\"), (8, 'Seagull')]\n",
      "\n"
     ]
    }
   ],
   "source": [
    "from nested_data import albums\n",
    "\n",
    "while True:\n",
    "    print(\"Please Choose your album (invalid option exists):--\")\n",
    "    for index, (title, artist, year, songs) in enumerate(albums):\n",
    "        print(\"{} : {}\".format(index + 1, title))\n",
    "        \n",
    "    choice = int(input())\n",
    "    if 1 <= choice <= len(albums):\n",
    "        songs_list = albums[choice-1][3]\n",
    "        print(songs_list)\n",
    "    else:\n",
    "        break\n",
    "        \n",
    "    print(albums[choice-1])\n",
    "    print(songs_list)\n",
    "    print()\n",
    "        \n",
    "    break    "
   ]
  },
  {
   "cell_type": "code",
   "execution_count": 22,
   "metadata": {},
   "outputs": [
    {
     "data": {
      "text/plain": [
       "4"
      ]
     },
     "execution_count": 22,
     "metadata": {},
     "output_type": "execute_result"
    }
   ],
   "source": [
    "from nested_data import albums\n",
    "\n",
    "len(albums)"
   ]
  },
  {
   "cell_type": "code",
   "execution_count": 37,
   "metadata": {},
   "outputs": [
    {
     "name": "stdout",
     "output_type": "stream",
     "text": [
      "Please Choose your albums (invalid choice exists):--\n",
      "1 : Welcome to my Nightmare\n",
      "2 : Bad Company\n",
      "3 : Nightflight\n",
      "4 : More Mayhem\n",
      "4\n",
      "Please select the Song of your Choice:--\n",
      "1 : Pulling the Rug\n",
      "2 : Psycho\n",
      "3 : Mayhem\n",
      "4 : Kentish Town Waltz\n",
      "5\n"
     ]
    }
   ],
   "source": [
    "from nested_data import albums\n",
    "\n",
    "SONGS_LIST_INDEX = 3     ## index position of Songs list in the Tuple is 3\n",
    "SONGS_TITLE_INDEX = 1    ## index position of Songs title in the Songs List is 1\n",
    "\n",
    "while True:\n",
    "    print(\"Please Choose your albums (invalid choice exists):--\")\n",
    "    \n",
    "    ## This code block will give us the Index : Title of the Albums\n",
    "    for index, (title,artist,year,songs) in enumerate(albums):\n",
    "        print(\"{} : {}\".format(index + 1, title))\n",
    "        \n",
    "    \n",
    "    ## choice will be a number\n",
    "    ## the code block follows will songs_list_index\n",
    "    choice = int(input())\n",
    "    if 1 <= choice <= len(albums):\n",
    "        songs_list = albums[choice - 1][SONGS_LIST_INDEX]\n",
    "    else:\n",
    "        break\n",
    "        \n",
    "    ##print(\"Albums, Choice - 1 data: \", albums[choice-1])\n",
    "    ##print(\"Songs List:--\", songs_list)\n",
    "    #print()\n",
    "    \n",
    "    ## code block will guve the song title index\n",
    "    ## this will list the songs\n",
    "    print(\"Please select the Song of your Choice:--\")\n",
    "    for index, (track_number, song) in enumerate(songs_list):\n",
    "        print(\"{} : {}\".format(index + 1, song))\n",
    "        \n",
    "    ## the code block will list all the songs with index\n",
    "    ## it will be good to choose the songs from the list.\n",
    "    song_choice = int(input())\n",
    "    if 1 <= song_choice <= len(songs_list):\n",
    "        title = songs_list[song_choice-1][SONGS_TITLE_INDEX]\n",
    "    else:\n",
    "        break\n",
    "        \n",
    "    print(\"Playing {}\".format(title))\n",
    "    print(\"=\"*40)\n",
    "        \n",
    "    break  ## this will break out of the Loop\n",
    "    \n",
    "    "
   ]
  },
  {
   "cell_type": "markdown",
   "metadata": {},
   "source": [
    "**CHALLENGE**\n",
    "\n",
    "+ If we enter an Input which is Invalid, the Program Should Print the Menu Again."
   ]
  },
  {
   "cell_type": "code",
   "execution_count": 39,
   "metadata": {},
   "outputs": [
    {
     "name": "stdout",
     "output_type": "stream",
     "text": [
      "Please Choose your albums (invalid choice exists):--\n",
      "1 : Welcome to my Nightmare\n",
      "2 : Bad Company\n",
      "3 : Nightflight\n",
      "4 : More Mayhem\n",
      "3\n",
      "Please select the Song of your Choice:--\n",
      "1 : I Turned to Stone\n",
      "2 : Keeping a Rendezvous\n",
      "3 : Reaper of the Glory\n",
      "4 : She Used Me Up\n",
      "5\n",
      "========================================\n",
      "Please Choose your albums (invalid choice exists):--\n",
      "1 : Welcome to my Nightmare\n",
      "2 : Bad Company\n",
      "3 : Nightflight\n",
      "4 : More Mayhem\n",
      "4\n",
      "Please select the Song of your Choice:--\n",
      "1 : Pulling the Rug\n",
      "2 : Psycho\n",
      "3 : Mayhem\n",
      "4 : Kentish Town Waltz\n",
      "4\n",
      "Playing Kentish Town Waltz\n",
      "========================================\n",
      "Please Choose your albums (invalid choice exists):--\n",
      "1 : Welcome to my Nightmare\n",
      "2 : Bad Company\n",
      "3 : Nightflight\n",
      "4 : More Mayhem\n",
      "3\n",
      "Please select the Song of your Choice:--\n",
      "1 : I Turned to Stone\n",
      "2 : Keeping a Rendezvous\n",
      "3 : Reaper of the Glory\n",
      "4 : She Used Me Up\n"
     ]
    },
    {
     "ename": "KeyboardInterrupt",
     "evalue": "Interrupted by user",
     "output_type": "error",
     "traceback": [
      "\u001b[1;31m---------------------------------------------------------------------------\u001b[0m",
      "\u001b[1;31mKeyboardInterrupt\u001b[0m                         Traceback (most recent call last)",
      "\u001b[1;32m<ipython-input-39-f584439a35fa>\u001b[0m in \u001b[0;36m<module>\u001b[1;34m\u001b[0m\n\u001b[0;32m     32\u001b[0m     \u001b[1;31m## the code block will list all the songs with index\u001b[0m\u001b[1;33m\u001b[0m\u001b[1;33m\u001b[0m\u001b[1;33m\u001b[0m\u001b[0m\n\u001b[0;32m     33\u001b[0m     \u001b[1;31m## it will be good to choose the songs from the list.\u001b[0m\u001b[1;33m\u001b[0m\u001b[1;33m\u001b[0m\u001b[1;33m\u001b[0m\u001b[0m\n\u001b[1;32m---> 34\u001b[1;33m     \u001b[0msong_choice\u001b[0m \u001b[1;33m=\u001b[0m \u001b[0mint\u001b[0m\u001b[1;33m(\u001b[0m\u001b[0minput\u001b[0m\u001b[1;33m(\u001b[0m\u001b[1;33m)\u001b[0m\u001b[1;33m)\u001b[0m\u001b[1;33m\u001b[0m\u001b[1;33m\u001b[0m\u001b[0m\n\u001b[0m\u001b[0;32m     35\u001b[0m     \u001b[1;32mif\u001b[0m \u001b[1;36m1\u001b[0m \u001b[1;33m<=\u001b[0m \u001b[0msong_choice\u001b[0m \u001b[1;33m<=\u001b[0m \u001b[0mlen\u001b[0m\u001b[1;33m(\u001b[0m\u001b[0msongs_list\u001b[0m\u001b[1;33m)\u001b[0m\u001b[1;33m:\u001b[0m\u001b[1;33m\u001b[0m\u001b[1;33m\u001b[0m\u001b[0m\n\u001b[0;32m     36\u001b[0m         \u001b[0mtitle\u001b[0m \u001b[1;33m=\u001b[0m \u001b[0msongs_list\u001b[0m\u001b[1;33m[\u001b[0m\u001b[0msong_choice\u001b[0m\u001b[1;33m-\u001b[0m\u001b[1;36m1\u001b[0m\u001b[1;33m]\u001b[0m\u001b[1;33m[\u001b[0m\u001b[0mSONGS_TITLE_INDEX\u001b[0m\u001b[1;33m]\u001b[0m\u001b[1;33m\u001b[0m\u001b[1;33m\u001b[0m\u001b[0m\n",
      "\u001b[1;32mD:\\Anaconda\\lib\\site-packages\\ipykernel\\kernelbase.py\u001b[0m in \u001b[0;36mraw_input\u001b[1;34m(self, prompt)\u001b[0m\n\u001b[0;32m    858\u001b[0m                 \u001b[1;34m\"raw_input was called, but this frontend does not support input requests.\"\u001b[0m\u001b[1;33m\u001b[0m\u001b[1;33m\u001b[0m\u001b[0m\n\u001b[0;32m    859\u001b[0m             )\n\u001b[1;32m--> 860\u001b[1;33m         return self._input_request(str(prompt),\n\u001b[0m\u001b[0;32m    861\u001b[0m             \u001b[0mself\u001b[0m\u001b[1;33m.\u001b[0m\u001b[0m_parent_ident\u001b[0m\u001b[1;33m,\u001b[0m\u001b[1;33m\u001b[0m\u001b[1;33m\u001b[0m\u001b[0m\n\u001b[0;32m    862\u001b[0m             \u001b[0mself\u001b[0m\u001b[1;33m.\u001b[0m\u001b[0m_parent_header\u001b[0m\u001b[1;33m,\u001b[0m\u001b[1;33m\u001b[0m\u001b[1;33m\u001b[0m\u001b[0m\n",
      "\u001b[1;32mD:\\Anaconda\\lib\\site-packages\\ipykernel\\kernelbase.py\u001b[0m in \u001b[0;36m_input_request\u001b[1;34m(self, prompt, ident, parent, password)\u001b[0m\n\u001b[0;32m    902\u001b[0m             \u001b[1;32mexcept\u001b[0m \u001b[0mKeyboardInterrupt\u001b[0m\u001b[1;33m:\u001b[0m\u001b[1;33m\u001b[0m\u001b[1;33m\u001b[0m\u001b[0m\n\u001b[0;32m    903\u001b[0m                 \u001b[1;31m# re-raise KeyboardInterrupt, to truncate traceback\u001b[0m\u001b[1;33m\u001b[0m\u001b[1;33m\u001b[0m\u001b[1;33m\u001b[0m\u001b[0m\n\u001b[1;32m--> 904\u001b[1;33m                 \u001b[1;32mraise\u001b[0m \u001b[0mKeyboardInterrupt\u001b[0m\u001b[1;33m(\u001b[0m\u001b[1;34m\"Interrupted by user\"\u001b[0m\u001b[1;33m)\u001b[0m \u001b[1;32mfrom\u001b[0m \u001b[1;32mNone\u001b[0m\u001b[1;33m\u001b[0m\u001b[1;33m\u001b[0m\u001b[0m\n\u001b[0m\u001b[0;32m    905\u001b[0m             \u001b[1;32mexcept\u001b[0m \u001b[0mException\u001b[0m \u001b[1;32mas\u001b[0m \u001b[0me\u001b[0m\u001b[1;33m:\u001b[0m\u001b[1;33m\u001b[0m\u001b[1;33m\u001b[0m\u001b[0m\n\u001b[0;32m    906\u001b[0m                 \u001b[0mself\u001b[0m\u001b[1;33m.\u001b[0m\u001b[0mlog\u001b[0m\u001b[1;33m.\u001b[0m\u001b[0mwarning\u001b[0m\u001b[1;33m(\u001b[0m\u001b[1;34m\"Invalid Message:\"\u001b[0m\u001b[1;33m,\u001b[0m \u001b[0mexc_info\u001b[0m\u001b[1;33m=\u001b[0m\u001b[1;32mTrue\u001b[0m\u001b[1;33m)\u001b[0m\u001b[1;33m\u001b[0m\u001b[1;33m\u001b[0m\u001b[0m\n",
      "\u001b[1;31mKeyboardInterrupt\u001b[0m: Interrupted by user"
     ]
    }
   ],
   "source": [
    "from nested_data import albums\n",
    "\n",
    "SONGS_LIST_INDEX = 3     ## index position of Songs list in the Tuple is 3\n",
    "SONGS_TITLE_INDEX = 1    ## index position of Songs title in the Songs List is 1\n",
    "\n",
    "while True:\n",
    "    print(\"Please Choose your albums (invalid choice exists):--\")\n",
    "    \n",
    "    ## This code block will give us the Index : Title of the Albums\n",
    "    for index, (title,artist,year,songs) in enumerate(albums):\n",
    "        print(\"{} : {}\".format(index + 1, title))\n",
    "        \n",
    "    \n",
    "    ## choice will be a number\n",
    "    ## the code block follows will songs_list_index\n",
    "    choice = int(input())\n",
    "    if 1 <= choice <= len(albums):\n",
    "        songs_list = albums[choice - 1][SONGS_LIST_INDEX]\n",
    "    else:\n",
    "        break\n",
    "        \n",
    "    ##print(\"Albums, Choice - 1 data: \", albums[choice-1])\n",
    "    ##print(\"Songs List:--\", songs_list)\n",
    "    #print()\n",
    "    \n",
    "    ## code block will guve the song title index\n",
    "    ## this will list the songs\n",
    "    print(\"Please select the Song of your Choice:--\")\n",
    "    for index, (track_number, song) in enumerate(songs_list):\n",
    "        print(\"{} : {}\".format(index + 1, song))\n",
    "        \n",
    "    ## the code block will list all the songs with index\n",
    "    ## it will be good to choose the songs from the list.\n",
    "    song_choice = int(input())\n",
    "    if 1 <= song_choice <= len(songs_list):\n",
    "        title = songs_list[song_choice-1][SONGS_TITLE_INDEX]\n",
    "        print(\"Playing {}\".format(title))\n",
    "    print(\"=\"*40)\n",
    "        \n",
    "    \n",
    "    "
   ]
  },
  {
   "cell_type": "code",
   "execution_count": null,
   "metadata": {},
   "outputs": [],
   "source": []
  }
 ],
 "metadata": {
  "kernelspec": {
   "display_name": "Python 3",
   "language": "python",
   "name": "python3"
  },
  "language_info": {
   "codemirror_mode": {
    "name": "ipython",
    "version": 3
   },
   "file_extension": ".py",
   "mimetype": "text/x-python",
   "name": "python",
   "nbconvert_exporter": "python",
   "pygments_lexer": "ipython3",
   "version": "3.8.3"
  }
 },
 "nbformat": 4,
 "nbformat_minor": 4
}
