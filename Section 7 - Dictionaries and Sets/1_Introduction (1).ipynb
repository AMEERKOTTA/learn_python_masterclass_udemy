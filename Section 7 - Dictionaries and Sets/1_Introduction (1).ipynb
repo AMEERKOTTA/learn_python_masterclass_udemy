{
 "cells": [
  {
   "cell_type": "markdown",
   "metadata": {},
   "source": [
    "### DICTIONARIES AND SETS\n",
    "\n",
    "+ Lists and Tuples are Sequences.\n",
    "+ So we can do Indexing to Access items.\n",
    "+ Dictionaries and Sets are not Sequences.\n",
    "+ So We cannot access items using Index Positions.\n",
    "+ We access items from Dictionary using Keys\n",
    "+ Dictionary Store Key - Value Pairs.\n",
    "+ A Set is an Unordered Collection of Things. There is no way to retrieve a Specific Item for a "
   ]
  }
 ],
 "metadata": {
  "kernelspec": {
   "display_name": "Python 3",
   "language": "python",
   "name": "python3"
  },
  "language_info": {
   "codemirror_mode": {
    "name": "ipython",
    "version": 3
   },
   "file_extension": ".py",
   "mimetype": "text/x-python",
   "name": "python",
   "nbconvert_exporter": "python",
   "pygments_lexer": "ipython3",
   "version": "3.8.3"
  }
 },
 "nbformat": 4,
 "nbformat_minor": 4
}
