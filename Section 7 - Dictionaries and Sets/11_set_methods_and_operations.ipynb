{
 "cells": [
  {
   "cell_type": "markdown",
   "metadata": {},
   "source": [
    "### SET METHODS AND OPERATIONS"
   ]
  },
  {
   "cell_type": "markdown",
   "metadata": {},
   "source": [
    "**ADDING ITEMS TO A SET**\n",
    "\n",
    "+ How to Create an Empty Set.\n",
    "+ We can create an Empty Set using the Python's Set() function.\n",
    "+ Sets cannot take Duplicate values."
   ]
  },
  {
   "cell_type": "code",
   "execution_count": 1,
   "metadata": {},
   "outputs": [
    {
     "name": "stdout",
     "output_type": "stream",
     "text": [
      "set() <class 'set'>\n"
     ]
    }
   ],
   "source": [
    "## creating an empty set\n",
    "set_object = {*\"\"}\n",
    "print(set_object, type(set_object))"
   ]
  },
  {
   "cell_type": "code",
   "execution_count": 2,
   "metadata": {},
   "outputs": [
    {
     "name": "stdout",
     "output_type": "stream",
     "text": [
      "set() <class 'set'>\n"
     ]
    }
   ],
   "source": [
    "set_object_alternatively = {*{}}\n",
    "print(set_object_alternatively, type(set_object_alternatively))"
   ]
  },
  {
   "cell_type": "code",
   "execution_count": 3,
   "metadata": {},
   "outputs": [
    {
     "name": "stdout",
     "output_type": "stream",
     "text": [
      "set() <class 'set'>\n"
     ]
    }
   ],
   "source": [
    "## creating sets using set() function\n",
    "numbers = set()\n",
    "print(numbers, type(numbers))"
   ]
  },
  {
   "cell_type": "code",
   "execution_count": 4,
   "metadata": {},
   "outputs": [
    {
     "name": "stdout",
     "output_type": "stream",
     "text": [
      "{1}\n"
     ]
    }
   ],
   "source": [
    "## adding a number integer to set.\n",
    "numbers.add(1)\n",
    "print(numbers)"
   ]
  },
  {
   "cell_type": "code",
   "execution_count": 12,
   "metadata": {},
   "outputs": [
    {
     "name": "stdout",
     "output_type": "stream",
     "text": [
      "{1, 43, 44, 23}\n"
     ]
    }
   ],
   "source": [
    "## using while loop to add new numbers to set.\n",
    "## \n",
    "\n",
    "while len(numbers) < 4:\n",
    "    \n",
    "    next_number = int(input(\"Please enter your next number:--\"))\n",
    "    numbers.add(next_number)\n",
    "    \n",
    "print(numbers)"
   ]
  },
  {
   "cell_type": "markdown",
   "metadata": {},
   "source": [
    "Even though we entered the same number again. We will get the Set with out the Duplicates.\n",
    "+ Set Will Exclude the Duplicates."
   ]
  },
  {
   "cell_type": "markdown",
   "metadata": {},
   "source": [
    "**REMOVING DUPLICATES FROM A LIST**"
   ]
  },
  {
   "cell_type": "code",
   "execution_count": 13,
   "metadata": {},
   "outputs": [
    {
     "name": "stdout",
     "output_type": "stream",
     "text": [
      "['blue', 'red', 'blue', 'green', 'red', 'blue', 'white']\n"
     ]
    }
   ],
   "source": [
    "## initiating a List\n",
    "data = [\"blue\",\"red\",\"blue\",\"green\",\"red\",\"blue\",\"white\"]\n",
    "print(data)"
   ]
  },
  {
   "cell_type": "code",
   "execution_count": 14,
   "metadata": {},
   "outputs": [
    {
     "name": "stdout",
     "output_type": "stream",
     "text": [
      "{'red', 'green', 'blue', 'white'}\n"
     ]
    }
   ],
   "source": [
    "## defining the set from the list data.\n",
    "## this will remmove the Duplicates.\n",
    "\n",
    "unique_data = set(data)\n",
    "print(unique_data)"
   ]
  },
  {
   "cell_type": "markdown",
   "metadata": {},
   "source": [
    "There is only some unique color names in it."
   ]
  },
  {
   "cell_type": "markdown",
   "metadata": {},
   "source": [
    "Now if we use Sorted Fucntion over the Set, then we will get a list which has no Duplicates and it will be Sorted."
   ]
  },
  {
   "cell_type": "code",
   "execution_count": 15,
   "metadata": {},
   "outputs": [
    {
     "name": "stdout",
     "output_type": "stream",
     "text": [
      "['blue', 'green', 'red', 'white']\n"
     ]
    }
   ],
   "source": [
    "unique_data_sorted = sorted(set(data))\n",
    "print(unique_data_sorted)"
   ]
  },
  {
   "cell_type": "markdown",
   "metadata": {},
   "source": [
    "This can be done in a Different way. Using dict method."
   ]
  },
  {
   "cell_type": "code",
   "execution_count": 16,
   "metadata": {},
   "outputs": [
    {
     "name": "stdout",
     "output_type": "stream",
     "text": [
      "['blue', 'red', 'green', 'white']\n"
     ]
    }
   ],
   "source": [
    "unique_data_with_order = list(dict.fromkeys(data))\n",
    "print(unique_data_with_order)"
   ]
  },
  {
   "cell_type": "markdown",
   "metadata": {},
   "source": [
    "This will give the Exact Order from the Original List, Exclusing the Duplicates in the Result."
   ]
  },
  {
   "cell_type": "code",
   "execution_count": 17,
   "metadata": {},
   "outputs": [
    {
     "data": {
      "text/plain": [
       "{'blue': None, 'red': None, 'green': None, 'white': None}"
      ]
     },
     "execution_count": 17,
     "metadata": {},
     "output_type": "execute_result"
    }
   ],
   "source": [
    "dict.fromkeys(data)"
   ]
  },
  {
   "cell_type": "markdown",
   "metadata": {},
   "source": [
    "**DELETING ITEMS FROM A SET**\n",
    "\n",
    "+ There are three methods to delete items from a Set\n",
    "+ Clear Method will clear all elements in the Set.\n",
    "+ The Different Methods are `Discard` and `Remove` methods.\n",
    "\n",
    "+ If we try to remove an Element that is not present in the Set.\n",
    "+ the code will crash as seen in the Example."
   ]
  },
  {
   "cell_type": "code",
   "execution_count": 1,
   "metadata": {},
   "outputs": [
    {
     "name": "stdout",
     "output_type": "stream",
     "text": [
      "{0, 1, 2, 3, 4, 5, 6, 7, 8, 9, 10, 11, 12, 13, 14, 15, 16, 17, 18, 19, 20}\n"
     ]
    }
   ],
   "source": [
    "small_ints = set(range(21))\n",
    "print(small_ints)"
   ]
  },
  {
   "cell_type": "code",
   "execution_count": 2,
   "metadata": {},
   "outputs": [
    {
     "name": "stdout",
     "output_type": "stream",
     "text": [
      "set()\n"
     ]
    }
   ],
   "source": [
    "small_ints.clear()\n",
    "print(small_ints)"
   ]
  },
  {
   "cell_type": "code",
   "execution_count": 4,
   "metadata": {},
   "outputs": [
    {
     "name": "stdout",
     "output_type": "stream",
     "text": [
      "{10, 12, 14, 16, 18, 20, 22, 24, 26, 28, 30, 32, 34, 36, 38, 40, 42, 44, 46, 48}\n",
      "{10, 12, 14, 16, 22, 24, 26, 28, 30, 32, 34, 36, 38, 40, 42, 44, 46, 48}\n"
     ]
    }
   ],
   "source": [
    "## initialize the set again\n",
    "\n",
    "small_set = set(range(10,50,2))\n",
    "print(small_set)\n",
    "\n",
    "## discard  and remove a number \n",
    "small_set.discard(20)\n",
    "small_set.remove(18)\n",
    "\n",
    "print(small_set)"
   ]
  },
  {
   "cell_type": "code",
   "execution_count": 5,
   "metadata": {},
   "outputs": [
    {
     "ename": "KeyError",
     "evalue": "99",
     "output_type": "error",
     "traceback": [
      "\u001b[1;31m---------------------------------------------------------------------------\u001b[0m",
      "\u001b[1;31mKeyError\u001b[0m                                  Traceback (most recent call last)",
      "\u001b[1;32m<ipython-input-5-4b2ee4acb1e9>\u001b[0m in \u001b[0;36m<module>\u001b[1;34m\u001b[0m\n\u001b[0;32m      1\u001b[0m \u001b[1;31m## what if we remove ans discard an element that is not in the set.\u001b[0m\u001b[1;33m\u001b[0m\u001b[1;33m\u001b[0m\u001b[1;33m\u001b[0m\u001b[0m\n\u001b[0;32m      2\u001b[0m \u001b[0msmall_set\u001b[0m\u001b[1;33m.\u001b[0m\u001b[0mdiscard\u001b[0m\u001b[1;33m(\u001b[0m\u001b[1;36m100\u001b[0m\u001b[1;33m)\u001b[0m\u001b[1;33m\u001b[0m\u001b[1;33m\u001b[0m\u001b[0m\n\u001b[1;32m----> 3\u001b[1;33m \u001b[0msmall_set\u001b[0m\u001b[1;33m.\u001b[0m\u001b[0mremove\u001b[0m\u001b[1;33m(\u001b[0m\u001b[1;36m99\u001b[0m\u001b[1;33m)\u001b[0m\u001b[1;33m\u001b[0m\u001b[1;33m\u001b[0m\u001b[0m\n\u001b[0m\u001b[0;32m      4\u001b[0m \u001b[1;33m\u001b[0m\u001b[0m\n\u001b[0;32m      5\u001b[0m \u001b[0mprint\u001b[0m\u001b[1;33m(\u001b[0m\u001b[0msmall_set\u001b[0m\u001b[1;33m)\u001b[0m\u001b[1;33m\u001b[0m\u001b[1;33m\u001b[0m\u001b[0m\n",
      "\u001b[1;31mKeyError\u001b[0m: 99"
     ]
    }
   ],
   "source": [
    "## what if we remove ans discard an element that is not in the set.\n",
    "small_set.discard(100)\n",
    "small_set.remove(99)\n",
    "\n",
    "print(small_set)"
   ]
  },
  {
   "cell_type": "markdown",
   "metadata": {},
   "source": [
    "So, why we need both discard and remove Methods.\n",
    "\n",
    "+ Ensure that, when we are done, Something no longer Exists.\n",
    "+ Remove something only if it exists, but provide some sort of notification if it does not."
   ]
  },
  {
   "cell_type": "markdown",
   "metadata": {},
   "source": [
    "**DISCARD METHOD**"
   ]
  },
  {
   "cell_type": "code",
   "execution_count": 6,
   "metadata": {},
   "outputs": [],
   "source": [
    "travel_mode = {\"1\": \"car\", \"2\": \"plane\"}\n",
    "\n",
    "items = {\n",
    "    \"can opener\",\n",
    "    \"fuel\",\n",
    "    \"jumper\",\n",
    "    \"knife\",\n",
    "    \"matches\",\n",
    "    \"razor blades\",\n",
    "    \"razor\",\n",
    "    \"scissors\",\n",
    "    \"shampoo\",\n",
    "    \"shaving cream\",\n",
    "    \"shirts (3)\",\n",
    "    \"shorts\",\n",
    "    \"sleeping bag(s)\",\n",
    "    \"soap\",\n",
    "    \"socks (3 pairs)\",\n",
    "    \"stove\",\n",
    "    \"tent\",\n",
    "    \"mug\",\n",
    "    \"toothbrush\",\n",
    "    \"toothpaste\",\n",
    "    \"towel\",\n",
    "    \"underwear (3 pairs)\",\n",
    "    \"water carrier\",\n",
    "}\n",
    "\n",
    "restricted_items = {\n",
    "    \"catapult\",\n",
    "    \"fuel\",\n",
    "    \"gun\",\n",
    "    \"knife\",\n",
    "    \"razor blades\",\n",
    "    \"scissors\",\n",
    "    \"shampoo\",\n",
    "}"
   ]
  },
  {
   "cell_type": "code",
   "execution_count": 20,
   "metadata": {},
   "outputs": [
    {
     "name": "stdout",
     "output_type": "stream",
     "text": [
      "18\n"
     ]
    }
   ],
   "source": [
    "print(len(items))"
   ]
  },
  {
   "cell_type": "code",
   "execution_count": 23,
   "metadata": {},
   "outputs": [
    {
     "name": "stdout",
     "output_type": "stream",
     "text": [
      "Please choose your mode of travel:\n",
      "1: car\n",
      "2: plane\n"
     ]
    },
    {
     "name": "stdin",
     "output_type": "stream",
     "text": [
      ">  2\n"
     ]
    },
    {
     "name": "stdout",
     "output_type": "stream",
     "text": [
      "You need to pack:\n",
      "can opener\n",
      "jumper\n",
      "matches\n",
      "mug\n",
      "razor\n",
      "shaving cream\n",
      "shirts (3)\n",
      "shorts\n",
      "sleeping bag(s)\n",
      "soap\n",
      "socks (3 pairs)\n",
      "stove\n",
      "tent\n",
      "toothbrush\n",
      "toothpaste\n",
      "towel\n",
      "underwear (3 pairs)\n",
      "water carrier\n"
     ]
    }
   ],
   "source": [
    "print(\"Please choose your mode of travel:\")\n",
    "for key, value in travel_mode.items():\n",
    "    print(f\"{key}: {value}\")\n",
    "    \n",
    "\n",
    "mode = \"-\"\n",
    "while mode not in travel_mode:\n",
    "    mode = input(\"> \")\n",
    "    \n",
    "if mode == \"2\":\n",
    "    for restricted_item in restricted_items:\n",
    "        items.discard(restricted_item)\n",
    "        #print(items)\n",
    "    # travelling by plane, remove restricted items\n",
    "    pass   \n",
    "\n",
    "# print the packing list\n",
    "print(\"You need to pack:\")\n",
    "for item in sorted(items):\n",
    "    print(item)\n",
    "#print(len(items))"
   ]
  },
  {
   "cell_type": "code",
   "execution_count": 26,
   "metadata": {},
   "outputs": [
    {
     "name": "stdout",
     "output_type": "stream",
     "text": [
      "Please choose your mode of travel:\n",
      "1: car\n",
      "2: plane\n"
     ]
    },
    {
     "name": "stdin",
     "output_type": "stream",
     "text": [
      ">  2\n"
     ]
    },
    {
     "ename": "KeyError",
     "evalue": "'knife'",
     "output_type": "error",
     "traceback": [
      "\u001b[1;31m---------------------------------------------------------------------------\u001b[0m",
      "\u001b[1;31mKeyError\u001b[0m                                  Traceback (most recent call last)",
      "\u001b[1;32m<ipython-input-26-84b49042de5e>\u001b[0m in \u001b[0;36m<module>\u001b[1;34m\u001b[0m\n\u001b[0;32m     10\u001b[0m \u001b[1;32mif\u001b[0m \u001b[0mmode\u001b[0m \u001b[1;33m==\u001b[0m \u001b[1;34m\"2\"\u001b[0m\u001b[1;33m:\u001b[0m\u001b[1;33m\u001b[0m\u001b[1;33m\u001b[0m\u001b[0m\n\u001b[0;32m     11\u001b[0m     \u001b[1;32mfor\u001b[0m \u001b[0mrestricted_item\u001b[0m \u001b[1;32min\u001b[0m \u001b[0mrestricted_items\u001b[0m\u001b[1;33m:\u001b[0m\u001b[1;33m\u001b[0m\u001b[1;33m\u001b[0m\u001b[0m\n\u001b[1;32m---> 12\u001b[1;33m         \u001b[0mitems\u001b[0m\u001b[1;33m.\u001b[0m\u001b[0mremove\u001b[0m\u001b[1;33m(\u001b[0m\u001b[0mrestricted_item\u001b[0m\u001b[1;33m)\u001b[0m  \u001b[1;31m## if we give remove instead of discard, the code will crash\u001b[0m\u001b[1;33m\u001b[0m\u001b[1;33m\u001b[0m\u001b[0m\n\u001b[0m\u001b[0;32m     13\u001b[0m         \u001b[1;31m##items.discard(restricted_item)\u001b[0m\u001b[1;33m\u001b[0m\u001b[1;33m\u001b[0m\u001b[1;33m\u001b[0m\u001b[0m\n\u001b[0;32m     14\u001b[0m         \u001b[1;31m#print(items)\u001b[0m\u001b[1;33m\u001b[0m\u001b[1;33m\u001b[0m\u001b[1;33m\u001b[0m\u001b[0m\n",
      "\u001b[1;31mKeyError\u001b[0m: 'knife'"
     ]
    }
   ],
   "source": [
    "print(\"Please choose your mode of travel:\")\n",
    "for key, value in travel_mode.items():\n",
    "    print(f\"{key}: {value}\")\n",
    "    \n",
    "\n",
    "mode = \"-\"\n",
    "while mode not in travel_mode:\n",
    "    mode = input(\"> \")\n",
    "    \n",
    "if mode == \"2\":\n",
    "    for restricted_item in restricted_items:\n",
    "        items.remove(restricted_item)  ## if we give remove instead of discard, the code will crash\n",
    "        ##items.discard(restricted_item)               \n",
    "        #print(items)\n",
    "    # travelling by plane, remove restricted items\n",
    "    pass   \n",
    "\n",
    "# print the packing list\n",
    "print(\"You need to pack:\")\n",
    "for item in sorted(items):\n",
    "    print(item)\n",
    "#print(len(items))"
   ]
  },
  {
   "cell_type": "markdown",
   "metadata": {},
   "source": [
    "**REMOVE METHOD**"
   ]
  },
  {
   "cell_type": "code",
   "execution_count": 27,
   "metadata": {},
   "outputs": [],
   "source": [
    "# drugs\n",
    "amlodipine = (\"amlodipine\", \"Blood pressure\")\n",
    "buspirone = (\"buspirone\", \"Anxiety disorders\")\n",
    "carbimazole = (\"carbimazole\", \"Antithyroid agent\")\n",
    "citalopram = (\"citalopram\", \"Antidepressant\")\n",
    "edoxaban = (\"edoxaban\", \"anti-coagulant\")\n",
    "erythromycin = (\"erythromycin\", \"Antibiotic\")\n",
    "lusinopril = (\"lusinopril\", \"High blood pressure\")\n",
    "metformin = (\"metformin\", \"Type 2 diabetes\")\n",
    "methotrexate = (\"methotrexate\", \"Rheumatoid arthritis\")\n",
    "paracetamol = (\"paracetamol\", \"Painkiller\")\n",
    "propranol = (\"propranol\", \"Beta blocker\")\n",
    "simvastatin = (\"simvastatin\", \"High cholesterol\")\n",
    "warfarin = (\"warfarin\", \"anti-coagulant\")\n",
    "\n",
    "# Drugs that shouldn't be taken together\n",
    "adverse_interactions = [\n",
    "    {metformin, amlodipine},\n",
    "    {simvastatin, erythromycin},\n",
    "    {citalopram, buspirone},\n",
    "    {warfarin, citalopram},\n",
    "    {warfarin, edoxaban},\n",
    "    {warfarin, erythromycin},\n",
    "    {warfarin, amlodipine},\n",
    "]\n",
    "\n",
    "# Patient prescriptions\n",
    "patients = {\n",
    "    \"Anne\": {methotrexate, paracetamol},\n",
    "    \"Bob\": {carbimazole, erythromycin, methotrexate, paracetamol},\n",
    "    \"Charley\": {buspirone, lusinopril, metformin},\n",
    "    \"Denise\": {amlodipine, lusinopril, metformin, warfarin},\n",
    "    \"Eddie\": {amlodipine, propranol, simvastatin, warfarin},\n",
    "    \"Frank\": {buspirone, citalopram, propranol, warfarin},\n",
    "    \"Georgia\": {carbimazole, edoxaban, warfarin},\n",
    "    \"Helmut\": {erythromycin, paracetamol, propranol, simvastatin},\n",
    "    \"Izabella\": {amlodipine, citalopram, simvastatin, warfarin},\n",
    "    \"John\": {simvastatin},\n",
    "    \"Kenny\": {amlodipine, citalopram, metformin},\n",
    "}\n",
    "\n"
   ]
  },
  {
   "cell_type": "code",
   "execution_count": 45,
   "metadata": {},
   "outputs": [
    {
     "name": "stdout",
     "output_type": "stream",
     "text": [
      "Denise {('metformin', 'Type 2 diabetes'), ('lusinopril', 'High blood pressure'), ('warfarin', 'anti-coagulant'), ('amlodipine', 'Blood pressure')}\n",
      "Eddie {('warfarin', 'anti-coagulant'), ('simvastatin', 'High cholesterol'), ('propranol', 'Beta blocker'), ('amlodipine', 'Blood pressure')}\n",
      "Frank {('warfarin', 'anti-coagulant'), ('buspirone', 'Anxiety disorders'), ('propranol', 'Beta blocker'), ('citalopram', 'Antidepressant')}\n",
      "Georgia {('warfarin', 'anti-coagulant'), ('carbimazole', 'Antithyroid agent'), ('edoxaban', 'anti-coagulant')}\n"
     ]
    }
   ],
   "source": [
    "## importing data from the module\n",
    "## code\n",
    "#from prescription_data import *\n",
    "\n",
    "## select some patients for trial.\n",
    "trial_patients = [\"Denise\",\"Eddie\",\"Frank\",\"Georgia\"]\n",
    "\n",
    "## Remove Warfarin and add Edoxaban.\n",
    "for patient in trial_patients:\n",
    "    #print(patient)   ##Denise Eddie Frank Georgia\n",
    "    prescription = patients[patient]\n",
    "    print(patient, prescription)"
   ]
  },
  {
   "cell_type": "markdown",
   "metadata": {},
   "source": [
    "Remove warfarin, and add enoxaban, and compare the outputs."
   ]
  },
  {
   "cell_type": "code",
   "execution_count": 46,
   "metadata": {},
   "outputs": [
    {
     "name": "stdout",
     "output_type": "stream",
     "text": [
      "Denise {('metformin', 'Type 2 diabetes'), ('amlodipine', 'Blood pressure'), ('lusinopril', 'High blood pressure'), ('edoxaban', 'anti-coagulant')}\n",
      "Eddie {('edoxaban', 'anti-coagulant'), ('simvastatin', 'High cholesterol'), ('propranol', 'Beta blocker'), ('amlodipine', 'Blood pressure')}\n",
      "Frank {('buspirone', 'Anxiety disorders'), ('propranol', 'Beta blocker'), ('citalopram', 'Antidepressant'), ('edoxaban', 'anti-coagulant')}\n",
      "Georgia {('carbimazole', 'Antithyroid agent'), ('edoxaban', 'anti-coagulant')}\n"
     ]
    }
   ],
   "source": [
    "## importing data from the module\n",
    "## code\n",
    "#from prescription_data import *\n",
    "\n",
    "## select some patients for trial.\n",
    "trial_patients = [\"Denise\",\"Eddie\",\"Frank\",\"Georgia\"]\n",
    "\n",
    "## Remove Warfarin and add Edoxaban.\n",
    "for patient in trial_patients:\n",
    "    #print(patient)   ##Denise Eddie Frank Georgia\n",
    "    prescription = patients[patient]\n",
    "    \n",
    "    ## remove warfarin and add edoxaban\n",
    "    prescription.remove(warfarin)\n",
    "    prescription.add(edoxaban)\n",
    "    \n",
    "    print(patient, prescription)"
   ]
  },
  {
   "cell_type": "markdown",
   "metadata": {},
   "source": [
    "Here Warfarin are removed and edoxaban are added."
   ]
  },
  {
   "cell_type": "markdown",
   "metadata": {},
   "source": [
    "Using DIscard Instead of Remove"
   ]
  },
  {
   "cell_type": "code",
   "execution_count": 47,
   "metadata": {},
   "outputs": [
    {
     "name": "stdout",
     "output_type": "stream",
     "text": [
      "Denise {('metformin', 'Type 2 diabetes'), ('amlodipine', 'Blood pressure'), ('lusinopril', 'High blood pressure'), ('edoxaban', 'anti-coagulant')}\n",
      "Eddie {('edoxaban', 'anti-coagulant'), ('simvastatin', 'High cholesterol'), ('propranol', 'Beta blocker'), ('amlodipine', 'Blood pressure')}\n",
      "Frank {('buspirone', 'Anxiety disorders'), ('propranol', 'Beta blocker'), ('citalopram', 'Antidepressant'), ('edoxaban', 'anti-coagulant')}\n",
      "Georgia {('carbimazole', 'Antithyroid agent'), ('edoxaban', 'anti-coagulant')}\n"
     ]
    }
   ],
   "source": [
    "## importing data from the module\n",
    "## code\n",
    "#from prescription_data import *\n",
    "\n",
    "## select some patients for trial.\n",
    "trial_patients = [\"Denise\",\"Eddie\",\"Frank\",\"Georgia\"]\n",
    "\n",
    "## Remove Warfarin and add Edoxaban.\n",
    "for patient in trial_patients:\n",
    "    #print(patient)   ##Denise Eddie Frank Georgia\n",
    "    prescription = patients[patient]\n",
    "    \n",
    "    ## remove warfarin and add edoxaban\n",
    "    prescription.discard(warfarin)\n",
    "    prescription.add(edoxaban)\n",
    "    \n",
    "    print(patient, prescription)"
   ]
  },
  {
   "cell_type": "markdown",
   "metadata": {},
   "source": [
    "There is no change in the Output.\n",
    "\n",
    "+ To understand that, we have to add Kenny to the List.\n",
    "+ What are the medicine kenny is taking.\n",
    "+ \"Kenny\": {amlodipine, citalopram, metformin}\n",
    "+ amlodipine and metformin cannot be taken by one person.\n",
    "+ Also, check, there is no entry warfarin in Kenny.\n",
    "+ So we are trying to discard warfarin from Kenny.\n"
   ]
  },
  {
   "cell_type": "code",
   "execution_count": 48,
   "metadata": {},
   "outputs": [
    {
     "name": "stdout",
     "output_type": "stream",
     "text": [
      "Denise {('metformin', 'Type 2 diabetes'), ('amlodipine', 'Blood pressure'), ('lusinopril', 'High blood pressure'), ('edoxaban', 'anti-coagulant')}\n",
      "Eddie {('edoxaban', 'anti-coagulant'), ('simvastatin', 'High cholesterol'), ('propranol', 'Beta blocker'), ('amlodipine', 'Blood pressure')}\n",
      "Frank {('buspirone', 'Anxiety disorders'), ('propranol', 'Beta blocker'), ('citalopram', 'Antidepressant'), ('edoxaban', 'anti-coagulant')}\n",
      "Georgia {('carbimazole', 'Antithyroid agent'), ('edoxaban', 'anti-coagulant')}\n",
      "Kenny {('edoxaban', 'anti-coagulant'), ('metformin', 'Type 2 diabetes'), ('amlodipine', 'Blood pressure'), ('citalopram', 'Antidepressant')}\n"
     ]
    }
   ],
   "source": [
    "## importing data from the module\n",
    "## code\n",
    "#from prescription_data import *\n",
    "\n",
    "## select some patients for trial., Add Kenny\n",
    "trial_patients = [\"Denise\",\"Eddie\",\"Frank\",\"Georgia\",\"Kenny\"]\n",
    "\n",
    "## Remove Warfarin and add Edoxaban.\n",
    "for patient in trial_patients:\n",
    "    #print(patient)   ##Denise Eddie Frank Georgia\n",
    "    prescription = patients[patient]\n",
    "    \n",
    "    ## remove warfarin and add edoxaban\n",
    "    prescription.discard(warfarin)\n",
    "    prescription.add(edoxaban)\n",
    "    \n",
    "    print(patient, prescription)"
   ]
  },
  {
   "cell_type": "markdown",
   "metadata": {},
   "source": [
    "+ Edoxaban is added to Kenny medicines.\n",
    "+ Basically, he were not taking warfarin-another coagulant.\n",
    "+ But when we add edoxaban, it got added to the med list.\n",
    "+ This should not happen.\n",
    "+ Bcz he dont have to use edoxaban either.\n",
    "\n",
    "+ So when we do Reomve method.\n",
    "+ We will get the Error.\n",
    "+ So we can give Exceptions in the Code."
   ]
  },
  {
   "cell_type": "code",
   "execution_count": 50,
   "metadata": {},
   "outputs": [
    {
     "ename": "KeyError",
     "evalue": "('warfarin', 'anti-coagulant')",
     "output_type": "error",
     "traceback": [
      "\u001b[1;31m---------------------------------------------------------------------------\u001b[0m",
      "\u001b[1;31mKeyError\u001b[0m                                  Traceback (most recent call last)",
      "\u001b[1;32m<ipython-input-50-deed995e26f3>\u001b[0m in \u001b[0;36m<module>\u001b[1;34m\u001b[0m\n\u001b[0;32m     13\u001b[0m \u001b[1;33m\u001b[0m\u001b[0m\n\u001b[0;32m     14\u001b[0m     \u001b[1;31m## remove warfarin and add edoxaban\u001b[0m\u001b[1;33m\u001b[0m\u001b[1;33m\u001b[0m\u001b[1;33m\u001b[0m\u001b[0m\n\u001b[1;32m---> 15\u001b[1;33m     \u001b[0mprescription\u001b[0m\u001b[1;33m.\u001b[0m\u001b[0mremove\u001b[0m\u001b[1;33m(\u001b[0m\u001b[0mwarfarin\u001b[0m\u001b[1;33m)\u001b[0m\u001b[1;33m\u001b[0m\u001b[1;33m\u001b[0m\u001b[0m\n\u001b[0m\u001b[0;32m     16\u001b[0m     \u001b[0mprescription\u001b[0m\u001b[1;33m.\u001b[0m\u001b[0madd\u001b[0m\u001b[1;33m(\u001b[0m\u001b[0medoxaban\u001b[0m\u001b[1;33m)\u001b[0m\u001b[1;33m\u001b[0m\u001b[1;33m\u001b[0m\u001b[0m\n\u001b[0;32m     17\u001b[0m \u001b[1;33m\u001b[0m\u001b[0m\n",
      "\u001b[1;31mKeyError\u001b[0m: ('warfarin', 'anti-coagulant')"
     ]
    }
   ],
   "source": [
    "## using remove method.\n",
    "## importing data from the module\n",
    "## code\n",
    "#from prescription_data import *\n",
    "\n",
    "## select some patients for trial., Add Kenny\n",
    "trial_patients = [\"Denise\",\"Eddie\",\"Frank\",\"Georgia\",\"Kenny\"]\n",
    "\n",
    "## Remove Warfarin and add Edoxaban.\n",
    "for patient in trial_patients:\n",
    "    #print(patient)   ##Denise Eddie Frank Georgia\n",
    "    prescription = patients[patient]\n",
    "    \n",
    "    ## remove warfarin and add edoxaban\n",
    "    prescription.remove(warfarin)\n",
    "    prescription.add(edoxaban)\n",
    "    \n",
    "    print(patient, prescription)"
   ]
  },
  {
   "cell_type": "markdown",
   "metadata": {},
   "source": [
    "Now we can check whether the Medicine is present in the list before we remove it."
   ]
  },
  {
   "cell_type": "code",
   "execution_count": 52,
   "metadata": {},
   "outputs": [
    {
     "name": "stdout",
     "output_type": "stream",
     "text": [
      "Patient Denise is not taking Warfin, Please Remove Denise from the trial.\n",
      "Denise {('metformin', 'Type 2 diabetes'), ('amlodipine', 'Blood pressure'), ('lusinopril', 'High blood pressure'), ('edoxaban', 'anti-coagulant')}\n",
      "Patient Eddie is not taking Warfin, Please Remove Eddie from the trial.\n",
      "Eddie {('edoxaban', 'anti-coagulant'), ('simvastatin', 'High cholesterol'), ('propranol', 'Beta blocker'), ('amlodipine', 'Blood pressure')}\n",
      "Patient Frank is not taking Warfin, Please Remove Frank from the trial.\n",
      "Frank {('buspirone', 'Anxiety disorders'), ('propranol', 'Beta blocker'), ('citalopram', 'Antidepressant'), ('edoxaban', 'anti-coagulant')}\n",
      "Patient Georgia is not taking Warfin, Please Remove Georgia from the trial.\n",
      "Georgia {('carbimazole', 'Antithyroid agent'), ('edoxaban', 'anti-coagulant')}\n",
      "Patient Kenny is not taking Warfin, Please Remove Kenny from the trial.\n",
      "Kenny {('edoxaban', 'anti-coagulant'), ('metformin', 'Type 2 diabetes'), ('amlodipine', 'Blood pressure'), ('citalopram', 'Antidepressant')}\n"
     ]
    }
   ],
   "source": [
    "## using remove method.\n",
    "## importing data from the module\n",
    "## code\n",
    "#from prescription_data import *\n",
    "\n",
    "## select some patients for trial., Add Kenny\n",
    "trial_patients = [\"Denise\",\"Eddie\",\"Frank\",\"Georgia\",\"Kenny\"]\n",
    "\n",
    "## Remove Warfarin and add Edoxaban.\n",
    "for patient in trial_patients:\n",
    "    #print(patient)   ##Denise Eddie Frank Georgia\n",
    "    prescription = patients[patient]\n",
    "    \n",
    "    ## if condition \n",
    "    if warfarin in prescription:\n",
    "        \n",
    "    \n",
    "        ## remove warfarin and add edoxaban\n",
    "        prescription.remove(warfarin)\n",
    "        prescription.add(edoxaban)\n",
    "        \n",
    "    else:\n",
    "        print(f\"Patient {patient} is not taking Warfin, \"\n",
    "             f\"Please Remove {patient} from the trial.\")\n",
    "    \n",
    "    print(patient, prescription)"
   ]
  },
  {
   "cell_type": "markdown",
   "metadata": {},
   "source": [
    "Using the Excpetion.\n",
    "+ use try and except methods.\n",
    "+ Check the Code."
   ]
  },
  {
   "cell_type": "code",
   "execution_count": 53,
   "metadata": {},
   "outputs": [
    {
     "name": "stdout",
     "output_type": "stream",
     "text": [
      "Patient Denise is not taking Warfin, Please Remove Denise from the trial.\n",
      "Denise {('metformin', 'Type 2 diabetes'), ('amlodipine', 'Blood pressure'), ('lusinopril', 'High blood pressure'), ('edoxaban', 'anti-coagulant')}\n",
      "Patient Eddie is not taking Warfin, Please Remove Eddie from the trial.\n",
      "Eddie {('edoxaban', 'anti-coagulant'), ('simvastatin', 'High cholesterol'), ('propranol', 'Beta blocker'), ('amlodipine', 'Blood pressure')}\n",
      "Patient Frank is not taking Warfin, Please Remove Frank from the trial.\n",
      "Frank {('buspirone', 'Anxiety disorders'), ('propranol', 'Beta blocker'), ('citalopram', 'Antidepressant'), ('edoxaban', 'anti-coagulant')}\n",
      "Patient Georgia is not taking Warfin, Please Remove Georgia from the trial.\n",
      "Georgia {('carbimazole', 'Antithyroid agent'), ('edoxaban', 'anti-coagulant')}\n",
      "Patient Kenny is not taking Warfin, Please Remove Kenny from the trial.\n",
      "Kenny {('edoxaban', 'anti-coagulant'), ('metformin', 'Type 2 diabetes'), ('amlodipine', 'Blood pressure'), ('citalopram', 'Antidepressant')}\n"
     ]
    }
   ],
   "source": [
    "## using remove method.\n",
    "## importing data from the module\n",
    "## code\n",
    "#from prescription_data import *\n",
    "\n",
    "## select some patients for trial., Add Kenny\n",
    "trial_patients = [\"Denise\",\"Eddie\",\"Frank\",\"Georgia\",\"Kenny\"]\n",
    "\n",
    "## Remove Warfarin and add Edoxaban.\n",
    "for patient in trial_patients:\n",
    "    #print(patient)   ##Denise Eddie Frank Georgia\n",
    "    prescription = patients[patient]\n",
    "    \n",
    "    try:\n",
    "        \n",
    "    \n",
    "        ## remove warfarin and add edoxaban\n",
    "        prescription.remove(warfarin)\n",
    "        prescription.add(edoxaban)\n",
    "        \n",
    "    except:\n",
    "        print(f\"Patient {patient} is not taking Warfin, \"\n",
    "             f\"Please Remove {patient} from the trial.\")\n",
    "    \n",
    "    print(patient, prescription)"
   ]
  },
  {
   "cell_type": "markdown",
   "metadata": {},
   "source": [
    "What happens if we use Discard.\n"
   ]
  },
  {
   "cell_type": "code",
   "execution_count": 54,
   "metadata": {},
   "outputs": [
    {
     "name": "stdout",
     "output_type": "stream",
     "text": [
      "Denise {('metformin', 'Type 2 diabetes'), ('amlodipine', 'Blood pressure'), ('lusinopril', 'High blood pressure'), ('edoxaban', 'anti-coagulant')}\n",
      "Eddie {('edoxaban', 'anti-coagulant'), ('simvastatin', 'High cholesterol'), ('propranol', 'Beta blocker'), ('amlodipine', 'Blood pressure')}\n",
      "Frank {('buspirone', 'Anxiety disorders'), ('propranol', 'Beta blocker'), ('citalopram', 'Antidepressant'), ('edoxaban', 'anti-coagulant')}\n",
      "Georgia {('carbimazole', 'Antithyroid agent'), ('edoxaban', 'anti-coagulant')}\n",
      "Kenny {('edoxaban', 'anti-coagulant'), ('metformin', 'Type 2 diabetes'), ('amlodipine', 'Blood pressure'), ('citalopram', 'Antidepressant')}\n"
     ]
    }
   ],
   "source": [
    "## using remove method.\n",
    "## importing data from the module\n",
    "## code\n",
    "#from prescription_data import *\n",
    "\n",
    "## select some patients for trial., Add Kenny\n",
    "trial_patients = [\"Denise\",\"Eddie\",\"Frank\",\"Georgia\",\"Kenny\"]\n",
    "\n",
    "## Remove Warfarin and add Edoxaban.\n",
    "for patient in trial_patients:\n",
    "    #print(patient)   ##Denise Eddie Frank Georgia\n",
    "    prescription = patients[patient]\n",
    "    \n",
    "    try:\n",
    "        \n",
    "    \n",
    "        ## remove warfarin and add edoxaban\n",
    "        prescription.discard(warfarin)\n",
    "        prescription.add(edoxaban)\n",
    "        \n",
    "    except:\n",
    "        print(f\"Patient {patient} is not taking Warfin, \"\n",
    "             f\"Please Remove {patient} from the trial.\")\n",
    "    \n",
    "    print(patient, prescription)"
   ]
  },
  {
   "cell_type": "markdown",
   "metadata": {},
   "source": [
    "### POP METHOD"
   ]
  },
  {
   "cell_type": "code",
   "execution_count": 58,
   "metadata": {},
   "outputs": [
    {
     "ename": "IndexError",
     "evalue": "pop from empty list",
     "output_type": "error",
     "traceback": [
      "\u001b[1;31m---------------------------------------------------------------------------\u001b[0m",
      "\u001b[1;31mIndexError\u001b[0m                                Traceback (most recent call last)",
      "\u001b[1;32m<ipython-input-58-664bc4ba71c5>\u001b[0m in \u001b[0;36m<module>\u001b[1;34m\u001b[0m\n\u001b[0;32m      5\u001b[0m \u001b[1;32mwhile\u001b[0m \u001b[0mpatient_trial\u001b[0m\u001b[1;33m:\u001b[0m\u001b[1;33m\u001b[0m\u001b[1;33m\u001b[0m\u001b[0m\n\u001b[0;32m      6\u001b[0m \u001b[1;33m\u001b[0m\u001b[0m\n\u001b[1;32m----> 7\u001b[1;33m     \u001b[0mpatient\u001b[0m \u001b[1;33m=\u001b[0m \u001b[0mtrial_patients\u001b[0m\u001b[1;33m.\u001b[0m\u001b[0mpop\u001b[0m\u001b[1;33m(\u001b[0m\u001b[1;33m)\u001b[0m\u001b[1;33m\u001b[0m\u001b[1;33m\u001b[0m\u001b[0m\n\u001b[0m\u001b[0;32m      8\u001b[0m     \u001b[0mprint\u001b[0m\u001b[1;33m(\u001b[0m\u001b[0mpatient\u001b[0m\u001b[1;33m,\u001b[0m \u001b[0mend\u001b[0m \u001b[1;33m=\u001b[0m \u001b[1;34m\" : \"\u001b[0m\u001b[1;33m)\u001b[0m\u001b[1;33m\u001b[0m\u001b[1;33m\u001b[0m\u001b[0m\n\u001b[0;32m      9\u001b[0m     \u001b[0mprescription\u001b[0m \u001b[1;33m=\u001b[0m \u001b[0mpatients\u001b[0m\u001b[1;33m[\u001b[0m\u001b[0mpatient\u001b[0m\u001b[1;33m]\u001b[0m\u001b[1;33m\u001b[0m\u001b[1;33m\u001b[0m\u001b[0m\n",
      "\u001b[1;31mIndexError\u001b[0m: pop from empty list"
     ]
    }
   ],
   "source": [
    "##from prescription_data import *\n",
    "\n",
    "patient_trial = {\"Denise\",\"Eddie\",\"Frank\",\"Georgia\",\"Kenny\"}\n",
    "\n",
    "while patient_trial:\n",
    "    \n",
    "    patient = trial_patients.pop()\n",
    "    print(patient, end = \" : \")\n",
    "    #prescription = patients[patient]\n",
    "    print(prescription)"
   ]
  },
  {
   "cell_type": "code",
   "execution_count": null,
   "metadata": {},
   "outputs": [],
   "source": []
  }
 ],
 "metadata": {
  "kernelspec": {
   "display_name": "Python 3",
   "language": "python",
   "name": "python3"
  },
  "language_info": {
   "codemirror_mode": {
    "name": "ipython",
    "version": 3
   },
   "file_extension": ".py",
   "mimetype": "text/x-python",
   "name": "python",
   "nbconvert_exporter": "python",
   "pygments_lexer": "ipython3",
   "version": "3.8.3"
  }
 },
 "nbformat": 4,
 "nbformat_minor": 4
}
