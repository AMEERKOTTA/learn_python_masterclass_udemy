{
 "cells": [
  {
   "cell_type": "markdown",
   "metadata": {},
   "source": [
    "### SET OPERATIONS"
   ]
  },
  {
   "cell_type": "markdown",
   "metadata": {},
   "source": [
    "**UNION OPERATION**\n",
    "\n",
    "+ Union operation can be done using \n",
    "        + set_1.union(set_2)\n",
    "        + set_2.union(set_1)\n",
    "        + or set_1 | set_2\n",
    "        \n",
    "+ In the three above cases, we will get the same Output."
   ]
  },
  {
   "cell_type": "code",
   "execution_count": 2,
   "metadata": {},
   "outputs": [],
   "source": [
    "## example\n",
    "wild_animals = {\"lion\",\"elephant\",\"tiger\",\"goat\",\"panther\",\"horse\"}\n",
    "farm_animals = {\"sheep\",\"hen\",\"cow\",\"horse\",\"goat\"}"
   ]
  },
  {
   "cell_type": "code",
   "execution_count": 3,
   "metadata": {},
   "outputs": [
    {
     "name": "stdout",
     "output_type": "stream",
     "text": [
      "{'elephant', 'horse', 'goat', 'panther', 'tiger', 'lion'}\n",
      "{'cow', 'sheep', 'horse', 'goat', 'hen'}\n"
     ]
    }
   ],
   "source": [
    "print(wild_animals)\n",
    "print(farm_animals)"
   ]
  },
  {
   "cell_type": "code",
   "execution_count": 4,
   "metadata": {},
   "outputs": [
    {
     "name": "stdout",
     "output_type": "stream",
     "text": [
      "{'elephant', 'cow', 'tiger', 'sheep', 'horse', 'goat', 'panther', 'hen', 'lion'}\n",
      "{'elephant', 'hen', 'cow', 'sheep', 'horse', 'goat', 'panther', 'tiger', 'lion'}\n",
      "{'elephant', 'cow', 'tiger', 'sheep', 'horse', 'goat', 'panther', 'hen', 'lion'}\n"
     ]
    }
   ],
   "source": [
    "## doing union\n",
    "all_animals_1 = farm_animals.union(wild_animals)\n",
    "all_animals_2 = wild_animals.union(farm_animals)\n",
    "all_animals_3 = farm_animals | wild_animals\n",
    "\n",
    "\n",
    "print(all_animals_1)\n",
    "print(all_animals_2)\n",
    "print(all_animals_3)"
   ]
  },
  {
   "cell_type": "markdown",
   "metadata": {},
   "source": [
    "**UNION IN PRACTICE**\n",
    "\n",
    "+ Import the Drugs and Adverse Interactions list of Sets.\n",
    "+ Now you are about to Handover some Carbimazole to Patients.\n",
    "+ So, there could be an Adverse Reaction with any other drugs.\n",
    "+ We need to Check that.\n",
    "+ We cannot Check that Manually, if we have a long list of Data.\n",
    "+ So we will do it Programmatically.\n",
    "+ Here we will vreate an Alphabetical List of Drugs.\n",
    "+ To help the Dicpensing Chemists."
   ]
  },
  {
   "cell_type": "code",
   "execution_count": 5,
   "metadata": {},
   "outputs": [],
   "source": [
    "# drugs\n",
    "amlodipine = (\"amlodipine\", \"Blood pressure\")\n",
    "buspirone = (\"buspirone\", \"Anxiety disorders\")\n",
    "carbimazole = (\"carbimazole\", \"Antithyroid agent\")\n",
    "citalopram = (\"citalopram\", \"Antidepressant\")\n",
    "edoxaban = (\"edoxaban\", \"anti-coagulant\")\n",
    "erythromycin = (\"erythromycin\", \"Antibiotic\")\n",
    "lusinopril = (\"lusinopril\", \"High blood pressure\")\n",
    "metformin = (\"metformin\", \"Type 2 diabetes\")\n",
    "methotrexate = (\"methotrexate\", \"Rheumatoid arthritis\")\n",
    "paracetamol = (\"paracetamol\", \"Painkiller\")\n",
    "propranol = (\"propranol\", \"Beta blocker\")\n",
    "simvastatin = (\"simvastatin\", \"High cholesterol\")\n",
    "warfarin = (\"warfarin\", \"anti-coagulant\")\n",
    "\n",
    "# Drugs that shouldn't be taken together\n",
    "adverse_interactions = [\n",
    "    {metformin, amlodipine},\n",
    "    {simvastatin, erythromycin},\n",
    "    {citalopram, buspirone},\n",
    "    {warfarin, citalopram},\n",
    "    {warfarin, edoxaban},\n",
    "    {warfarin, erythromycin},\n",
    "    {warfarin, amlodipine},\n",
    "]\n",
    "\n",
    "# Patient prescriptions\n",
    "patients = {\n",
    "    \"Anne\": {methotrexate, paracetamol},\n",
    "    \"Bob\": {carbimazole, erythromycin, methotrexate, paracetamol},\n",
    "    \"Charley\": {buspirone, lusinopril, metformin},\n",
    "    \"Denise\": {amlodipine, lusinopril, metformin, warfarin},\n",
    "    \"Eddie\": {amlodipine, propranol, simvastatin, warfarin},\n",
    "    \"Frank\": {buspirone, citalopram, propranol, warfarin},\n",
    "    \"Georgia\": {carbimazole, edoxaban, warfarin},\n",
    "    \"Helmut\": {erythromycin, paracetamol, propranol, simvastatin},\n",
    "    \"Izabella\": {amlodipine, citalopram, simvastatin, warfarin},\n",
    "    \"John\": {simvastatin},\n",
    "    \"Kenny\": {amlodipine, citalopram, metformin},\n",
    "}"
   ]
  },
  {
   "cell_type": "code",
   "execution_count": 6,
   "metadata": {},
   "outputs": [
    {
     "name": "stdout",
     "output_type": "stream",
     "text": [
      "[('amlodipine', 'Blood pressure'), ('buspirone', 'Anxiety disorders'), ('citalopram', 'Antidepressant'), ('edoxaban', 'anti-coagulant'), ('erythromycin', 'Antibiotic'), ('metformin', 'Type 2 diabetes'), ('simvastatin', 'High cholesterol'), ('warfarin', 'anti-coagulant')]\n"
     ]
    }
   ],
   "source": [
    "## the list contains 7 sets, and we want to extract all drugs from those sets.\n",
    "## to do that we want to create the union of all the sets.\n",
    "\n",
    "meds_to_watch = set()\n",
    "\n",
    "for interaction in adverse_interactions:\n",
    "    meds_to_watch = meds_to_watch.union(interaction)\n",
    "    #meds_to_watch = meds_to_watch | interaction\n",
    "    \n",
    "    \n",
    "print(sorted(meds_to_watch))"
   ]
  },
  {
   "cell_type": "markdown",
   "metadata": {},
   "source": [
    "+ The Union, Intersection, Difference, Symmetric Difference is all returns a new Set.\n",
    "+ Frozen Set is Immutable, So we cannot use it since we are trying to Update.\n",
    "+ We use Union Update Method.\n",
    "+ That will modify the original set rather than creating a new Set."
   ]
  },
  {
   "cell_type": "code",
   "execution_count": 7,
   "metadata": {},
   "outputs": [
    {
     "name": "stdout",
     "output_type": "stream",
     "text": [
      "[('amlodipine', 'Blood pressure'), ('buspirone', 'Anxiety disorders'), ('citalopram', 'Antidepressant'), ('edoxaban', 'anti-coagulant'), ('erythromycin', 'Antibiotic'), ('metformin', 'Type 2 diabetes'), ('simvastatin', 'High cholesterol'), ('warfarin', 'anti-coagulant')]\n"
     ]
    }
   ],
   "source": [
    "meds_to_watch = set()\n",
    "\n",
    "for interaction in adverse_interactions:\n",
    "    \n",
    "    meds_to_watch.update(interaction)\n",
    "    \n",
    "print(sorted(meds_to_watch))"
   ]
  },
  {
   "cell_type": "code",
   "execution_count": 8,
   "metadata": {},
   "outputs": [
    {
     "name": "stdout",
     "output_type": "stream",
     "text": [
      "[('amlodipine', 'Blood pressure'), ('buspirone', 'Anxiety disorders'), ('citalopram', 'Antidepressant'), ('edoxaban', 'anti-coagulant'), ('erythromycin', 'Antibiotic'), ('metformin', 'Type 2 diabetes'), ('simvastatin', 'High cholesterol'), ('warfarin', 'anti-coagulant')]\n"
     ]
    }
   ],
   "source": [
    "meds_to_watch = set()\n",
    "\n",
    "for interaction in adverse_interactions:\n",
    "    \n",
    "    meds_to_watch |= interaction\n",
    "    \n",
    "print(sorted(meds_to_watch))"
   ]
  },
  {
   "cell_type": "code",
   "execution_count": 9,
   "metadata": {},
   "outputs": [
    {
     "name": "stdout",
     "output_type": "stream",
     "text": [
      "[('amlodipine', 'Blood pressure'), ('buspirone', 'Anxiety disorders'), ('citalopram', 'Antidepressant'), ('edoxaban', 'anti-coagulant'), ('erythromycin', 'Antibiotic'), ('metformin', 'Type 2 diabetes'), ('simvastatin', 'High cholesterol'), ('warfarin', 'anti-coagulant')]\n"
     ]
    }
   ],
   "source": [
    "meds_to_watch.update(\n",
    "                        adverse_interactions[0],\n",
    "                        adverse_interactions[1],\n",
    "                        adverse_interactions[2],\n",
    "                        adverse_interactions[3],\n",
    "                        adverse_interactions[4],\n",
    "                        adverse_interactions[5],\n",
    "                        adverse_interactions[6]\n",
    "\n",
    "                    )\n",
    "\n",
    "print(sorted(meds_to_watch))"
   ]
  },
  {
   "cell_type": "code",
   "execution_count": 10,
   "metadata": {},
   "outputs": [
    {
     "name": "stdout",
     "output_type": "stream",
     "text": [
      "[('amlodipine', 'Blood pressure'), ('buspirone', 'Anxiety disorders'), ('citalopram', 'Antidepressant'), ('edoxaban', 'anti-coagulant'), ('erythromycin', 'Antibiotic'), ('metformin', 'Type 2 diabetes'), ('simvastatin', 'High cholesterol'), ('warfarin', 'anti-coagulant')]\n"
     ]
    }
   ],
   "source": [
    "## differenct method using **\n",
    "\n",
    "meds_to_watch.update(*adverse_interactions)\n",
    "print(sorted(meds_to_watch))"
   ]
  },
  {
   "cell_type": "code",
   "execution_count": 11,
   "metadata": {},
   "outputs": [
    {
     "name": "stdout",
     "output_type": "stream",
     "text": [
      "('amlodipine', 'Blood pressure')\n",
      "('buspirone', 'Anxiety disorders')\n",
      "('citalopram', 'Antidepressant')\n",
      "('edoxaban', 'anti-coagulant')\n",
      "('erythromycin', 'Antibiotic')\n",
      "('metformin', 'Type 2 diabetes')\n",
      "('simvastatin', 'High cholesterol')\n",
      "('warfarin', 'anti-coagulant')\n"
     ]
    }
   ],
   "source": [
    "print(*sorted(meds_to_watch), sep = \"\\n\")"
   ]
  },
  {
   "cell_type": "markdown",
   "metadata": {},
   "source": [
    "**SET INTERSECTION**\n",
    "\n",
    "+ list two sets of even and odd numbers.\n",
    "+ using range function.\n",
    "\n",
    "+ Intersection is, we will get the output as the elements that are present in both sets as common.\n",
    "+ "
   ]
  },
  {
   "cell_type": "code",
   "execution_count": 12,
   "metadata": {},
   "outputs": [
    {
     "name": "stdout",
     "output_type": "stream",
     "text": [
      "{0, 2, 4, 6, 8, 10, 12, 14, 16, 18, 20, 22, 24, 26, 28, 30, 32, 34, 36, 38, 40, 42, 44, 46, 48}\n",
      "{1, 3, 5, 7, 9, 11, 13, 15, 17, 19, 21, 23, 25, 27, 29, 31, 33, 35, 37, 39, 41, 43, 45, 47, 49}\n"
     ]
    }
   ],
   "source": [
    "## even list\n",
    "even_numbers = set(range(0,50,2))\n",
    "## odd number list\n",
    "odd_numbers = set(range(1,50,2))\n",
    "\n",
    "\n",
    "print(even_numbers)\n",
    "print(odd_numbers)"
   ]
  },
  {
   "cell_type": "code",
   "execution_count": 15,
   "metadata": {},
   "outputs": [],
   "source": [
    "from typing import Generator\n",
    "\n",
    "\n",
    "def squares_generator(n: int) -> Generator[int, None, None]:\n",
    "    \"\"\"Generator to return the perfect squares less than `n`.\"\"\"\n",
    "    if n > 0:\n",
    "        i = next_square = 1\n",
    "        while next_square < n:\n",
    "            yield next_square\n",
    "            i += 1\n",
    "            next_square = i * i\n",
    "\n",
    "\n",
    "def primes_generator(n: int) -> Generator[int, None, None]:\n",
    "    \"\"\"\n",
    "    Very naive implementation of the Sieve of Eratosthenes to generate prime numbers.\n",
    "\n",
    "    This is *not* suitable for production use.\n",
    "    For an optimised algorithm, check out the work by Tim Peters et al @ActiveState, and Will Ness.\n",
    "    https://stackoverflow.com/questions/2211990/how-to-implement-an-efficient-infinite-generator-of-prime-numbers-in-python/19391111#19391111\n",
    "\n",
    "    :param n: The number to generate primes up to.\n",
    "    :return: A generator of all positive prime numbers less than or equal to `n`.\n",
    "    \"\"\"\n",
    "    if n >= 2:\n",
    "        # start with the set of positive odd integers from 3 to `n`, inclusive.\n",
    "        integers = set(range(3, n + 1, 2))\n",
    "        # There's no point removing multiples of 2 from odd numbers.\n",
    "        yield 2\n",
    "        next_prime = 3\n",
    "        while integers:\n",
    "            yield next_prime\n",
    "            # Remove all multiples of `next_prime`.\n",
    "            integers.difference_update(range(next_prime, n + 1, 2 * next_prime))\n",
    "            next_prime = min(integers, default=None)  # None if set is empty.\n",
    "\n",
    "\n",
    "# if __name__ == '__main__':\n",
    "#     print(\"Squares less than 1000:\")\n",
    "#     squares = list(squares_generator(1000))\n",
    "#     print(squares)\n",
    "#     print(\"Generated {} squares.\".format(len(squares)))\n",
    "\n",
    "#     print(\"Primes up to 1000\")\n",
    "#     primes = set(primes_generator(1000))\n",
    "#     print(sorted(primes))\n",
    "#     print(\"Generated {} primes.\".format(len(primes)))\n",
    "\n",
    "#     check = {2, 3, 5, 7, 11, 13, 17, 19, 23, 29,\n",
    "#              31, 37, 41, 43, 47, 53, 59, 61, 67, 71,\n",
    "#              73, 79, 83, 89, 97, 101, 103, 107, 109, 113,\n",
    "#              127, 131, 137, 139, 149, 151, 157, 163, 167, 173,\n",
    "#              179, 181, 191, 193, 197, 199, 211, 223, 227, 229,\n",
    "#              233, 239, 241, 251, 257, 263, 269, 271, 277, 281,\n",
    "#              283, 293, 307, 311, 313, 317, 331, 337, 347, 349,\n",
    "#              353, 359, 367, 373, 379, 383, 389, 397, 401, 409,\n",
    "#              419, 421, 431, 433, 439, 443, 449, 457, 461, 463,\n",
    "#              467, 479, 487, 491, 499, 503, 509, 521, 523, 541,\n",
    "#              547, 557, 563, 569, 571, 577, 587, 593, 599, 601,\n",
    "#              607, 613, 617, 619, 631, 641, 643, 647, 653, 659,\n",
    "#              661, 673, 677, 683, 691, 701, 709, 719, 727, 733,\n",
    "#              739, 743, 751, 757, 761, 769, 773, 787, 797, 809,\n",
    "#              811, 821, 823, 827, 829, 839, 853, 857, 859, 863,\n",
    "#              877, 881, 883, 887, 907, 911, 919, 929, 937, 941,\n",
    "#              947, 953, 967, 971, 977, 983, 991, 997}\n",
    "#     print(primes == check)\n",
    "\n"
   ]
  },
  {
   "cell_type": "code",
   "execution_count": 16,
   "metadata": {},
   "outputs": [
    {
     "name": "stdout",
     "output_type": "stream",
     "text": [
      "{2, 3, 5, 7, 11, 13, 17, 19, 23, 29, 31, 37, 41, 43, 47, 53, 59, 61, 67, 71, 73, 79, 83, 89, 97}\n"
     ]
    }
   ],
   "source": [
    "## creating the set for prime numbers.\n",
    "prime_numbers = set(primes_generator(100))\n",
    "print(prime_numbers)"
   ]
  },
  {
   "cell_type": "code",
   "execution_count": 17,
   "metadata": {},
   "outputs": [
    {
     "name": "stdout",
     "output_type": "stream",
     "text": [
      "{64, 1, 4, 36, 9, 16, 49, 81, 25}\n"
     ]
    }
   ],
   "source": [
    "## creating perfect square of numbers.\n",
    "perferct_squares = set(squares_generator(100))\n",
    "print(perferct_squares)"
   ]
  },
  {
   "cell_type": "code",
   "execution_count": 18,
   "metadata": {},
   "outputs": [
    {
     "name": "stdout",
     "output_type": "stream",
     "text": [
      "{1, 49, 9, 25}\n"
     ]
    }
   ],
   "source": [
    "## intersections\n",
    "odd_squares = odd_numbers.intersection(squares)\n",
    "print(odd_squares)"
   ]
  },
  {
   "cell_type": "code",
   "execution_count": 19,
   "metadata": {},
   "outputs": [
    {
     "name": "stdout",
     "output_type": "stream",
     "text": [
      "{2}\n"
     ]
    }
   ],
   "source": [
    "evens_primes = even_numbers & prime_numbers\n",
    "print(evens_primes)"
   ]
  },
  {
   "cell_type": "code",
   "execution_count": 21,
   "metadata": {},
   "outputs": [
    {
     "name": "stdout",
     "output_type": "stream",
     "text": [
      "{16, 4, 36}\n"
     ]
    }
   ],
   "source": [
    "evens_squares = even_numbers & perferct_squares\n",
    "print(evens_squares)"
   ]
  },
  {
   "cell_type": "code",
   "execution_count": 22,
   "metadata": {},
   "outputs": [
    {
     "name": "stdout",
     "output_type": "stream",
     "text": [
      "{16, 4, 36}\n"
     ]
    }
   ],
   "source": [
    "## pass an iterable to the method\n",
    "even_and_squares = even_numbers.intersection(squares_generator(100))\n",
    "print(even_and_squares)"
   ]
  },
  {
   "cell_type": "code",
   "execution_count": 23,
   "metadata": {},
   "outputs": [
    {
     "name": "stdout",
     "output_type": "stream",
     "text": [
      "{3, 5, 37, 7, 41, 11, 43, 13, 47, 17, 19, 23, 29, 31}\n"
     ]
    }
   ],
   "source": [
    "odd_and_primes = odd_numbers.intersection(primes_generator(100))\n",
    "print(odd_and_primes)"
   ]
  },
  {
   "cell_type": "markdown",
   "metadata": {},
   "source": [
    "Intersection in Practice\n",
    "\n",
    "+ Set Intersection can tell us who is in more than one set.\n",
    "+ The intersection of two sets is the set of elements that are present in both sets."
   ]
  },
  {
   "cell_type": "code",
   "execution_count": 24,
   "metadata": {},
   "outputs": [
    {
     "name": "stdout",
     "output_type": "stream",
     "text": [
      "{'Georgia', 'Charley'}\n"
     ]
    }
   ],
   "source": [
    "trial_1 = {\"Bob\",\"Charley\",\"Georgia\",\"John\"}\n",
    "trial_2 = {\"Anne\",\"Charley\",\"Eddie\",\"Georgia\"}\n",
    "\n",
    "check_set = trial_1.intersection(trial_2)\n",
    "print(check_set)"
   ]
  },
  {
   "cell_type": "code",
   "execution_count": 25,
   "metadata": {},
   "outputs": [
    {
     "name": "stdout",
     "output_type": "stream",
     "text": [
      "{'horse'}\n"
     ]
    }
   ],
   "source": [
    "farm_animals = {\"sheep\",\"hen\",\"cow\",\"horse\",\"goat\"}\n",
    "wild_animals = {\"lion\",\"elephant\",\"tiger\",\"goat\",\"panther\",\"horse\"}\n",
    "potential_rides = {\"donkey\",\"horse\",\"camel\"}\n",
    "\n",
    "intersection = farm_animals & wild_animals & potential_rides\n",
    "print(intersection)"
   ]
  },
  {
   "cell_type": "code",
   "execution_count": 26,
   "metadata": {},
   "outputs": [
    {
     "name": "stdout",
     "output_type": "stream",
     "text": [
      "{'horse'}\n"
     ]
    }
   ],
   "source": [
    "mounts = farm_animals.intersection(wild_animals,potential_rides)\n",
    "print(mounts)"
   ]
  },
  {
   "cell_type": "markdown",
   "metadata": {},
   "source": [
    "+ Exercise\n",
    "\n",
    "\"Education is not the learning of facts but the training of the mind to think – Albert Einstein\"\n",
    "\n",
    "There are two steps you'll need to perform:\n",
    "\n",
    "+ Split text to create a list of words.\n",
    "\n",
    "+ Create an intersection of the set of words with the prepositions set that we've provided in the exercise code.\n",
    "\n",
    "In order for the on-line checker to validate your solution, it's essential that you use the name preps_used for the intersection that you create.\n",
    "\n",
    "Please do NOT modify the lines of starter code given to you - write your code in the space indicated."
   ]
  },
  {
   "cell_type": "code",
   "execution_count": 34,
   "metadata": {},
   "outputs": [
    {
     "name": "stdout",
     "output_type": "stream",
     "text": [
      "{'not', 'Einstein', 'Education', 'learning', 'of', '–', 'to', 'is', 'mind', 'think', 'but', 'the', 'training', 'facts', 'Albert'}\n",
      "{'but', 'of', 'to'}\n"
     ]
    }
   ],
   "source": [
    "text = \"\"\"Education is not the learning of facts but the training of the mind to think – Albert Einstein\"\"\"\n",
    "\n",
    "prepositions = {\"as\", \"but\", \"by\", \"down\", \"for\", \"in\", \"of\", \"on\", \"to\", \"with\"}\n",
    "\n",
    "# Add your code here.\n",
    "list_of_words = text.split()\n",
    "#print(list_of_words)\n",
    "set_of_words = set(list_of_words)\n",
    "print(set_of_words)\n",
    "\n",
    "## take the intersection of set_of_words and prepositions\n",
    "preps_used = prepositions & set_of_words\n",
    "print(preps_used)"
   ]
  },
  {
   "cell_type": "markdown",
   "metadata": {},
   "source": [
    "**SET DIFFERENCE**\n",
    "\n",
    "+ set_differnce = set_1.difference(set_2)\n",
    "+ set_difference = set_1 - set_2\n"
   ]
  },
  {
   "cell_type": "code",
   "execution_count": 36,
   "metadata": {},
   "outputs": [],
   "source": [
    "even_numbers = set(range(0,50,2))\n",
    "odd_numbers = set(range(1,50,2))\n",
    "\n",
    "primes = set(primes_generator(50))\n",
    "squares = set(squares_generator(50))"
   ]
  },
  {
   "cell_type": "code",
   "execution_count": 38,
   "metadata": {},
   "outputs": [
    {
     "name": "stdout",
     "output_type": "stream",
     "text": [
      "{0, 2, 4, 6, 8, 10, 12, 14, 16, 18, 20, 22, 24, 26, 28, 30, 32, 34, 36, 38, 40, 42, 44, 46, 48}\n",
      "{2, 3, 37, 5, 7, 41, 11, 43, 13, 47, 17, 19, 23, 29, 31}\n"
     ]
    }
   ],
   "source": [
    "## even - odd\n",
    "even_diff_odd = even_numbers.difference(odd_numbers)\n",
    "print(even_diff_odd)\n",
    "\n",
    "## prime - squares\n",
    "prime_diff_squares = primes.difference(squares)\n",
    "print(prime_diff_squares)"
   ]
  },
  {
   "cell_type": "markdown",
   "metadata": {},
   "source": [
    "Difference in Practice"
   ]
  },
  {
   "cell_type": "code",
   "execution_count": 39,
   "metadata": {},
   "outputs": [],
   "source": [
    "travel_mode = {\"1\": \"car\", \"2\": \"plane\"}\n",
    "\n",
    "items = {\n",
    "    \"can opener\",\n",
    "    \"fuel\",\n",
    "    \"jumper\",\n",
    "    \"knife\",\n",
    "    \"matches\",\n",
    "    \"razor blades\",\n",
    "    \"razor\",\n",
    "    \"scissors\",\n",
    "    \"shampoo\",\n",
    "    \"shaving cream\",\n",
    "    \"shirts (3)\",\n",
    "    \"shorts\",\n",
    "    \"sleeping bag(s)\",\n",
    "    \"soap\",\n",
    "    \"socks (3 pairs)\",\n",
    "    \"stove\",\n",
    "    \"tent\",\n",
    "    \"mug\",\n",
    "    \"toothbrush\",\n",
    "    \"toothpaste\",\n",
    "    \"towel\",\n",
    "    \"underwear (3 pairs)\",\n",
    "    \"water carrier\",\n",
    "}\n",
    "\n",
    "restricted_items = {\n",
    "    \"catapult\",\n",
    "    \"fuel\",\n",
    "    \"gun\",\n",
    "    \"knife\",\n",
    "    \"razor blades\",\n",
    "    \"scissors\",\n",
    "    \"shampoo\",\n",
    "}"
   ]
  },
  {
   "cell_type": "code",
   "execution_count": 40,
   "metadata": {},
   "outputs": [
    {
     "name": "stdout",
     "output_type": "stream",
     "text": [
      "Please choose your mode of travel:\n",
      "1: car\n",
      "2: plane\n"
     ]
    },
    {
     "name": "stdin",
     "output_type": "stream",
     "text": [
      ">  2\n"
     ]
    },
    {
     "name": "stdout",
     "output_type": "stream",
     "text": [
      "You need to pack:\n",
      "can opener\n",
      "jumper\n",
      "matches\n",
      "mug\n",
      "razor\n",
      "shaving cream\n",
      "shirts (3)\n",
      "shorts\n",
      "sleeping bag(s)\n",
      "soap\n",
      "socks (3 pairs)\n",
      "stove\n",
      "tent\n",
      "toothbrush\n",
      "toothpaste\n",
      "towel\n",
      "underwear (3 pairs)\n",
      "water carrier\n"
     ]
    }
   ],
   "source": [
    "print(\"Please choose your mode of travel:\")\n",
    "for key, value in travel_mode.items():\n",
    "    print(f\"{key}: {value}\")\n",
    "    \n",
    "\n",
    "mode = \"-\"\n",
    "while mode not in travel_mode:\n",
    "    mode = input(\"> \")\n",
    "    \n",
    "if mode == \"2\":\n",
    "    for restricted_item in restricted_items:\n",
    "        items.discard(restricted_item)\n",
    "        #print(items)\n",
    "    # travelling by plane, remove restricted items\n",
    "    pass   \n",
    "\n",
    "# print the packing list\n",
    "print(\"You need to pack:\")\n",
    "for item in sorted(items):\n",
    "    print(item)\n",
    "#print(len(items))"
   ]
  },
  {
   "cell_type": "code",
   "execution_count": 45,
   "metadata": {},
   "outputs": [
    {
     "name": "stdout",
     "output_type": "stream",
     "text": [
      "Please choose your mode of travel:\n",
      "1: car\n",
      "2: plane\n"
     ]
    },
    {
     "name": "stdin",
     "output_type": "stream",
     "text": [
      ">  2\n"
     ]
    },
    {
     "name": "stdout",
     "output_type": "stream",
     "text": [
      "You need to pack:\n",
      "can opener\n",
      "jumper\n",
      "matches\n",
      "mug\n",
      "razor\n",
      "shaving cream\n",
      "shirts (3)\n",
      "shorts\n",
      "sleeping bag(s)\n",
      "soap\n",
      "socks (3 pairs)\n",
      "stove\n",
      "tent\n",
      "toothbrush\n",
      "toothpaste\n",
      "towel\n",
      "underwear (3 pairs)\n",
      "water carrier\n"
     ]
    }
   ],
   "source": [
    "## changing the discard method to differnce\n",
    "print(\"Please choose your mode of travel:\")\n",
    "for key, value in travel_mode.items():\n",
    "    print(f\"{key}: {value}\")\n",
    "    \n",
    "\n",
    "mode = \"-\"\n",
    "while mode not in travel_mode:\n",
    "    mode = input(\"> \")\n",
    "    \n",
    "if mode == \"2\":\n",
    "    #for restricted_item in restricted_items:\n",
    "        #items.discard(restricted_item)\n",
    "    #items -= restricted_items\n",
    "    items.difference(restricted_items)\n",
    "        #print(items)\n",
    "    # travelling by plane, remove restricted items\n",
    "    #pass   \n",
    "\n",
    "# print the packing list\n",
    "print(\"You need to pack:\")\n",
    "for item in sorted(items):\n",
    "    print(item)\n",
    "#print(len(items))"
   ]
  },
  {
   "cell_type": "markdown",
   "metadata": {},
   "source": [
    "+ Exercise\n",
    "\n",
    "For this exercise, imagine you're working on a retail web site.\n",
    "\n",
    "Customers can favourite certain items that they're interested in.\n",
    "\n",
    "They can also purchase items, by adding them to their shopping basket – or cart.\n",
    "\n",
    "As they browse the various items for sale, the web page will display a list of items that they might be interested in purchasing. That list will be the items they've marked as \"favourites'.\n",
    "\n",
    "But we don't want to suggest items that the customer has already added to their shopping basket.\n",
    "\n",
    "The code to create the favourites and basket sets has already been written and tested.\n",
    "\n",
    "\n",
    "\n",
    "Your task is to create a sorted list of the customer's favourite items, without any items that are in their basket.\n",
    "\n",
    "\n",
    "\n",
    "Develop the code in your IDE, before running it in here.\n",
    "\n",
    "You must call your list suggestions. That's the name that the on-line code checker will be looking for.\n",
    "\n",
    "Also, don't change the names of the two sets that we've created for you."
   ]
  },
  {
   "cell_type": "code",
   "execution_count": 46,
   "metadata": {},
   "outputs": [
    {
     "name": "stdout",
     "output_type": "stream",
     "text": [
      "['cachemira cd', 'coffee grinder', 'door screen', 'football', 'roller blind']\n"
     ]
    }
   ],
   "source": [
    "favourites = {'door screen',\n",
    "              'frying pan',\n",
    "              'roller blind',\n",
    "              'football',\n",
    "              'coffee grinder',\n",
    "              'bush hat',\n",
    "              'stirling engine',\n",
    "              'cachemira cd',\n",
    "              'shirt',\n",
    "              }\n",
    "\n",
    "basket = {'garlic crusher',\n",
    "          'stirling engine',\n",
    "          'frying pan',\n",
    "          'shirt',\n",
    "          'bush hat',\n",
    "          }\n",
    "\n",
    "# Add your code here.\n",
    "suggestions = sorted(favourites - basket)\n",
    "print(suggestions)\n"
   ]
  },
  {
   "cell_type": "markdown",
   "metadata": {},
   "source": [
    "**SET SYMMETRIC DIFFERENCE**\n",
    "\n",
    "+ Symmetric DIfference is the Opposite of the Intersection.\n",
    "+ Elements that are produces in one set, but not in the Other."
   ]
  },
  {
   "cell_type": "code",
   "execution_count": 47,
   "metadata": {},
   "outputs": [
    {
     "name": "stdout",
     "output_type": "stream",
     "text": [
      "{'Python', 'Lisp'}\n"
     ]
    }
   ],
   "source": [
    "## example \n",
    "morning = {\"Java\",\"C\",\"Ruby\",\"Lisp\",\"C#\"}\n",
    "afternoon = {\"Python\",\"C#\",\"Java\",\"C\",\"Ruby\"}\n",
    "\n",
    "possible_courses = morning ^ afternoon\n",
    "\n",
    "print(possible_courses)"
   ]
  },
  {
   "cell_type": "code",
   "execution_count": 48,
   "metadata": {},
   "outputs": [
    {
     "name": "stdout",
     "output_type": "stream",
     "text": [
      "['Lisp', 'C#', 'Ruby', 'Java', 'C']\n"
     ]
    }
   ],
   "source": [
    "morning_list = list(morning)\n",
    "print(morning_list)"
   ]
  },
  {
   "cell_type": "code",
   "execution_count": 51,
   "metadata": {},
   "outputs": [
    {
     "name": "stdout",
     "output_type": "stream",
     "text": [
      "{'Lisp', 'Python'}\n"
     ]
    }
   ],
   "source": [
    "possible_courses = afternoon.symmetric_difference(morning_list)\n",
    "print(possible_courses)"
   ]
  },
  {
   "cell_type": "markdown",
   "metadata": {},
   "source": [
    "**SUBSET AND SUPERSET**"
   ]
  },
  {
   "cell_type": "code",
   "execution_count": 52,
   "metadata": {},
   "outputs": [],
   "source": [
    "animals = {\"Turtle\",\"Horse\",\"Robin\",\"Python\",\"Swallow\",\"Hodgehog\",\"Wren\",\"Aardvark\",\"Cat\"}\n",
    "birds = {\"Robin\",\"Swallow\",\"Wren\"}"
   ]
  },
  {
   "cell_type": "code",
   "execution_count": 54,
   "metadata": {},
   "outputs": [
    {
     "name": "stdout",
     "output_type": "stream",
     "text": [
      " Birds is a Subset of Animals : True\n",
      " Animals is the Superset of Birds : True\n"
     ]
    }
   ],
   "source": [
    "print(f\" Birds is a Subset of Animals : {birds.issubset(animals)}\")\n",
    "print(f\" Animals is the Superset of Birds : {animals.issuperset(birds)}\")"
   ]
  },
  {
   "cell_type": "code",
   "execution_count": 56,
   "metadata": {},
   "outputs": [
    {
     "name": "stdout",
     "output_type": "stream",
     "text": [
      "True\n",
      "True\n"
     ]
    }
   ],
   "source": [
    "print(birds <= animals)\n",
    "print(birds < animals)"
   ]
  },
  {
   "cell_type": "code",
   "execution_count": 57,
   "metadata": {},
   "outputs": [],
   "source": [
    "## practical Application of Subsets and Supersets.\n",
    "required_skills = [\"python\",\"github\",\"linux\"]\n",
    "\n",
    "candidates = {\n",
    "    \"anna\" : {\"java\",\"linux\",\"windows\",\"github\",\"python\",\"full stack\"},\n",
    "    \"bob\" : {\"github\",\"linux\",\"python\"},\n",
    "    \"carol\" : {\"linux\",\"javascript\",\"html\",\"python\",\"github\"},\n",
    "    \"daniel\" : {\"pascal\",\"java\",\"c++\",\"github\"},\n",
    "    \"ekani\" : {\"html\",\"css\",\"github\",\"python\",\"linux\"},\n",
    "    \"fenna\" : {\"linux\",\"pascal\",\"java\",\"c\",\"lisp\",\"module-2\",\"perl\",\"github\"}\n",
    "}"
   ]
  },
  {
   "cell_type": "code",
   "execution_count": 58,
   "metadata": {},
   "outputs": [],
   "source": [
    "interviewees = set()"
   ]
  },
  {
   "cell_type": "code",
   "execution_count": 60,
   "metadata": {},
   "outputs": [
    {
     "name": "stdout",
     "output_type": "stream",
     "text": [
      "{'ekani', 'anna', 'carol', 'bob'}\n"
     ]
    }
   ],
   "source": [
    "for candidate, skills in candidates.items():\n",
    "    #print(candidate, skills)\n",
    "    if skills.issuperset(required_skills):\n",
    "        interviewees.add(candidate)\n",
    "        \n",
    "print(interviewees)"
   ]
  },
  {
   "cell_type": "code",
   "execution_count": null,
   "metadata": {},
   "outputs": [],
   "source": []
  }
 ],
 "metadata": {
  "kernelspec": {
   "display_name": "Python 3",
   "language": "python",
   "name": "python3"
  },
  "language_info": {
   "codemirror_mode": {
    "name": "ipython",
    "version": 3
   },
   "file_extension": ".py",
   "mimetype": "text/x-python",
   "name": "python",
   "nbconvert_exporter": "python",
   "pygments_lexer": "ipython3",
   "version": "3.8.3"
  }
 },
 "nbformat": 4,
 "nbformat_minor": 4
}
