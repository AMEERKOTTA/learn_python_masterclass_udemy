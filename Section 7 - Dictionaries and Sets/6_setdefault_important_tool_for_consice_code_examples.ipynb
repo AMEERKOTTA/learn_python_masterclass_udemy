{
 "cells": [
  {
   "cell_type": "markdown",
   "metadata": {},
   "source": [
    "### SetDefault Method\n",
    "\n",
    "+ The .setdefault method will return a value of a key.\n",
    "+ If the key exist in the Dictionary"
   ]
  },
  {
   "cell_type": "code",
   "execution_count": 4,
   "metadata": {},
   "outputs": [
    {
     "name": "stdout",
     "output_type": "stream",
     "text": [
      "chicken : 500\n",
      "lemon : 2\n",
      "cumin : 24\n",
      "paprika : 18\n",
      "chilli powder : 7\n",
      "yogurt : 300\n",
      "oil : 450\n",
      "onion : 5\n",
      "garlic : 9\n",
      "ginger : 2\n",
      "tomato puree : 125\n",
      "almonds : 75\n",
      "rice : 500\n",
      "coriander : 20\n",
      "lime : 3\n",
      "pepper : 8\n",
      "egg : 6\n",
      "pizza : 2\n",
      "spam : 1\n"
     ]
    }
   ],
   "source": [
    "from contents import pantry\n",
    "\n",
    "#print(pantry)\n",
    "\n",
    "for key, value in pantry.items():\n",
    "    print(f\"{key} : {value}\")"
   ]
  },
  {
   "cell_type": "code",
   "execution_count": 5,
   "metadata": {},
   "outputs": [],
   "source": [
    "## Checking the Chicken Quantity using SETDEFAULT method"
   ]
  },
  {
   "cell_type": "code",
   "execution_count": 6,
   "metadata": {},
   "outputs": [
    {
     "name": "stdout",
     "output_type": "stream",
     "text": [
      " chicken quantity : 500\n"
     ]
    }
   ],
   "source": [
    "chicken_qty = pantry.setdefault(\"chicken\", 0)\n",
    "print(f\" chicken quantity : {chicken_qty}\")"
   ]
  },
  {
   "cell_type": "code",
   "execution_count": 11,
   "metadata": {},
   "outputs": [],
   "source": [
    "def quantity(dictionary,key):\n",
    "    value = dictionary.setdefault(key, 0)\n",
    "    return value"
   ]
  },
  {
   "cell_type": "code",
   "execution_count": 12,
   "metadata": {},
   "outputs": [
    {
     "name": "stdout",
     "output_type": "stream",
     "text": [
      "2\n"
     ]
    }
   ],
   "source": [
    "lemon_qty = quantity(pantry, \"lemon\")\n",
    "print(lemon_qty)"
   ]
  },
  {
   "cell_type": "markdown",
   "metadata": {},
   "source": [
    "+ setdefault method will add the key to the Dictionary if the key is not Exist.\n",
    "\n",
    "+ the .get() method will only print the value if the key exist in the Dictionary.\n",
    "+ It will not add the key to the Dictionary."
   ]
  },
  {
   "cell_type": "code",
   "execution_count": 13,
   "metadata": {},
   "outputs": [
    {
     "name": "stdout",
     "output_type": "stream",
     "text": [
      "0\n"
     ]
    }
   ],
   "source": [
    "car_qty = pantry.setdefault(\"car\", 0)\n",
    "print(car_qty)"
   ]
  },
  {
   "cell_type": "code",
   "execution_count": 14,
   "metadata": {},
   "outputs": [
    {
     "name": "stdout",
     "output_type": "stream",
     "text": [
      "almonds : 75\n",
      "car : 0\n",
      "chicken : 500\n",
      "chilli powder : 7\n",
      "coriander : 20\n",
      "cumin : 24\n",
      "egg : 6\n",
      "garlic : 9\n",
      "ginger : 2\n",
      "lemon : 2\n",
      "lime : 3\n",
      "oil : 450\n",
      "onion : 5\n",
      "paprika : 18\n",
      "pepper : 8\n",
      "pizza : 2\n",
      "rice : 500\n",
      "spam : 1\n",
      "tomato puree : 125\n",
      "yogurt : 300\n"
     ]
    }
   ],
   "source": [
    "## print the key value pair now.\n",
    "for key, value in sorted(pantry.items()):\n",
    "    print(f\"{key} : {value}\")"
   ]
  },
  {
   "cell_type": "markdown",
   "metadata": {},
   "source": [
    "There is one new item as car added."
   ]
  },
  {
   "cell_type": "code",
   "execution_count": 15,
   "metadata": {},
   "outputs": [
    {
     "name": "stdout",
     "output_type": "stream",
     "text": [
      "0\n"
     ]
    }
   ],
   "source": [
    "jeep_qty = pantry.get(\"jeep\", 0)\n",
    "print(jeep_qty)"
   ]
  },
  {
   "cell_type": "code",
   "execution_count": 16,
   "metadata": {},
   "outputs": [
    {
     "name": "stdout",
     "output_type": "stream",
     "text": [
      "almonds : 75\n",
      "car : 0\n",
      "chicken : 500\n",
      "chilli powder : 7\n",
      "coriander : 20\n",
      "cumin : 24\n",
      "egg : 6\n",
      "garlic : 9\n",
      "ginger : 2\n",
      "lemon : 2\n",
      "lime : 3\n",
      "oil : 450\n",
      "onion : 5\n",
      "paprika : 18\n",
      "pepper : 8\n",
      "pizza : 2\n",
      "rice : 500\n",
      "spam : 1\n",
      "tomato puree : 125\n",
      "yogurt : 300\n"
     ]
    }
   ],
   "source": [
    "## print the key value pair now.\n",
    "for key, value in sorted(pantry.items()):\n",
    "    print(f\"{key} : {value}\")"
   ]
  },
  {
   "cell_type": "markdown",
   "metadata": {},
   "source": [
    "There is no Jeep in the Dictionary now."
   ]
  },
  {
   "cell_type": "markdown",
   "metadata": {},
   "source": [
    "### CHALLENGE\n",
    "\n",
    "+ Write some code to count the Number of times each character Occurs in the Given Text String.\n",
    "+ Only Count Characters and Digits, Ignore spaces, punctuation and other Symbols.\n",
    "+ When Counting the Character, ignore Case letters, case letters also should be counted irrespective of the cae.\n",
    "+ Store the Count in the Word Count Dictionary\n",
    "+ the key must be the character, and the value associated with this key should be the count of particular character in teh Text."
   ]
  },
  {
   "cell_type": "code",
   "execution_count": 23,
   "metadata": {},
   "outputs": [
    {
     "name": "stdout",
     "output_type": "stream",
     "text": [
      "Later in the Course, you'll see how to use the collections counter case.\n",
      "a 2\n",
      "c 5\n",
      "e 10\n",
      "h 3\n",
      "i 2\n",
      "l 5\n",
      "n 3\n",
      "o 7\n",
      "r 3\n",
      "s 5\n",
      "t 6\n",
      "u 4\n",
      "w 1\n",
      "y 1\n"
     ]
    }
   ],
   "source": [
    "## initializing the word_count dictionary\n",
    "word_count = {}\n",
    "\n",
    "given_text = \"Later in the Course, you'll see how to use the collections counter case.\"\n",
    "given_text.casefold()\n",
    "print(given_text)\n",
    "\n",
    "## to get all the capital and small letters, use .casefold() method\n",
    "## to avoid the spaces and punctuations and special characters.\n",
    "## or to include only letters and numbers, use .isalnum()\n",
    "\n",
    "## looping over the text.\n",
    "for char in given_text.casefold():\n",
    "    \n",
    "    if char.isalnum():\n",
    "        word_count[char] = word_count.setdefault(char,0) + 1\n",
    "        \n",
    "        \n",
    "# Printing the dictionary\n",
    "for letter, count in sorted(word_count.items()):\n",
    "    print(letter, count)   "
   ]
  },
  {
   "cell_type": "code",
   "execution_count": 24,
   "metadata": {},
   "outputs": [
    {
     "name": "stdout",
     "output_type": "stream",
     "text": [
      "a 2\n",
      "c 5\n",
      "e 9\n",
      "h 3\n",
      "i 2\n",
      "l 6\n",
      "n 3\n",
      "o 7\n",
      "r 3\n",
      "s 6\n",
      "t 6\n",
      "u 4\n",
      "w 1\n",
      "y 1\n"
     ]
    }
   ],
   "source": [
    "# We need an empty dictionary, to store and display the letter frequencies.\n",
    "word_count = {}\n",
    " \n",
    "# Text string\n",
    "text = \"Later in the course, you'll see how to use the collections Counter class.\"\n",
    " \n",
    "# Iterate over every character in the string.\n",
    "for char in text.casefold():\n",
    "    # We're only counting letters and digits (no punctuation).\n",
    "    if char.isalnum():\n",
    "        if char in word_count:\n",
    "            word_count[char] += 1\n",
    "        else:\n",
    "            word_count[char] = 1\n",
    " \n",
    "##Printing the dictionary\n",
    "for letter, count in sorted(word_count.items()):\n",
    "    print(letter, count)"
   ]
  },
  {
   "cell_type": "code",
   "execution_count": null,
   "metadata": {},
   "outputs": [],
   "source": []
  }
 ],
 "metadata": {
  "kernelspec": {
   "display_name": "Python 3",
   "language": "python",
   "name": "python3"
  },
  "language_info": {
   "codemirror_mode": {
    "name": "ipython",
    "version": 3
   },
   "file_extension": ".py",
   "mimetype": "text/x-python",
   "name": "python",
   "nbconvert_exporter": "python",
   "pygments_lexer": "ipython3",
   "version": "3.8.3"
  }
 },
 "nbformat": 4,
 "nbformat_minor": 4
}
