{
 "cells": [
  {
   "cell_type": "markdown",
   "metadata": {},
   "source": [
    "## DICTIONARIES\n",
    "\n",
    "+ Dictionaries are Collection of Values.\n",
    "+ Data Stored as Key - Value Pairs."
   ]
  },
  {
   "cell_type": "markdown",
   "metadata": {},
   "source": [
    "+ There are two methods to retrieve elements from the Dictionaries.\n",
    "        + Indexing\n",
    "        + get method\n",
    "        \n",
    "+ If we are certain about the Key, then use Indexing.\n",
    "+ If we are not certain about the Key, then use get method.\n",
    "\n",
    "+ Indexing is more faster than get method.\n",
    "\n",
    "\n",
    "+ Sometimes we need to get Error, so that we can Handle with KeyError or ValueError.\n",
    "\n",
    "\n",
    "+ We have to Enter the Correct Key String to retrieve the Output.\n",
    "+ Otherwise we will get any Error."
   ]
  },
  {
   "cell_type": "code",
   "execution_count": 1,
   "metadata": {},
   "outputs": [],
   "source": [
    "## examples\n",
    "\n",
    "vehicles = {\n",
    "    'dream': 'Honda 250T',\n",
    "    'roadster': 'BMW R1100',\n",
    "    'er5': 'Kawasaki ER5',\n",
    "    'can-am': 'Bombardier Can-Am 250',\n",
    "    'virago': 'Yamaha XV250',\n",
    "    'tenere': 'Yamaha XT650',\n",
    "    'jimny': 'Suzuki Jimny 1.5',\n",
    "    'fiesta': 'Ford Fiesta Ghia 1.4',\n",
    "}"
   ]
  },
  {
   "cell_type": "code",
   "execution_count": 2,
   "metadata": {},
   "outputs": [
    {
     "name": "stdout",
     "output_type": "stream",
     "text": [
      "Ford Fiesta Ghia 1.4\n"
     ]
    }
   ],
   "source": [
    "## indexing an element using Key\n",
    "\n",
    "my_car = vehicles[\"fiesta\"]\n",
    "print(my_car)"
   ]
  },
  {
   "cell_type": "code",
   "execution_count": 4,
   "metadata": {},
   "outputs": [
    {
     "name": "stdout",
     "output_type": "stream",
     "text": [
      "Yamaha XV250\n"
     ]
    }
   ],
   "source": [
    "## indexing an element using Indexing\n",
    "\n",
    "commuter = vehicles[\"virago\"]\n",
    "print(commuter)"
   ]
  },
  {
   "cell_type": "code",
   "execution_count": 5,
   "metadata": {},
   "outputs": [
    {
     "name": "stdout",
     "output_type": "stream",
     "text": [
      "Kawasaki ER5\n"
     ]
    }
   ],
   "source": [
    "## Retrieving an element using get method.\n",
    "\n",
    "learner = vehicles.get(\"er5\")\n",
    "print(learner)"
   ]
  },
  {
   "cell_type": "markdown",
   "metadata": {},
   "source": [
    "### Iterating over a Dictionary\n",
    "\n",
    "+ We can iterate over the keys in a Dictionary."
   ]
  },
  {
   "cell_type": "code",
   "execution_count": 8,
   "metadata": {},
   "outputs": [
    {
     "name": "stdout",
     "output_type": "stream",
     "text": [
      "dream Honda 250T\n",
      "roadster BMW R1100\n",
      "er5 Kawasaki ER5\n",
      "can-am Bombardier Can-Am 250\n",
      "virago Yamaha XV250\n",
      "tenere Yamaha XT650\n",
      "jimny Suzuki Jimny 1.5\n",
      "fiesta Ford Fiesta Ghia 1.4\n"
     ]
    }
   ],
   "source": [
    "## this will print keys.\n",
    "## the second one will print key and values\n",
    "\n",
    "for key in vehicles:\n",
    "    #print(key)\n",
    "    print(key, vehicles[key])"
   ]
  },
  {
   "cell_type": "code",
   "execution_count": 10,
   "metadata": {},
   "outputs": [
    {
     "name": "stdout",
     "output_type": "stream",
     "text": [
      "dream: Honda 250T\n",
      "roadster: BMW R1100\n",
      "er5: Kawasaki ER5\n",
      "can-am: Bombardier Can-Am 250\n",
      "virago: Yamaha XV250\n",
      "tenere: Yamaha XT650\n",
      "jimny: Suzuki Jimny 1.5\n",
      "fiesta: Ford Fiesta Ghia 1.4\n"
     ]
    }
   ],
   "source": [
    "## to get the key value seperated by , we need to add a seperator in the Code\n",
    "## key and values are seperated by colun.\n",
    "\n",
    "for key in vehicles:\n",
    "    print(key, vehicles[key], sep = \": \")"
   ]
  },
  {
   "cell_type": "markdown",
   "metadata": {},
   "source": [
    "+ We used the ENUMERATE function to print index and value Correspondingly in Lists and Tuples.\n",
    "+ Similarly, in Dictionaries, this can be done using .items() method.\n",
    "\n",
    "\n",
    "+ Remember to use Enumerate Function when iterating over the Sequences.\n",
    "+ And to USe .items() when iterating Dictionaries."
   ]
  },
  {
   "cell_type": "code",
   "execution_count": 12,
   "metadata": {},
   "outputs": [
    {
     "name": "stdout",
     "output_type": "stream",
     "text": [
      "dream : Honda 250T\n",
      "roadster : BMW R1100\n",
      "er5 : Kawasaki ER5\n",
      "can-am : Bombardier Can-Am 250\n",
      "virago : Yamaha XV250\n",
      "tenere : Yamaha XT650\n",
      "jimny : Suzuki Jimny 1.5\n",
      "fiesta : Ford Fiesta Ghia 1.4\n"
     ]
    }
   ],
   "source": [
    "## using .items() method\n",
    "\n",
    "for key, value in vehicles.items():\n",
    "    \n",
    "    print(key, value, sep = \" : \")"
   ]
  },
  {
   "cell_type": "markdown",
   "metadata": {},
   "source": [
    "### Adding items to a Dictionaries\n",
    "\n",
    "+ **DICTIONARIES PRESERVES THE INSERTION ORDER**"
   ]
  },
  {
   "cell_type": "code",
   "execution_count": 27,
   "metadata": {},
   "outputs": [
    {
     "name": "stdout",
     "output_type": "stream",
     "text": [
      "dream : Honda 250T\n",
      "roadster : BMW R1100\n",
      "er5 : Kawasaki ER5\n",
      "can-am : Bombardier Can-Am 250\n",
      "virago : Yamaha Old Model\n",
      "tenere : Yamaha XT650\n",
      "jimny : Suzuki Jimny 1.5\n",
      "fiesta : Ford Fiesta Ghia 1.4\n",
      "learjet : Bombardier Learjet 75\n",
      "toy : glider\n",
      "starfighter : Lockheed - F - 104\n"
     ]
    }
   ],
   "source": [
    "## Example\n",
    "vehicles[\"starfighter\"] = \"Lockheed - F - 104\"\n",
    "for key, value in vehicles.items():\n",
    "    print(key, value, sep = \" : \")"
   ]
  },
  {
   "cell_type": "code",
   "execution_count": 28,
   "metadata": {},
   "outputs": [
    {
     "name": "stdout",
     "output_type": "stream",
     "text": [
      "dream : Honda 250T\n",
      "roadster : BMW R1100\n",
      "er5 : Kawasaki ER5\n",
      "can-am : Bombardier Can-Am 250\n",
      "virago : Yamaha Old Model\n",
      "tenere : Yamaha XT650\n",
      "jimny : Suzuki Jimny 1.5\n",
      "fiesta : Ford Fiesta Ghia 1.4\n",
      "learjet : Bombardier Learjet 75\n",
      "toy : glider\n",
      "starfighter : Lockheed - F - 104\n"
     ]
    }
   ],
   "source": [
    "# Example\n",
    "vehicles[\"learjet\"] = \"Bombardier Learjet 75\"\n",
    "for key, value in vehicles.items():\n",
    "    print(key, value, sep = \" : \")"
   ]
  },
  {
   "cell_type": "code",
   "execution_count": 29,
   "metadata": {},
   "outputs": [
    {
     "name": "stdout",
     "output_type": "stream",
     "text": [
      "dream : Honda 250T\n",
      "roadster : BMW R1100\n",
      "er5 : Kawasaki ER5\n",
      "can-am : Bombardier Can-Am 250\n",
      "virago : Yamaha Old Model\n",
      "tenere : Yamaha XT650\n",
      "jimny : Suzuki Jimny 1.5\n",
      "fiesta : Ford Fiesta Ghia 1.4\n",
      "learjet : Bombardier Learjet 75\n",
      "toy : glider\n",
      "starfighter : Lockheed - F - 104\n"
     ]
    }
   ],
   "source": [
    "## Challenge\n",
    "## Code to insert the value \"gilder\" with key \"toy\"\n",
    "vehicles[\"toy\"] = \"glider\"\n",
    "for key, value in vehicles.items():\n",
    "    print(key, value, sep = \" : \")"
   ]
  },
  {
   "cell_type": "markdown",
   "metadata": {},
   "source": [
    "### Changing the Values in a Dictionary\n",
    "\n",
    "+ Assign the new Value to the Same Key.\n",
    "\n",
    "+ Similarly, we cannot have two Different values for sam Key."
   ]
  },
  {
   "cell_type": "code",
   "execution_count": 30,
   "metadata": {},
   "outputs": [
    {
     "name": "stdout",
     "output_type": "stream",
     "text": [
      "dream : Honda 250T\n",
      "roadster : BMW R1100\n",
      "er5 : Kawasaki ER5\n",
      "can-am : Bombardier Can-Am 250\n",
      "virago : Yamaha New Model\n",
      "tenere : Yamaha XT650\n",
      "jimny : Suzuki Jimny 1.5\n",
      "fiesta : Ford Fiesta Ghia 1.4\n",
      "learjet : Bombardier Learjet 75\n",
      "toy : glider\n",
      "starfighter : Lockheed - F - 104\n"
     ]
    }
   ],
   "source": [
    "## Assigning the new Value\n",
    "vehicles[\"virago\"] = \"Yamaha New Model\"\n",
    "for key, value in vehicles.items():\n",
    "    print(key, value, sep = \" : \")"
   ]
  },
  {
   "cell_type": "code",
   "execution_count": 31,
   "metadata": {},
   "outputs": [
    {
     "name": "stdout",
     "output_type": "stream",
     "text": [
      "dream : Honda 250T\n",
      "roadster : BMW R1100\n",
      "er5 : Kawasaki ER5\n",
      "can-am : Bombardier Can-Am 250\n",
      "virago : Yamaha Old Model\n",
      "tenere : Yamaha XT650\n",
      "jimny : Suzuki Jimny 1.5\n",
      "fiesta : Ford Fiesta Ghia 1.4\n",
      "learjet : Bombardier Learjet 75\n",
      "toy : glider\n",
      "starfighter : Lockheed - F - 104\n"
     ]
    }
   ],
   "source": [
    "## duplicating any one value\n",
    "vehicles[\"virago\"] = \"Yamaha Old Model\"\n",
    "for key, value in vehicles.items():\n",
    "    print(key, value, sep = \" : \")"
   ]
  },
  {
   "cell_type": "markdown",
   "metadata": {},
   "source": [
    "### Remove items from a Dictionary\n",
    "\n",
    "+ Deleting an element from list is done by Indexing.\n",
    "+ Similarly, Here we will use key, Instead of Indexing a a Position.\n",
    "\n",
    "+ There is another method as well, for deleting items from DIcts and Lists.\n",
    "+ .pop() method.\n",
    "+ This will also give us the KeyError, as there is no particular Key.\n",
    "+ But if we dont want the Error Message, we can make it that way by adding a Default None Parameter.\n",
    "+ Instead, it is good to get the Error message, because, we will get to know that there is a KeyError.\n",
    "+ This will help to give Exceptions and handle Exceptions from the Code."
   ]
  },
  {
   "cell_type": "code",
   "execution_count": 32,
   "metadata": {},
   "outputs": [
    {
     "name": "stdout",
     "output_type": "stream",
     "text": [
      "dream : Honda 250T\n",
      "roadster : BMW R1100\n",
      "er5 : Kawasaki ER5\n",
      "can-am : Bombardier Can-Am 250\n",
      "virago : Yamaha Old Model\n",
      "tenere : Yamaha XT650\n",
      "jimny : Suzuki Jimny 1.5\n",
      "fiesta : Ford Fiesta Ghia 1.4\n",
      "learjet : Bombardier Learjet 75\n",
      "toy : glider\n"
     ]
    }
   ],
   "source": [
    "## deleting \"starfighter\"\n",
    "\n",
    "del vehicles[\"starfighter\"]\n",
    "\n",
    "for key, value in vehicles.items():\n",
    "    print(key, value, sep = \" : \")"
   ]
  },
  {
   "cell_type": "code",
   "execution_count": 35,
   "metadata": {},
   "outputs": [
    {
     "ename": "KeyError",
     "evalue": "'f1'",
     "output_type": "error",
     "traceback": [
      "\u001b[1;31m---------------------------------------------------------------------------\u001b[0m",
      "\u001b[1;31mKeyError\u001b[0m                                  Traceback (most recent call last)",
      "\u001b[1;32m<ipython-input-35-5e5ffa46ebc7>\u001b[0m in \u001b[0;36m<module>\u001b[1;34m\u001b[0m\n\u001b[0;32m      3\u001b[0m \u001b[1;31m## Because that key does not Exist in the Dictionary.\u001b[0m\u001b[1;33m\u001b[0m\u001b[1;33m\u001b[0m\u001b[1;33m\u001b[0m\u001b[0m\n\u001b[0;32m      4\u001b[0m \u001b[1;33m\u001b[0m\u001b[0m\n\u001b[1;32m----> 5\u001b[1;33m \u001b[1;32mdel\u001b[0m \u001b[0mvehicles\u001b[0m\u001b[1;33m[\u001b[0m\u001b[1;34m\"f1\"\u001b[0m\u001b[1;33m]\u001b[0m\u001b[1;33m\u001b[0m\u001b[1;33m\u001b[0m\u001b[0m\n\u001b[0m",
      "\u001b[1;31mKeyError\u001b[0m: 'f1'"
     ]
    }
   ],
   "source": [
    "## accessing a key that is not present in the Dictionary will crash your program.\n",
    "## We will get a KeyError.\n",
    "## Because that key does not Exist in the Dictionary.\n",
    "\n",
    "del vehicles[\"f1\"]"
   ]
  },
  {
   "cell_type": "code",
   "execution_count": 36,
   "metadata": {},
   "outputs": [
    {
     "ename": "KeyError",
     "evalue": "'f1'",
     "output_type": "error",
     "traceback": [
      "\u001b[1;31m---------------------------------------------------------------------------\u001b[0m",
      "\u001b[1;31mKeyError\u001b[0m                                  Traceback (most recent call last)",
      "\u001b[1;32m<ipython-input-36-c860f8d43a06>\u001b[0m in \u001b[0;36m<module>\u001b[1;34m\u001b[0m\n\u001b[1;32m----> 1\u001b[1;33m \u001b[0mvehicles\u001b[0m\u001b[1;33m.\u001b[0m\u001b[0mpop\u001b[0m\u001b[1;33m(\u001b[0m\u001b[1;34m\"f1\"\u001b[0m\u001b[1;33m)\u001b[0m\u001b[1;33m\u001b[0m\u001b[1;33m\u001b[0m\u001b[0m\n\u001b[0m",
      "\u001b[1;31mKeyError\u001b[0m: 'f1'"
     ]
    }
   ],
   "source": [
    "vehicles.pop(\"f1\")"
   ]
  },
  {
   "cell_type": "code",
   "execution_count": 39,
   "metadata": {},
   "outputs": [
    {
     "name": "stdout",
     "output_type": "stream",
     "text": [
      "er5 : Kawasaki ER5\n",
      "can-am : Bombardier Can-Am 250\n",
      "virago : Yamaha Old Model\n",
      "tenere : Yamaha XT650\n",
      "jimny : Suzuki Jimny 1.5\n",
      "fiesta : Ford Fiesta Ghia 1.4\n",
      "learjet : Bombardier Learjet 75\n",
      "toy : glider\n"
     ]
    }
   ],
   "source": [
    "vehicles.pop(\"roadster\")\n",
    "for key, value in vehicles.items():\n",
    "    print(key, value, sep = \" : \")"
   ]
  },
  {
   "cell_type": "code",
   "execution_count": 42,
   "metadata": {},
   "outputs": [
    {
     "name": "stdout",
     "output_type": "stream",
     "text": [
      "er5 : Kawasaki ER5\n",
      "can-am : Bombardier Can-Am 250\n",
      "virago : Yamaha Old Model\n",
      "tenere : Yamaha XT650\n",
      "jimny : Suzuki Jimny 1.5\n",
      "fiesta : Ford Fiesta Ghia 1.4\n",
      "learjet : Bombardier Learjet 75\n",
      "toy : glider\n"
     ]
    }
   ],
   "source": [
    "## if we give None in the Code, then the COde will not Crash.\n",
    "## even though there is no key\n",
    "\n",
    "vehicles.pop(\"roadster\", None)\n",
    "for key, value in vehicles.items():\n",
    "    print(key, value, sep = \" : \")"
   ]
  },
  {
   "cell_type": "code",
   "execution_count": 43,
   "metadata": {},
   "outputs": [
    {
     "name": "stdout",
     "output_type": "stream",
     "text": [
      "key not present\n"
     ]
    }
   ],
   "source": [
    "## We can give any string value instead of None.\n",
    "## if the given key is not exist in the Dicts.\n",
    "## we will get the string printed\n",
    "## example.\n",
    "\n",
    "result = vehicles.pop(\"fire\", \"key not present\")\n",
    "print(result)"
   ]
  },
  {
   "cell_type": "code",
   "execution_count": 44,
   "metadata": {},
   "outputs": [
    {
     "name": "stdout",
     "output_type": "stream",
     "text": [
      "Bombardier Learjet 75\n"
     ]
    }
   ],
   "source": [
    "## if we give a key that exist, and following an Error Message.\n",
    "## then,\n",
    "\n",
    "plane = vehicles.pop(\"learjet\")\n",
    "print(plane)"
   ]
  },
  {
   "cell_type": "code",
   "execution_count": 45,
   "metadata": {},
   "outputs": [
    {
     "name": "stdout",
     "output_type": "stream",
     "text": [
      "Yamaha XT650\n"
     ]
    }
   ],
   "source": [
    "bike = vehicles.pop(\"tenere\", \"key not present\")\n",
    "print(bike)"
   ]
  },
  {
   "cell_type": "code",
   "execution_count": 23,
   "metadata": {},
   "outputs": [
    {
     "name": "stdout",
     "output_type": "stream",
     "text": [
      "The Zen of Python, by Tim Peters\n",
      "\n",
      "Beautiful is better than ugly.\n",
      "Explicit is better than implicit.\n",
      "Simple is better than complex.\n",
      "Complex is better than complicated.\n",
      "Flat is better than nested.\n",
      "Sparse is better than dense.\n",
      "Readability counts.\n",
      "Special cases aren't special enough to break the rules.\n",
      "Although practicality beats purity.\n",
      "Errors should never pass silently.\n",
      "Unless explicitly silenced.\n",
      "In the face of ambiguity, refuse the temptation to guess.\n",
      "There should be one-- and preferably only one --obvious way to do it.\n",
      "Although that way may not be obvious at first unless you're Dutch.\n",
      "Now is better than never.\n",
      "Although never is often better than *right* now.\n",
      "If the implementation is hard to explain, it's a bad idea.\n",
      "If the implementation is easy to explain, it may be a good idea.\n",
      "Namespaces are one honking great idea -- let's do more of those!\n"
     ]
    }
   ],
   "source": [
    "import this"
   ]
  },
  {
   "cell_type": "code",
   "execution_count": null,
   "metadata": {},
   "outputs": [],
   "source": []
  }
 ],
 "metadata": {
  "kernelspec": {
   "display_name": "Python 3",
   "language": "python",
   "name": "python3"
  },
  "language_info": {
   "codemirror_mode": {
    "name": "ipython",
    "version": 3
   },
   "file_extension": ".py",
   "mimetype": "text/x-python",
   "name": "python",
   "nbconvert_exporter": "python",
   "pygments_lexer": "ipython3",
   "version": "3.8.3"
  }
 },
 "nbformat": 4,
 "nbformat_minor": 4
}
