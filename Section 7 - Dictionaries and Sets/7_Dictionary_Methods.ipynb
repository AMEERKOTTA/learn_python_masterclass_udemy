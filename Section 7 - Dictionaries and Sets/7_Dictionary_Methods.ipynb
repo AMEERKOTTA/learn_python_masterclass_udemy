{
 "cells": [
  {
   "cell_type": "markdown",
   "metadata": {},
   "source": [
    "## Dictionary Methods"
   ]
  },
  {
   "cell_type": "code",
   "execution_count": 1,
   "metadata": {},
   "outputs": [
    {
     "name": "stdout",
     "output_type": "stream",
     "text": [
      "{'chicken': 500, 'lemon': 2, 'cumin': 24, 'paprika': 18, 'chilli powder': 7, 'yogurt': 300, 'oil': 450, 'onion': 5, 'garlic': 9, 'ginger': 2, 'tomato puree': 125, 'almonds': 75, 'rice': 500, 'coriander': 20, 'lime': 3, 'pepper': 8, 'egg': 6, 'pizza': 2, 'spam': 1}\n"
     ]
    }
   ],
   "source": [
    "from contents import pantry\n",
    "\n",
    "print(pantry)"
   ]
  },
  {
   "cell_type": "code",
   "execution_count": null,
   "metadata": {},
   "outputs": [],
   "source": []
  },
  {
   "cell_type": "markdown",
   "metadata": {},
   "source": [
    "### **list(dictionary)  --> Returns the List of all Keys in the Dictionary**"
   ]
  },
  {
   "cell_type": "code",
   "execution_count": 2,
   "metadata": {},
   "outputs": [
    {
     "data": {
      "text/plain": [
       "['chicken',\n",
       " 'lemon',\n",
       " 'cumin',\n",
       " 'paprika',\n",
       " 'chilli powder',\n",
       " 'yogurt',\n",
       " 'oil',\n",
       " 'onion',\n",
       " 'garlic',\n",
       " 'ginger',\n",
       " 'tomato puree',\n",
       " 'almonds',\n",
       " 'rice',\n",
       " 'coriander',\n",
       " 'lime',\n",
       " 'pepper',\n",
       " 'egg',\n",
       " 'pizza',\n",
       " 'spam']"
      ]
     },
     "execution_count": 2,
     "metadata": {},
     "output_type": "execute_result"
    }
   ],
   "source": [
    "list(pantry)"
   ]
  },
  {
   "cell_type": "code",
   "execution_count": null,
   "metadata": {},
   "outputs": [],
   "source": []
  },
  {
   "cell_type": "markdown",
   "metadata": {},
   "source": [
    "### **len(dictionary) --> Returns the Number of items in the Dicts**"
   ]
  },
  {
   "cell_type": "code",
   "execution_count": 3,
   "metadata": {},
   "outputs": [
    {
     "data": {
      "text/plain": [
       "19"
      ]
     },
     "execution_count": 3,
     "metadata": {},
     "output_type": "execute_result"
    }
   ],
   "source": [
    "len(pantry)"
   ]
  },
  {
   "cell_type": "code",
   "execution_count": null,
   "metadata": {},
   "outputs": [],
   "source": []
  },
  {
   "cell_type": "markdown",
   "metadata": {},
   "source": [
    "### **dictionary[key] --> USed to fetch Value of a Particular Key**"
   ]
  },
  {
   "cell_type": "code",
   "execution_count": 4,
   "metadata": {},
   "outputs": [
    {
     "data": {
      "text/plain": [
       "3"
      ]
     },
     "execution_count": 4,
     "metadata": {},
     "output_type": "execute_result"
    }
   ],
   "source": [
    "pantry[\"lime\"]"
   ]
  },
  {
   "cell_type": "code",
   "execution_count": 5,
   "metadata": {},
   "outputs": [],
   "source": [
    "## by the same method we assign new value to the a particular key\n",
    "pantry[\"lime\"] = 5"
   ]
  },
  {
   "cell_type": "code",
   "execution_count": 6,
   "metadata": {},
   "outputs": [
    {
     "name": "stdout",
     "output_type": "stream",
     "text": [
      "chicken  :  500\n",
      "lemon  :  2\n",
      "cumin  :  24\n",
      "paprika  :  18\n",
      "chilli powder  :  7\n",
      "yogurt  :  300\n",
      "oil  :  450\n",
      "onion  :  5\n",
      "garlic  :  9\n",
      "ginger  :  2\n",
      "tomato puree  :  125\n",
      "almonds  :  75\n",
      "rice  :  500\n",
      "coriander  :  20\n",
      "lime  :  5\n",
      "pepper  :  8\n",
      "egg  :  6\n",
      "pizza  :  2\n",
      "spam  :  1\n"
     ]
    }
   ],
   "source": [
    "for key, value in pantry.items():\n",
    "    print(f\"{key}  :  {value}\")"
   ]
  },
  {
   "cell_type": "code",
   "execution_count": 7,
   "metadata": {},
   "outputs": [
    {
     "data": {
      "text/plain": [
       "True"
      ]
     },
     "execution_count": 7,
     "metadata": {},
     "output_type": "execute_result"
    }
   ],
   "source": [
    "## for key in d\n",
    "\"lime\"  in pantry"
   ]
  },
  {
   "cell_type": "code",
   "execution_count": 8,
   "metadata": {},
   "outputs": [
    {
     "data": {
      "text/plain": [
       "True"
      ]
     },
     "execution_count": 8,
     "metadata": {},
     "output_type": "execute_result"
    }
   ],
   "source": [
    "## key not in d\n",
    "\"society\" not in pantry"
   ]
  },
  {
   "cell_type": "markdown",
   "metadata": {},
   "source": [
    "### iter(d)\n",
    "Return an iterator over the keys of the dictionary. This is a shortcut for iter(d.keys())."
   ]
  },
  {
   "cell_type": "markdown",
   "metadata": {},
   "source": [
    "### Dictionary Methods"
   ]
  },
  {
   "cell_type": "code",
   "execution_count": 10,
   "metadata": {},
   "outputs": [],
   "source": [
    "d = {\n",
    "    0: \"zero\",\n",
    "    1: \"one\",\n",
    "    2: \"two\",\n",
    "    3: \"three\",\n",
    "    4: \"four\",\n",
    "    5: \"five\",\n",
    "    6: \"six\",\n",
    "    7: \"seven\",\n",
    "    8: \"eight\",\n",
    "    9: \"nine\",\n",
    "}\n",
    "\n",
    "pantry_items = ['chicken', 'spam', 'egg', 'bread', 'lemon']\n",
    "\n"
   ]
  },
  {
   "cell_type": "code",
   "execution_count": 11,
   "metadata": {},
   "outputs": [],
   "source": [
    "## dict.fromkeys method\n",
    "##classmethod fromkeys(iterable[, value])\n",
    "##Create a new dictionary with keys from iterable and values set to value.\n",
    "\n",
    "##fromkeys() is a class method that returns a new dictionary. \n",
    "##value defaults to None. All of the values refer to just a single instance, \n",
    "##so it generally doesn’t make sense for value to be a mutable object such as an empty list.\n",
    "##To get distinct values, use a dict comprehension instead."
   ]
  },
  {
   "cell_type": "code",
   "execution_count": 12,
   "metadata": {},
   "outputs": [
    {
     "name": "stdout",
     "output_type": "stream",
     "text": [
      "{'chicken': None, 'spam': None, 'egg': None, 'bread': None, 'lemon': None}\n"
     ]
    }
   ],
   "source": [
    "new_dict = dict.fromkeys(pantry_items)\n",
    "print(new_dict)"
   ]
  },
  {
   "cell_type": "code",
   "execution_count": 13,
   "metadata": {},
   "outputs": [
    {
     "name": "stdout",
     "output_type": "stream",
     "text": [
      "{'chicken': 0, 'spam': 0, 'egg': 0, 'bread': 0, 'lemon': 0}\n"
     ]
    }
   ],
   "source": [
    "## changing the default value to 0\n",
    "new_dict = dict.fromkeys(pantry_items, 0)\n",
    "print(new_dict)"
   ]
  },
  {
   "cell_type": "code",
   "execution_count": 15,
   "metadata": {},
   "outputs": [
    {
     "name": "stdout",
     "output_type": "stream",
     "text": [
      "dict_keys([0, 1, 2, 3, 4, 5, 6, 7, 8, 9])\n"
     ]
    }
   ],
   "source": [
    "## method keys\n",
    "keys = d.keys()\n",
    "print(keys)"
   ]
  },
  {
   "cell_type": "code",
   "execution_count": 16,
   "metadata": {},
   "outputs": [
    {
     "name": "stdout",
     "output_type": "stream",
     "text": [
      "dict_values(['zero', 'one', 'two', 'three', 'four', 'five', 'six', 'seven', 'eight', 'nine'])\n"
     ]
    }
   ],
   "source": [
    "## method value\n",
    "values = d.values()\n",
    "print(values)"
   ]
  },
  {
   "cell_type": "code",
   "execution_count": 19,
   "metadata": {},
   "outputs": [
    {
     "name": "stdout",
     "output_type": "stream",
     "text": [
      "0\n",
      "1\n",
      "2\n",
      "3\n",
      "4\n",
      "5\n",
      "6\n",
      "7\n",
      "8\n",
      "9\n"
     ]
    }
   ],
   "source": [
    "## blindly if we are iterating the dictionary to get the keys.\n",
    "for item in d:\n",
    "    print(item)"
   ]
  },
  {
   "cell_type": "code",
   "execution_count": 21,
   "metadata": {},
   "outputs": [
    {
     "name": "stdout",
     "output_type": "stream",
     "text": [
      "0\n",
      "1\n",
      "2\n",
      "3\n",
      "4\n",
      "5\n",
      "6\n",
      "7\n",
      "8\n",
      "9\n"
     ]
    }
   ],
   "source": [
    "## confirmed code that we are iterating to print the keys\n",
    "for key in d.keys():\n",
    "    print(key)"
   ]
  },
  {
   "cell_type": "code",
   "execution_count": 24,
   "metadata": {},
   "outputs": [
    {
     "name": "stdout",
     "output_type": "stream",
     "text": [
      "zero\n",
      "one\n",
      "two\n",
      "three\n",
      "four\n",
      "five\n",
      "six\n",
      "seven\n",
      "eight\n",
      "nine\n"
     ]
    }
   ],
   "source": [
    "## similarly we camn iterate over the dicts to get the value, we have to specify either key or value\n",
    "for value in d.values():\n",
    "    print(value)"
   ]
  },
  {
   "cell_type": "markdown",
   "metadata": {},
   "source": [
    "**UPDATE METHOD**\n",
    "\n",
    "+ we will create a new dict\n",
    "+ then with the content of it, we can update the another dictionary"
   ]
  },
  {
   "cell_type": "code",
   "execution_count": 25,
   "metadata": {},
   "outputs": [],
   "source": [
    "## creating anew dictionary\n",
    "d2 = {\n",
    "    7 : \"lucky seven\",\n",
    "    10 : \"ten\",\n",
    "    3 : \"this is the new three\"\n",
    "}"
   ]
  },
  {
   "cell_type": "code",
   "execution_count": 26,
   "metadata": {},
   "outputs": [
    {
     "data": {
      "text/plain": [
       "{7: 'lucky seven', 10: 'ten', 3: 'this is the new three'}"
      ]
     },
     "execution_count": 26,
     "metadata": {},
     "output_type": "execute_result"
    }
   ],
   "source": [
    "d2"
   ]
  },
  {
   "cell_type": "code",
   "execution_count": 28,
   "metadata": {},
   "outputs": [
    {
     "name": "stdout",
     "output_type": "stream",
     "text": [
      "0   :   zero\n",
      "1   :   one\n",
      "2   :   two\n",
      "3   :   three\n",
      "4   :   four\n",
      "5   :   five\n",
      "6   :   six\n",
      "7   :   seven\n",
      "8   :   eight\n",
      "9   :   nine\n"
     ]
    }
   ],
   "source": [
    "## now update the d dictionary\n",
    "for key, value in d.items():\n",
    "    print(f\"{key}   :   {value}\")"
   ]
  },
  {
   "cell_type": "code",
   "execution_count": 29,
   "metadata": {},
   "outputs": [
    {
     "name": "stdout",
     "output_type": "stream",
     "text": [
      "0  :  zero\n",
      "1  :  one\n",
      "2  :  two\n",
      "3  :  this is the new three\n",
      "4  :  four\n",
      "5  :  five\n",
      "6  :  six\n",
      "7  :  lucky seven\n",
      "8  :  eight\n",
      "9  :  nine\n",
      "10  :  ten\n"
     ]
    }
   ],
   "source": [
    "## now update d with d2\n",
    "\n",
    "d.update(d2)\n",
    "\n",
    "for key, value in d.items():\n",
    "    print(f\"{key}  :  {value}\")"
   ]
  },
  {
   "cell_type": "code",
   "execution_count": 30,
   "metadata": {},
   "outputs": [
    {
     "data": {
      "text/plain": [
       "['chicken', 'spam', 'egg', 'bread', 'lemon']"
      ]
     },
     "execution_count": 30,
     "metadata": {},
     "output_type": "execute_result"
    }
   ],
   "source": [
    "pantry_items"
   ]
  },
  {
   "cell_type": "code",
   "execution_count": 35,
   "metadata": {},
   "outputs": [
    {
     "name": "stdout",
     "output_type": "stream",
     "text": [
      "0  :  chicken\n",
      "1  :  spam\n",
      "2  :  egg\n",
      "3  :  bread\n",
      "4  :  lemon\n",
      "5  :  five\n",
      "6  :  six\n",
      "7  :  lucky seven\n",
      "8  :  eight\n",
      "9  :  nine\n",
      "10  :  ten\n"
     ]
    }
   ],
   "source": [
    "## updating d using pantry_update\n",
    "## we replaced the value we passed to update\n",
    "## ie, upto 5 index position.\n",
    "## the value of the pairs are changed.\n",
    "## ['chicken', 'spam', 'egg', 'bread', 'lemon']\n",
    "\n",
    "d.update(enumerate(pantry_items))\n",
    "\n",
    "for key, value in d.items():\n",
    "    print(f\"{key}  :  {value}\")"
   ]
  },
  {
   "cell_type": "markdown",
   "metadata": {},
   "source": [
    "**VALUE METHOD**\n",
    "\n",
    "+ Return the values in the Dictionary"
   ]
  },
  {
   "cell_type": "code",
   "execution_count": 36,
   "metadata": {},
   "outputs": [
    {
     "name": "stdout",
     "output_type": "stream",
     "text": [
      "dict_values(['chicken', 'spam', 'egg', 'bread', 'lemon', 'five', 'six', 'lucky seven', 'eight', 'nine', 'ten'])\n"
     ]
    }
   ],
   "source": [
    "values = d.values()\n",
    "print(values)"
   ]
  },
  {
   "cell_type": "code",
   "execution_count": 38,
   "metadata": {},
   "outputs": [
    {
     "name": "stdout",
     "output_type": "stream",
     "text": [
      "dict_values(['chicken', 'spam', 'egg', 'bread', 'lemon', 'five', 'six', 'lucky seven', 'eight', 'nine', 'ten', 'eleven'])\n"
     ]
    }
   ],
   "source": [
    "## append a new value to the dictionary\n",
    "\n",
    "d[11] = \"eleven\"\n",
    "\n",
    "## print the values now\n",
    "\n",
    "print(values)"
   ]
  },
  {
   "cell_type": "code",
   "execution_count": 40,
   "metadata": {},
   "outputs": [
    {
     "name": "stdout",
     "output_type": "stream",
     "text": [
      "False\n",
      "False\n"
     ]
    }
   ],
   "source": [
    "print(\"four\" in values)     ## no four in values\n",
    "print(\"twelvw\" in values)   ## no twelwe in values"
   ]
  },
  {
   "cell_type": "code",
   "execution_count": 43,
   "metadata": {},
   "outputs": [
    {
     "name": "stdout",
     "output_type": "stream",
     "text": [
      "Keys in the Dictionary D:-- [0, 1, 2, 3, 4, 5, 6, 7, 8, 9, 10, 11]\n",
      "Values in the Dictionary D:--- ['chicken', 'spam', 'egg', 'bread', 'lemon', 'five', 'six', 'lucky seven', 'eight', 'nine', 'ten', 'eleven']\n",
      "Index of the Selected item:--- 6\n",
      "The Key corresponding to the Index:-- 6\n",
      "six was found with the key 6\n"
     ]
    }
   ],
   "source": [
    "keys = list(d.keys())\n",
    "print(\"Keys in the Dictionary D:--\", keys)\n",
    "values = list(d.values())\n",
    "print(\"Values in the Dictionary D:---\", values)\n",
    "\n",
    "if \"six\" in values:\n",
    "    index = values.index(\"six\")\n",
    "    print(\"Index of the Selected item:---\", index)\n",
    "    key = keys[index]\n",
    "    print(\"The Key corresponding to the Index:--\", key)\n",
    "    print(f\"{d[key]} was found with the key {key}\")"
   ]
  },
  {
   "cell_type": "code",
   "execution_count": 44,
   "metadata": {},
   "outputs": [
    {
     "name": "stdout",
     "output_type": "stream",
     "text": [
      "lucky seven was found with the key 7\n"
     ]
    }
   ],
   "source": [
    "## in a different aproach\n",
    "for key, value in d.items():\n",
    "    if value == \"lucky seven\":\n",
    "        print(f\"{d[key]} was found with the key {key}\")"
   ]
  },
  {
   "cell_type": "markdown",
   "metadata": {},
   "source": [
    "**REFERENCES TO MULTILPE OBJECTS**"
   ]
  },
  {
   "cell_type": "code",
   "execution_count": 45,
   "metadata": {},
   "outputs": [],
   "source": [
    "## defining a dictionary\n",
    "animals = {\n",
    "    \"lion\"  :  \"scary\",\n",
    "    \"elephant\"  :  \"big\",\n",
    "    \"teddy\"  :  \"cuddly\"\n",
    "}"
   ]
  },
  {
   "cell_type": "code",
   "execution_count": 46,
   "metadata": {},
   "outputs": [
    {
     "data": {
      "text/plain": [
       "{'lion': 'scary', 'elephant': 'big', 'teddy': 'cuddly'}"
      ]
     },
     "execution_count": 46,
     "metadata": {},
     "output_type": "execute_result"
    }
   ],
   "source": [
    "animals"
   ]
  },
  {
   "cell_type": "code",
   "execution_count": 47,
   "metadata": {},
   "outputs": [],
   "source": [
    "## assigning animals to things\n",
    "things = animals"
   ]
  },
  {
   "cell_type": "code",
   "execution_count": 48,
   "metadata": {},
   "outputs": [
    {
     "data": {
      "text/plain": [
       "{'lion': 'scary', 'elephant': 'big', 'teddy': 'cuddly'}"
      ]
     },
     "execution_count": 48,
     "metadata": {},
     "output_type": "execute_result"
    }
   ],
   "source": [
    "things"
   ]
  },
  {
   "cell_type": "code",
   "execution_count": 49,
   "metadata": {},
   "outputs": [],
   "source": [
    "animals[\"teddy\"] = \"toy\""
   ]
  },
  {
   "cell_type": "code",
   "execution_count": 50,
   "metadata": {},
   "outputs": [
    {
     "name": "stdout",
     "output_type": "stream",
     "text": [
      "toy\n"
     ]
    }
   ],
   "source": [
    "print(things[\"teddy\"])"
   ]
  },
  {
   "cell_type": "markdown",
   "metadata": {},
   "source": [
    "So, Here both animals and things are referring to the same dictionary"
   ]
  },
  {
   "cell_type": "markdown",
   "metadata": {},
   "source": [
    "**TAKING COPY OF THE DICTIONARY**\n",
    "\n",
    "+ We will get another dictionary.\n",
    "+ This is not like referencing.\n",
    "+ We will get different Dictionaries.\n",
    "+ By taking the Copy, any change is done on the parent dict will not make any differnce in the copy taken."
   ]
  },
  {
   "cell_type": "code",
   "execution_count": 54,
   "metadata": {},
   "outputs": [
    {
     "name": "stdout",
     "output_type": "stream",
     "text": [
      "boy\n",
      "boy\n"
     ]
    }
   ],
   "source": [
    "## defining animals dictionary\n",
    "animals\n",
    "\n",
    "## now take a copy \n",
    "things = animals.copy()\n",
    "\n",
    "## now make a change in animal dictionary\n",
    "animals[\"teddy\"] = \"boy\"\n",
    "print(animals[\"teddy\"])\n",
    "\n",
    "## check the things dictionary\n",
    "print(things[\"teddy\"])"
   ]
  },
  {
   "cell_type": "markdown",
   "metadata": {},
   "source": [
    "**SHALLOW COPY**\n",
    "\n",
    "+ Changing the Dictionaries, that have values in a List.\n",
    "\n"
   ]
  },
  {
   "cell_type": "code",
   "execution_count": 60,
   "metadata": {},
   "outputs": [
    {
     "name": "stdout",
     "output_type": "stream",
     "text": [
      "The Original Dictionary:--- {'lion': ['scary', 'big', 'cat'], 'elephant': ['big', 'grey', 'wrinkled'], 'teddy': ['cuddly', 'stuffed']}\n",
      "Copy of the Animal Dictionary:--- {'lion': ['scary', 'big', 'cat'], 'elephant': ['big', 'grey', 'wrinkled'], 'teddy': ['cuddly', 'stuffed']}\n",
      "Teddy value in Animals Dictionary:--- ['cuddly', 'stuffed']\n",
      "Teddy value in Copy Dictionary:--- ['cuddly', 'stuffed']\n",
      "Teddy value in Animals Dictionary:--- ['cuddly', 'stuffed', 'toy']\n",
      "Teddy value in Copy Dictionary:--- ['cuddly', 'stuffed', 'toy']\n"
     ]
    }
   ],
   "source": [
    "## define dictionary\n",
    "animals = {\n",
    "    \"lion\"  :  [\"scary\", \"big\", \"cat\"],\n",
    "    \"elephant\"  :  [\"big\", \"grey\", \"wrinkled\"],\n",
    "    \"teddy\"  :  [\"cuddly\", \"stuffed\"]\n",
    "}\n",
    "\n",
    "print(\"The Original Dictionary:---\",animals)\n",
    "\n",
    "## make a copy\n",
    "\n",
    "things = animals.copy()\n",
    "\n",
    "print(\"Copy of the Animal Dictionary:---\",things)\n",
    "\n",
    "\n",
    "print(\"Teddy value in Animals Dictionary:---\", animals[\"teddy\"])\n",
    "print(\"Teddy value in Copy Dictionary:---\", things[\"teddy\"])\n",
    "\n",
    "\n",
    "## make a change in things.\n",
    "\n",
    "things[\"teddy\"].append(\"toy\")\n",
    "\n",
    "print(\"Teddy value in Animals Dictionary:---\", animals[\"teddy\"])\n",
    "print(\"Teddy value in Copy Dictionary:---\", things[\"teddy\"])"
   ]
  },
  {
   "cell_type": "markdown",
   "metadata": {},
   "source": [
    "+  Here new item is appended to both Original and the Copy Dictionaries.\n",
    "\n",
    "+  why is that????"
   ]
  },
  {
   "cell_type": "code",
   "execution_count": 61,
   "metadata": {},
   "outputs": [
    {
     "name": "stdout",
     "output_type": "stream",
     "text": [
      "The Original Dictionary:--- {'lion': ['scary', 'big', 'cat'], 'elephant': ['big', 'grey', 'wrinkled'], 'teddy': ['cuddly', 'stuffed']}\n",
      "Copy of the Animal Dictionary:--- {'lion': ['scary', 'big', 'cat'], 'elephant': ['big', 'grey', 'wrinkled'], 'teddy': ['cuddly', 'stuffed']}\n",
      "Teddy value in Animals Dictionary:--- ['cuddly', 'stuffed']\n",
      "Teddy value in Copy Dictionary:--- ['cuddly', 'stuffed']\n",
      "Teddy value in Animals Dictionary:--- ['cuddly', 'stuffed', 'toy']\n",
      "Teddy value in Copy Dictionary:--- ['cuddly', 'stuffed', 'toy']\n"
     ]
    }
   ],
   "source": [
    "## defining the lists\n",
    "lion_list = [\"scary\",\"big\",\"cat\"]\n",
    "elephant_list = [\"big\",\"grey\",\"wrinkled\"]\n",
    "teddy_list = [\"cuddly\",\"stuffed\"]\n",
    "\n",
    "\n",
    "## define dictionary\n",
    "animals = {\n",
    "    \"lion\"  :  lion_list,\n",
    "    \"elephant\"  :  elephant_list,\n",
    "    \"teddy\"  :  teddy_list\n",
    "}\n",
    "\n",
    "print(\"The Original Dictionary:---\",animals)\n",
    "\n",
    "## make a copy\n",
    "\n",
    "things = animals.copy()\n",
    "\n",
    "print(\"Copy of the Animal Dictionary:---\",things)\n",
    "\n",
    "\n",
    "print(\"Teddy value in Animals Dictionary:---\", animals[\"teddy\"])\n",
    "print(\"Teddy value in Copy Dictionary:---\", things[\"teddy\"])\n",
    "\n",
    "\n",
    "## make a change in things.\n",
    "\n",
    "things[\"teddy\"].append(\"toy\")\n",
    "\n",
    "print(\"Teddy value in Animals Dictionary:---\", animals[\"teddy\"])\n",
    "print(\"Teddy value in Copy Dictionary:---\", things[\"teddy\"])"
   ]
  },
  {
   "cell_type": "markdown",
   "metadata": {},
   "source": [
    "Getting the Same Output"
   ]
  },
  {
   "cell_type": "code",
   "execution_count": 62,
   "metadata": {},
   "outputs": [
    {
     "name": "stdout",
     "output_type": "stream",
     "text": [
      "The Original Dictionary:--- {'lion': ['scary', 'big', 'cat'], 'elephant': ['big', 'grey', 'wrinkled'], 'teddy': ['cuddly', 'stuffed']}\n",
      "Copy of the Animal Dictionary:--- {'lion': ['scary', 'big', 'cat'], 'elephant': ['big', 'grey', 'wrinkled'], 'teddy': ['cuddly', 'stuffed']}\n",
      "Teddy value in Animals Dictionary:--- ['cuddly', 'stuffed']\n",
      "Teddy value in Copy Dictionary:--- ['cuddly', 'stuffed']\n",
      "Teddy value in Animals Dictionary:--- ['cuddly', 'stuffed', 'toy']\n",
      "Teddy value in Copy Dictionary:--- ['cuddly', 'stuffed', 'toy']\n"
     ]
    }
   ],
   "source": [
    "## changing the code\n",
    "## defining the lists\n",
    "lion_list = [\"scary\",\"big\",\"cat\"]\n",
    "elephant_list = [\"big\",\"grey\",\"wrinkled\"]\n",
    "teddy_list = [\"cuddly\",\"stuffed\"]\n",
    "\n",
    "\n",
    "## define dictionary\n",
    "animals = {\n",
    "    \"lion\"  :  lion_list,\n",
    "    \"elephant\"  :  elephant_list,\n",
    "    \"teddy\"  :  teddy_list\n",
    "}\n",
    "\n",
    "print(\"The Original Dictionary:---\",animals)\n",
    "\n",
    "## make a copy\n",
    "\n",
    "things = animals.copy()\n",
    "\n",
    "print(\"Copy of the Animal Dictionary:---\",things)\n",
    "\n",
    "\n",
    "print(\"Teddy value in Animals Dictionary:---\", animals[\"teddy\"])\n",
    "print(\"Teddy value in Copy Dictionary:---\", things[\"teddy\"])\n",
    "\n",
    "\n",
    "## make a change in things.\n",
    "\n",
    "#things[\"teddy\"].append(\"toy\")\n",
    "# instead of the above code\n",
    "# using the new list.append() method\n",
    "teddy_list.append(\"toy\")\n",
    "\n",
    "print(\"Teddy value in Animals Dictionary:---\", animals[\"teddy\"])\n",
    "print(\"Teddy value in Copy Dictionary:---\", things[\"teddy\"])"
   ]
  },
  {
   "cell_type": "markdown",
   "metadata": {},
   "source": [
    "We have the Same Output"
   ]
  },
  {
   "cell_type": "code",
   "execution_count": 63,
   "metadata": {},
   "outputs": [
    {
     "name": "stdout",
     "output_type": "stream",
     "text": [
      "The Original Dictionary:--- {'lion': ['scary', 'big', 'cat'], 'elephant': ['big', 'grey', 'wrinkled'], 'teddy': ['cuddly', 'stuffed']}\n",
      "Copy of the Animal Dictionary:--- {'lion': ['scary', 'big', 'cat'], 'elephant': ['big', 'grey', 'wrinkled'], 'teddy': ['cuddly', 'stuffed']}\n",
      "Teddy value in Animals Dictionary:--- ['cuddly', 'stuffed']\n",
      "Teddy value in Copy Dictionary:--- ['cuddly', 'stuffed']\n",
      "Teddy value in Animals Dictionary:--- ['cuddly', 'stuffed', 'toy']\n",
      "Teddy value in Copy Dictionary:--- ['cuddly', 'stuffed', 'toy']\n"
     ]
    }
   ],
   "source": [
    "## isntead of making the copy using copy() method\n",
    "## im making the copy manually\n",
    "## changing the code\n",
    "## defining the lists\n",
    "lion_list = [\"scary\",\"big\",\"cat\"]\n",
    "elephant_list = [\"big\",\"grey\",\"wrinkled\"]\n",
    "teddy_list = [\"cuddly\",\"stuffed\"]\n",
    "\n",
    "\n",
    "## define dictionary\n",
    "animals = {\n",
    "    \"lion\"  :  lion_list,\n",
    "    \"elephant\"  :  elephant_list,\n",
    "    \"teddy\"  :  teddy_list\n",
    "}\n",
    "\n",
    "print(\"The Original Dictionary:---\",animals)\n",
    "\n",
    "## make a copy\n",
    "\n",
    "##things = animals.copy()\n",
    "## instead of the above method\n",
    "## definng things as dictionary of the same of animals\n",
    "things = {\n",
    "    \"lion\"  :  lion_list,\n",
    "    \"elephant\"  :  elephant_list,\n",
    "    \"teddy\"  :  teddy_list\n",
    "}\n",
    "\n",
    "\n",
    "print(\"Copy of the Animal Dictionary:---\",things)\n",
    "\n",
    "\n",
    "print(\"Teddy value in Animals Dictionary:---\", animals[\"teddy\"])\n",
    "print(\"Teddy value in Copy Dictionary:---\", things[\"teddy\"])\n",
    "\n",
    "\n",
    "## make a change in things.\n",
    "\n",
    "#things[\"teddy\"].append(\"toy\")\n",
    "# instead of the above code\n",
    "# using the new list.append() method\n",
    "teddy_list.append(\"toy\")\n",
    "\n",
    "print(\"Teddy value in Animals Dictionary:---\", animals[\"teddy\"])\n",
    "print(\"Teddy value in Copy Dictionary:---\", things[\"teddy\"])"
   ]
  },
  {
   "cell_type": "markdown",
   "metadata": {},
   "source": [
    "Got the Same Output"
   ]
  },
  {
   "cell_type": "code",
   "execution_count": 64,
   "metadata": {},
   "outputs": [
    {
     "name": "stdout",
     "output_type": "stream",
     "text": [
      "The Original Dictionary:--- {'lion': ['scary', 'big', 'cat'], 'elephant': ['big', 'grey', 'wrinkled'], 'teddy': ['cuddly', 'stuffed']}\n",
      "Copy of the Animal Dictionary:--- {'lion': ['scary', 'big', 'cat'], 'elephant': ['big', 'grey', 'wrinkled'], 'teddy': ['cuddly', 'stuffed']}\n",
      "Teddy value in Animals Dictionary:--- ['cuddly', 'stuffed']\n",
      "Teddy value in Copy Dictionary:--- ['cuddly', 'stuffed']\n",
      "Teddy value in Animals Dictionary:--- ['cuddly', 'stuffed', 'toy', 'added via `animals`']\n",
      "Teddy value in Copy Dictionary:--- ['cuddly', 'stuffed', 'toy', 'added via `animals`', 'added via `things`']\n",
      "['cuddly', 'stuffed', 'toy', 'added via `animals`', 'added via `things`']\n"
     ]
    }
   ],
   "source": [
    "## isntead of making the copy using copy() method\n",
    "## im making the copy manually\n",
    "## changing the code\n",
    "## defining the lists\n",
    "lion_list = [\"scary\",\"big\",\"cat\"]\n",
    "elephant_list = [\"big\",\"grey\",\"wrinkled\"]\n",
    "teddy_list = [\"cuddly\",\"stuffed\"]\n",
    "\n",
    "\n",
    "## define dictionary\n",
    "animals = {\n",
    "    \"lion\"  :  lion_list,\n",
    "    \"elephant\"  :  elephant_list,\n",
    "    \"teddy\"  :  teddy_list\n",
    "}\n",
    "\n",
    "print(\"The Original Dictionary:---\",animals)\n",
    "\n",
    "## make a copy\n",
    "\n",
    "##things = animals.copy()\n",
    "## instead of the above method\n",
    "## definng things as dictionary of the same of animals\n",
    "things = {\n",
    "    \"lion\"  :  lion_list,\n",
    "    \"elephant\"  :  elephant_list,\n",
    "    \"teddy\"  :  teddy_list\n",
    "}\n",
    "\n",
    "\n",
    "print(\"Copy of the Animal Dictionary:---\",things)\n",
    "\n",
    "\n",
    "print(\"Teddy value in Animals Dictionary:---\", animals[\"teddy\"])\n",
    "print(\"Teddy value in Copy Dictionary:---\", things[\"teddy\"])\n",
    "\n",
    "\n",
    "## make a change in things.\n",
    "\n",
    "#things[\"teddy\"].append(\"toy\")\n",
    "# instead of the above code\n",
    "# using the new list.append() method\n",
    "teddy_list.append(\"toy\")\n",
    "\n",
    "animals[\"teddy\"].append(\"added via `animals`\")\n",
    "print(\"Teddy value in Animals Dictionary:---\", animals[\"teddy\"])\n",
    "things[\"teddy\"].append(\"added via `things`\")\n",
    "print(\"Teddy value in Copy Dictionary:---\", things[\"teddy\"])\n",
    "print(teddy_list)"
   ]
  },
  {
   "cell_type": "markdown",
   "metadata": {},
   "source": [
    "**DEEPCOPY**\n",
    "\n",
    "+ Taking the Deepcopy\n",
    "+ We need to Import the Copy module for this.\n",
    "+ If we do the DeepCopy, then the change will only occur in copy that we take.\n",
    "+ Unlike the Copy method"
   ]
  },
  {
   "cell_type": "code",
   "execution_count": 65,
   "metadata": {},
   "outputs": [],
   "source": [
    "import copy"
   ]
  },
  {
   "cell_type": "code",
   "execution_count": 66,
   "metadata": {},
   "outputs": [
    {
     "name": "stdout",
     "output_type": "stream",
     "text": [
      "The Original Dictionary:--- {'lion': ['scary', 'big', 'cat'], 'elephant': ['big', 'grey', 'wrinkled'], 'teddy': ['cuddly', 'stuffed']}\n",
      "Copy of the Animal Dictionary:--- {'lion': ['scary', 'big', 'cat'], 'elephant': ['big', 'grey', 'wrinkled'], 'teddy': ['cuddly', 'stuffed']}\n",
      "Teddy value in Animals Dictionary:--- ['cuddly', 'stuffed']\n",
      "Teddy value in Copy Dictionary:--- ['cuddly', 'stuffed']\n",
      "Teddy value in Animals Dictionary:--- ['cuddly', 'stuffed']\n",
      "Teddy value in Copy Dictionary:--- ['cuddly', 'stuffed', 'toy']\n"
     ]
    }
   ],
   "source": [
    "## isntead of making the copy using copy() method\n",
    "## im making the copy manually\n",
    "## changing the code\n",
    "## defining the lists\n",
    "lion_list = [\"scary\",\"big\",\"cat\"]\n",
    "elephant_list = [\"big\",\"grey\",\"wrinkled\"]\n",
    "teddy_list = [\"cuddly\",\"stuffed\"]\n",
    "\n",
    "\n",
    "## define dictionary\n",
    "animals = {\n",
    "    \"lion\"  :  lion_list,\n",
    "    \"elephant\"  :  elephant_list,\n",
    "    \"teddy\"  :  teddy_list\n",
    "}\n",
    "\n",
    "print(\"The Original Dictionary:---\",animals)\n",
    "\n",
    "## make a copy\n",
    "## doing a shallow copy\n",
    "##things = animals.copy()\n",
    "\n",
    "## doing a deepcopy\n",
    "things = copy.deepcopy(animals)\n",
    "\n",
    "\n",
    "\n",
    "print(\"Copy of the Animal Dictionary:---\",things)\n",
    "\n",
    "\n",
    "print(\"Teddy value in Animals Dictionary:---\", animals[\"teddy\"])\n",
    "print(\"Teddy value in Copy Dictionary:---\", things[\"teddy\"])\n",
    "\n",
    "\n",
    "## make a change in things.\n",
    "\n",
    "things[\"teddy\"].append(\"toy\")\n",
    "\n",
    "\n",
    "print(\"Teddy value in Animals Dictionary:---\", animals[\"teddy\"])\n",
    "print(\"Teddy value in Copy Dictionary:---\", things[\"teddy\"])"
   ]
  },
  {
   "cell_type": "markdown",
   "metadata": {},
   "source": [
    "Here the Change occured only in things "
   ]
  },
  {
   "cell_type": "markdown",
   "metadata": {},
   "source": [
    "**CHALLENGE**\n",
    "\n",
    "+ Write a function that takes a Dictionary as an Argument and returns the Deep Copy of the Dictionary\n",
    "\n",
    "Methods\n",
    "\n",
    "+ Create an Empty Dictionary.\n",
    "+ Iter over the keys and values of the dictionary that is being copied.\n",
    "+ For each key, copy the value, then add the copy of the value to the new dictionary.\n",
    "+ Your function only has to handle values that are dictionaries or lists.\n",
    "+ Both of those objects have a copy method."
   ]
  },
  {
   "cell_type": "code",
   "execution_count": 102,
   "metadata": {},
   "outputs": [],
   "source": [
    "from contents_quantities import recipes, pantry"
   ]
  },
  {
   "cell_type": "code",
   "execution_count": 107,
   "metadata": {},
   "outputs": [],
   "source": [
    "## function\n",
    "\n",
    "def my_deepcopy(dictionary):\n",
    "    \n",
    "    \"\"\"\n",
    "    Create an Empty Dictionary.\n",
    "    Iter over the keys and values of the dictionary that is being copied.\n",
    "    For each key, copy the value, then add the copy of the value to the new dictionary.\n",
    "    Your function only has to handle values that are dictionaries or lists.\n",
    "    Both of those objects have a copy method.\n",
    "    \n",
    "    :param dictionary :-- The dictionary that needs to take copy\n",
    "    :return the copy of the dictionary.\n",
    "    \"\"\"\n",
    "    ## create a new dictionary\n",
    "    new_dict = {}\n",
    "    \n",
    "    ## iterate over the new dictionary.\n",
    "    ## iterate over the key, value pairs.\n",
    "    ## \n",
    "    \n",
    "    for key, value in dictionary.items():\n",
    "        new_value = value.copy()\n",
    "        new_dict[key] = new_value\n",
    "        \n",
    "    return new_dict\n",
    "        "
   ]
  },
  {
   "cell_type": "code",
   "execution_count": 106,
   "metadata": {},
   "outputs": [
    {
     "name": "stdout",
     "output_type": "stream",
     "text": [
      "300\n",
      "3\n"
     ]
    }
   ],
   "source": [
    "## taking copy of the dictionary recipes.\n",
    "recipes_copy = my_deepcopy(recipes)\n",
    "## assifning value to the ginger as 300.\n",
    "recipes_copy[\"Butter chicken\"][\"ginger\"] = 300\n",
    "print(recipes_copy[\"Butter chicken\"][\"ginger\"])\n",
    "print(recipes[\"Butter chicken\"][\"ginger\"])"
   ]
  },
  {
   "cell_type": "code",
   "execution_count": 108,
   "metadata": {},
   "outputs": [
    {
     "data": {
      "text/plain": [
       "{'Butter chicken': {'chicken': 750,\n",
       "  'lemon': 1,\n",
       "  'cumin': 1,\n",
       "  'paprika': 1,\n",
       "  'chilli powder': 2,\n",
       "  'yogurt': 250,\n",
       "  'oil': 50,\n",
       "  'onion': 1,\n",
       "  'garlic': 2,\n",
       "  'ginger': 3,\n",
       "  'tomato puree': 240,\n",
       "  'almonds': 25,\n",
       "  'rice': 360,\n",
       "  'coriander': 1,\n",
       "  'lime': 1},\n",
       " 'Chicken and chips': {'chicken': 100,\n",
       "  'potatoes': 3,\n",
       "  'salt': 1,\n",
       "  'malt vinegar': 5},\n",
       " 'Pizza': {'pizza': 1},\n",
       " 'Egg sandwich': {'egg': 2, 'bread': 80, 'butter': 10},\n",
       " 'Beans on toast': {'beans': 1, 'bread': 40},\n",
       " 'Spam a la tin': {'spam': 1, 'tin opener': 1, 'spoon': 1}}"
      ]
     },
     "execution_count": 108,
     "metadata": {},
     "output_type": "execute_result"
    }
   ],
   "source": [
    "recipes"
   ]
  },
  {
   "cell_type": "code",
   "execution_count": 109,
   "metadata": {},
   "outputs": [
    {
     "data": {
      "text/plain": [
       "{'Butter chicken': {'chicken': 750,\n",
       "  'lemon': 1,\n",
       "  'cumin': 1,\n",
       "  'paprika': 1,\n",
       "  'chilli powder': 2,\n",
       "  'yogurt': 250,\n",
       "  'oil': 50,\n",
       "  'onion': 1,\n",
       "  'garlic': 2,\n",
       "  'ginger': 300,\n",
       "  'tomato puree': 240,\n",
       "  'almonds': 25,\n",
       "  'rice': 360,\n",
       "  'coriander': 1,\n",
       "  'lime': 1},\n",
       " 'Chicken and chips': {'chicken': 100,\n",
       "  'potatoes': 3,\n",
       "  'salt': 1,\n",
       "  'malt vinegar': 5},\n",
       " 'Pizza': {'pizza': 1},\n",
       " 'Egg sandwich': {'egg': 2, 'bread': 80, 'butter': 10},\n",
       " 'Beans on toast': {'beans': 1, 'bread': 40},\n",
       " 'Spam a la tin': {'spam': 1, 'tin opener': 1, 'spoon': 1}}"
      ]
     },
     "execution_count": 109,
     "metadata": {},
     "output_type": "execute_result"
    }
   ],
   "source": [
    "recipes_copy"
   ]
  },
  {
   "cell_type": "code",
   "execution_count": 113,
   "metadata": {},
   "outputs": [
    {
     "name": "stdout",
     "output_type": "stream",
     "text": [
      "{'Tim': ['Buchalka', ['Programmer', 'Teacher']], 'J-P': ['Roberts', ['Programmer', 'Teacher']]}\n",
      "{'Tim': ['Buchalka', ['Programmer', 'Teacher']], 'J-P': ['Roberts', ['Programmer', 'Teacher']]}\n",
      "{'Tim': ['Buchalka', ['Programmer', 'Teacher']], 'J-P': ['Roberts', ['Programmer', 'Teacher']]}\n"
     ]
    }
   ],
   "source": [
    "## using the recursive method\n",
    "## if we are importing the packages and modules from another script\n",
    "## from script import my_deepcopy\n",
    "import copy\n",
    "\n",
    "\n",
    "## definiing the Dictionary\n",
    "original = {\n",
    "    \"Tim\" : [\"Buchalka\",[\"Programmer\",\"Teacher\"]],\n",
    "    \"J-P\" : [\"Roberts\",[\"Programmer\",\"Teacher\"]]\n",
    "}\n",
    "\n",
    "#original\n",
    "\n",
    "copy_1 = copy.deepcopy(original)\n",
    "copy_2 = my_deepcopy(original)\n",
    "\n",
    "print(original)\n",
    "print(copy_1)\n",
    "print(copy_2)"
   ]
  },
  {
   "cell_type": "code",
   "execution_count": 114,
   "metadata": {},
   "outputs": [
    {
     "name": "stdout",
     "output_type": "stream",
     "text": [
      "{'Tim': ['Buchalka', ['Programmer', 'Teacher'], 'Australia'], 'J-P': ['Roberts', ['Programmer', 'Teacher'], 'UK']}\n",
      "{'Tim': ['Buchalka', ['Programmer', 'Teacher']], 'J-P': ['Roberts', ['Programmer', 'Teacher']]}\n",
      "{'Tim': ['Buchalka', ['Programmer', 'Teacher']], 'J-P': ['Roberts', ['Programmer', 'Teacher']]}\n"
     ]
    }
   ],
   "source": [
    "## now making some changes in previous code\n",
    "## using the recursive method\n",
    "## if we are importing the packages and modules from another script\n",
    "## from script import my_deepcopy\n",
    "import copy\n",
    "\n",
    "\n",
    "## definiing the Dictionary\n",
    "original = {\n",
    "    \"Tim\" : [\"Buchalka\",[\"Programmer\",\"Teacher\"]],\n",
    "    \"J-P\" : [\"Roberts\",[\"Programmer\",\"Teacher\"]]\n",
    "}\n",
    "\n",
    "\n",
    "\n",
    "copy_1 = copy.deepcopy(original)\n",
    "copy_2 = my_deepcopy(original)\n",
    "\n",
    "\n",
    "## making changes here\n",
    "original[\"Tim\"].append(\"Australia\")\n",
    "original[\"J-P\"].append(\"UK\")\n",
    "\n",
    "print(original)\n",
    "print(copy_1)\n",
    "print(copy_2)"
   ]
  },
  {
   "cell_type": "markdown",
   "metadata": {},
   "source": [
    "Here Only the Original Dictionary got Changed.\n",
    "+ No changes happened either of the copies that we created."
   ]
  },
  {
   "cell_type": "code",
   "execution_count": 115,
   "metadata": {},
   "outputs": [
    {
     "name": "stdout",
     "output_type": "stream",
     "text": [
      "{'Tim': ['Buchalka', ['Programmer', 'Teacher', 'Cashier'], 'Australia'], 'J-P': ['Roberts', ['Programmer', 'Teacher'], 'UK', 'Courier']}\n",
      "{'Tim': ['Buchalka', ['Programmer', 'Teacher']], 'J-P': ['Roberts', ['Programmer', 'Teacher']]}\n",
      "{'Tim': ['Buchalka', ['Programmer', 'Teacher', 'Cashier']], 'J-P': ['Roberts', ['Programmer', 'Teacher']]}\n"
     ]
    }
   ],
   "source": [
    "## Adding new jobs\n",
    "## now making some changes in previous code\n",
    "## using the recursive method\n",
    "## if we are importing the packages and modules from another script\n",
    "## from script import my_deepcopy\n",
    "import copy\n",
    "\n",
    "\n",
    "## definiing the Dictionary\n",
    "original = {\n",
    "    \"Tim\" : [\"Buchalka\",[\"Programmer\",\"Teacher\"]],\n",
    "    \"J-P\" : [\"Roberts\",[\"Programmer\",\"Teacher\"]]\n",
    "}\n",
    "\n",
    "\n",
    "\n",
    "copy_1 = copy.deepcopy(original)\n",
    "copy_2 = my_deepcopy(original)\n",
    "\n",
    "\n",
    "## making changes here\n",
    "original[\"Tim\"].append(\"Australia\")\n",
    "original[\"J-P\"].append(\"UK\")\n",
    "\n",
    "original[\"Tim\"][1].append(\"Cashier\")\n",
    "jp_list = original[\"J-P\"]\n",
    "jp_list.append(\"Courier\")\n",
    "\n",
    "print(original)\n",
    "print(copy_1)\n",
    "print(copy_2)"
   ]
  },
  {
   "cell_type": "markdown",
   "metadata": {},
   "source": [
    "+ In the Original dict there is Changes.\n",
    "+ copy_1 which is deepcopy deos not change.\n",
    "+ copy_2 also changes since it is shallow copy.\n",
    "\n",
    "+ The DeepCopy Function uses the Technique Called Recursion."
   ]
  },
  {
   "cell_type": "code",
   "execution_count": null,
   "metadata": {},
   "outputs": [],
   "source": []
  }
 ],
 "metadata": {
  "kernelspec": {
   "display_name": "Python 3",
   "language": "python",
   "name": "python3"
  },
  "language_info": {
   "codemirror_mode": {
    "name": "ipython",
    "version": 3
   },
   "file_extension": ".py",
   "mimetype": "text/x-python",
   "name": "python",
   "nbconvert_exporter": "python",
   "pygments_lexer": "ipython3",
   "version": "3.8.3"
  }
 },
 "nbformat": 4,
 "nbformat_minor": 4
}
