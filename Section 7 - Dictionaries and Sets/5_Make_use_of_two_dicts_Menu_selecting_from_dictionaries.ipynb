{
 "cells": [
  {
   "cell_type": "markdown",
   "metadata": {},
   "source": [
    "### Make use of two Dictionaries"
   ]
  },
  {
   "cell_type": "markdown",
   "metadata": {},
   "source": [
    "+ Making use of these two Dictionaries\n",
    "+ Transform the Data, so that the keys from recipes becomes the values in display_dict\n",
    "+ The Enumerate function takes each of the keys from the Dictionaries, generate the next number for each one, and emits both values as a Tuple.\n",
    "+ "
   ]
  },
  {
   "cell_type": "code",
   "execution_count": 1,
   "metadata": {
    "jupyter": {
     "source_hidden": true
    }
   },
   "outputs": [],
   "source": [
    "pantry = {\n",
    "    \"chicken\": 500,\n",
    "    \"lemon\": 2,\n",
    "    \"cumin\": 24,\n",
    "    \"paprika\": 18,\n",
    "    \"chilli powder\": 7,\n",
    "    \"yogurt\": 300,\n",
    "    \"oil\": 450,\n",
    "    \"onion\": 5,\n",
    "    \"garlic\": 9,\n",
    "    \"ginger\": 2,\n",
    "    \"tomato puree\": 125,\n",
    "    \"almonds\": 75,\n",
    "    \"rice\": 500,\n",
    "    \"coriander\": 20,\n",
    "    \"lime\": 3,\n",
    "    \"pepper\": 8,\n",
    "    \"egg\": 6,\n",
    "    \"pizza\": 2,\n",
    "    \"spam\": 1,\n",
    "}\n",
    "\n",
    "recipes = {\n",
    "    \"Butter chicken\": [\n",
    "        \"chicken\",\n",
    "        \"lemon\",\n",
    "        \"cumin\",\n",
    "        \"paprika\",\n",
    "        \"chilli powder\",\n",
    "        \"yogurt\",\n",
    "        \"oil\",\n",
    "        \"onion\",\n",
    "        \"garlic\",\n",
    "        \"ginger\",\n",
    "        \"tomato puree\",\n",
    "        \"almonds\",\n",
    "        \"rice\",\n",
    "        \"coriander\",\n",
    "        \"lime\",\n",
    "    ],\n",
    "    \"Chicken and chips\": [\n",
    "        \"chicken\",\n",
    "        \"potatoes\",\n",
    "        \"salt\",\n",
    "        \"malt vinegar\",\n",
    "    ],\n",
    "    \"Pizza\": [\n",
    "        \"pizza\",\n",
    "    ],\n",
    "    \"Egg sandwich\": [\n",
    "        \"egg\",\n",
    "        \"bread\",\n",
    "        \"butter\",\n",
    "    ],\n",
    "    \"Beans on toast\": [\n",
    "        \"beans\",\n",
    "        \"bread\",\n",
    "    ],\n",
    "    \"Spam a la tin\": [\n",
    "        \"spam\",\n",
    "        \"tin opener\",\n",
    "        \"spoon\",\n",
    "    ],\n",
    "}\n",
    "\n"
   ]
  },
  {
   "cell_type": "code",
   "execution_count": 1,
   "metadata": {},
   "outputs": [],
   "source": [
    "from contents import pantry,recipes"
   ]
  },
  {
   "cell_type": "code",
   "execution_count": 29,
   "metadata": {},
   "outputs": [],
   "source": [
    "#print(pantry)\n",
    "#print(recipes)"
   ]
  },
  {
   "cell_type": "code",
   "execution_count": 55,
   "metadata": {},
   "outputs": [],
   "source": [
    "#display_dict = {str(index + 1) : meal for index, meal in enumerate(recipes)}\n",
    "#display_dict  -------------- this Expression is Dictionary Comprehension."
   ]
  },
  {
   "cell_type": "code",
   "execution_count": 2,
   "metadata": {},
   "outputs": [
    {
     "name": "stdout",
     "output_type": "stream",
     "text": [
      "Please choose your recipe:----\n",
      "-----------------------------------------------------------------------------------------\n",
      "1 :---- Butter chicken\n",
      "2 :---- Chicken and chips\n",
      "3 :---- Pizza\n",
      "4 :---- Egg sandwich\n",
      "5 :---- Beans on toast\n",
      "6 :---- Spam a la tin\n"
     ]
    },
    {
     "name": "stdin",
     "output_type": "stream",
     "text": [
      " :  4\n"
     ]
    },
    {
     "name": "stdout",
     "output_type": "stream",
     "text": [
      "You have Selected Egg sandwich\n",
      "Checking Ingredients:-------------\n",
      "['egg', 'bread', 'butter']\n",
      "\tegg is OK\n",
      "\tYou don't have a Necessary Ingredient : bread\n",
      "\tYou don't have a Necessary Ingredient : butter\n",
      "Please choose your recipe:----\n",
      "-----------------------------------------------------------------------------------------\n",
      "1 :---- Butter chicken\n",
      "2 :---- Chicken and chips\n",
      "3 :---- Pizza\n",
      "4 :---- Egg sandwich\n",
      "5 :---- Beans on toast\n",
      "6 :---- Spam a la tin\n"
     ]
    },
    {
     "name": "stdin",
     "output_type": "stream",
     "text": [
      " :  2\n"
     ]
    },
    {
     "name": "stdout",
     "output_type": "stream",
     "text": [
      "You have Selected Chicken and chips\n",
      "Checking Ingredients:-------------\n",
      "['chicken', 'potatoes', 'salt', 'malt vinegar']\n",
      "\tchicken is OK\n",
      "\tYou don't have a Necessary Ingredient : potatoes\n",
      "\tYou don't have a Necessary Ingredient : salt\n",
      "\tYou don't have a Necessary Ingredient : malt vinegar\n",
      "Please choose your recipe:----\n",
      "-----------------------------------------------------------------------------------------\n",
      "1 :---- Butter chicken\n",
      "2 :---- Chicken and chips\n",
      "3 :---- Pizza\n",
      "4 :---- Egg sandwich\n",
      "5 :---- Beans on toast\n",
      "6 :---- Spam a la tin\n"
     ]
    },
    {
     "name": "stdin",
     "output_type": "stream",
     "text": [
      " :  5\n"
     ]
    },
    {
     "name": "stdout",
     "output_type": "stream",
     "text": [
      "You have Selected Beans on toast\n",
      "Checking Ingredients:-------------\n",
      "['beans', 'bread']\n",
      "\tYou don't have a Necessary Ingredient : beans\n",
      "\tYou don't have a Necessary Ingredient : bread\n",
      "Please choose your recipe:----\n",
      "-----------------------------------------------------------------------------------------\n",
      "1 :---- Butter chicken\n",
      "2 :---- Chicken and chips\n",
      "3 :---- Pizza\n",
      "4 :---- Egg sandwich\n",
      "5 :---- Beans on toast\n",
      "6 :---- Spam a la tin\n"
     ]
    },
    {
     "name": "stdin",
     "output_type": "stream",
     "text": [
      " :  0\n"
     ]
    }
   ],
   "source": [
    "display_dict = {}\n",
    "\n",
    "for index, key in enumerate(recipes):     ## The Enumerate function takes each of the keys from the Dictionaries,\n",
    "                                          ## generate the next number for each one, and emits both values as a Tuple.\n",
    "    #print(index, key)\n",
    "    display_dict[str(index + 1)] = key    ## take the index, add one to it and assign it as key.\n",
    "    #print(display_dict)\n",
    "    \n",
    "while True:\n",
    "    \n",
    "    ## display menu of the recipes we know how to cook\n",
    "    print(\"Please choose your recipe:----\")\n",
    "    print(\"-----------------------------------------------------------------------------------------\")\n",
    "    for key, value in display_dict.items():\n",
    "        print(f\"{key} :---- {value}\")\n",
    "        \n",
    "    choice = input(\" : \")\n",
    "    \n",
    "    if choice == \"0\":\n",
    "        break\n",
    "        \n",
    "    elif choice in display_dict:                    ## iterating over the new dictionary\n",
    "                                                    ## choice will be the key in the display_dict\n",
    "        selected_item = display_dict[choice]        ## selected_item will be the value in display_dict corresponding to choice key\n",
    "        print(f\"You have Selected {selected_item}\")\n",
    "        print(\"Checking Ingredients:-------------\")\n",
    "        ingredients = recipes[selected_item]        ## we will get the ingredients from recipe dictionary\n",
    "        print(ingredients)                          ## because the\n",
    "        \n",
    "        for food_item in ingredients:               ## ingredients is a List\n",
    "            #print(food_item)                       ## iterating over the list and\n",
    "            if food_item in pantry:                 ## check the whether the food item is present in the pantry\n",
    "                print(f\"\\t{food_item} is OK\")       ## if the food_item is present in the Pantry, then print OK\n",
    "            else:\n",
    "                print(f\"\\tYou don't have a Necessary Ingredient : {food_item}\")   ## else print a message saying that the food item is not present.\n",
    "    "
   ]
  },
  {
   "cell_type": "code",
   "execution_count": 3,
   "metadata": {},
   "outputs": [
    {
     "name": "stdout",
     "output_type": "stream",
     "text": [
      "Butter chicken : ['chicken', 'lemon', 'cumin', 'paprika', 'chilli powder', 'yogurt', 'oil', 'onion', 'garlic', 'ginger', 'tomato puree', 'almonds', 'rice', 'coriander', 'lime']\n",
      "Chicken and chips : ['chicken', 'potatoes', 'salt', 'malt vinegar']\n",
      "Pizza : ['pizza']\n",
      "Egg sandwich : ['egg', 'bread', 'butter']\n",
      "Beans on toast : ['beans', 'bread']\n",
      "Spam a la tin : ['spam', 'tin opener', 'spoon']\n"
     ]
    }
   ],
   "source": [
    "for key, value in recipes.items():\n",
    "    print(key, value, sep = \" : \")"
   ]
  },
  {
   "cell_type": "code",
   "execution_count": 5,
   "metadata": {},
   "outputs": [
    {
     "name": "stdout",
     "output_type": "stream",
     "text": [
      "chicken : 500\n",
      "lemon : 2\n",
      "cumin : 24\n",
      "paprika : 18\n",
      "chilli powder : 7\n",
      "yogurt : 300\n",
      "oil : 450\n",
      "onion : 5\n",
      "garlic : 9\n",
      "ginger : 2\n",
      "tomato puree : 125\n",
      "almonds : 75\n",
      "rice : 500\n",
      "coriander : 20\n",
      "lime : 3\n",
      "pepper : 8\n",
      "egg : 6\n",
      "pizza : 2\n",
      "spam : 1\n"
     ]
    }
   ],
   "source": [
    "for key, value in pantry.items():\n",
    "    print(key, value, sep = \" : \")"
   ]
  },
  {
   "cell_type": "markdown",
   "metadata": {},
   "source": [
    "+ Choosing between which data structure to use in the Program is Sometimes difficult.\n",
    "+ Here both outputs are same.\n",
    "+ Thats why it is difficult to choose between the datatypes.\n",
    "+ So when choosing the data types, we have check the requirements going forward."
   ]
  },
  {
   "cell_type": "code",
   "execution_count": 6,
   "metadata": {},
   "outputs": [
    {
     "name": "stdout",
     "output_type": "stream",
     "text": [
      "Ingredients for Chicken and chips\n",
      "chicken, 100\n",
      "potatoes, 3\n",
      "salt, 1\n",
      "malt vinegar, 5\n",
      "\n",
      "Ingredients for Chicken and chips\n",
      "chicken, 100\n",
      "potatoes, 3\n",
      "salt, 1\n",
      "malt vinegar, 5\n"
     ]
    }
   ],
   "source": [
    "## first one is a Tuple\n",
    "## So when we choose Tuple, keep in mind that, We cannot do any kind of changes to Tuples.\n",
    "## We cannot reduce the number of items every time we take one item, then we have to reduce one item from the list.\n",
    "## So, if we choose dicts from second one, we can do changes as we need.\n",
    "\n",
    "recipes_tuple = {\n",
    "    \"Chicken and chips\": [\n",
    "        (\"chicken\", 100),\n",
    "        (\"potatoes\", 3),\n",
    "        (\"salt\", 1),\n",
    "        (\"malt vinegar\", 5),\n",
    "    ],\n",
    "}\n",
    "\n",
    "recipes_dict = {\n",
    "    \"Chicken and chips\": {\n",
    "        \"chicken\": 100,\n",
    "        \"potatoes\": 3,\n",
    "        \"salt\": 1,\n",
    "        \"malt vinegar\": 5,\n",
    "    },\n",
    "}\n",
    "\n",
    "# using tuples\n",
    "for recipe, ingredients in recipes_tuple.items():\n",
    "    print(f\"Ingredients for {recipe}\")\n",
    "    for ingredient, quantity in ingredients:  # ingredients is a tuple\n",
    "        print(ingredient, quantity, sep=', ')\n",
    "\n",
    "print()\n",
    "\n",
    "# using a dictionary\n",
    "for recipe, ingredients in recipes_dict.items():\n",
    "    print(f\"Ingredients for {recipe}\")\n",
    "    for ingredient, quantity in ingredients.items():  # ingredients is a dict\n",
    "        print(ingredient, quantity, sep=', ')\n",
    "\n"
   ]
  },
  {
   "cell_type": "markdown",
   "metadata": {},
   "source": [
    "### Choosing the Dictionary Data Structure"
   ]
  },
  {
   "cell_type": "code",
   "execution_count": 7,
   "metadata": {},
   "outputs": [],
   "source": [
    "pantry = {\n",
    "    \"chicken\": 500,\n",
    "    \"lemon\": 2,\n",
    "    \"cumin\": 24,\n",
    "    \"paprika\": 18,\n",
    "    \"chilli powder\": 7,\n",
    "    \"yogurt\": 300,\n",
    "    \"oil\": 450,\n",
    "    \"onion\": 5,\n",
    "    \"garlic\": 9,\n",
    "    \"ginger\": 2,\n",
    "    \"tomato puree\": 125,\n",
    "    \"almonds\": 75,\n",
    "    \"rice\": 500,\n",
    "    \"coriander\": 20,\n",
    "    \"lime\": 3,\n",
    "    \"pepper\": 8,\n",
    "    \"egg\": 6,\n",
    "    \"pizza\": 2,\n",
    "    \"spam\": 1,\n",
    "}\n",
    "\n",
    "recipes = {\n",
    "    \"Butter chicken\": {\n",
    "        \"chicken\": 750,\n",
    "        \"lemon\": 1,\n",
    "        \"cumin\": 1,\n",
    "        \"paprika\": 1,\n",
    "        \"chilli powder\": 2,\n",
    "        \"yogurt\": 250,\n",
    "        \"oil\": 50,\n",
    "        \"onion\": 1,\n",
    "        \"garlic\": 2,\n",
    "        \"ginger\": 3,\n",
    "        \"tomato puree\": 240,\n",
    "        \"almonds\": 25,\n",
    "        \"rice\": 360,\n",
    "        \"coriander\": 1,\n",
    "        \"lime\": 1,\n",
    "    },\n",
    "    \"Chicken and chips\": {\n",
    "        \"chicken\": 100,\n",
    "        \"potatoes\": 3,\n",
    "        \"salt\": 1,\n",
    "        \"malt vinegar\": 5,\n",
    "    },\n",
    "    \"Pizza\": {\n",
    "        \"pizza\": 1,\n",
    "    },\n",
    "    \"Egg sandwich\": {\n",
    "        \"egg\": 2,\n",
    "        \"bread\": 80,\n",
    "        \"butter\": 10,\n",
    "    },\n",
    "    \"Beans on toast\": {\n",
    "        \"beans\": 1,\n",
    "        \"bread\": 40,\n",
    "    },\n",
    "    \"Spam a la tin\": {\n",
    "        \"spam\": 1,\n",
    "        \"tin opener\": 1,\n",
    "        \"spoon\": 1,\n",
    "    },\n",
    "}\n",
    "\n"
   ]
  },
  {
   "cell_type": "code",
   "execution_count": 8,
   "metadata": {},
   "outputs": [
    {
     "name": "stdout",
     "output_type": "stream",
     "text": [
      "chicken   :   500\n",
      "lemon   :   2\n",
      "cumin   :   24\n",
      "paprika   :   18\n",
      "chilli powder   :   7\n",
      "yogurt   :   300\n",
      "oil   :   450\n",
      "onion   :   5\n",
      "garlic   :   9\n",
      "ginger   :   2\n",
      "tomato puree   :   125\n",
      "almonds   :   75\n",
      "rice   :   500\n",
      "coriander   :   20\n",
      "lime   :   3\n",
      "pepper   :   8\n",
      "egg   :   6\n",
      "pizza   :   2\n",
      "spam   :   1\n"
     ]
    }
   ],
   "source": [
    "for key,value in pantry.items():\n",
    "    print(f\"{key}   :   {value}\")"
   ]
  },
  {
   "cell_type": "code",
   "execution_count": 9,
   "metadata": {},
   "outputs": [
    {
     "name": "stdout",
     "output_type": "stream",
     "text": [
      "Butter chicken   :   {'chicken': 750, 'lemon': 1, 'cumin': 1, 'paprika': 1, 'chilli powder': 2, 'yogurt': 250, 'oil': 50, 'onion': 1, 'garlic': 2, 'ginger': 3, 'tomato puree': 240, 'almonds': 25, 'rice': 360, 'coriander': 1, 'lime': 1}\n",
      "Chicken and chips   :   {'chicken': 100, 'potatoes': 3, 'salt': 1, 'malt vinegar': 5}\n",
      "Pizza   :   {'pizza': 1}\n",
      "Egg sandwich   :   {'egg': 2, 'bread': 80, 'butter': 10}\n",
      "Beans on toast   :   {'beans': 1, 'bread': 40}\n",
      "Spam a la tin   :   {'spam': 1, 'tin opener': 1, 'spoon': 1}\n"
     ]
    }
   ],
   "source": [
    "for key,value in recipes.items():\n",
    "    print(f\"{key}   :   {value}\")"
   ]
  },
  {
   "cell_type": "markdown",
   "metadata": {},
   "source": [
    "+ Previously, the Ingredients was a List.\n",
    "+ But for now we have changed the Data Structure to Dictionary.\n",
    "+ So, continuing the Code."
   ]
  },
  {
   "cell_type": "code",
   "execution_count": 10,
   "metadata": {},
   "outputs": [
    {
     "name": "stdout",
     "output_type": "stream",
     "text": [
      "Please choose your recipe:----\n",
      "-----------------------------------------------------------------------------------------\n",
      "1 :---- Butter chicken\n",
      "2 :---- Chicken and chips\n",
      "3 :---- Pizza\n",
      "4 :---- Egg sandwich\n",
      "5 :---- Beans on toast\n",
      "6 :---- Spam a la tin\n"
     ]
    },
    {
     "name": "stdin",
     "output_type": "stream",
     "text": [
      " :  4\n"
     ]
    },
    {
     "name": "stdout",
     "output_type": "stream",
     "text": [
      "You have Selected Egg sandwich\n",
      "Checking Ingredients:-------------\n",
      "{'egg': 2, 'bread': 80, 'butter': 10}\n",
      "\tegg is OK\n",
      "\t You need to buy 80 of bread\n",
      "\t You need to buy 10 of butter\n",
      "Please choose your recipe:----\n",
      "-----------------------------------------------------------------------------------------\n",
      "1 :---- Butter chicken\n",
      "2 :---- Chicken and chips\n",
      "3 :---- Pizza\n",
      "4 :---- Egg sandwich\n",
      "5 :---- Beans on toast\n",
      "6 :---- Spam a la tin\n"
     ]
    },
    {
     "name": "stdin",
     "output_type": "stream",
     "text": [
      " :  2\n"
     ]
    },
    {
     "name": "stdout",
     "output_type": "stream",
     "text": [
      "You have Selected Chicken and chips\n",
      "Checking Ingredients:-------------\n",
      "{'chicken': 100, 'potatoes': 3, 'salt': 1, 'malt vinegar': 5}\n",
      "\tchicken is OK\n",
      "\t You need to buy 3 of potatoes\n",
      "\t You need to buy 1 of salt\n",
      "\t You need to buy 5 of malt vinegar\n",
      "Please choose your recipe:----\n",
      "-----------------------------------------------------------------------------------------\n",
      "1 :---- Butter chicken\n",
      "2 :---- Chicken and chips\n",
      "3 :---- Pizza\n",
      "4 :---- Egg sandwich\n",
      "5 :---- Beans on toast\n",
      "6 :---- Spam a la tin\n"
     ]
    },
    {
     "name": "stdin",
     "output_type": "stream",
     "text": [
      " :  5\n"
     ]
    },
    {
     "name": "stdout",
     "output_type": "stream",
     "text": [
      "You have Selected Beans on toast\n",
      "Checking Ingredients:-------------\n",
      "{'beans': 1, 'bread': 40}\n",
      "\t You need to buy 1 of beans\n",
      "\t You need to buy 40 of bread\n",
      "Please choose your recipe:----\n",
      "-----------------------------------------------------------------------------------------\n",
      "1 :---- Butter chicken\n",
      "2 :---- Chicken and chips\n",
      "3 :---- Pizza\n",
      "4 :---- Egg sandwich\n",
      "5 :---- Beans on toast\n",
      "6 :---- Spam a la tin\n"
     ]
    },
    {
     "name": "stdin",
     "output_type": "stream",
     "text": [
      " :  0\n"
     ]
    }
   ],
   "source": [
    "display_dict = {}\n",
    "\n",
    "for index, key in enumerate(recipes):     ## The Enumerate function takes each of the keys from the Dictionaries,\n",
    "                                          ## generate the next number for each one, and emits both values as a Tuple.\n",
    "    #print(index, key)\n",
    "    display_dict[str(index + 1)] = key    ## take the index, add one to it and assign it as key.\n",
    "    #print(display_dict)\n",
    "    \n",
    "\n",
    "while True:\n",
    "    \n",
    "    ## display menu of the recipes we know how to cook\n",
    "    print(\"Please choose your recipe:----\")\n",
    "    print(\"-----------------------------------------------------------------------------------------\")\n",
    "    for key, value in display_dict.items():\n",
    "        print(f\"{key} :---- {value}\")\n",
    "        \n",
    "    choice = input(\" : \")\n",
    "    \n",
    "    if choice == \"0\":\n",
    "        break\n",
    "        \n",
    "    elif choice in display_dict:                    ## iterating over the new dictionary\n",
    "                                                    ## choice will be the key in the display_dict\n",
    "        selected_item = display_dict[choice]        ## selected_item will be the value in display_dict corresponding to choice key\n",
    "        print(f\"You have Selected {selected_item}\")\n",
    "        print(\"Checking Ingredients:-------------\")\n",
    "        ingredients = recipes[selected_item]        ## we will get the ingredients from recipe dictionary\n",
    "        print(ingredients)                          ## because the\n",
    "        \n",
    "        for food_item, required_qty in ingredients.items():               ## ingredients is a List, was list previously, now changed to dict\n",
    "            qty_in_pantry = pantry.get(food_item, 0)                     ## get method to get the specified item from dicts.\n",
    "            #print(\"The NUmber of Food Item Present in the Pantry\",qty_in_pantry)\n",
    "            #print(food_item)                                            ## iterating over the list and\n",
    "            if required_qty <= qty_in_pantry:                            ## check the whether therequired qty is less thanqty in the pantry\n",
    "                print(f\"\\t{food_item} is OK\")                            ## if the food_item is present in the Pantry, then print OK\n",
    "            else:\n",
    "                qty_to_buy = required_qty - qty_in_pantry\n",
    "                print(f\"\\t You need to buy {qty_to_buy} of {food_item}\")   ## else print a message saying that the food item is not present.\n",
    "                \n",
    "                \n",
    "    "
   ]
  },
  {
   "cell_type": "markdown",
   "metadata": {},
   "source": [
    "+ Now our Program will prints out the items that we need to buy.\n",
    "+ And the quntity we need to BUy.\n",
    "+ But What We Want.\n",
    "\n",
    "+ We need a List or Dictionary Printing by the End of the Program with all the items we need to Buy, irrespective of what are the recipes that we selected.\n",
    "\n",
    "+ MOdify the Program, so that it puts the items we need to buy into some sort of Data Structures.\n",
    "+ Either it could be List or Dictionary.\n",
    "+ We have to do the task using function.\n",
    "+ ie, write a function to append the food items and number of qty to buy to a Dictionary."
   ]
  },
  {
   "cell_type": "code",
   "execution_count": 11,
   "metadata": {},
   "outputs": [],
   "source": [
    "## initialize the shopping list\n",
    "shopping_list = []\n",
    "\n",
    "## define a function to append items to the abpve list\n",
    "def add_shopping_item(data,items,amount):\n",
    "    \"\"\"\n",
    "    This Function have three parameters.\n",
    "    Will take three arguments, data, items, amouunt.\n",
    "    \n",
    "    :param data :- will be a list, that could be shopping_list itself\n",
    "    :param items :- will be the items to buy\n",
    "    :param amount :- will be the number of items to buy.\n",
    "    \n",
    "    return list contains items and number of items.\n",
    "    \"\"\"\n",
    "    \n",
    "    return data.append((items, amount))"
   ]
  },
  {
   "cell_type": "code",
   "execution_count": 13,
   "metadata": {},
   "outputs": [
    {
     "name": "stdout",
     "output_type": "stream",
     "text": [
      "Please choose your recipe:----\n",
      "-----------------------------------------------------------------------------------------\n",
      "1 :---- Butter chicken\n",
      "2 :---- Chicken and chips\n",
      "3 :---- Pizza\n",
      "4 :---- Egg sandwich\n",
      "5 :---- Beans on toast\n",
      "6 :---- Spam a la tin\n"
     ]
    },
    {
     "name": "stdin",
     "output_type": "stream",
     "text": [
      " :  4\n"
     ]
    },
    {
     "name": "stdout",
     "output_type": "stream",
     "text": [
      "You have Selected Egg sandwich\n",
      "Checking Ingredients:-------------\n",
      "{'egg': 2, 'bread': 80, 'butter': 10}\n",
      "\tegg is OK\n",
      "\t You need to buy 80 of bread\n",
      "\t You need to buy 10 of butter\n",
      "Please choose your recipe:----\n",
      "-----------------------------------------------------------------------------------------\n",
      "1 :---- Butter chicken\n",
      "2 :---- Chicken and chips\n",
      "3 :---- Pizza\n",
      "4 :---- Egg sandwich\n",
      "5 :---- Beans on toast\n",
      "6 :---- Spam a la tin\n"
     ]
    },
    {
     "name": "stdin",
     "output_type": "stream",
     "text": [
      " :  2\n"
     ]
    },
    {
     "name": "stdout",
     "output_type": "stream",
     "text": [
      "You have Selected Chicken and chips\n",
      "Checking Ingredients:-------------\n",
      "{'chicken': 100, 'potatoes': 3, 'salt': 1, 'malt vinegar': 5}\n",
      "\tchicken is OK\n",
      "\t You need to buy 3 of potatoes\n",
      "\t You need to buy 1 of salt\n",
      "\t You need to buy 5 of malt vinegar\n",
      "Please choose your recipe:----\n",
      "-----------------------------------------------------------------------------------------\n",
      "1 :---- Butter chicken\n",
      "2 :---- Chicken and chips\n",
      "3 :---- Pizza\n",
      "4 :---- Egg sandwich\n",
      "5 :---- Beans on toast\n",
      "6 :---- Spam a la tin\n"
     ]
    },
    {
     "name": "stdin",
     "output_type": "stream",
     "text": [
      " :  5\n"
     ]
    },
    {
     "name": "stdout",
     "output_type": "stream",
     "text": [
      "You have Selected Beans on toast\n",
      "Checking Ingredients:-------------\n",
      "{'beans': 1, 'bread': 40}\n",
      "\t You need to buy 1 of beans\n",
      "\t You need to buy 40 of bread\n",
      "Please choose your recipe:----\n",
      "-----------------------------------------------------------------------------------------\n",
      "1 :---- Butter chicken\n",
      "2 :---- Chicken and chips\n",
      "3 :---- Pizza\n",
      "4 :---- Egg sandwich\n",
      "5 :---- Beans on toast\n",
      "6 :---- Spam a la tin\n"
     ]
    },
    {
     "name": "stdin",
     "output_type": "stream",
     "text": [
      " :  0\n"
     ]
    },
    {
     "name": "stdout",
     "output_type": "stream",
     "text": [
      "('bread', 80)\n",
      "('butter', 10)\n",
      "('potatoes', 3)\n",
      "('salt', 1)\n",
      "('malt vinegar', 5)\n",
      "('beans', 1)\n",
      "('bread', 40)\n",
      "('bread', 80)\n",
      "('butter', 10)\n",
      "('potatoes', 3)\n",
      "('salt', 1)\n",
      "('malt vinegar', 5)\n",
      "('beans', 1)\n",
      "('bread', 40)\n"
     ]
    }
   ],
   "source": [
    "display_dict = {}\n",
    "\n",
    "for index, key in enumerate(recipes):     ## The Enumerate function takes each of the keys from the Dictionaries,\n",
    "                                          ## generate the next number for each one, and emits both values as a Tuple.\n",
    "    #print(index, key)\n",
    "    display_dict[str(index + 1)] = key    ## take the index, add one to it and assign it as key.\n",
    "    #print(display_dict)\n",
    "    \n",
    "\n",
    "while True:\n",
    "    \n",
    "    ## display menu of the recipes we know how to cook\n",
    "    print(\"Please choose your recipe:----\")\n",
    "    print(\"-----------------------------------------------------------------------------------------\")\n",
    "    for key, value in display_dict.items():\n",
    "        print(f\"{key} :---- {value}\")\n",
    "        \n",
    "    choice = input(\" : \")\n",
    "    \n",
    "    if choice == \"0\":\n",
    "        break\n",
    "        \n",
    "    elif choice in display_dict:                    ## iterating over the new dictionary\n",
    "                                                    ## choice will be the key in the display_dict\n",
    "        selected_item = display_dict[choice]        ## selected_item will be the value in display_dict corresponding to choice key\n",
    "        print(f\"You have Selected {selected_item}\")\n",
    "        print(\"Checking Ingredients:-------------\")\n",
    "        ingredients = recipes[selected_item]        ## we will get the ingredients from recipe dictionary\n",
    "        print(ingredients)                          ## because the\n",
    "        \n",
    "        for food_item, required_qty in ingredients.items():               ## ingredients is a List, was list previously, now changed to dict\n",
    "            qty_in_pantry = pantry.get(food_item, 0)                     ## get method to get the specified item from dicts.\n",
    "            #print(\"The NUmber of Food Item Present in the Pantry\",qty_in_pantry)\n",
    "            #print(food_item)                                            ## iterating over the list and\n",
    "            if required_qty <= qty_in_pantry:                            ## check the whether therequired qty is less thanqty in the pantry\n",
    "                print(f\"\\t{food_item} is OK\")                            ## if the food_item is present in the Pantry, then print OK\n",
    "            else:\n",
    "                qty_to_buy = required_qty - qty_in_pantry\n",
    "                print(f\"\\t You need to buy {qty_to_buy} of {food_item}\")   ## else print a message saying that the food item is not present.\n",
    "                \n",
    "                ## appending data to a list using the function.\n",
    "                add_shopping_item(shopping_list, food_item, qty_to_buy)\n",
    "                \n",
    "for things in shopping_list:\n",
    "    print(things)\n",
    "                \n",
    "                \n",
    "    "
   ]
  },
  {
   "cell_type": "markdown",
   "metadata": {},
   "source": [
    "+ **('chicken', 250)**\n",
    "+ **('ginger', 1)**\n",
    "+ **('tomato puree', 115)**\n",
    "+ **('chicken', 250)**\n",
    "+ **('ginger', 1)**\n",
    "+ **('tomato puree', 115)**\n",
    "+ ('potatoes', 3)\n",
    "+ ('salt', 1)\n",
    "+ ('malt vinegar', 5)\n",
    "+ ('bread', 80)\n",
    "+ ('butter', 10)\n",
    "\n",
    "\n",
    "+ If you check the things we need to buy is repeating in the List.\n",
    "+ That is not that good thing to get in the Way of a List.\n",
    "\n",
    "\n",
    "+ So, when we choose the Data Strcture as List of Tuples,\n",
    "+ We would have choose something Wrong."
   ]
  },
  {
   "cell_type": "markdown",
   "metadata": {},
   "source": [
    "If we sort the Output, would it be Different."
   ]
  },
  {
   "cell_type": "code",
   "execution_count": 14,
   "metadata": {},
   "outputs": [
    {
     "name": "stdout",
     "output_type": "stream",
     "text": [
      "Please choose your recipe:----\n",
      "-----------------------------------------------------------------------------------------\n",
      "1 :---- Butter chicken\n",
      "2 :---- Chicken and chips\n",
      "3 :---- Pizza\n",
      "4 :---- Egg sandwich\n",
      "5 :---- Beans on toast\n",
      "6 :---- Spam a la tin\n"
     ]
    },
    {
     "name": "stdin",
     "output_type": "stream",
     "text": [
      " :  4\n"
     ]
    },
    {
     "name": "stdout",
     "output_type": "stream",
     "text": [
      "You have Selected Egg sandwich\n",
      "Checking Ingredients:-------------\n",
      "{'egg': 2, 'bread': 80, 'butter': 10}\n",
      "\tegg is OK\n",
      "\t You need to buy 80 of bread\n",
      "\t You need to buy 10 of butter\n",
      "Please choose your recipe:----\n",
      "-----------------------------------------------------------------------------------------\n",
      "1 :---- Butter chicken\n",
      "2 :---- Chicken and chips\n",
      "3 :---- Pizza\n",
      "4 :---- Egg sandwich\n",
      "5 :---- Beans on toast\n",
      "6 :---- Spam a la tin\n"
     ]
    },
    {
     "name": "stdin",
     "output_type": "stream",
     "text": [
      " :  2\n"
     ]
    },
    {
     "name": "stdout",
     "output_type": "stream",
     "text": [
      "You have Selected Chicken and chips\n",
      "Checking Ingredients:-------------\n",
      "{'chicken': 100, 'potatoes': 3, 'salt': 1, 'malt vinegar': 5}\n",
      "\tchicken is OK\n",
      "\t You need to buy 3 of potatoes\n",
      "\t You need to buy 1 of salt\n",
      "\t You need to buy 5 of malt vinegar\n",
      "Please choose your recipe:----\n",
      "-----------------------------------------------------------------------------------------\n",
      "1 :---- Butter chicken\n",
      "2 :---- Chicken and chips\n",
      "3 :---- Pizza\n",
      "4 :---- Egg sandwich\n",
      "5 :---- Beans on toast\n",
      "6 :---- Spam a la tin\n"
     ]
    },
    {
     "name": "stdin",
     "output_type": "stream",
     "text": [
      " :  5\n"
     ]
    },
    {
     "name": "stdout",
     "output_type": "stream",
     "text": [
      "You have Selected Beans on toast\n",
      "Checking Ingredients:-------------\n",
      "{'beans': 1, 'bread': 40}\n",
      "\t You need to buy 1 of beans\n",
      "\t You need to buy 40 of bread\n",
      "Please choose your recipe:----\n",
      "-----------------------------------------------------------------------------------------\n",
      "1 :---- Butter chicken\n",
      "2 :---- Chicken and chips\n",
      "3 :---- Pizza\n",
      "4 :---- Egg sandwich\n",
      "5 :---- Beans on toast\n",
      "6 :---- Spam a la tin\n"
     ]
    },
    {
     "name": "stdin",
     "output_type": "stream",
     "text": [
      " :  0\n"
     ]
    },
    {
     "name": "stdout",
     "output_type": "stream",
     "text": [
      "('beans', 1)\n",
      "('beans', 1)\n",
      "('beans', 1)\n",
      "('bread', 40)\n",
      "('bread', 40)\n",
      "('bread', 40)\n",
      "('bread', 80)\n",
      "('bread', 80)\n",
      "('bread', 80)\n",
      "('butter', 10)\n",
      "('butter', 10)\n",
      "('butter', 10)\n",
      "('malt vinegar', 5)\n",
      "('malt vinegar', 5)\n",
      "('malt vinegar', 5)\n",
      "('potatoes', 3)\n",
      "('potatoes', 3)\n",
      "('potatoes', 3)\n",
      "('salt', 1)\n",
      "('salt', 1)\n",
      "('salt', 1)\n"
     ]
    }
   ],
   "source": [
    "display_dict = {}\n",
    "\n",
    "for index, key in enumerate(recipes):     ## The Enumerate function takes each of the keys from the Dictionaries,\n",
    "                                          ## generate the next number for each one, and emits both values as a Tuple.\n",
    "    #print(index, key)\n",
    "    display_dict[str(index + 1)] = key    ## take the index, add one to it and assign it as key.\n",
    "    #print(display_dict)\n",
    "    \n",
    "\n",
    "while True:\n",
    "    \n",
    "    ## display menu of the recipes we know how to cook\n",
    "    print(\"Please choose your recipe:----\")\n",
    "    print(\"-----------------------------------------------------------------------------------------\")\n",
    "    for key, value in display_dict.items():\n",
    "        print(f\"{key} :---- {value}\")\n",
    "        \n",
    "    choice = input(\" : \")\n",
    "    \n",
    "    if choice == \"0\":\n",
    "        break\n",
    "        \n",
    "    elif choice in display_dict:                    ## iterating over the new dictionary\n",
    "                                                    ## choice will be the key in the display_dict\n",
    "        selected_item = display_dict[choice]        ## selected_item will be the value in display_dict corresponding to choice key\n",
    "        print(f\"You have Selected {selected_item}\")\n",
    "        print(\"Checking Ingredients:-------------\")\n",
    "        ingredients = recipes[selected_item]        ## we will get the ingredients from recipe dictionary\n",
    "        print(ingredients)                          ## because the\n",
    "        \n",
    "        for food_item, required_qty in ingredients.items():               ## ingredients is a List, was list previously, now changed to dict\n",
    "            qty_in_pantry = pantry.get(food_item, 0)                     ## get method to get the specified item from dicts.\n",
    "            #print(\"The NUmber of Food Item Present in the Pantry\",qty_in_pantry)\n",
    "            #print(food_item)                                            ## iterating over the list and\n",
    "            if required_qty <= qty_in_pantry:                            ## check the whether therequired qty is less thanqty in the pantry\n",
    "                print(f\"\\t{food_item} is OK\")                            ## if the food_item is present in the Pantry, then print OK\n",
    "            else:\n",
    "                qty_to_buy = required_qty - qty_in_pantry\n",
    "                print(f\"\\t You need to buy {qty_to_buy} of {food_item}\")   ## else print a message saying that the food item is not present.\n",
    "                \n",
    "                ## appending data to a list using the function.\n",
    "                add_shopping_item(shopping_list, food_item, qty_to_buy)\n",
    "                \n",
    "for things in sorted(shopping_list):\n",
    "    print(things)\n",
    "                \n",
    "                \n",
    "    "
   ]
  },
  {
   "cell_type": "markdown",
   "metadata": {},
   "source": [
    "+ Previously We chosen the List of Tuples.\n",
    "+ So we got the repeating output.\n",
    "+ Now change the Data Structure to Dictionary."
   ]
  },
  {
   "cell_type": "code",
   "execution_count": 18,
   "metadata": {},
   "outputs": [],
   "source": [
    "## initialize the shopping dictionary\n",
    "shopping_dict = {}\n",
    "\n",
    "## define a function to append items to the abpve list\n",
    "def add_shopping_item(data,items,amount):\n",
    "    \"\"\"\n",
    "    This Function have three parameters.\n",
    "    Will take three arguments, data, items, amouunt.\n",
    "    \n",
    "    :param data :- will be a dictionary, that could be shopping_dict itself\n",
    "    :param items :- will be the items to buy\n",
    "    :param amount :- will be the number of items to buy.\n",
    "    \n",
    "    return list contains items and number of items.\n",
    "    \"\"\"\n",
    "    \n",
    "    if items in data:               ## data is the dictionary\n",
    "        data[items] += amount       ## Augmnented Assignments is the Operation.\n",
    "    else:                           ## data[items], here items = key, and assigning that to the added value by amounts.\n",
    "        data[items] = amount        ## if items is already present in data dict, increase the value by the amount.\n",
    "                                    ## otherwise there will not be items.\n",
    "                                    ## in that case we need to add one new entry to the data dict.\n",
    "        "
   ]
  },
  {
   "cell_type": "code",
   "execution_count": 17,
   "metadata": {},
   "outputs": [
    {
     "name": "stdout",
     "output_type": "stream",
     "text": [
      "Please choose your recipe:----\n",
      "-----------------------------------------------------------------------------------------\n",
      "1 :---- Butter chicken\n",
      "2 :---- Chicken and chips\n",
      "3 :---- Pizza\n",
      "4 :---- Egg sandwich\n",
      "5 :---- Beans on toast\n",
      "6 :---- Spam a la tin\n"
     ]
    },
    {
     "name": "stdin",
     "output_type": "stream",
     "text": [
      " :  4\n"
     ]
    },
    {
     "name": "stdout",
     "output_type": "stream",
     "text": [
      "You have Selected Egg sandwich\n",
      "Checking Ingredients:-------------\n",
      "{'egg': 2, 'bread': 80, 'butter': 10}\n",
      "\tegg is OK\n",
      "\t You need to buy 80 of bread\n",
      "\t You need to buy 10 of butter\n",
      "Please choose your recipe:----\n",
      "-----------------------------------------------------------------------------------------\n",
      "1 :---- Butter chicken\n",
      "2 :---- Chicken and chips\n",
      "3 :---- Pizza\n",
      "4 :---- Egg sandwich\n",
      "5 :---- Beans on toast\n",
      "6 :---- Spam a la tin\n"
     ]
    },
    {
     "name": "stdin",
     "output_type": "stream",
     "text": [
      " :  2\n"
     ]
    },
    {
     "name": "stdout",
     "output_type": "stream",
     "text": [
      "You have Selected Chicken and chips\n",
      "Checking Ingredients:-------------\n",
      "{'chicken': 100, 'potatoes': 3, 'salt': 1, 'malt vinegar': 5}\n",
      "\tchicken is OK\n",
      "\t You need to buy 3 of potatoes\n",
      "\t You need to buy 1 of salt\n",
      "\t You need to buy 5 of malt vinegar\n",
      "Please choose your recipe:----\n",
      "-----------------------------------------------------------------------------------------\n",
      "1 :---- Butter chicken\n",
      "2 :---- Chicken and chips\n",
      "3 :---- Pizza\n",
      "4 :---- Egg sandwich\n",
      "5 :---- Beans on toast\n",
      "6 :---- Spam a la tin\n"
     ]
    },
    {
     "name": "stdin",
     "output_type": "stream",
     "text": [
      " :  5\n"
     ]
    },
    {
     "name": "stdout",
     "output_type": "stream",
     "text": [
      "You have Selected Beans on toast\n",
      "Checking Ingredients:-------------\n",
      "{'beans': 1, 'bread': 40}\n",
      "\t You need to buy 1 of beans\n",
      "\t You need to buy 40 of bread\n",
      "Please choose your recipe:----\n",
      "-----------------------------------------------------------------------------------------\n",
      "1 :---- Butter chicken\n",
      "2 :---- Chicken and chips\n",
      "3 :---- Pizza\n",
      "4 :---- Egg sandwich\n",
      "5 :---- Beans on toast\n",
      "6 :---- Spam a la tin\n"
     ]
    },
    {
     "name": "stdin",
     "output_type": "stream",
     "text": [
      " :  0\n"
     ]
    },
    {
     "name": "stdout",
     "output_type": "stream",
     "text": [
      "('bread', 240)\n",
      "('butter', 20)\n",
      "('potatoes', 6)\n",
      "('salt', 2)\n",
      "('malt vinegar', 10)\n",
      "('beans', 2)\n"
     ]
    }
   ],
   "source": [
    "## display_dict = {}\n",
    "\n",
    "for index, key in enumerate(recipes):     ## The Enumerate function takes each of the keys from the Dictionaries,\n",
    "                                          ## generate the next number for each one, and emits both values as a Tuple.\n",
    "    #print(index, key)\n",
    "    display_dict[str(index + 1)] = key    ## take the index, add one to it and assign it as key.\n",
    "    #print(display_dict)\n",
    "    \n",
    "\n",
    "while True:\n",
    "    \n",
    "    ## display menu of the recipes we know how to cook\n",
    "    print(\"Please choose your recipe:----\")\n",
    "    print(\"-----------------------------------------------------------------------------------------\")\n",
    "    for key, value in display_dict.items():\n",
    "        print(f\"{key} :---- {value}\")\n",
    "        \n",
    "    choice = input(\" : \")\n",
    "    \n",
    "    if choice == \"0\":\n",
    "        break\n",
    "        \n",
    "    elif choice in display_dict:                    ## iterating over the new dictionary\n",
    "                                                    ## choice will be the key in the display_dict\n",
    "        selected_item = display_dict[choice]        ## selected_item will be the value in display_dict corresponding to choice key\n",
    "        print(f\"You have Selected {selected_item}\")\n",
    "        print(\"Checking Ingredients:-------------\")\n",
    "        ingredients = recipes[selected_item]        ## we will get the ingredients from recipe dictionary\n",
    "        print(ingredients)                          ## because the\n",
    "        \n",
    "        for food_item, required_qty in ingredients.items():               ## ingredients is a List, was list previously, now changed to dict\n",
    "            qty_in_pantry = pantry.get(food_item, 0)                     ## get method to get the specified item from dicts.\n",
    "            #print(\"The NUmber of Food Item Present in the Pantry\",qty_in_pantry)\n",
    "            #print(food_item)                                            ## iterating over the list and\n",
    "            if required_qty <= qty_in_pantry:                            ## check the whether therequired qty is less thanqty in the pantry\n",
    "                print(f\"\\t{food_item} is OK\")                            ## if the food_item is present in the Pantry, then print OK\n",
    "            else:\n",
    "                qty_to_buy = required_qty - qty_in_pantry\n",
    "                print(f\"\\t You need to buy {qty_to_buy} of {food_item}\")   ## else print a message saying that the food item is not present.\n",
    "                \n",
    "                ## appending data to a list using the function.\n",
    "                add_shopping_item(shopping_dict, food_item, qty_to_buy)\n",
    "                \n",
    "for things in shopping_dict.items():\n",
    "    print(things)\n",
    "                \n",
    "                \n",
    "    "
   ]
  },
  {
   "cell_type": "markdown",
   "metadata": {},
   "source": [
    "+ Writing the Function in a Different Method.\n",
    "+ Using .setdefault method"
   ]
  },
  {
   "cell_type": "code",
   "execution_count": 21,
   "metadata": {},
   "outputs": [],
   "source": [
    "## initialize the shopping dictionary\n",
    "shopping_dict = {}\n",
    "\n",
    "def add_shopping_item_setdefault(data, items, amount):\n",
    "    \n",
    "    data[items] = data.setdefault(items, 0) + amount"
   ]
  },
  {
   "cell_type": "code",
   "execution_count": 23,
   "metadata": {},
   "outputs": [
    {
     "name": "stdout",
     "output_type": "stream",
     "text": [
      "Please choose your recipe:----\n",
      "-----------------------------------------------------------------------------------------\n",
      "1 :---- Butter chicken\n",
      "2 :---- Chicken and chips\n",
      "3 :---- Pizza\n",
      "4 :---- Egg sandwich\n",
      "5 :---- Beans on toast\n",
      "6 :---- Spam a la tin\n"
     ]
    },
    {
     "name": "stdin",
     "output_type": "stream",
     "text": [
      " :  4\n"
     ]
    },
    {
     "name": "stdout",
     "output_type": "stream",
     "text": [
      "You have Selected Egg sandwich\n",
      "Checking Ingredients:-------------\n",
      "{'egg': 2, 'bread': 80, 'butter': 10}\n",
      "\tegg is OK\n",
      "\t You need to buy 80 of bread\n",
      "\t You need to buy 10 of butter\n",
      "Please choose your recipe:----\n",
      "-----------------------------------------------------------------------------------------\n",
      "1 :---- Butter chicken\n",
      "2 :---- Chicken and chips\n",
      "3 :---- Pizza\n",
      "4 :---- Egg sandwich\n",
      "5 :---- Beans on toast\n",
      "6 :---- Spam a la tin\n"
     ]
    },
    {
     "name": "stdin",
     "output_type": "stream",
     "text": [
      " :  2\n"
     ]
    },
    {
     "name": "stdout",
     "output_type": "stream",
     "text": [
      "You have Selected Chicken and chips\n",
      "Checking Ingredients:-------------\n",
      "{'chicken': 100, 'potatoes': 3, 'salt': 1, 'malt vinegar': 5}\n",
      "\tchicken is OK\n",
      "\t You need to buy 3 of potatoes\n",
      "\t You need to buy 1 of salt\n",
      "\t You need to buy 5 of malt vinegar\n",
      "Please choose your recipe:----\n",
      "-----------------------------------------------------------------------------------------\n",
      "1 :---- Butter chicken\n",
      "2 :---- Chicken and chips\n",
      "3 :---- Pizza\n",
      "4 :---- Egg sandwich\n",
      "5 :---- Beans on toast\n",
      "6 :---- Spam a la tin\n"
     ]
    },
    {
     "name": "stdin",
     "output_type": "stream",
     "text": [
      " :  5\n"
     ]
    },
    {
     "name": "stdout",
     "output_type": "stream",
     "text": [
      "You have Selected Beans on toast\n",
      "Checking Ingredients:-------------\n",
      "{'beans': 1, 'bread': 40}\n",
      "\t You need to buy 1 of beans\n",
      "\t You need to buy 40 of bread\n",
      "Please choose your recipe:----\n",
      "-----------------------------------------------------------------------------------------\n",
      "1 :---- Butter chicken\n",
      "2 :---- Chicken and chips\n",
      "3 :---- Pizza\n",
      "4 :---- Egg sandwich\n",
      "5 :---- Beans on toast\n",
      "6 :---- Spam a la tin\n"
     ]
    },
    {
     "name": "stdin",
     "output_type": "stream",
     "text": [
      " :  0\n"
     ]
    },
    {
     "name": "stdout",
     "output_type": "stream",
     "text": [
      "('bread', 240)\n",
      "('butter', 20)\n",
      "('potatoes', 6)\n",
      "('salt', 2)\n",
      "('malt vinegar', 10)\n",
      "('beans', 2)\n"
     ]
    }
   ],
   "source": [
    "## display_dict = {}\n",
    "\n",
    "for index, key in enumerate(recipes):     ## The Enumerate function takes each of the keys from the Dictionaries,\n",
    "                                          ## generate the next number for each one, and emits both values as a Tuple.\n",
    "    #print(index, key)\n",
    "    display_dict[str(index + 1)] = key    ## take the index, add one to it and assign it as key.\n",
    "    #print(display_dict)\n",
    "    \n",
    "\n",
    "while True:\n",
    "    \n",
    "    ## display menu of the recipes we know how to cook\n",
    "    print(\"Please choose your recipe:----\")\n",
    "    print(\"-----------------------------------------------------------------------------------------\")\n",
    "    for key, value in display_dict.items():\n",
    "        print(f\"{key} :---- {value}\")\n",
    "        \n",
    "    choice = input(\" : \")\n",
    "    \n",
    "    if choice == \"0\":\n",
    "        break\n",
    "        \n",
    "    elif choice in display_dict:                    ## iterating over the new dictionary\n",
    "                                                    ## choice will be the key in the display_dict\n",
    "        selected_item = display_dict[choice]        ## selected_item will be the value in display_dict corresponding to choice key\n",
    "        print(f\"You have Selected {selected_item}\")\n",
    "        print(\"Checking Ingredients:-------------\")\n",
    "        ingredients = recipes[selected_item]        ## we will get the ingredients from recipe dictionary\n",
    "        print(ingredients)                          ## because the\n",
    "        \n",
    "        for food_item, required_qty in ingredients.items():               ## ingredients is a List, was list previously, now changed to dict\n",
    "            qty_in_pantry = pantry.get(food_item, 0)                     ## get method to get the specified item from dicts.\n",
    "            #print(\"The NUmber of Food Item Present in the Pantry\",qty_in_pantry)\n",
    "            #print(food_item)                                            ## iterating over the list and\n",
    "            if required_qty <= qty_in_pantry:                            ## check the whether therequired qty is less thanqty in the pantry\n",
    "                print(f\"\\t{food_item} is OK\")                            ## if the food_item is present in the Pantry, then print OK\n",
    "            else:\n",
    "                qty_to_buy = required_qty - qty_in_pantry\n",
    "                print(f\"\\t You need to buy {qty_to_buy} of {food_item}\")   ## else print a message saying that the food item is not present.\n",
    "                \n",
    "                ## appending data to a list using the function.\n",
    "                add_shopping_item_setdefault(shopping_dict, food_item, qty_to_buy)\n",
    "                \n",
    "for things in shopping_dict.items():\n",
    "    print(things)\n",
    "                \n",
    "                \n",
    "    "
   ]
  },
  {
   "cell_type": "code",
   "execution_count": null,
   "metadata": {},
   "outputs": [],
   "source": []
  }
 ],
 "metadata": {
  "kernelspec": {
   "display_name": "Python 3",
   "language": "python",
   "name": "python3"
  },
  "language_info": {
   "codemirror_mode": {
    "name": "ipython",
    "version": 3
   },
   "file_extension": ".py",
   "mimetype": "text/x-python",
   "name": "python",
   "nbconvert_exporter": "python",
   "pygments_lexer": "ipython3",
   "version": "3.8.3"
  }
 },
 "nbformat": 4,
 "nbformat_minor": 4
}
