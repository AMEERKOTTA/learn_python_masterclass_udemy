{
 "cells": [
  {
   "cell_type": "markdown",
   "metadata": {},
   "source": [
    "### MENU PROGRAM USING DICTIONARIES"
   ]
  },
  {
   "cell_type": "markdown",
   "metadata": {},
   "source": [
    "**MENU PROGRAM USING LISTS**"
   ]
  },
  {
   "cell_type": "code",
   "execution_count": 6,
   "metadata": {},
   "outputs": [
    {
     "name": "stdout",
     "output_type": "stream",
     "text": [
      "['1', '2', '3', '4', '5', '6', '7']\n",
      "Please add option from the list below\n",
      "1:\tcomputer\n",
      "2:\tmonitor\n",
      "3:\tkeyboard\n",
      "4:\tmouse\n",
      "5:\tmouse mat\n",
      "6:\tHDMI cable\n",
      "7:\tDVD drive\n"
     ]
    },
    {
     "name": "stdin",
     "output_type": "stream",
     "text": [
      " 1\n"
     ]
    },
    {
     "name": "stdout",
     "output_type": "stream",
     "text": [
      "Adding 1\n",
      "The Index:-- 0\n",
      "The choosen part-- computer\n"
     ]
    },
    {
     "name": "stdin",
     "output_type": "stream",
     "text": [
      " 2\n"
     ]
    },
    {
     "name": "stdout",
     "output_type": "stream",
     "text": [
      "Adding 2\n",
      "The Index:-- 1\n",
      "The choosen part-- monitor\n"
     ]
    },
    {
     "name": "stdin",
     "output_type": "stream",
     "text": [
      " 3\n"
     ]
    },
    {
     "name": "stdout",
     "output_type": "stream",
     "text": [
      "Adding 3\n",
      "The Index:-- 2\n",
      "The choosen part-- keyboard\n"
     ]
    },
    {
     "name": "stdin",
     "output_type": "stream",
     "text": [
      " 4\n"
     ]
    },
    {
     "name": "stdout",
     "output_type": "stream",
     "text": [
      "Adding 4\n",
      "The Index:-- 3\n",
      "The choosen part-- mouse\n"
     ]
    },
    {
     "name": "stdin",
     "output_type": "stream",
     "text": [
      " 0\n"
     ]
    },
    {
     "name": "stdout",
     "output_type": "stream",
     "text": [
      "End of the Program\n",
      "['computer', 'monitor', 'keyboard', 'mouse']\n"
     ]
    }
   ],
   "source": [
    "## Menu Program using List.\n",
    "\n",
    "## program to append items to list\n",
    "available_parts = [\"computer\",\"monitor\",\"keyboard\",\"mouse\",\"mouse mat\",\"HDMI cable\",\"DVD drive\"]\n",
    "current_choice = \"-\"\n",
    "computer_parts = []  ## creating a empty list\n",
    "## [str(i) for i in range(1,len(available_parts)+1)] ------------------LIST COMPREHENSION\n",
    "valid_choices=[]   ## valid choices are to append the number strings\n",
    "for i in range(1,len(available_parts)+1):\n",
    "    valid_choices.append(str(i))\n",
    "print(valid_choices)  ##[\"1\",\"2\",\"3\",\"4\",\"5\",\"6\",\"7\"]\n",
    "\n",
    "while current_choice != \"0\":\n",
    "    if current_choice in valid_choices:              ## if the current choice is there in valid choice\n",
    "        print(\"Adding {}\".format(current_choice))    ## go ahead and add that choice\n",
    "        index = int(current_choice) - 1              ## for that we need index of the current choice\n",
    "        print(\"The Index:--\",index)                  ## out put of the index\n",
    "        chosen_part = available_parts[index]         ## to know the choossen part from the available parts\n",
    "        print(\"The choosen part--\",chosen_part)      ## its output\n",
    "        computer_parts.append(chosen_part)           ## appending that to the empty list\n",
    "    else:\n",
    "        print(\"Please add option from the list below\")\n",
    "        for number,part in enumerate(available_parts):  ## enumerate function will index values from the avalable parts\n",
    "            print(\"{0}:\\t{1}\".format(number+1,part))    ## printing that values\n",
    "    current_choice = input()                            ## the guess of current choice\n",
    "    \n",
    "else:\n",
    "    print(\"End of the Program\")\n",
    "    print(computer_parts)"
   ]
  },
  {
   "cell_type": "markdown",
   "metadata": {},
   "source": [
    "**MENU PROGRAM USING LIST IN SORTED ORDER**\n",
    "\n",
    "+ Tried with Sorting the List.\n",
    "+ Sorting is Done to get the Menu in a Alphabetical Order.\n",
    "+ Or in any Sorted Order.\n",
    "+ For Simplicity."
   ]
  },
  {
   "cell_type": "code",
   "execution_count": 17,
   "metadata": {},
   "outputs": [
    {
     "name": "stdout",
     "output_type": "stream",
     "text": [
      "Given Available Parts:----- ['computer', 'monitor', 'keyboard', 'mouse', 'mouse mat', 'HDMI Cable', 'DVD Drive']\n",
      "Initialized Value of Current Choice :--- -\n",
      "Please Add an Option from the List Below:--\n",
      "1 : \tDVD Drive\n",
      "2 : \tHDMI Cable\n",
      "3 : \tcomputer\n",
      "4 : \tkeyboard\n",
      "5 : \tmonitor\n",
      "6 : \tmouse\n",
      "7 : \tmouse mat\n"
     ]
    },
    {
     "name": "stdin",
     "output_type": "stream",
     "text": [
      " 1\n"
     ]
    },
    {
     "name": "stdout",
     "output_type": "stream",
     "text": [
      "Adding 1\n",
      "The Index VAlue of the Part:-- 0\n",
      "The chosen Part DVD Drive with the index Value 0:--\n"
     ]
    },
    {
     "name": "stdin",
     "output_type": "stream",
     "text": [
      " 2\n"
     ]
    },
    {
     "name": "stdout",
     "output_type": "stream",
     "text": [
      "Adding 2\n",
      "The Index VAlue of the Part:-- 1\n",
      "The chosen Part HDMI Cable with the index Value 1:--\n"
     ]
    },
    {
     "name": "stdin",
     "output_type": "stream",
     "text": [
      " 3\n"
     ]
    },
    {
     "name": "stdout",
     "output_type": "stream",
     "text": [
      "Adding 3\n",
      "The Index VAlue of the Part:-- 2\n",
      "The chosen Part computer with the index Value 2:--\n"
     ]
    },
    {
     "name": "stdin",
     "output_type": "stream",
     "text": [
      " 4\n"
     ]
    },
    {
     "name": "stdout",
     "output_type": "stream",
     "text": [
      "Adding 4\n",
      "The Index VAlue of the Part:-- 3\n",
      "The chosen Part keyboard with the index Value 3:--\n"
     ]
    },
    {
     "name": "stdin",
     "output_type": "stream",
     "text": [
      " 0\n"
     ]
    },
    {
     "name": "stdout",
     "output_type": "stream",
     "text": [
      "End the Program\n",
      "['DVD Drive', 'HDMI Cable', 'computer', 'keyboard']\n"
     ]
    }
   ],
   "source": [
    "available_parts = [\"computer\",\"monitor\",\"keyboard\",\"mouse\",\"mouse mat\",\"HDMI Cable\",\"DVD Drive\"]\n",
    "print(\"Given Available Parts:-----\",available_parts)\n",
    "\n",
    "## initializing current_choice to \"-\"\n",
    "current_choice = \"-\"\n",
    "print(\"Initialized Value of Current Choice :---\", current_choice)\n",
    "\n",
    "## create an empty list to append the Computer Parts\n",
    "## this will be the resulting List.\n",
    "computer_parts = []\n",
    "\n",
    "## creating a valid_choice list to append the umber string.\n",
    "valid_choices = []\n",
    "\n",
    "\n",
    "for i in range(1, len(available_parts)+1):\n",
    "    #print(i)\n",
    "    valid_choices.append(str(i))\n",
    "    #print(valid_choices)\n",
    "    \n",
    "## initiating sort operation on the available list.\n",
    "available_parts.sort()\n",
    "    \n",
    "while current_choice != \"0\":      ## current_choice != 0, if i give it like this, then by giving 0, the program will not break.\n",
    "    if current_choice in valid_choices:\n",
    "        print(\"Adding {}\".format(current_choice))\n",
    "        index = int(current_choice) - 1\n",
    "        print(\"The Index VAlue of the Part:--\", index)\n",
    "        chosen_part = available_parts[index]\n",
    "        print(\"The chosen Part {} with the index Value {}:--\".format(chosen_part, index))\n",
    "        computer_parts.append(chosen_part)\n",
    "        \n",
    "    else:\n",
    "        print(\"Please Add an Option from the List Below:--\")\n",
    "        for number, part in enumerate(available_parts):\n",
    "            print(\"{} : \\t{}\".format(number+1, part))\n",
    "            \n",
    "    current_choice = input()\n",
    "    \n",
    "else:\n",
    "    print(\"End the Program\")\n",
    "    print(computer_parts)"
   ]
  },
  {
   "cell_type": "markdown",
   "metadata": {},
   "source": [
    "+ When you use `in` with a List, it will check items in the List.\n",
    "+ When you use `in` with a Dictionary, it will check keys in the Dictionary, not values."
   ]
  },
  {
   "cell_type": "markdown",
   "metadata": {},
   "source": [
    "+ Add an `else` block to the Code, and Print the Menu the user's choice is not in the Dictionary"
   ]
  },
  {
   "cell_type": "markdown",
   "metadata": {},
   "source": [
    "**MENU PROGRAM USING DICTIONARIES**"
   ]
  },
  {
   "cell_type": "code",
   "execution_count": 16,
   "metadata": {},
   "outputs": [
    {
     "name": "stdout",
     "output_type": "stream",
     "text": [
      "1 : computer\n",
      "2 : monitor\n",
      "3 : keyboard\n",
      "4 : mouse\n",
      "5 : mouse mat\n",
      "6 : HDMI Cable\n",
      "7 : DVD Drive\n",
      "0 : to finish\n"
     ]
    },
    {
     "name": "stdin",
     "output_type": "stream",
     "text": [
      " >  1\n"
     ]
    },
    {
     "name": "stdout",
     "output_type": "stream",
     "text": [
      "The Choice we Selected:--- 1\n",
      "The Part Associated with the Selected Choice:--- computer\n",
      "Adding computer to the Purchase List\n"
     ]
    },
    {
     "name": "stdin",
     "output_type": "stream",
     "text": [
      " >  2\n"
     ]
    },
    {
     "name": "stdout",
     "output_type": "stream",
     "text": [
      "The Choice we Selected:--- 2\n",
      "The Part Associated with the Selected Choice:--- monitor\n",
      "Adding monitor to the Purchase List\n"
     ]
    },
    {
     "name": "stdin",
     "output_type": "stream",
     "text": [
      " >  3\n"
     ]
    },
    {
     "name": "stdout",
     "output_type": "stream",
     "text": [
      "The Choice we Selected:--- 3\n",
      "The Part Associated with the Selected Choice:--- keyboard\n",
      "Adding keyboard to the Purchase List\n"
     ]
    },
    {
     "name": "stdin",
     "output_type": "stream",
     "text": [
      " >  4\n"
     ]
    },
    {
     "name": "stdout",
     "output_type": "stream",
     "text": [
      "The Choice we Selected:--- 4\n",
      "The Part Associated with the Selected Choice:--- mouse\n",
      "Adding mouse to the Purchase List\n"
     ]
    },
    {
     "name": "stdin",
     "output_type": "stream",
     "text": [
      " >  0\n"
     ]
    },
    {
     "name": "stdout",
     "output_type": "stream",
     "text": [
      "End of the Program\n",
      "['computer', 'monitor', 'keyboard', 'mouse']\n"
     ]
    }
   ],
   "source": [
    "## menu program using the Dictionary.\n",
    "\n",
    "available_parts = {\n",
    "                    \"1\":\"computer\",\n",
    "                    \"2\":\"monitor\",\n",
    "                    \"3\":\"keyboard\",\n",
    "                    \"4\":\"mouse\",\n",
    "                    \"5\":\"mouse mat\",\n",
    "                    \"6\":\"HDMI Cable\",\n",
    "                    \"7\":\"DVD Drive\",\n",
    "                    }\n",
    "\n",
    "## computer parts\n",
    "computer_parts = []  ## initialize an empty list.\n",
    "\n",
    "## initializing the current_choice = None\n",
    "current_choice = None\n",
    "\n",
    "while current_choice != \"0\":\n",
    "    ## check the current choice in available parts,\n",
    "    ## if it is in, Add the value to the list\n",
    "    if current_choice in available_parts:\n",
    "        print(\"The Choice we Selected:---\",current_choice)\n",
    "        chosen_part = available_parts[current_choice]\n",
    "        print(\"The Part Associated with the Selected Choice:---\",chosen_part)\n",
    "        print(\"Adding {} to the Purchase List\".format(chosen_part))\n",
    "        computer_parts.append(chosen_part)\n",
    "        \n",
    "        \n",
    "    ## add an else block to print the menu.\n",
    "    else:\n",
    "        for key,value in available_parts.items():\n",
    "            print(\"{} : {}\".format(key, value))\n",
    "        print(\"0 : to finish\")\n",
    "        \n",
    "        \n",
    "    current_choice = input(\" > \")\n",
    "    \n",
    "else:\n",
    "    print(\"End of the Program\")\n",
    "    print(computer_parts)"
   ]
  },
  {
   "cell_type": "markdown",
   "metadata": {},
   "source": [
    "**NOTES**\n",
    "\n",
    "+ Dictionaries are used to map the Objects.\n",
    "+ Lists and Tuples cannot be used to Map any Objects.\n",
    "+ If the data is available from a DB or from a disk in any format.\n",
    "+ If it is in Numbered format.\n",
    "+ We can use the Dictionaries. Here we dont have to Generate any Valid List to generate the Keys.\n",
    "+ In Lists we have to."
   ]
  },
  {
   "cell_type": "markdown",
   "metadata": {},
   "source": [
    "Solution to add the items to  a Lists"
   ]
  },
  {
   "cell_type": "code",
   "execution_count": 18,
   "metadata": {},
   "outputs": [
    {
     "name": "stdout",
     "output_type": "stream",
     "text": [
      "Please add options from the list:\n",
      "1: computer\n",
      "2: monitor\n",
      "3: keyboard\n",
      "4: mouse\n",
      "5: hdmi cable\n",
      "6: dvd drive\n",
      "0: to finish\n"
     ]
    },
    {
     "name": "stdin",
     "output_type": "stream",
     "text": [
      ">  1\n"
     ]
    },
    {
     "name": "stdout",
     "output_type": "stream",
     "text": [
      "Adding computer to the List\n",
      "Your list now contains: ['computer']\n"
     ]
    },
    {
     "name": "stdin",
     "output_type": "stream",
     "text": [
      ">  2\n"
     ]
    },
    {
     "name": "stdout",
     "output_type": "stream",
     "text": [
      "Adding monitor to the List\n",
      "Your list now contains: ['computer', 'monitor']\n"
     ]
    },
    {
     "name": "stdin",
     "output_type": "stream",
     "text": [
      ">  2\n"
     ]
    },
    {
     "name": "stdout",
     "output_type": "stream",
     "text": [
      "Removing monitor from the List\n",
      "Your list now contains: ['computer']\n"
     ]
    },
    {
     "name": "stdin",
     "output_type": "stream",
     "text": [
      ">  0\n"
     ]
    }
   ],
   "source": [
    "available_parts = {\"1\": \"computer\",\n",
    "                   \"2\": \"monitor\",\n",
    "                   \"3\": \"keyboard\",\n",
    "                   \"4\": \"mouse\",\n",
    "                   \"5\": \"hdmi cable\",\n",
    "                   \"6\": \"dvd drive\",\n",
    "                   }\n",
    " \n",
    "current_choice = None\n",
    "computer_parts = []  # create an empty list\n",
    " \n",
    "while current_choice != \"0\":\n",
    "    if current_choice in available_parts:\n",
    "        chosen_part = available_parts[current_choice]\n",
    "        if chosen_part in computer_parts:\n",
    "            # it's already in, so remove it\n",
    "            print(f\"Removing {chosen_part} from the List\")\n",
    "            computer_parts.remove(chosen_part)\n",
    "        else:\n",
    "            print(f\"Adding {chosen_part} to the List\")\n",
    "            computer_parts.append(chosen_part)\n",
    "        print(f\"Your list now contains: {computer_parts}\")\n",
    "    else:\n",
    "        print(\"Please add options from the list:\")\n",
    "        for key, value in available_parts.items():\n",
    "            print(f\"{key}: {value}\")\n",
    "        print(\"0: to finish\")\n",
    " \n",
    "    current_choice = input(\"> \")"
   ]
  },
  {
   "cell_type": "code",
   "execution_count": null,
   "metadata": {},
   "outputs": [],
   "source": []
  }
 ],
 "metadata": {
  "kernelspec": {
   "display_name": "Python 3",
   "language": "python",
   "name": "python3"
  },
  "language_info": {
   "codemirror_mode": {
    "name": "ipython",
    "version": 3
   },
   "file_extension": ".py",
   "mimetype": "text/x-python",
   "name": "python",
   "nbconvert_exporter": "python",
   "pygments_lexer": "ipython3",
   "version": "3.8.3"
  }
 },
 "nbformat": 4,
 "nbformat_minor": 4
}
