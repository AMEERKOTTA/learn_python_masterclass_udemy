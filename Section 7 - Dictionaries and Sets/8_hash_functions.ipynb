{
 "cells": [
  {
   "cell_type": "markdown",
   "metadata": {},
   "source": [
    "### HASH FUNCTIONS\n",
    "\n",
    "+ Hash Function is any Function, that can be used to map data of arbitrary size to fixed sized value."
   ]
  },
  {
   "cell_type": "code",
   "execution_count": 1,
   "metadata": {},
   "outputs": [],
   "source": [
    "data = [\n",
    "    (\"orange\",\"a sweet, orange, citrus fruit\"),\n",
    "    (\"apple\",\"good for making cider\"),\n",
    "    (\"lemon\",\"a sour, yellow citrus fruit\"),\n",
    "    (\"grape\",\"a small, sweet fruit growing in bunches\"),\n",
    "    (\"melon\",\"sweet and juicy\")\n",
    "]"
   ]
  },
  {
   "cell_type": "code",
   "execution_count": 4,
   "metadata": {},
   "outputs": [
    {
     "data": {
      "text/plain": [
       "('orange', 'a sweet, orange, citrus fruit')"
      ]
     },
     "execution_count": 4,
     "metadata": {},
     "output_type": "execute_result"
    }
   ],
   "source": [
    "data[0]"
   ]
  },
  {
   "cell_type": "code",
   "execution_count": 3,
   "metadata": {},
   "outputs": [
    {
     "name": "stdout",
     "output_type": "stream",
     "text": [
      "orange : a sweet, orange, citrus fruit\n",
      "apple : good for making cider\n",
      "lemon : a sour, yellow citrus fruit\n",
      "grape : a small, sweet fruit growing in bunches\n",
      "melon : sweet and juicy\n"
     ]
    }
   ],
   "source": [
    "for key, value in data:\n",
    "    print(f\"{key} : {value}\")"
   ]
  },
  {
   "cell_type": "code",
   "execution_count": 6,
   "metadata": {},
   "outputs": [],
   "source": [
    "## hash Function\n",
    "\n",
    "def simple_hash(string:str)->int:\n",
    "    \"\"\"\n",
    "    A simple Hash Function\n",
    "    Hash Function will take string and Return Integer\n",
    "    \n",
    "    :param string:-- The input string\n",
    "    :return An integer as hash Value\n",
    "    \"\"\"\n",
    "    \n",
    "    basic_hash = ord(string[0])\n",
    "    return basic_hash % 10"
   ]
  },
  {
   "cell_type": "code",
   "execution_count": 7,
   "metadata": {},
   "outputs": [
    {
     "name": "stdout",
     "output_type": "stream",
     "text": [
      "orange 1\n",
      "apple 7\n",
      "lemon 8\n",
      "grape 3\n",
      "melon 9\n"
     ]
    }
   ],
   "source": [
    "for key, value in data:\n",
    "    ## calculate hash from each line\n",
    "    h = simple_hash(key)\n",
    "    print(key, h)"
   ]
  },
  {
   "cell_type": "code",
   "execution_count": 8,
   "metadata": {},
   "outputs": [
    {
     "name": "stdout",
     "output_type": "stream",
     "text": [
      "orange  :  -5353287387394990274\n",
      "apple  :  -797869110862319467\n",
      "lemon  :  -6410554869663241974\n",
      "grape  :  2207673899853576369\n",
      "melon  :  8120368819009625632\n"
     ]
    }
   ],
   "source": [
    "## using python built in hash values\n",
    "for key, value in data:\n",
    "    ## calculataing the hash values using python built in hash function\n",
    "    h = hash(key)\n",
    "    print(f\"{key}  :  {h}\")"
   ]
  },
  {
   "cell_type": "markdown",
   "metadata": {},
   "source": [
    "**SIMPLE DICTIONARY IMPLEMENTATION USING HASH TABLE**"
   ]
  },
  {
   "cell_type": "code",
   "execution_count": 11,
   "metadata": {},
   "outputs": [
    {
     "name": "stdout",
     "output_type": "stream",
     "text": [
      "['', '', '', '', '', '', '', '', '', '']\n",
      "['', '', '', '', '', '', '', '', '', '']\n",
      "orange  :  a sweet, orange, citrus fruit\n",
      "apple  :  good for making cider\n",
      "lemon  :  a sour, yellow citrus fruit\n",
      "grape  :  a small, sweet fruit growing in bunches\n",
      "melon  :  sweet and juicy\n",
      "['', 'orange', '', 'grape', '', '', '', 'apple', 'lemon', 'melon']\n",
      "['', 'a sweet, orange, citrus fruit', '', 'a small, sweet fruit growing in bunches', '', '', '', 'good for making cider', 'a sour, yellow citrus fruit', 'sweet and juicy']\n"
     ]
    }
   ],
   "source": [
    "## initiate a key\n",
    "keys = [\"\"] * 10\n",
    "values = keys.copy()\n",
    "\n",
    "print(keys)\n",
    "print(values)\n",
    "\n",
    "\n",
    "for key, value in data:\n",
    "    ## calculate the hash value\n",
    "    h = simple_hash(key)\n",
    "    print(f\"{key}  :  {value}\")\n",
    "    \n",
    "    ## assiginimng values in the both lists keys and values\n",
    "    keys[h] = key\n",
    "    values[h] = value\n",
    "    \n",
    "print(keys)\n",
    "print(values)"
   ]
  },
  {
   "cell_type": "markdown",
   "metadata": {},
   "source": [
    "**hashlib, the secure hash module**"
   ]
  },
  {
   "cell_type": "code",
   "execution_count": 14,
   "metadata": {},
   "outputs": [
    {
     "name": "stdout",
     "output_type": "stream",
     "text": [
      "['blake2b', 'blake2s', 'md4', 'md5', 'md5-sha1', 'mdc2', 'ripemd160', 'sha1', 'sha224', 'sha256', 'sha384', 'sha3_224', 'sha3_256', 'sha3_384', 'sha3_512', 'sha512', 'sha512_224', 'sha512_256', 'shake_128', 'shake_256', 'sm3', 'whirlpool']\n",
      "['blake2b', 'blake2s', 'md5', 'sha1', 'sha224', 'sha256', 'sha384', 'sha3_224', 'sha3_256', 'sha3_384', 'sha3_512', 'sha512', 'shake_128', 'shake_256']\n"
     ]
    }
   ],
   "source": [
    "import hashlib\n",
    "print(sorted(hashlib.algorithms_available))\n",
    "print(sorted(hashlib.algorithms_guaranteed))"
   ]
  },
  {
   "cell_type": "code",
   "execution_count": 15,
   "metadata": {},
   "outputs": [
    {
     "name": "stdout",
     "output_type": "stream",
     "text": [
      "for i in range(10):\n",
      "print(i)\n",
      "\n"
     ]
    }
   ],
   "source": [
    "python_program = \"\"\"for i in range(10):\n",
    "print(i)\n",
    "\"\"\"\n",
    "\n",
    "print(python_program)"
   ]
  },
  {
   "cell_type": "code",
   "execution_count": 17,
   "metadata": {},
   "outputs": [
    {
     "name": "stdout",
     "output_type": "stream",
     "text": [
      "102 f\n",
      "111 o\n",
      "114 r\n",
      "32  \n",
      "105 i\n",
      "32  \n",
      "105 i\n",
      "110 n\n",
      "32  \n",
      "114 r\n",
      "97 a\n",
      "110 n\n",
      "103 g\n",
      "101 e\n",
      "40 (\n",
      "49 1\n",
      "48 0\n",
      "41 )\n",
      "58 :\n",
      "10 \n",
      "\n",
      "112 p\n",
      "114 r\n",
      "105 i\n",
      "110 n\n",
      "116 t\n",
      "40 (\n",
      "105 i\n",
      "41 )\n",
      "10 \n",
      "\n"
     ]
    }
   ],
   "source": [
    "for b in python_program.encode(\"utf8\"):\n",
    "    print(b, chr(b))"
   ]
  },
  {
   "cell_type": "code",
   "execution_count": 18,
   "metadata": {},
   "outputs": [
    {
     "name": "stdout",
     "output_type": "stream",
     "text": [
      "<sha256 HASH object @ 0x0000020CC4FE1810>\n"
     ]
    }
   ],
   "source": [
    "original_hash = hashlib.sha256(python_program.encode(\"utf8\"))\n",
    "print(original_hash)"
   ]
  },
  {
   "cell_type": "code",
   "execution_count": null,
   "metadata": {},
   "outputs": [],
   "source": []
  }
 ],
 "metadata": {
  "kernelspec": {
   "display_name": "Python 3",
   "language": "python",
   "name": "python3"
  },
  "language_info": {
   "codemirror_mode": {
    "name": "ipython",
    "version": 3
   },
   "file_extension": ".py",
   "mimetype": "text/x-python",
   "name": "python",
   "nbconvert_exporter": "python",
   "pygments_lexer": "ipython3",
   "version": "3.8.3"
  }
 },
 "nbformat": 4,
 "nbformat_minor": 4
}
