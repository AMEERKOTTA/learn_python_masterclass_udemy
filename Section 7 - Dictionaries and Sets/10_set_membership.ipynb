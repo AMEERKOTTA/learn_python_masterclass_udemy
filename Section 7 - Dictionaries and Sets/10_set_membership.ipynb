{
 "cells": [
  {
   "cell_type": "markdown",
   "metadata": {},
   "source": [
    "### SET MEMBERSHIP\n",
    "\n",
    "+ Sets seems to be Similar to Lists and Tuples.\n",
    "+ But, more Restricted.\n",
    "+ So why we should use Sets...?\n",
    "\n",
    "\n",
    "+ **Sets can be used to fix Bugs**"
   ]
  },
  {
   "cell_type": "code",
   "execution_count": 6,
   "metadata": {},
   "outputs": [
    {
     "name": "stdout",
     "output_type": "stream",
     "text": [
      "Please select the value from the Below Choices.\n",
      "1 : \tLearn Python\n",
      "2 : \tLearn Java\n",
      "3 : \tGo Swimming\n",
      "4 : \tHave Dinner\n",
      "5 : \tGo to Bed\n",
      "0 : \tExit\n"
     ]
    },
    {
     "name": "stdin",
     "output_type": "stream",
     "text": [
      " 123\n"
     ]
    },
    {
     "name": "stdout",
     "output_type": "stream",
     "text": [
      "You Chose 123\n"
     ]
    },
    {
     "name": "stdin",
     "output_type": "stream",
     "text": [
      " \n"
     ]
    },
    {
     "name": "stdout",
     "output_type": "stream",
     "text": [
      "You Chose \n"
     ]
    },
    {
     "name": "stdin",
     "output_type": "stream",
     "text": [
      " 0\n"
     ]
    }
   ],
   "source": [
    "## simple menu program\n",
    "\n",
    "## initializing choice\n",
    "choice = \"-\"\n",
    "\n",
    "# use a while loop for choice not equals to 0,\n",
    "# whenever choice is 0,\n",
    "# program will exit the while loop\n",
    "while choice != \"0\":\n",
    "    \n",
    "    ## implement a if, else statements\n",
    "    ## that will \n",
    "    ## if choice is in the string 12345\n",
    "    ## print the choice.\n",
    "    ## else ask to print from the below choices.\n",
    "    ## and print the all available choices.\n",
    "    if choice in \"12345\":\n",
    "        print(\"You Chose {}\".format(choice))\n",
    "        \n",
    "    else:\n",
    "        print(\"Please select the value from the Below Choices.\")\n",
    "        print(\"1 : \\tLearn Python\")\n",
    "        print(\"2 : \\tLearn Java\")\n",
    "        print(\"3 : \\tGo Swimming\")\n",
    "        print(\"4 : \\tHave Dinner\")\n",
    "        print(\"5 : \\tGo to Bed\")\n",
    "        print(\"0 : \\tExit\")\n",
    "        \n",
    "    ## get the choice from here as the input every time the loops works\n",
    "    choice = input()"
   ]
  },
  {
   "cell_type": "markdown",
   "metadata": {},
   "source": [
    "+ Here, if we choose \"123\", this also will give us an Output.\n",
    "+ But that does not contain in the Menu.\n",
    "+ Also, we can give an entry as an empty string.\n",
    "+ That will also give us an Output which is not in the Menu.\n",
    "+ So that is a Bug."
   ]
  },
  {
   "cell_type": "code",
   "execution_count": 8,
   "metadata": {},
   "outputs": [
    {
     "name": "stdout",
     "output_type": "stream",
     "text": [
      "Please select the value from the Below Choices.\n",
      "1 : \tLearn Python\n",
      "2 : \tLearn Java\n",
      "3 : \tGo Swimming\n",
      "4 : \tHave Dinner\n",
      "5 : \tGo to Bed\n",
      "0 : \tExit\n"
     ]
    },
    {
     "name": "stdin",
     "output_type": "stream",
     "text": [
      " 12\n"
     ]
    },
    {
     "name": "stdout",
     "output_type": "stream",
     "text": [
      "Please select the value from the Below Choices.\n",
      "1 : \tLearn Python\n",
      "2 : \tLearn Java\n",
      "3 : \tGo Swimming\n",
      "4 : \tHave Dinner\n",
      "5 : \tGo to Bed\n",
      "0 : \tExit\n"
     ]
    },
    {
     "name": "stdin",
     "output_type": "stream",
     "text": [
      " 23\n"
     ]
    },
    {
     "name": "stdout",
     "output_type": "stream",
     "text": [
      "Please select the value from the Below Choices.\n",
      "1 : \tLearn Python\n",
      "2 : \tLearn Java\n",
      "3 : \tGo Swimming\n",
      "4 : \tHave Dinner\n",
      "5 : \tGo to Bed\n",
      "0 : \tExit\n"
     ]
    },
    {
     "name": "stdin",
     "output_type": "stream",
     "text": [
      " 34\n"
     ]
    },
    {
     "name": "stdout",
     "output_type": "stream",
     "text": [
      "Please select the value from the Below Choices.\n",
      "1 : \tLearn Python\n",
      "2 : \tLearn Java\n",
      "3 : \tGo Swimming\n",
      "4 : \tHave Dinner\n",
      "5 : \tGo to Bed\n",
      "0 : \tExit\n"
     ]
    },
    {
     "name": "stdin",
     "output_type": "stream",
     "text": [
      " 0\n"
     ]
    }
   ],
   "source": [
    "## if we check, that the inputis in a list instead of a string, the bugs would go away.\n",
    "## changing the program\n",
    "## simple menu program\n",
    "\n",
    "## initializing choice\n",
    "choice = \"-\"\n",
    "\n",
    "# use a while loop for choice not equals to 0,\n",
    "# whenever choice is 0,\n",
    "# program will exit the while loop\n",
    "while choice != \"0\":\n",
    "    \n",
    "    ## implement a if, else statements\n",
    "    ## that will \n",
    "    ## if choice is in the string 12345\n",
    "    ## print the choice.\n",
    "    ## else ask to print from the below choices.\n",
    "    ## and print the all available choices.       ## list(\"12345\") = ['1', '2', '3', '4', '5']\n",
    "    if choice in list(\"12345\"):                   ## iterating over the list(\"12345\") list of string 12345\n",
    "        print(\"You Chose {}\".format(choice))\n",
    "        \n",
    "    else:\n",
    "        print(\"Please select the value from the Below Choices.\")\n",
    "        print(\"1 : \\tLearn Python\")\n",
    "        print(\"2 : \\tLearn Java\")\n",
    "        print(\"3 : \\tGo Swimming\")\n",
    "        print(\"4 : \\tHave Dinner\")\n",
    "        print(\"5 : \\tGo to Bed\")\n",
    "        print(\"0 : \\tExit\")\n",
    "        \n",
    "    ## get the choice from here as the input every time the loops works\n",
    "    choice = input()"
   ]
  },
  {
   "cell_type": "markdown",
   "metadata": {},
   "source": [
    "+ Here list(\"12345\") = ['1', '2', '3', '4', '5']\n",
    "+ So if we choose sequnces like \"123\"\n",
    "+ We will get the menu printed as earlierly Expected.\n",
    "+ Here using the List is good.\n",
    "+ But more appropriate one is Set.\n"
   ]
  },
  {
   "cell_type": "code",
   "execution_count": 11,
   "metadata": {},
   "outputs": [
    {
     "name": "stdout",
     "output_type": "stream",
     "text": [
      "Please select the value from the Below Choices.\n",
      "1 : \tLearn Python\n",
      "2 : \tLearn Java\n",
      "3 : \tGo Swimming\n",
      "4 : \tHave Dinner\n",
      "5 : \tGo to Bed\n",
      "0 : \tExit\n"
     ]
    },
    {
     "name": "stdin",
     "output_type": "stream",
     "text": [
      " 1\n"
     ]
    },
    {
     "name": "stdout",
     "output_type": "stream",
     "text": [
      "You Chose 1\n"
     ]
    },
    {
     "name": "stdin",
     "output_type": "stream",
     "text": [
      " 2\n"
     ]
    },
    {
     "name": "stdout",
     "output_type": "stream",
     "text": [
      "You Chose 2\n"
     ]
    },
    {
     "name": "stdin",
     "output_type": "stream",
     "text": [
      " 23\n"
     ]
    },
    {
     "name": "stdout",
     "output_type": "stream",
     "text": [
      "Please select the value from the Below Choices.\n",
      "1 : \tLearn Python\n",
      "2 : \tLearn Java\n",
      "3 : \tGo Swimming\n",
      "4 : \tHave Dinner\n",
      "5 : \tGo to Bed\n",
      "0 : \tExit\n"
     ]
    },
    {
     "name": "stdin",
     "output_type": "stream",
     "text": [
      " \n"
     ]
    },
    {
     "name": "stdout",
     "output_type": "stream",
     "text": [
      "Please select the value from the Below Choices.\n",
      "1 : \tLearn Python\n",
      "2 : \tLearn Java\n",
      "3 : \tGo Swimming\n",
      "4 : \tHave Dinner\n",
      "5 : \tGo to Bed\n",
      "0 : \tExit\n"
     ]
    },
    {
     "name": "stdin",
     "output_type": "stream",
     "text": [
      " 345\n"
     ]
    },
    {
     "name": "stdout",
     "output_type": "stream",
     "text": [
      "Please select the value from the Below Choices.\n",
      "1 : \tLearn Python\n",
      "2 : \tLearn Java\n",
      "3 : \tGo Swimming\n",
      "4 : \tHave Dinner\n",
      "5 : \tGo to Bed\n",
      "0 : \tExit\n"
     ]
    },
    {
     "name": "stdin",
     "output_type": "stream",
     "text": [
      " 0\n"
     ]
    }
   ],
   "source": [
    "## if we check, that the inputis in a set instead of a string, the bugs would go away.\n",
    "## changing the program\n",
    "## simple menu program\n",
    "\n",
    "## initializing choice\n",
    "choice = \"-\"\n",
    "\n",
    "# use a while loop for choice not equals to 0,\n",
    "# whenever choice is 0,\n",
    "# program will exit the while loop\n",
    "while choice != \"0\":\n",
    "    \n",
    "    ## implement a if, else statements\n",
    "    ## that will \n",
    "    ## if choice is in the string 12345\n",
    "    ## print the choice.\n",
    "    ## else ask to print from the below choices.\n",
    "    ## and print the all available choices.       ## set(\"12345\") = {'1', '2', '3', '4', '5'}\n",
    "    if choice in set(\"12345\"):                   ## iterating over the set(\"12345\") list of string 12345\n",
    "        print(\"You Chose {}\".format(choice))\n",
    "        \n",
    "    else:\n",
    "        print(\"Please select the value from the Below Choices.\")\n",
    "        print(\"1 : \\tLearn Python\")\n",
    "        print(\"2 : \\tLearn Java\")\n",
    "        print(\"3 : \\tGo Swimming\")\n",
    "        print(\"4 : \\tHave Dinner\")\n",
    "        print(\"5 : \\tGo to Bed\")\n",
    "        print(\"0 : \\tExit\")\n",
    "        \n",
    "    ## get the choice from here as the input every time the loops works\n",
    "    choice = input()"
   ]
  },
  {
   "cell_type": "code",
   "execution_count": 16,
   "metadata": {},
   "outputs": [
    {
     "name": "stdout",
     "output_type": "stream",
     "text": [
      "['1', '2', '3', '4', '5']\n",
      "{'1', '4', '5', '3', '2'}\n",
      "{0, 3}\n"
     ]
    }
   ],
   "source": [
    "## list function\n",
    "list_function = list(\"12345\")\n",
    "print(list_function)\n",
    "\n",
    "set_function = set(\"12345\")\n",
    "print(set_function)\n",
    "\n",
    "\n",
    "## we can use range function as well along with set.\n",
    "range_function_with_Set = set(range(0,6,3))\n",
    "print(range_function_with_Set)"
   ]
  },
  {
   "cell_type": "markdown",
   "metadata": {},
   "source": [
    "### Testing set membership is Fast.\n",
    "\n",
    "+ If you are working with larger data, checking for membership is lot faster with a set compared to a List.\n",
    "+ "
   ]
  }
 ],
 "metadata": {
  "kernelspec": {
   "display_name": "Python 3",
   "language": "python",
   "name": "python3"
  },
  "language_info": {
   "codemirror_mode": {
    "name": "ipython",
    "version": 3
   },
   "file_extension": ".py",
   "mimetype": "text/x-python",
   "name": "python",
   "nbconvert_exporter": "python",
   "pygments_lexer": "ipython3",
   "version": "3.8.3"
  }
 },
 "nbformat": 4,
 "nbformat_minor": 4
}
