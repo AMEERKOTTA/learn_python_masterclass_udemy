{
 "cells": [
  {
   "cell_type": "markdown",
   "metadata": {},
   "source": [
    "### INTRODUCTION TO SETS\n",
    "\n",
    "+ Python's Built in Data Structure.\n",
    "+ Set is an Unordered Collection of Elements, with no Duplicate Entries.\n",
    "+ Sets have no Ordering.\n",
    "+ Since Python 3.7, The Key of Dictionary is Ordered.\n",
    "+ Here in Sets, we don't have any Orders."
   ]
  },
  {
   "cell_type": "markdown",
   "metadata": {},
   "source": [
    "**BASIC PYTHON OPERATIONS**\n",
    "\n",
    "+ Union :- Elements that contains in both Set A and Set B.\n",
    "+ Intersection :- Elements contains in both A and B.\n",
    "+ Set Difference :- Set A - Set B\n",
    "+ Symmetric Difference :- Opposite of Intersection.\n",
    "+ Subsets and Supersets."
   ]
  },
  {
   "cell_type": "code",
   "execution_count": 5,
   "metadata": {},
   "outputs": [
    {
     "name": "stdout",
     "output_type": "stream",
     "text": [
      "{'goat', 'hen', 'horse', 'sheep', 'cow'}\n"
     ]
    }
   ],
   "source": [
    "## defining a set\n",
    "farm_animals = {\"cow\",\"sheep\",\"hen\",\"goat\",\"horse\"}\n",
    "print(farm_animals)"
   ]
  },
  {
   "cell_type": "code",
   "execution_count": 6,
   "metadata": {},
   "outputs": [
    {
     "data": {
      "text/plain": [
       "{'cow', 'goat', 'hen', 'horse', 'sheep'}"
      ]
     },
     "execution_count": 6,
     "metadata": {},
     "output_type": "execute_result"
    }
   ],
   "source": [
    "farm_animals"
   ]
  },
  {
   "cell_type": "markdown",
   "metadata": {},
   "source": [
    "See the both Outputs, there is no Order for the Set."
   ]
  },
  {
   "cell_type": "markdown",
   "metadata": {},
   "source": [
    "+ Set is not an Ordered Collection.\n",
    "+ Hence, it is not a Sequence.\n",
    "+ Even though, we can iterate over the Set.\n",
    "\n",
    "+ But we will not get the same values everytime we run the Code."
   ]
  },
  {
   "cell_type": "code",
   "execution_count": 11,
   "metadata": {},
   "outputs": [
    {
     "name": "stdout",
     "output_type": "stream",
     "text": [
      "goat\n",
      "hen\n",
      "horse\n",
      "sheep\n",
      "cow\n"
     ]
    }
   ],
   "source": [
    "for animal in farm_animals:\n",
    "    print(animal)"
   ]
  },
  {
   "cell_type": "code",
   "execution_count": 12,
   "metadata": {},
   "outputs": [
    {
     "name": "stdout",
     "output_type": "stream",
     "text": [
      "goat\n",
      "hen\n",
      "horse\n",
      "sheep\n",
      "cow\n"
     ]
    }
   ],
   "source": [
    "for animal in farm_animals:\n",
    "    print(animal)\n",
    "    "
   ]
  },
  {
   "cell_type": "markdown",
   "metadata": {},
   "source": [
    "### Implications of Sets being Unordered"
   ]
  },
  {
   "cell_type": "code",
   "execution_count": 16,
   "metadata": {},
   "outputs": [
    {
     "name": "stdout",
     "output_type": "stream",
     "text": [
      "Indexing a Sequence ..........................\n",
      "goat\n"
     ]
    }
   ],
   "source": [
    "print(\"Indexing a Sequence ..........................\")\n",
    "\n",
    "## defining a list\n",
    "animals_list = [\"cow\",\"sheep\",\"hen\",\"goat\",\"horse\"]\n",
    "## printing the goat, index position = 3\n",
    "goat = animals_list[3]\n",
    "print(goat)"
   ]
  },
  {
   "cell_type": "code",
   "execution_count": 17,
   "metadata": {},
   "outputs": [
    {
     "name": "stdout",
     "output_type": "stream",
     "text": [
      "Trying Indexing over the Set .......................\n"
     ]
    },
    {
     "ename": "TypeError",
     "evalue": "'set' object is not subscriptable",
     "output_type": "error",
     "traceback": [
      "\u001b[1;31m---------------------------------------------------------------------------\u001b[0m",
      "\u001b[1;31mTypeError\u001b[0m                                 Traceback (most recent call last)",
      "\u001b[1;32m<ipython-input-17-9ad08b912aeb>\u001b[0m in \u001b[0;36m<module>\u001b[1;34m\u001b[0m\n\u001b[0;32m      2\u001b[0m \u001b[0mprint\u001b[0m\u001b[1;33m(\u001b[0m\u001b[1;34m\"Trying Indexing over the Set .......................\"\u001b[0m\u001b[1;33m)\u001b[0m\u001b[1;33m\u001b[0m\u001b[1;33m\u001b[0m\u001b[0m\n\u001b[0;32m      3\u001b[0m \u001b[1;33m\u001b[0m\u001b[0m\n\u001b[1;32m----> 4\u001b[1;33m \u001b[0mgoat\u001b[0m \u001b[1;33m=\u001b[0m \u001b[0mfarm_animals\u001b[0m\u001b[1;33m[\u001b[0m\u001b[1;36m3\u001b[0m\u001b[1;33m]\u001b[0m\u001b[1;33m\u001b[0m\u001b[1;33m\u001b[0m\u001b[0m\n\u001b[0m\u001b[0;32m      5\u001b[0m \u001b[0mprint\u001b[0m\u001b[1;33m(\u001b[0m\u001b[0mgoat\u001b[0m\u001b[1;33m)\u001b[0m\u001b[1;33m\u001b[0m\u001b[1;33m\u001b[0m\u001b[0m\n",
      "\u001b[1;31mTypeError\u001b[0m: 'set' object is not subscriptable"
     ]
    }
   ],
   "source": [
    "## doing the indexing over the Set\n",
    "print(\"Trying Indexing over the Set .......................\")\n",
    "\n",
    "goat = farm_animals[3]\n",
    "print(goat)"
   ]
  },
  {
   "cell_type": "markdown",
   "metadata": {},
   "source": [
    "The Implications of Sets being Unordered.\n",
    "\n",
    "+ We can't index or slice Sets.\n",
    "+ Even the Ord"
   ]
  },
  {
   "cell_type": "code",
   "execution_count": 18,
   "metadata": {},
   "outputs": [
    {
     "name": "stdout",
     "output_type": "stream",
     "text": [
      "The Sets are Equal\n"
     ]
    }
   ],
   "source": [
    "## defining the new set with same elemnts as previous\n",
    "more_animals = {\"sheep\",\"goat\",\"cow\",\"horse\",\"hen\"}\n",
    "\n",
    "if more_animals == farm_animals:\n",
    "    print(\"The Sets are Equal\")\n",
    "    \n",
    "else:\n",
    "    print(\"The Sets are Different.\")"
   ]
  },
  {
   "cell_type": "code",
   "execution_count": null,
   "metadata": {},
   "outputs": [],
   "source": []
  }
 ],
 "metadata": {
  "kernelspec": {
   "display_name": "Python 3",
   "language": "python",
   "name": "python3"
  },
  "language_info": {
   "codemirror_mode": {
    "name": "ipython",
    "version": 3
   },
   "file_extension": ".py",
   "mimetype": "text/x-python",
   "name": "python",
   "nbconvert_exporter": "python",
   "pygments_lexer": "ipython3",
   "version": "3.8.3"
  }
 },
 "nbformat": 4,
 "nbformat_minor": 4
}
