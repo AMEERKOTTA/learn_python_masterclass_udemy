{
 "cells": [
  {
   "cell_type": "markdown",
   "metadata": {},
   "source": [
    "### Printing texts in Different Colours and Effects"
   ]
  },
  {
   "cell_type": "code",
   "execution_count": null,
   "metadata": {},
   "outputs": [],
   "source": []
  },
  {
   "cell_type": "code",
   "execution_count": 1,
   "metadata": {},
   "outputs": [],
   "source": [
    "## pasting the content of the text files\n",
    "# Some ANSI escape sequences for colours and effects\n",
    "BLACK = '\\u001b[30m'\n",
    "RED = '\\u001b[31m'\n",
    "GREEN = '\\u001b[32m'\n",
    "YELLOW = '\\u001b[33m'\n",
    "BLUE = '\\u001b[34m'\n",
    "MAGENTA = '\\u001b[35m'\n",
    "CYAN = '\\u001b[36m'\n",
    "WHITE = '\\u001b[37m'\n",
    "RESET = '\\u001b[0m'\n",
    " \n",
    "BOLD = '\\u001b[1m'\n",
    "UNDERLINE = '\\u001b[4m'\n",
    "REVERSE = '\\u001b[7m'"
   ]
  },
  {
   "cell_type": "code",
   "execution_count": 2,
   "metadata": {},
   "outputs": [
    {
     "name": "stdout",
     "output_type": "stream",
     "text": [
      "\u001b[31m this will be in Red\n"
     ]
    }
   ],
   "source": [
    "print(RED, \"this will be in Red\")"
   ]
  },
  {
   "cell_type": "code",
   "execution_count": 3,
   "metadata": {},
   "outputs": [
    {
     "name": "stdout",
     "output_type": "stream",
     "text": [
      "\u001b[37m this will be in white\n"
     ]
    }
   ],
   "source": [
    "print(WHITE, \"this will be in white\")"
   ]
  },
  {
   "cell_type": "code",
   "execution_count": 6,
   "metadata": {},
   "outputs": [
    {
     "name": "stdout",
     "output_type": "stream",
     "text": [
      "\u001b[32m this will be in green\n",
      "Checking whether the output has which colour\n"
     ]
    }
   ],
   "source": [
    "print(GREEN, \"this will be in green\")\n",
    "print(\"Checking whether the output has which colour\")"
   ]
  },
  {
   "cell_type": "code",
   "execution_count": 5,
   "metadata": {},
   "outputs": [
    {
     "name": "stdout",
     "output_type": "stream",
     "text": [
      "Checking whether the output has which colour\n"
     ]
    }
   ],
   "source": [
    "print(\"Checking whether the output has which colour\")"
   ]
  },
  {
   "cell_type": "code",
   "execution_count": 7,
   "metadata": {},
   "outputs": [],
   "source": [
    "## function to print texts in different colours and effects.\n",
    "\n",
    "def colour_print(text:str, effect:str) -> None:\n",
    "    \"\"\"\n",
    "    Print the given text in Different Colour and Effects,\n",
    "    Using ANSI Sequences.\n",
    "    \n",
    "    :param text:- the text to print\n",
    "    :param effect:- the effects we want, One of the Constants which is defined at the start of the Module\n",
    "    :return :- this function will not return something specific other than the text which s given in param text.\n",
    "    \"\"\"\n",
    "    output_string = \"{0}{1}{2}\".format(effect, text, RESET)\n",
    "    print(output_string)"
   ]
  },
  {
   "cell_type": "code",
   "execution_count": 8,
   "metadata": {},
   "outputs": [
    {
     "name": "stdout",
     "output_type": "stream",
     "text": [
      "\u001b[31mHello, Red\u001b[0m\n",
      "This should be in the default terminal colour\n",
      "\u001b[34mHello, Blue\u001b[0m\n",
      "\u001b[33mHello, Yellow\u001b[0m\n",
      "\u001b[1mHello, Bold\u001b[0m\n",
      "\u001b[4mHello, Underline\u001b[0m\n",
      "\u001b[7mHello, Reverse\u001b[0m\n",
      "\u001b[30mHello, Black\u001b[0m\n"
     ]
    }
   ],
   "source": [
    "colour_print(\"Hello, Red\", RED)\n",
    "# test that the colour was reset\n",
    "print(\"This should be in the default terminal colour\")\n",
    "colour_print(\"Hello, Blue\", BLUE)\n",
    "colour_print(\"Hello, Yellow\", YELLOW)\n",
    "colour_print(\"Hello, Bold\", BOLD)\n",
    "colour_print(\"Hello, Underline\", UNDERLINE)\n",
    "colour_print(\"Hello, Reverse\", REVERSE)\n",
    "colour_print(\"Hello, Black\", BLACK)"
   ]
  },
  {
   "cell_type": "code",
   "execution_count": null,
   "metadata": {},
   "outputs": [],
   "source": []
  }
 ],
 "metadata": {
  "kernelspec": {
   "display_name": "Python 3",
   "language": "python",
   "name": "python3"
  },
  "language_info": {
   "codemirror_mode": {
    "name": "ipython",
    "version": 3
   },
   "file_extension": ".py",
   "mimetype": "text/x-python",
   "name": "python",
   "nbconvert_exporter": "python",
   "pygments_lexer": "ipython3",
   "version": "3.8.3"
  }
 },
 "nbformat": 4,
 "nbformat_minor": 4
}
