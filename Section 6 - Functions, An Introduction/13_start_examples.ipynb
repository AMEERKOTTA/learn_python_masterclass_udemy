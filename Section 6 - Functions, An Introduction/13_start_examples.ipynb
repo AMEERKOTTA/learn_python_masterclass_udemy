{
 "cells": [
  {
   "cell_type": "markdown",
   "metadata": {},
   "source": [
    "### *args and **kwargs\n",
    "\n",
    "\n",
    "+ We can pass a variale number of arguments to a function using special symbols.\n",
    "+ Two Special Symbls  (*args) (**kwargs)\n",
    "+ args = Non-Keyword Arguments\n",
    "+ kwargs = Keyword Arguments"
   ]
  },
  {
   "cell_type": "code",
   "execution_count": 2,
   "metadata": {},
   "outputs": [
    {
     "name": "stdout",
     "output_type": "stream",
     "text": [
      "(0, 1, 2, 3, 4, 5)\n",
      "0 1 2 3 4 5\n"
     ]
    }
   ],
   "source": [
    "numbers = (0,1,2,3,4,5)\n",
    "print(numbers)\n",
    "\n",
    "## * of numbers\n",
    "print(*numbers)"
   ]
  },
  {
   "cell_type": "code",
   "execution_count": 5,
   "metadata": {},
   "outputs": [
    {
     "name": "stdout",
     "output_type": "stream",
     "text": [
      "(0, 1, 2, 3, 4, 5)\n",
      "0;1;2;3;4;5\n",
      "0;1;2;3;4;5\n"
     ]
    }
   ],
   "source": [
    "## now add a seperator to the code\n",
    "\n",
    "print(numbers, sep = \";\")\n",
    "print(*numbers, sep = \";\")\n",
    "print(0,1,2,3,4,5, sep = \";\")"
   ]
  },
  {
   "cell_type": "markdown",
   "metadata": {},
   "source": [
    "+ The first line is a Tuple, we cannot change Tuples, so we cannot seperate that with ;\n",
    "\n",
    "+ The second line, by providing *numbers, we are unpacking tuples, then we can seperate the numbers using the seperator ;\n",
    "\n",
    "+ Third also, it is not a tuple., So we can seperate."
   ]
  },
  {
   "cell_type": "code",
   "execution_count": 6,
   "metadata": {},
   "outputs": [],
   "source": [
    "## defining a function\n",
    "\n",
    "def star_args(*args):\n",
    "    \n",
    "    print(args)\n",
    "    \n",
    "    for x in args:\n",
    "        print(x)"
   ]
  },
  {
   "cell_type": "code",
   "execution_count": 7,
   "metadata": {},
   "outputs": [
    {
     "name": "stdout",
     "output_type": "stream",
     "text": [
      "('ameer', 'kotta', 'hameed', 'shahul')\n",
      "ameer\n",
      "kotta\n",
      "hameed\n",
      "shahul\n"
     ]
    }
   ],
   "source": [
    "star_args(\"ameer\",\"kotta\",\"hameed\",\"shahul\")"
   ]
  },
  {
   "cell_type": "code",
   "execution_count": 10,
   "metadata": {},
   "outputs": [
    {
     "name": "stdout",
     "output_type": "stream",
     "text": [
      "((0, 1, 2, 3, 4, 5), (3, 4, 5, 6, 7, 8))\n",
      "(0, 1, 2, 3, 4, 5)\n",
      "(3, 4, 5, 6, 7, 8)\n"
     ]
    }
   ],
   "source": [
    "star_args((0,1,2,3,4,5),(3,4,5,6,7,8))"
   ]
  },
  {
   "cell_type": "code",
   "execution_count": 9,
   "metadata": {},
   "outputs": [
    {
     "name": "stdout",
     "output_type": "stream",
     "text": [
      "(0, 1, 2, 3, 4, 5, 6, 7, 8)\n",
      "0\n",
      "1\n",
      "2\n",
      "3\n",
      "4\n",
      "5\n",
      "6\n",
      "7\n",
      "8\n"
     ]
    }
   ],
   "source": [
    "star_args(0,1,2,3,4,5,6,7,8)"
   ]
  },
  {
   "cell_type": "code",
   "execution_count": 11,
   "metadata": {},
   "outputs": [
    {
     "name": "stdout",
     "output_type": "stream",
     "text": [
      "()\n"
     ]
    }
   ],
   "source": [
    "star_args()"
   ]
  },
  {
   "cell_type": "markdown",
   "metadata": {},
   "source": [
    "## This will be a Empty Tuple"
   ]
  },
  {
   "cell_type": "markdown",
   "metadata": {},
   "source": [
    "Examples of args and kwargs"
   ]
  },
  {
   "cell_type": "code",
   "execution_count": 12,
   "metadata": {},
   "outputs": [],
   "source": [
    "def myFun(*args):\n",
    "    print(args)\n",
    "    for x in args:\n",
    "        print(x)"
   ]
  },
  {
   "cell_type": "code",
   "execution_count": 13,
   "metadata": {},
   "outputs": [
    {
     "name": "stdout",
     "output_type": "stream",
     "text": [
      "('1,2,3,4,5,6,7,8',)\n",
      "1,2,3,4,5,6,7,8\n"
     ]
    }
   ],
   "source": [
    "myFun(\"1,2,3,4,5,6,7,8\")"
   ]
  },
  {
   "cell_type": "code",
   "execution_count": 15,
   "metadata": {},
   "outputs": [
    {
     "name": "stdout",
     "output_type": "stream",
     "text": [
      "(1, 2, 3, 4, 5, 6, 'hhhh')\n",
      "1\n",
      "2\n",
      "3\n",
      "4\n",
      "5\n",
      "6\n",
      "hhhh\n"
     ]
    }
   ],
   "source": [
    "myFun(1,2,3,4,5,6,\"hhhh\")"
   ]
  },
  {
   "cell_type": "code",
   "execution_count": 16,
   "metadata": {},
   "outputs": [],
   "source": [
    "def myFunction_1(string, *args):\n",
    "    print(\"The given String is :--\",string)\n",
    "    \n",
    "    for x in args:\n",
    "        print(x)"
   ]
  },
  {
   "cell_type": "code",
   "execution_count": 17,
   "metadata": {},
   "outputs": [
    {
     "name": "stdout",
     "output_type": "stream",
     "text": [
      "The given String is :-- Ameer\n",
      "1\n",
      "2\n",
      "3\n",
      "4\n",
      "5\n",
      "6\n",
      "7\n"
     ]
    }
   ],
   "source": [
    "myFunction_1(\"Ameer\", 1,2,3,4,5,6,7)"
   ]
  },
  {
   "cell_type": "code",
   "execution_count": 18,
   "metadata": {},
   "outputs": [
    {
     "name": "stdout",
     "output_type": "stream",
     "text": [
      "The given String is :-- Ameer\n",
      "(1, 2, 3, 4, 5, 6, 7)\n"
     ]
    }
   ],
   "source": [
    "myFunction_1(\"Ameer\", (1,2,3,4,5,6,7))"
   ]
  },
  {
   "cell_type": "markdown",
   "metadata": {},
   "source": [
    "+ **kwargs is used to pass keyworded, variable length argument list."
   ]
  },
  {
   "cell_type": "code",
   "execution_count": 21,
   "metadata": {},
   "outputs": [],
   "source": [
    "def my_function_2(**kwargs):\n",
    "    \n",
    "    print(kwargs)\n",
    "    for key, value in kwargs.items():\n",
    "        print(\"Key : {}, Value : {}\".format(key,value))"
   ]
  },
  {
   "cell_type": "code",
   "execution_count": 22,
   "metadata": {},
   "outputs": [
    {
     "name": "stdout",
     "output_type": "stream",
     "text": [
      "{'first': 'Geeks', 'mid': 'for', 'last': 'Geeks'}\n",
      "Key : first, Value : Geeks\n",
      "Key : mid, Value : for\n",
      "Key : last, Value : Geeks\n"
     ]
    }
   ],
   "source": [
    "my_function_2(first = \"Geeks\", mid = \"for\", last = \"Geeks\")"
   ]
  },
  {
   "cell_type": "code",
   "execution_count": 24,
   "metadata": {},
   "outputs": [
    {
     "name": "stdout",
     "output_type": "stream",
     "text": [
      "Given String:-- Ameer\n",
      "Key : first, Value : Ameer\n",
      "Key : middle, Value : Shahul\n",
      "Key : Last, Value : Hameed\n"
     ]
    }
   ],
   "source": [
    "def my_function_4(string, **kwargs):\n",
    "    \n",
    "    print(\"Given String:--\", string)\n",
    "    \n",
    "    for key, value in kwargs.items():\n",
    "        print(\"Key : {}, Value : {}\".format(key,value))\n",
    "        \n",
    "my_function_4(\"Ameer\", first = \"Ameer\", middle = \"Shahul\", Last = \"Hameed\")"
   ]
  },
  {
   "cell_type": "markdown",
   "metadata": {},
   "source": [
    "### Modifying Colour Print Function"
   ]
  },
  {
   "cell_type": "code",
   "execution_count": 25,
   "metadata": {},
   "outputs": [
    {
     "name": "stdout",
     "output_type": "stream",
     "text": [
      "\u001b[31mHello, Red\u001b[0m\n",
      "This should be in the default terminal colour\n",
      "\u001b[34mHello, Blue\u001b[0m\n",
      "\u001b[33mHello, Yellow\u001b[0m\n",
      "\u001b[1mHello, Bold\u001b[0m\n",
      "\u001b[4mHello, Underline\u001b[0m\n",
      "\u001b[7mHello, Reverse\u001b[0m\n",
      "\u001b[30mHello, Black\u001b[0m\n"
     ]
    }
   ],
   "source": [
    "## pasting the content of the text files\n",
    "# Some ANSI escape sequences for colours and effects\n",
    "BLACK = '\\u001b[30m'\n",
    "RED = '\\u001b[31m'\n",
    "GREEN = '\\u001b[32m'\n",
    "YELLOW = '\\u001b[33m'\n",
    "BLUE = '\\u001b[34m'\n",
    "MAGENTA = '\\u001b[35m'\n",
    "CYAN = '\\u001b[36m'\n",
    "WHITE = '\\u001b[37m'\n",
    "RESET = '\\u001b[0m'\n",
    " \n",
    "BOLD = '\\u001b[1m'\n",
    "UNDERLINE = '\\u001b[4m'\n",
    "REVERSE = '\\u001b[7m'\n",
    "\n",
    "\n",
    "## function to print texts in different colours and effects.\n",
    "\n",
    "def colour_print(text:str, effect:str) -> None:\n",
    "    \"\"\"\n",
    "    Print the given text in Different Colour and Effects,\n",
    "    Using ANSI Sequences.\n",
    "    \n",
    "    :param text:- the text to print\n",
    "    :param effect:- the effects we want, One of the Constants which is defined at the start of the Module\n",
    "    :return :- this function will not return something specific other than the text which s given in param text.\n",
    "    \"\"\"\n",
    "    output_string = \"{0}{1}{2}\".format(effect, text, RESET)\n",
    "    print(output_string)\n",
    "    \n",
    "    \n",
    "colour_print(\"Hello, Red\", RED)\n",
    "# test that the colour was reset\n",
    "print(\"This should be in the default terminal colour\")\n",
    "colour_print(\"Hello, Blue\", BLUE)\n",
    "colour_print(\"Hello, Yellow\", YELLOW)\n",
    "colour_print(\"Hello, Bold\", BOLD)\n",
    "colour_print(\"Hello, Underline\", UNDERLINE)\n",
    "colour_print(\"Hello, Reverse\", REVERSE)\n",
    "colour_print(\"Hello, Black\", BLACK)"
   ]
  },
  {
   "cell_type": "code",
   "execution_count": 27,
   "metadata": {},
   "outputs": [],
   "source": [
    "## defining *effects parameter to select more than one effects.\n",
    "def colour_print(text:str, *effects:str) -> None:\n",
    "    \"\"\"\n",
    "    Print the given text in Different Colour and Effects,\n",
    "    Using ANSI Sequences.\n",
    "    \n",
    "    :param text:- the text to print\n",
    "    :param effects:- the effects we want, One  or more of the Constants which is defined at the start of the Module\n",
    "    :return :- this function will not return something specific other than the text which s given in param text.\n",
    "    \"\"\"\n",
    "    effect_string = \"\".join(effects)\n",
    "    output_string = \"{0}{1}{2}\".format(effect_string, text, RESET)\n",
    "    print(output_string)"
   ]
  },
  {
   "cell_type": "code",
   "execution_count": 30,
   "metadata": {},
   "outputs": [
    {
     "name": "stdout",
     "output_type": "stream",
     "text": [
      "\u001b[31mHello, Red\u001b[0m\n",
      "\u001b[31m\u001b[1mHello, Red in BOLD\u001b[0m\n",
      "This should be in the default terminal colour\n",
      "\u001b[34mHello, Blue\u001b[0m\n",
      "\u001b[34m\u001b[4mHello, Blue\u001b[0m\n",
      "\u001b[33mHello, Yellow\u001b[0m\n",
      "\u001b[33m\u001b[7mHello, Yellow\u001b[0m\n",
      "\u001b[1mHello, Bold\u001b[0m\n",
      "\u001b[4mHello, Underline\u001b[0m\n",
      "\u001b[7mHello, Reverse\u001b[0m\n",
      "\u001b[30mHello, Black\u001b[0m\n"
     ]
    }
   ],
   "source": [
    "colour_print(\"Hello, Red\", RED)\n",
    "colour_print(\"Hello, Red in BOLD\", RED,BOLD)\n",
    "# test that the colour was reset\n",
    "print(\"This should be in the default terminal colour\")\n",
    "colour_print(\"Hello, Blue\", BLUE)\n",
    "colour_print(\"Hello, Blue\", BLUE,UNDERLINE)\n",
    "colour_print(\"Hello, Yellow\", YELLOW)\n",
    "colour_print(\"Hello, Yellow\", YELLOW,REVERSE)\n",
    "colour_print(\"Hello, Bold\", BOLD)\n",
    "colour_print(\"Hello, Underline\", UNDERLINE)\n",
    "colour_print(\"Hello, Reverse\", REVERSE)\n",
    "colour_print(\"Hello, Black\", BLACK)"
   ]
  },
  {
   "cell_type": "code",
   "execution_count": null,
   "metadata": {},
   "outputs": [],
   "source": []
  }
 ],
 "metadata": {
  "kernelspec": {
   "display_name": "Python 3",
   "language": "python",
   "name": "python3"
  },
  "language_info": {
   "codemirror_mode": {
    "name": "ipython",
    "version": 3
   },
   "file_extension": ".py",
   "mimetype": "text/x-python",
   "name": "python",
   "nbconvert_exporter": "python",
   "pygments_lexer": "ipython3",
   "version": "3.8.3"
  }
 },
 "nbformat": 4,
 "nbformat_minor": 4
}
