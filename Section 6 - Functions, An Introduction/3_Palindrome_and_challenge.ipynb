{
 "cells": [
  {
   "cell_type": "markdown",
   "metadata": {},
   "source": [
    "**PALINDROME**\n",
    "\n",
    "+ Palindrome is a word that read same backwards as forwards.\n",
    "+ Function to detect wether the gven string is palindrome or not."
   ]
  },
  {
   "cell_type": "code",
   "execution_count": 1,
   "metadata": {},
   "outputs": [],
   "source": [
    "def is_palindrome(string):\n",
    "    \n",
    "    backwards = string[::-1]    ## reversing the string\n",
    "    return backwards == string  ## check whther the two words are the same."
   ]
  },
  {
   "cell_type": "code",
   "execution_count": 2,
   "metadata": {},
   "outputs": [
    {
     "data": {
      "text/plain": [
       "False"
      ]
     },
     "execution_count": 2,
     "metadata": {},
     "output_type": "execute_result"
    }
   ],
   "source": [
    "is_palindrome(\"abcdefgh\")"
   ]
  },
  {
   "cell_type": "code",
   "execution_count": 3,
   "metadata": {},
   "outputs": [
    {
     "data": {
      "text/plain": [
       "True"
      ]
     },
     "execution_count": 3,
     "metadata": {},
     "output_type": "execute_result"
    }
   ],
   "source": [
    "is_palindrome(\"aahaa\")"
   ]
  },
  {
   "cell_type": "code",
   "execution_count": 4,
   "metadata": {},
   "outputs": [],
   "source": [
    "def is_palindrome_simple_method(string):\n",
    "    return string[::-1] == string"
   ]
  },
  {
   "cell_type": "code",
   "execution_count": 5,
   "metadata": {},
   "outputs": [
    {
     "data": {
      "text/plain": [
       "True"
      ]
     },
     "execution_count": 5,
     "metadata": {},
     "output_type": "execute_result"
    }
   ],
   "source": [
    "is_palindrome_simple_method(\"aahhaa\")"
   ]
  },
  {
   "cell_type": "code",
   "execution_count": 54,
   "metadata": {},
   "outputs": [
    {
     "name": "stdin",
     "output_type": "stream",
     "text": [
      "Please enter a Word to Check:-- ahhaa\n"
     ]
    },
    {
     "name": "stdout",
     "output_type": "stream",
     "text": [
      "'ahhaa' is not a Palindrome\n"
     ]
    }
   ],
   "source": [
    "word = input(\"Please enter a Word to Check:--\")\n",
    "if is_palindrome(word):\n",
    "    print(\"'{}' is a Palindrome\".format(word))\n",
    "    \n",
    "else:\n",
    "    print(\"'{}' is not a Palindrome\".format(word))"
   ]
  },
  {
   "cell_type": "markdown",
   "metadata": {},
   "source": [
    "**CHALLENGE OF PALINDROME WORD**\n",
    "\n",
    "+ Fix the Palindrome Function\n",
    "+ It should Ignores the Capital Letter Issues, while Checking the two Strings are Equal.\n",
    "+ Test the Function with the Words that are Palindrome using a mix of Upper and Lower case letters.\n",
    "+ Test that it correctly identifies words that aren't Palindromes."
   ]
  },
  {
   "cell_type": "code",
   "execution_count": 55,
   "metadata": {},
   "outputs": [
    {
     "name": "stdin",
     "output_type": "stream",
     "text": [
      "Please enter a Word to Check:-- oohHoo\n"
     ]
    },
    {
     "name": "stdout",
     "output_type": "stream",
     "text": [
      "'oohHoo' is a Palindrome\n"
     ]
    }
   ],
   "source": [
    "## here we can use .upper() and .lower()\n",
    "## also .casefold() will work\n",
    "\n",
    "## script\n",
    "\n",
    "def is_palindrome_simple_method(string):\n",
    "    return string[::-1].casefold() == string.casefold()\n",
    "\n",
    "word = input(\"Please enter a Word to Check:--\")\n",
    "if is_palindrome_simple_method(word):\n",
    "    print(\"'{}' is a Palindrome\".format(word))\n",
    "    \n",
    "else:\n",
    "    print(\"'{}' is not a Palindrome\".format(word))"
   ]
  },
  {
   "cell_type": "code",
   "execution_count": 58,
   "metadata": {},
   "outputs": [
    {
     "name": "stdin",
     "output_type": "stream",
     "text": [
      "Enter a Word to Check:-- Rinsi\n"
     ]
    },
    {
     "name": "stdout",
     "output_type": "stream",
     "text": [
      "'Rinsi' is not a Palindrome\n"
     ]
    }
   ],
   "source": [
    "## modified function using Upper()\n",
    "\n",
    "def is_palindrome_using_upper(string):\n",
    "    return string[::-1].upper() == string.upper()\n",
    "\n",
    "word = input(\"Enter a Word to Check:--\")\n",
    "\n",
    "if is_palindrome_using_upper(word):\n",
    "    print(\"'{}' is a Palindrome\".format(word))\n",
    "    \n",
    "else:\n",
    "    print(\"'{}' is not a Palindrome\".format(word))"
   ]
  },
  {
   "cell_type": "code",
   "execution_count": 63,
   "metadata": {},
   "outputs": [
    {
     "name": "stdin",
     "output_type": "stream",
     "text": [
      "Please Enter a Word to Check:-- otto\n"
     ]
    },
    {
     "name": "stdout",
     "output_type": "stream",
     "text": [
      "'otto' is a Palindrome\n"
     ]
    }
   ],
   "source": [
    "## modified function using Lower()\n",
    "\n",
    "def is_palindrome_using_lower(string):\n",
    "    return string[::-1].lower() == string.lower()\n",
    "\n",
    "\n",
    "word = input(\"Please Enter a Word to Check:--\")\n",
    "\n",
    "if is_palindrome_using_lower(word):\n",
    "    print(\"'{}' is a Palindrome\".format(word))\n",
    "    \n",
    "else:\n",
    "    print(\"'{}' is not a Palindrome\".format(word))"
   ]
  },
  {
   "cell_type": "markdown",
   "metadata": {},
   "source": [
    "**CHALLENGE FOR THE PALINDROME SENTENCE**\n",
    "\n",
    "+ How to check the Sentence is a Palindrome or not?\n",
    "+ In Sentence, only letters Count, We have to Ignore spaces and Punctutions.\n",
    "+ Step one : - Create a new String, from the given sentence with only alpha numeric elements.\n",
    "+ checking numbers -- string.isalnum() method.\n",
    "+ checking alphabets -- string.isalpha() method()."
   ]
  },
  {
   "cell_type": "code",
   "execution_count": 67,
   "metadata": {},
   "outputs": [],
   "source": [
    "## function using isalnum()\n",
    "\n",
    "def palindrome_sentence(sentence):\n",
    "    \n",
    "    string = \"\"  ## define an empty string\n",
    "    for char in sentence:\n",
    "        if char.isalnum():\n",
    "            string += char\n",
    "            \n",
    "    print(\"The new String:----------\",string)\n",
    "    \n",
    "    return string[::-1].casefold() == string.casefold()\n"
   ]
  },
  {
   "cell_type": "code",
   "execution_count": 68,
   "metadata": {},
   "outputs": [
    {
     "name": "stdin",
     "output_type": "stream",
     "text": [
      "Enter the Sentence of your Choice:-- Was it a car, or a cat, i saw?\n"
     ]
    },
    {
     "name": "stdout",
     "output_type": "stream",
     "text": [
      "The new String:---------- Wasitacaroracatisaw\n",
      "'Was it a car, or a cat, i saw?' is a Palindrome\n"
     ]
    }
   ],
   "source": [
    "sentence = input(\"Enter the Sentence of your Choice:--\")\n",
    "\n",
    "if palindrome_sentence(sentence):\n",
    "    print(\"'{}' is a Palindrome\".format(sentence))\n",
    "else:\n",
    "    print(\"'{}' is not a Palindrome\".format(sentence))"
   ]
  },
  {
   "cell_type": "code",
   "execution_count": 69,
   "metadata": {},
   "outputs": [],
   "source": [
    "## function using isalpha()\n",
    "\n",
    "def palindrome_sentence(sentence):\n",
    "    \n",
    "    string = \"\"  ## define an empty string\n",
    "    for char in sentence:\n",
    "        if char.isalpha():\n",
    "            string += char\n",
    "            \n",
    "    print(\"The new String:----------\",string)\n",
    "    \n",
    "    return string[::-1].casefold() == string.casefold()"
   ]
  },
  {
   "cell_type": "code",
   "execution_count": 70,
   "metadata": {},
   "outputs": [
    {
     "name": "stdin",
     "output_type": "stream",
     "text": [
      "Enter the Sentence of your Choice:-- Was it a car, or a cat, i saw?\n"
     ]
    },
    {
     "name": "stdout",
     "output_type": "stream",
     "text": [
      "The new String:---------- Wasitacaroracatisaw\n",
      "'Was it a car, or a cat, i saw?' is a Palindrome\n"
     ]
    }
   ],
   "source": [
    "sentence = input(\"Enter the Sentence of your Choice:--\")\n",
    "\n",
    "if palindrome_sentence(sentence):\n",
    "    print(\"'{}' is a Palindrome\".format(sentence))\n",
    "else:\n",
    "    print(\"'{}' is not a Palindrome\".format(sentence))"
   ]
  },
  {
   "cell_type": "markdown",
   "metadata": {},
   "source": [
    "**FUNCTIONS CALLING ANOTHER FUNCTIONS**\n",
    "\n",
    "+ Calling functions in another Functions"
   ]
  },
  {
   "cell_type": "code",
   "execution_count": 74,
   "metadata": {},
   "outputs": [
    {
     "name": "stdin",
     "output_type": "stream",
     "text": [
      "Enter the Sentence of your Choice:-- Was it a Car, or a cat , i saw??\n"
     ]
    },
    {
     "name": "stdout",
     "output_type": "stream",
     "text": [
      "The new String:---------- WasitaCaroracatisaw\n",
      "'Was it a Car, or a cat , i saw??' is a Palindrome\n"
     ]
    }
   ],
   "source": [
    "## this will check whether the string is a Palindrome.\n",
    "\n",
    "def is_palindrome(string):\n",
    "    return string[::-1].casefold() == string.casefold()\n",
    "\n",
    "\n",
    "## this function will check the whther the sentence is a palindrome\n",
    "## here using the is_palindrome functionto return the value string[::-1].casefold() == string.casefold()\n",
    "\n",
    "## function using isalpha()\n",
    "\n",
    "def palindrome_sentence(sentence):\n",
    "    \n",
    "    string = \"\"  ## define an empty string\n",
    "    for char in sentence:\n",
    "        if char.isalpha():\n",
    "            string += char\n",
    "            \n",
    "    print(\"The new String:----------\",string)\n",
    "    \n",
    "    #return string[::-1].casefold() == string.casefold()\n",
    "    return is_palindrome(string)\n",
    "\n",
    "\n",
    "## checking the method\n",
    "sentence = input(\"Enter the Sentence of your Choice:--\")\n",
    "\n",
    "if palindrome_sentence(sentence):\n",
    "    print(\"'{}' is a Palindrome\".format(sentence))\n",
    "else:\n",
    "    print(\"'{}' is not a Palindrome\".format(sentence))"
   ]
  },
  {
   "cell_type": "code",
   "execution_count": null,
   "metadata": {},
   "outputs": [],
   "source": []
  }
 ],
 "metadata": {
  "kernelspec": {
   "display_name": "Python 3",
   "language": "python",
   "name": "python3"
  },
  "language_info": {
   "codemirror_mode": {
    "name": "ipython",
    "version": 3
   },
   "file_extension": ".py",
   "mimetype": "text/x-python",
   "name": "python",
   "nbconvert_exporter": "python",
   "pygments_lexer": "ipython3",
   "version": "3.8.3"
  }
 },
 "nbformat": 4,
 "nbformat_minor": 4
}
