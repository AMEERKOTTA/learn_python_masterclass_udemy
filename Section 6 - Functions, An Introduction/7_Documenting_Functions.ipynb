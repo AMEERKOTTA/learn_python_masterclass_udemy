{
 "cells": [
  {
   "cell_type": "markdown",
   "metadata": {},
   "source": [
    "### Docstrings\n",
    "\n",
    "+ Docstrings are Strings that will Document the Function or Class.\n",
    "+ Documenting will help other programmers to understand the Code.\n",
    "+ Sometimes the Other programmer will be yourself after one year.\n",
    "+ To make modification, you will be able to understand the code using Documentation.\n",
    "+ Note that the Docstrings are inside the Function Definition.\n",
    "\n",
    "+ **Python Docstring appear inside the Function, they become attribute of the Function.**"
   ]
  },
  {
   "cell_type": "code",
   "execution_count": 1,
   "metadata": {},
   "outputs": [],
   "source": [
    "def get_integer(prompt):\n",
    "    \"\"\"\n",
    "    Get an integer from Standard Input (stdin).\n",
    "    The function will continue looping, and prompting the user, until a valid integer is entered.\n",
    "    \n",
    "    :param prompt :- the string that user will see, when they are prompted to enter a value.\n",
    "    \n",
    "    :return :- the integer user will enters.\n",
    "    \"\"\"\n",
    "    while True:\n",
    "        temp = input(prompt)\n",
    "        if temp.isnumeric():\n",
    "            return int(temp)\n",
    "        \n",
    "        else:\n",
    "            print(\"{0} is not a valid number\".format(temp))"
   ]
  },
  {
   "cell_type": "code",
   "execution_count": 4,
   "metadata": {},
   "outputs": [
    {
     "name": "stdout",
     "output_type": "stream",
     "text": [
      "130\n",
      "Please guess a number between 1 and 1000\n"
     ]
    },
    {
     "name": "stdin",
     "output_type": "stream",
     "text": [
      ":  3\n"
     ]
    },
    {
     "name": "stdout",
     "output_type": "stream",
     "text": [
      "Now either GUess will be lower or higher from the Answer\n",
      "Your Guess is Lower, Please guess a HIgher Value\n"
     ]
    },
    {
     "name": "stdin",
     "output_type": "stream",
     "text": [
      ":  130\n"
     ]
    },
    {
     "name": "stdout",
     "output_type": "stream",
     "text": [
      "Congratulations, you guessed it correctly.\n"
     ]
    }
   ],
   "source": [
    "## program for guessing game.\n",
    "\n",
    "import random\n",
    "lowest = 1\n",
    "highest = 1000\n",
    "answer = random.randint(lowest,highest)\n",
    "print(answer)\n",
    "\n",
    "## guessing game starts.\n",
    "print(\"Please guess a number between {0} and {1}\".format(lowest,highest))\n",
    "\n",
    "## initiate guess to any value other than the answer.\n",
    "guess = 0\n",
    "\n",
    "## implement a while loop, to keep guessing until it gets the correct guess.\n",
    "while guess!=answer:\n",
    "    guess = get_integer(\": \")\n",
    "    \n",
    "    if guess == 0:\n",
    "        print(\"I'm out of this Game.\")\n",
    "        break\n",
    "        \n",
    "    if guess == answer:\n",
    "        print(\"Congratulations, you guessed it correctly.\")\n",
    "        break\n",
    "        \n",
    "    else:\n",
    "        print(\"Now either GUess will be lower or higher from the Answer\")\n",
    "        if guess < answer:\n",
    "            print(\"Your Guess is Lower, Please guess a HIgher Value\")\n",
    "        else:\n",
    "            print(\"Your GUess is Higher, Please guess a Lower Value\")"
   ]
  },
  {
   "cell_type": "markdown",
   "metadata": {},
   "source": [
    "**PYTHON MODULES**\n",
    "\n",
    "+ A module is a file Containing Python definitions and Statements.\n",
    "+ The file name is the module name with the suffix.py appended.\n",
    "+ Each .py file that you created become a new python Module.\n",
    "+ Modules can be imported into another module or executed."
   ]
  },
  {
   "cell_type": "code",
   "execution_count": 8,
   "metadata": {},
   "outputs": [
    {
     "name": "stdout",
     "output_type": "stream",
     "text": [
      "####################################################################################################\n",
      "\n",
      "Forward raw_input to frontends\n",
      "\n",
      "        Raises\n",
      "        ------\n",
      "        StdinNotImplentedError if active frontend doesn't support stdin.\n",
      "        \n",
      "####################################################################################################\n",
      "\n",
      "    Get an integer from Standard Input (stdin).\n",
      "    The function will continue looping, and prompting the user, until a valid integer is entered.\n",
      "    \n",
      "    :param prompt :- the string that user will see, when they are prompted to enter a value.\n",
      "    \n",
      "    :return :- the integer user will enters.\n",
      "    \n",
      "####################################################################################################\n"
     ]
    }
   ],
   "source": [
    "print(\"#\"*100)\n",
    "print()\n",
    "print(input.__doc__)\n",
    "print(\"#\"*100)\n",
    "\n",
    "print(get_integer.__doc__)\n",
    "print(\"#\"*100)"
   ]
  },
  {
   "cell_type": "code",
   "execution_count": 9,
   "metadata": {},
   "outputs": [
    {
     "name": "stdout",
     "output_type": "stream",
     "text": [
      "Help on function get_integer in module __main__:\n",
      "\n",
      "get_integer(prompt)\n",
      "    Get an integer from Standard Input (stdin).\n",
      "    The function will continue looping, and prompting the user, until a valid integer is entered.\n",
      "    \n",
      "    :param prompt :- the string that user will see, when they are prompted to enter a value.\n",
      "    \n",
      "    :return :- the integer user will enters.\n",
      "\n"
     ]
    }
   ],
   "source": [
    "help(get_integer)"
   ]
  },
  {
   "cell_type": "markdown",
   "metadata": {},
   "source": [
    "**DOCSTRING CHALLENGE**\n",
    "\n",
    "+ Create Docstrings to the following functions.\n",
    "    + multiply(x,y)\n",
    "    + is_palindrome(string)\n",
    "    + palindrome_sentence(sentence)"
   ]
  },
  {
   "cell_type": "code",
   "execution_count": 10,
   "metadata": {},
   "outputs": [],
   "source": [
    "def multiply(x,y):\n",
    "    \"\"\"\n",
    "    Multiply two Numbers.\n",
    "    Although this function is intented to multiply two numbers,\n",
    "    you can also use this to multiply a sequence. If you give a string,\n",
    "    as the first argument, then we will get a multplied result by `y`.\n",
    "    \n",
    "    :param x:- The first number to multiply.\n",
    "    :param y:- The second number to multiply by `x`\n",
    "    :return :- The product of `x` and `y`\n",
    "    \"\"\"\n",
    "    \n",
    "    result = x * y\n",
    "    return result"
   ]
  },
  {
   "cell_type": "code",
   "execution_count": 12,
   "metadata": {},
   "outputs": [
    {
     "data": {
      "text/plain": [
       "'////////////////////////'"
      ]
     },
     "execution_count": 12,
     "metadata": {},
     "output_type": "execute_result"
    }
   ],
   "source": [
    "multiply(\"////\",6)"
   ]
  },
  {
   "cell_type": "code",
   "execution_count": 16,
   "metadata": {},
   "outputs": [],
   "source": [
    "def is_palindrome(string):\n",
    "    \"\"\"\n",
    "    Check the Given String is Palindrome or Not.\n",
    "    Palindrome sequence will be same forward and backwards.\n",
    "    \n",
    "    \n",
    "    :param string:- Given string to check.\n",
    "    :return :- True if the string is Palindrome, False if otherwise\n",
    "    \n",
    "    \"\"\"\n",
    "    \n",
    "    backwards = string[::-1].casefold()    ## reversing the string\n",
    "    return backwards == string.casefold()  ## check whther the two words are the same."
   ]
  },
  {
   "cell_type": "code",
   "execution_count": 18,
   "metadata": {},
   "outputs": [
    {
     "data": {
      "text/plain": [
       "True"
      ]
     },
     "execution_count": 18,
     "metadata": {},
     "output_type": "execute_result"
    }
   ],
   "source": [
    "is_palindrome(\"Oho\")"
   ]
  },
  {
   "cell_type": "code",
   "execution_count": 19,
   "metadata": {},
   "outputs": [],
   "source": [
    "def palindrome_sentence(sentence):\n",
    "    \"\"\"\n",
    "    Check if a sentence is a palindrome.\n",
    " \n",
    "    The function ignores whitespace, capitalisation and\n",
    "    punctuation in the sentence.\n",
    " \n",
    "    :param sentence: The sentence to check.\n",
    "    :return: True if `sentence` is a palindrome, False otherwise.\n",
    "    \"\"\"\n",
    "    string = \"\"\n",
    "    for char in sentence:\n",
    "        if char.isalnum():\n",
    "            string += char\n",
    "    return is_palindrome(string)"
   ]
  },
  {
   "cell_type": "code",
   "execution_count": 20,
   "metadata": {},
   "outputs": [
    {
     "data": {
      "text/plain": [
       "False"
      ]
     },
     "execution_count": 20,
     "metadata": {},
     "output_type": "execute_result"
    }
   ],
   "source": [
    "palindrome_sentence(\"Ameer Shahul HAmeed KOtta\")"
   ]
  },
  {
   "cell_type": "code",
   "execution_count": null,
   "metadata": {},
   "outputs": [],
   "source": []
  }
 ],
 "metadata": {
  "kernelspec": {
   "display_name": "Python 3",
   "language": "python",
   "name": "python3"
  },
  "language_info": {
   "codemirror_mode": {
    "name": "ipython",
    "version": 3
   },
   "file_extension": ".py",
   "mimetype": "text/x-python",
   "name": "python",
   "nbconvert_exporter": "python",
   "pygments_lexer": "ipython3",
   "version": "3.8.3"
  }
 },
 "nbformat": 4,
 "nbformat_minor": 4
}
