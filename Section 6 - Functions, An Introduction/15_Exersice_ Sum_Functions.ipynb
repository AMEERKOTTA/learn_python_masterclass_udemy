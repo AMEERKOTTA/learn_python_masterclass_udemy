{
 "cells": [
  {
   "cell_type": "markdown",
   "metadata": {},
   "source": [
    "### Exercise\n",
    "\n",
    "+ Write a Function to Calculate the Sum of all numbers passed as its Arguments.\n",
    "+ Your Function should be Called sum_numbers() and should define a single variable Argument (star Argument)"
   ]
  },
  {
   "cell_type": "markdown",
   "metadata": {},
   "source": [
    "Test the function with the following values:\n",
    "\n",
    "+ Values              Result\n",
    "+ Values = 1, 2, 3                 Result   =     6\n",
    "+ Values = 8, 20, 2                Result   =     30\n",
    "+ Values = 12.5, 3.147, 98.1       Result   =     113.747\n",
    "+ Values = 1.1, 2.2, 5.5           Result   =     8.8\n",
    "\n",
    "\n",
    "+ Those are just example data, this system will check your function with random sequences of values."
   ]
  },
  {
   "cell_type": "code",
   "execution_count": 1,
   "metadata": {},
   "outputs": [
    {
     "name": "stdout",
     "output_type": "stream",
     "text": [
      "6\n",
      "30\n",
      "113.747\n",
      "8.8\n"
     ]
    }
   ],
   "source": [
    "def sum_numbers(*args):\n",
    "    \n",
    "    \"\"\"\n",
    "    Function to return sum of all numbers given as Arguments.\n",
    "    \n",
    "    :param *args :- The Arguments that will pass for taking the Sum\n",
    "    :return :- The sum of all passed arguments.\n",
    "\n",
    "    \"\"\"\n",
    "    \n",
    "    ## initiate sum as 0\n",
    "    ## implement a for loop to get the specific values which are passed.\n",
    "    ## then add the number to the result variable.\n",
    "    ## return result\n",
    "    \n",
    "    resulting_sum = 0\n",
    "    for number in args:\n",
    "        #resulting_sum = resulting_sum + number  \n",
    "        resulting_sum += number\n",
    "        \n",
    "    return resulting_sum\n",
    "\n",
    "\n",
    "print(sum_numbers(1, 2, 3))\n",
    "print(sum_numbers(8, 20, 2))\n",
    "print(sum_numbers(12.5, 3.147, 98.1))\n",
    "print(sum_numbers(1.1, 2.2, 5.5))"
   ]
  },
  {
   "cell_type": "code",
   "execution_count": null,
   "metadata": {},
   "outputs": [],
   "source": [
    "## function using "
   ]
  }
 ],
 "metadata": {
  "kernelspec": {
   "display_name": "Python 3",
   "language": "python",
   "name": "python3"
  },
  "language_info": {
   "codemirror_mode": {
    "name": "ipython",
    "version": 3
   },
   "file_extension": ".py",
   "mimetype": "text/x-python",
   "name": "python",
   "nbconvert_exporter": "python",
   "pygments_lexer": "ipython3",
   "version": "3.8.3"
  }
 },
 "nbformat": 4,
 "nbformat_minor": 4
}
