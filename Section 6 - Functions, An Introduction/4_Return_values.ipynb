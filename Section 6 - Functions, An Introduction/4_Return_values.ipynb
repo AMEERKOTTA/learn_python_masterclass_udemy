{
 "cells": [
  {
   "cell_type": "code",
   "execution_count": 3,
   "metadata": {},
   "outputs": [
    {
     "name": "stdout",
     "output_type": "stream",
     "text": [
      "630\n",
      "Please guess number betwwen 1 and 1000\n"
     ]
    },
    {
     "name": "stdin",
     "output_type": "stream",
     "text": [
      " 630\n"
     ]
    },
    {
     "name": "stdout",
     "output_type": "stream",
     "text": [
      "Well Done, you got it correctly\n"
     ]
    }
   ],
   "source": [
    "## guessing game\n",
    "#### Challenge\n",
    "\n",
    "import random     ## library to choose a random value to get the answer\n",
    "highest = 1000    ## highest value is given as 1000\n",
    "answer = random.randint(1,highest)  ## randomly choosing a number between 1 and 10\n",
    "print(answer)\n",
    "\n",
    "print(\"Please guess number betwwen 1 and {}\".format(highest))   ## print the number\n",
    "\n",
    "## guess\n",
    "guess = 0 ## initialize to any number that doesn't equal to the answer\n",
    "\n",
    "while guess != answer:     ## while the answer is not the guessed value\n",
    "    guess = int(input())   ## our guess\n",
    "    \n",
    "    if guess == 0:         ## if guess is given as 0, then we can exit the game\n",
    "        print(\"I'm out of the Game, I can't do this anymore\")\n",
    "        break              ## with the break statement, the program will exit from the game\n",
    "    \n",
    "    if guess == answer:    ## if the guessed answer is correct\n",
    "        print(\"Well Done, you got it correctly\")\n",
    "        break\n",
    "    else:\n",
    "        if guess < answer: ## if the guessed answer is not correct,either it will be greater than or less than.\n",
    "            print(\"Guessed value is lower, Please guess a Higher value\")\n",
    "        else:\n",
    "            print(\"Guessed value is higher, Please guess a Lower value\")\n",
    "            \n",
    "    "
   ]
  },
  {
   "cell_type": "code",
   "execution_count": 8,
   "metadata": {},
   "outputs": [],
   "source": [
    "## defining the funtion to get an integer.\n",
    "def get_integer(prompt):\n",
    "    while True:               ## while loop to continue the guess\n",
    "        temp = input(prompt)  ## input\n",
    "        if temp.isnumeric():  ## if it is numeric\n",
    "            return int(temp)  ## it will print the number, or while loop will continue until it gets a number."
   ]
  },
  {
   "cell_type": "code",
   "execution_count": 5,
   "metadata": {},
   "outputs": [
    {
     "name": "stdin",
     "output_type": "stream",
     "text": [
      ":  3\n"
     ]
    },
    {
     "data": {
      "text/plain": [
       "3"
      ]
     },
     "execution_count": 5,
     "metadata": {},
     "output_type": "execute_result"
    }
   ],
   "source": [
    "get_integer(\": \")"
   ]
  },
  {
   "cell_type": "code",
   "execution_count": 6,
   "metadata": {},
   "outputs": [
    {
     "name": "stdout",
     "output_type": "stream",
     "text": [
      "63\n",
      "Please guess number betwwen 1 and 1000\n"
     ]
    },
    {
     "name": "stdin",
     "output_type": "stream",
     "text": [
      ":   git \n",
      ":   800\n"
     ]
    },
    {
     "name": "stdout",
     "output_type": "stream",
     "text": [
      "Guessed value is higher, Please guess a Lower value\n"
     ]
    },
    {
     "name": "stdin",
     "output_type": "stream",
     "text": [
      ":   567\n"
     ]
    },
    {
     "name": "stdout",
     "output_type": "stream",
     "text": [
      "Guessed value is higher, Please guess a Lower value\n"
     ]
    },
    {
     "name": "stdin",
     "output_type": "stream",
     "text": [
      ":   poor quality\n",
      ":   100\n"
     ]
    },
    {
     "name": "stdout",
     "output_type": "stream",
     "text": [
      "Guessed value is higher, Please guess a Lower value\n"
     ]
    },
    {
     "name": "stdin",
     "output_type": "stream",
     "text": [
      ":   63\n"
     ]
    },
    {
     "name": "stdout",
     "output_type": "stream",
     "text": [
      "Well Done, you got it correctly\n"
     ]
    }
   ],
   "source": [
    "## guessing game\n",
    "#### Challenge\n",
    "\n",
    "import random     ## library to choose a random value to get the answer\n",
    "highest = 1000    ## highest value is given as 1000\n",
    "answer = random.randint(1,highest)  ## randomly choosing a number between 1 and 10\n",
    "print(answer)\n",
    "\n",
    "print(\"Please guess number betwwen 1 and {}\".format(highest))   ## print the number\n",
    "\n",
    "## guess\n",
    "guess = 0 ## initialize to any number that doesn't equal to the answer\n",
    "\n",
    "while guess != answer:     ## while the answer is not the guessed value\n",
    "    guess = get_integer(\":  \")   ## our guess giving the function name, calling the function.\n",
    "    \n",
    "    if guess == 0:         ## if guess is given as 0, then we can exit the game\n",
    "        print(\"I'm out of the Game, I can't do this anymore\")\n",
    "        break              ## with the break statement, the program will exit from the game\n",
    "    \n",
    "    if guess == answer:    ## if the guessed answer is correct\n",
    "        print(\"Well Done, you got it correctly\")\n",
    "        break\n",
    "    else:\n",
    "        if guess < answer: ## if the guessed answer is not correct,either it will be greater than or less than.\n",
    "            print(\"Guessed value is lower, Please guess a Higher value\")\n",
    "        else:\n",
    "            print(\"Guessed value is higher, Please guess a Lower value\")\n",
    "            \n",
    "    "
   ]
  },
  {
   "cell_type": "markdown",
   "metadata": {},
   "source": [
    "**CHALLENGE**\n",
    "\n",
    "+ Modify the get_integer function.\n",
    "+ If the user enter an Invalid input.\n",
    "+ It should print a Message."
   ]
  },
  {
   "cell_type": "code",
   "execution_count": 11,
   "metadata": {},
   "outputs": [],
   "source": [
    "def get_integer(prompt):\n",
    "    while True:\n",
    "        temp = input(prompt)\n",
    "        if temp.isnumeric():\n",
    "            print(\"{0} is a Valid Number\".format(temp))\n",
    "            return int(temp)\n",
    "        \n",
    "        else:\n",
    "            print(\"{0} is not a Valid Number\".format(temp))"
   ]
  },
  {
   "cell_type": "code",
   "execution_count": 13,
   "metadata": {},
   "outputs": [
    {
     "name": "stdin",
     "output_type": "stream",
     "text": [
      "4 high\n"
     ]
    },
    {
     "name": "stdout",
     "output_type": "stream",
     "text": [
      "high is not a Valid Number\n"
     ]
    },
    {
     "name": "stdin",
     "output_type": "stream",
     "text": [
      "4 7\n"
     ]
    },
    {
     "name": "stdout",
     "output_type": "stream",
     "text": [
      "7 is a Valid Number\n"
     ]
    },
    {
     "data": {
      "text/plain": [
       "7"
      ]
     },
     "execution_count": 13,
     "metadata": {},
     "output_type": "execute_result"
    }
   ],
   "source": [
    "get_integer(prompt)"
   ]
  },
  {
   "cell_type": "code",
   "execution_count": 14,
   "metadata": {},
   "outputs": [],
   "source": [
    "def get_integer(prompt):\n",
    "    while True:\n",
    "        temp = input(prompt)\n",
    "        if temp.isnumeric():\n",
    "            print(\"{0} is a Valid Number\".format(temp))\n",
    "            return int(temp)\n",
    "        \n",
    "        ##else:\n",
    "        print(\"{0} is not a Valid Number\".format(temp))"
   ]
  },
  {
   "cell_type": "code",
   "execution_count": 15,
   "metadata": {},
   "outputs": [
    {
     "name": "stdin",
     "output_type": "stream",
     "text": [
      "4 high\n"
     ]
    },
    {
     "name": "stdout",
     "output_type": "stream",
     "text": [
      "high is not a Valid Number\n"
     ]
    },
    {
     "name": "stdin",
     "output_type": "stream",
     "text": [
      "4 2\n"
     ]
    },
    {
     "name": "stdout",
     "output_type": "stream",
     "text": [
      "2 is a Valid Number\n"
     ]
    },
    {
     "data": {
      "text/plain": [
       "2"
      ]
     },
     "execution_count": 15,
     "metadata": {},
     "output_type": "execute_result"
    }
   ],
   "source": [
    "get_integer(prompt)"
   ]
  },
  {
   "cell_type": "markdown",
   "metadata": {},
   "source": [
    "**The above two codes will do the same thing.**"
   ]
  },
  {
   "cell_type": "markdown",
   "metadata": {},
   "source": [
    "**CHALLENGE**\n",
    "\n",
    "+ Write a Function sum_even_odd\n",
    "+ With the Parameters, \n",
    "        + n, positive number\n",
    "        + t, string\n",
    "+ if \"t\" has the value \"e\", then the function should return the sum of all even natural numbers less than n.\n",
    "+ if \"t\" has the value \"o\", then the function should return the sum of all odd natural numbers less than n."
   ]
  },
  {
   "cell_type": "code",
   "execution_count": 20,
   "metadata": {},
   "outputs": [
    {
     "name": "stdout",
     "output_type": "stream",
     "text": [
      "25\n"
     ]
    }
   ],
   "source": [
    "def sum_even_odd(n,t):\n",
    "    \n",
    "    if t == \"e\":\n",
    "        start = 2\n",
    "        \n",
    "    elif t == \"o\":\n",
    "        start = 1\n",
    "        \n",
    "    else:\n",
    "        return -1\n",
    "    \n",
    "    return sum(range(start, n, 2))\n",
    "\n",
    "x = sum_even_odd(11,\"o\")\n",
    "print(x)"
   ]
  },
  {
   "cell_type": "code",
   "execution_count": null,
   "metadata": {},
   "outputs": [],
   "source": []
  }
 ],
 "metadata": {
  "kernelspec": {
   "display_name": "Python 3",
   "language": "python",
   "name": "python3"
  },
  "language_info": {
   "codemirror_mode": {
    "name": "ipython",
    "version": 3
   },
   "file_extension": ".py",
   "mimetype": "text/x-python",
   "name": "python",
   "nbconvert_exporter": "python",
   "pygments_lexer": "ipython3",
   "version": "3.8.3"
  }
 },
 "nbformat": 4,
 "nbformat_minor": 4
}
