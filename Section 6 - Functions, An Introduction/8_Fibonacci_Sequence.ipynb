{
 "cells": [
  {
   "cell_type": "markdown",
   "metadata": {},
   "source": [
    "### Fibonacci Numbers\n",
    "\n",
    "+ Write a function that will calculate Fibonacci Numbers.\n",
    "+ Fibonacci Sequence - 0,1,1,2,3,5,8, etc\n",
    "+ All other terms are obtained by adding the preceeding two terms.\n",
    "+ **nth term = (n-1)th term + (n-2)th term**"
   ]
  },
  {
   "cell_type": "markdown",
   "metadata": {},
   "source": [
    "Python Program to Find Fibonacci Numbers using While Loops"
   ]
  },
  {
   "cell_type": "code",
   "execution_count": 3,
   "metadata": {},
   "outputs": [
    {
     "name": "stdin",
     "output_type": "stream",
     "text": [
      "How many terms:-- 6\n"
     ]
    },
    {
     "name": "stdout",
     "output_type": "stream",
     "text": [
      "0\n",
      "1\n",
      "1\n",
      "2\n",
      "3\n",
      "5\n"
     ]
    }
   ],
   "source": [
    "## program to display fib sequence upto n-th term.\n",
    "n_terms = int(input(\"How many terms:--\"))\n",
    "\n",
    "## initialize first two numbers.\n",
    "n1, n2 = 0, 1 \n",
    "## initialie count as 0\n",
    "count = 0\n",
    "\n",
    "## if number of terms is negative, we will need to get a new number which is positive.\n",
    "## if the terms is 1, print jthe one number which is n1.\n",
    "## if the terms is higher than 1.\n",
    "## use a while loop to iterate over the nterms using count.\n",
    "## update the n1 and n2 every time.\n",
    "\n",
    "if n_terms < 0:\n",
    "    print(\"Please Enter a Positive Number:--\")\n",
    "    \n",
    "elif n_terms == 1:\n",
    "    print(\"There is only one terms which is n1\", n1)\n",
    "    \n",
    "else:\n",
    "    while count < n_terms:\n",
    "        print(n1)\n",
    "        nth = n1 + n2\n",
    "        ## update the values\n",
    "        n1 = n2\n",
    "        n2 = nth\n",
    "        count += 1"
   ]
  },
  {
   "cell_type": "markdown",
   "metadata": {},
   "source": [
    "Python program to print the Fibonacci sequence using recursion"
   ]
  },
  {
   "cell_type": "code",
   "execution_count": null,
   "metadata": {},
   "outputs": [],
   "source": []
  },
  {
   "cell_type": "code",
   "execution_count": 4,
   "metadata": {},
   "outputs": [],
   "source": [
    "##udemy content\n",
    "def fibonacci(n):\n",
    "    \"\"\"\n",
    "    Returns the `n` th Fibonacci Number, for positve `n`\n",
    "    \"\"\"\n",
    "    ## if the n = 1 or 0.\n",
    "    ## it should return 1 and 0.\n",
    "    ## since there is no other numbers in the range.\n",
    "    if n == 0:\n",
    "        return n\n",
    "    if n == 1:\n",
    "        return n\n",
    "    #if 0 <= n <= 1:\n",
    "        #return n\n",
    "        \n",
    "    result = None\n",
    "    n_minus1, n_minus2 = 1,0\n",
    "    \n",
    "    for i in range(n-1):\n",
    "        result = n_minus2 + n_minus1\n",
    "        n_minus2 = n_minus1\n",
    "        n_minus1 = result\n",
    "        \n",
    "    return result"
   ]
  },
  {
   "cell_type": "code",
   "execution_count": 5,
   "metadata": {},
   "outputs": [
    {
     "name": "stdout",
     "output_type": "stream",
     "text": [
      "0 0\n",
      "1 1\n",
      "2 1\n",
      "3 2\n",
      "4 3\n",
      "5 5\n",
      "6 8\n",
      "7 13\n",
      "8 21\n",
      "9 34\n",
      "10 55\n",
      "11 89\n",
      "12 144\n",
      "13 233\n",
      "14 377\n",
      "15 610\n",
      "16 987\n",
      "17 1597\n",
      "18 2584\n",
      "19 4181\n",
      "20 6765\n",
      "21 10946\n",
      "22 17711\n",
      "23 28657\n",
      "24 46368\n",
      "25 75025\n",
      "26 121393\n",
      "27 196418\n",
      "28 317811\n",
      "29 514229\n",
      "30 832040\n",
      "31 1346269\n",
      "32 2178309\n",
      "33 3524578\n",
      "34 5702887\n",
      "35 9227465\n"
     ]
    }
   ],
   "source": [
    "for i in range(36):\n",
    "    print(i, fibonacci(i))"
   ]
  },
  {
   "cell_type": "code",
   "execution_count": 9,
   "metadata": {},
   "outputs": [
    {
     "data": {
      "text/plain": [
       "3"
      ]
     },
     "execution_count": 9,
     "metadata": {},
     "output_type": "execute_result"
    }
   ],
   "source": [
    "fibonacci(4)"
   ]
  },
  {
   "cell_type": "markdown",
   "metadata": {},
   "source": [
    "**FUNCTION ANNOTATIONS AND TYPE HINTS**\n",
    "\n",
    "+ Function Annotations make it clearer what kind of values your function can accept.\n",
    "+ And what they return.\n",
    "+ In this way it will be very useful to know about the functions.\n",
    "+ If you are not going to use function Annotation, then you should mention the types in the Docstrings."
   ]
  },
  {
   "cell_type": "code",
   "execution_count": 15,
   "metadata": {},
   "outputs": [],
   "source": [
    "def is_palindrome(string:str) -> bool:\n",
    "    \"\"\"\n",
    "    Check the Given String is Palindrome or Not.\n",
    "    Palindrome sequence will be same forward and backwards.\n",
    "    \n",
    "    \n",
    "    :param string:- Given string to check.\n",
    "    :return :- True if the string is Palindrome, False if otherwise\n",
    "    \n",
    "    \"\"\"\n",
    "    \n",
    "    backwards = string[::-1].casefold()    ## reversing the string\n",
    "    return backwards == string.casefold()  ## check whther the two words are the same."
   ]
  },
  {
   "cell_type": "code",
   "execution_count": 13,
   "metadata": {},
   "outputs": [
    {
     "name": "stdout",
     "output_type": "stream",
     "text": [
      "True\n"
     ]
    }
   ],
   "source": [
    "result = is_palindrome(\"Oho\")\n",
    "print(result)"
   ]
  },
  {
   "cell_type": "code",
   "execution_count": 17,
   "metadata": {},
   "outputs": [
    {
     "data": {
      "text/plain": [
       "True"
      ]
     },
     "execution_count": 17,
     "metadata": {},
     "output_type": "execute_result"
    }
   ],
   "source": [
    "is_palindrome(\"AmeeeemA\")"
   ]
  },
  {
   "cell_type": "code",
   "execution_count": 18,
   "metadata": {},
   "outputs": [],
   "source": [
    "def palindrome_sentence(sentence:str) -> bool:\n",
    "    \"\"\"\n",
    "    Check if a sentence is a palindrome.\n",
    " \n",
    "    The function ignores whitespace, capitalisation and\n",
    "    punctuation in the sentence.\n",
    " \n",
    "    :param sentence: The sentence to check.\n",
    "    :return: True if `sentence` is a palindrome, False otherwise.\n",
    "    \"\"\"\n",
    "    string = \"\"\n",
    "    for char in sentence:\n",
    "        if char.isalnum():\n",
    "            string += char\n",
    "    return is_palindrome(string)"
   ]
  },
  {
   "cell_type": "code",
   "execution_count": 20,
   "metadata": {},
   "outputs": [
    {
     "data": {
      "text/plain": [
       "False"
      ]
     },
     "execution_count": 20,
     "metadata": {},
     "output_type": "execute_result"
    }
   ],
   "source": [
    "palindrome_sentence(\"is that ok??\")"
   ]
  },
  {
   "cell_type": "code",
   "execution_count": 21,
   "metadata": {},
   "outputs": [],
   "source": [
    "##udemy content\n",
    "def fibonacci(n:int) -> int:\n",
    "    \"\"\"\n",
    "    Returns the `n` th Fibonacci Number, for positve `n`\n",
    "    \"\"\"\n",
    "    ## if the n = 1 or 0.\n",
    "    ## it should return 1 and 0.\n",
    "    ## since there is no other numbers in the range.\n",
    "    if n == 0:\n",
    "        return n\n",
    "    if n == 1:\n",
    "        return n\n",
    "    #if 0 <= n <= 1:\n",
    "        #return n\n",
    "        \n",
    "    result = None\n",
    "    n_minus1, n_minus2 = 1,0\n",
    "    \n",
    "    for i in range(n-1):\n",
    "        result = n_minus2 + n_minus1\n",
    "        n_minus2 = n_minus1\n",
    "        n_minus1 = result\n",
    "        \n",
    "    return result"
   ]
  },
  {
   "cell_type": "code",
   "execution_count": 29,
   "metadata": {},
   "outputs": [
    {
     "data": {
      "text/plain": [
       "1779979416004714189"
      ]
     },
     "execution_count": 29,
     "metadata": {},
     "output_type": "execute_result"
    }
   ],
   "source": [
    "fibonacci(89)"
   ]
  },
  {
   "cell_type": "code",
   "execution_count": 26,
   "metadata": {},
   "outputs": [],
   "source": [
    "def multiply(x:float,y:float) -> float:\n",
    "    \"\"\"\n",
    "    Multiply two Numbers.\n",
    "    Although this function is intented to multiply two numbers,\n",
    "    you can also use this to multiply a sequence. If you give a string,\n",
    "    as the first argument, then we will get a multplied result by `y`.\n",
    "    \n",
    "    :param x:- The first number to multiply.\n",
    "    :param y:- The second number to multiply by `x`\n",
    "    :return :- The product of `x` and `y`\n",
    "    \"\"\"\n",
    "    \n",
    "    result = x * y\n",
    "    return result"
   ]
  },
  {
   "cell_type": "code",
   "execution_count": 27,
   "metadata": {},
   "outputs": [
    {
     "data": {
      "text/plain": [
       "22.5"
      ]
     },
     "execution_count": 27,
     "metadata": {},
     "output_type": "execute_result"
    }
   ],
   "source": [
    "multiply(4.5,5)"
   ]
  },
  {
   "cell_type": "markdown",
   "metadata": {},
   "source": [
    "**Function Annotation with Default Values**"
   ]
  },
  {
   "cell_type": "code",
   "execution_count": 30,
   "metadata": {},
   "outputs": [],
   "source": [
    "## so changing the code by raising Exceptions\n",
    "\n",
    "## lets say, the screen width is 50\n",
    "def banner_text(text : str = \" \",screen_width : int = 100) -> None:   ## screen_width have default value, no need to define screen_width when calling the function.\n",
    "    #screen_width = 50                 ## initialize the screen width as 150\n",
    "    \n",
    "    if len(text) > screen_width - 4:   ## if the length of the text is greater than that, print the below messages in the Output.\n",
    "        raise ValueError(\"String {0} is larger than specified width {1}\".format(text,screen_width))\n",
    "        \n",
    "    if text == \"*\":                    ## if the text is *, then print the output as length as screen width, for that * character.\n",
    "        print(\"*\" * screen_width)\n",
    "        \n",
    "    else:\n",
    "        centered_text = text.center(screen_width-4).upper()    ## cemering the text, then, taking the upper case as well. \n",
    "        output_string = \"**{}**\".format(centered_text)         ## formatting that cenetered text to to string and print the output.\n",
    "        print(output_string)"
   ]
  },
  {
   "cell_type": "code",
   "execution_count": 31,
   "metadata": {},
   "outputs": [
    {
     "name": "stdout",
     "output_type": "stream",
     "text": [
      "****************************************************************************************************\n",
      "**                           ALWAYS LOOK ON THE BRIGHT SIDE OF LIFE...                            **\n",
      "**                                  IF LIFE SEEMS JOLLY ROTTEN,                                   **\n",
      "**                              THERE'S SOMETHING YOU'VE FORGOTTEN!                               **\n",
      "**                       AND THAT'S TO LAUGH AND SMILE AND DANCE AND SING,                        **\n",
      "**                                                                                                **\n",
      "**                               WHEN YOU'RE FEELING IN THE DUMPS,                                **\n",
      "**                                     DON'T BE SILLY CHUMPS,                                     **\n",
      "**                      JUST PURSE YOUR LIPS AND WHISTLE - THAT'S THE THING!                      **\n",
      "**                        AND... ALWAYS LOOK ON THE BRIGHT SIDE OF LIFE...                        **\n",
      "****************************************************************************************************\n"
     ]
    }
   ],
   "source": [
    "banner_text(\"*\")\n",
    "banner_text(\"Always look on the bright side of life...\")\n",
    "banner_text(\"If life seems jolly rotten,\")\n",
    "banner_text(\"There's something you've forgotten!\")\n",
    "banner_text(\"And that's to laugh and smile and dance and sing,\")\n",
    "banner_text(screen_width=100)   ## screen_width = keyword Argument.\n",
    "banner_text(\"When you're feeling in the dumps,\")\n",
    "banner_text(\"Don't be silly chumps,\")\n",
    "banner_text(\"Just purse your lips and whistle - that's the thing!\")\n",
    "banner_text(\"And... always look on the bright side of life...\")\n",
    "banner_text(\"*\")"
   ]
  },
  {
   "cell_type": "code",
   "execution_count": 32,
   "metadata": {},
   "outputs": [],
   "source": [
    "## docstring to the function\n",
    "\n",
    "def banner_text(text: str = \" \", screen_width: int = 80) -> None:\n",
    "    \"\"\" Print a string centred, with ** either side.\n",
    "  \n",
    "    :param text: The string to print.\n",
    "        An asterisk (*) will result in a row of asterisks.\n",
    "        The default will print a blank line, with a ** border at\n",
    "        the left and right edges.\n",
    "    :param screen_width: The overall width to print within\n",
    "        (including the 4 spaces for the ** either side).\n",
    "    :raises ValueError: if the supplied string is too long to fit.\n",
    "    \"\"\"\n",
    "    if len(text) > screen_width - 4:\n",
    "        raise ValueError(\"String '{0}' is larger than specified width {1}\"\n",
    "                         .format(text, screen_width))\n",
    " \n",
    "    if text == \"*\":\n",
    "        print(\"*\" * screen_width)\n",
    "    else:\n",
    "        centred_text = text.center(screen_width - 4)\n",
    "        output_string = \"**{0}**\".format(centred_text)\n",
    "        print(output_string)"
   ]
  },
  {
   "cell_type": "code",
   "execution_count": null,
   "metadata": {},
   "outputs": [],
   "source": []
  }
 ],
 "metadata": {
  "kernelspec": {
   "display_name": "Python 3",
   "language": "python",
   "name": "python3"
  },
  "language_info": {
   "codemirror_mode": {
    "name": "ipython",
    "version": 3
   },
   "file_extension": ".py",
   "mimetype": "text/x-python",
   "name": "python",
   "nbconvert_exporter": "python",
   "pygments_lexer": "ipython3",
   "version": "3.8.3"
  }
 },
 "nbformat": 4,
 "nbformat_minor": 4
}
