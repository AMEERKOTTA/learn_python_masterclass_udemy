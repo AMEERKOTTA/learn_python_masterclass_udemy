{
 "cells": [
  {
   "cell_type": "markdown",
   "metadata": {},
   "source": [
    "### Factorial Function"
   ]
  },
  {
   "cell_type": "markdown",
   "metadata": {},
   "source": [
    "+ Factorial of a number is the product of all number upto that number.\n",
    "+ 4! = 1*2*3*4 = 24\n",
    "+ 5! = 1*2*3*4*5 = 120\n",
    "+ Convention is that, 0! = 1"
   ]
  },
  {
   "cell_type": "markdown",
   "metadata": {},
   "source": [
    "+ Write a Function called Factorial that will return the factorial of the number passed as its Argument.\n",
    "+ Use a for Loop to Call your Factorial Function to print the first 36 factorial."
   ]
  },
  {
   "cell_type": "code",
   "execution_count": 40,
   "metadata": {},
   "outputs": [],
   "source": [
    "def factorial(number):\n",
    "    \n",
    "    \"\"\"\n",
    "    Function to Calculate the Factorial of a Number.\n",
    "    Factorial is the continuous product of the number from 1 to that number.\n",
    "    Conventionally 0! = 1.\n",
    "    \n",
    "    :param number:-- The number that we need to calculate the factorial.\n",
    "                     The number parameter will take integer arguments.\n",
    "                     \n",
    "    : return :-- This function will return an integer number \n",
    "                 which will be the factorial of the number \n",
    "    \"\"\"\n",
    "    \n",
    "    result = 1   ## initialize the result.\n",
    "    \n",
    "    if number < 0:\n",
    "        print(\"There is no Factorial for Negative Numbers!!!\")\n",
    "        \n",
    "    elif number == 0:\n",
    "        print(\"Conventionally, Factorial of 0 is 1\")\n",
    "        \n",
    "    for i in range(1, number + 1):\n",
    "        result = result * i\n",
    "    \n",
    "    return result\n"
   ]
  },
  {
   "cell_type": "code",
   "execution_count": 39,
   "metadata": {},
   "outputs": [
    {
     "data": {
      "text/plain": [
       "120"
      ]
     },
     "execution_count": 39,
     "metadata": {},
     "output_type": "execute_result"
    }
   ],
   "source": [
    "factorial(5)\n"
   ]
  },
  {
   "cell_type": "code",
   "execution_count": 42,
   "metadata": {},
   "outputs": [
    {
     "name": "stdout",
     "output_type": "stream",
     "text": [
      "The factorial of 1 is 1\n",
      "The factorial of 2 is 2\n",
      "The factorial of 3 is 6\n",
      "The factorial of 4 is 24\n",
      "The factorial of 5 is 120\n",
      "The factorial of 6 is 720\n",
      "The factorial of 7 is 5040\n",
      "The factorial of 8 is 40320\n",
      "The factorial of 9 is 362880\n",
      "The factorial of 10 is 3628800\n",
      "The factorial of 11 is 39916800\n",
      "The factorial of 12 is 479001600\n",
      "The factorial of 13 is 6227020800\n",
      "The factorial of 14 is 87178291200\n",
      "The factorial of 15 is 1307674368000\n",
      "The factorial of 16 is 20922789888000\n",
      "The factorial of 17 is 355687428096000\n",
      "The factorial of 18 is 6402373705728000\n",
      "The factorial of 19 is 121645100408832000\n",
      "The factorial of 20 is 2432902008176640000\n",
      "The factorial of 21 is 51090942171709440000\n",
      "The factorial of 22 is 1124000727777607680000\n",
      "The factorial of 23 is 25852016738884976640000\n",
      "The factorial of 24 is 620448401733239439360000\n",
      "The factorial of 25 is 15511210043330985984000000\n",
      "The factorial of 26 is 403291461126605635584000000\n",
      "The factorial of 27 is 10888869450418352160768000000\n",
      "The factorial of 28 is 304888344611713860501504000000\n",
      "The factorial of 29 is 8841761993739701954543616000000\n",
      "The factorial of 30 is 265252859812191058636308480000000\n",
      "The factorial of 31 is 8222838654177922817725562880000000\n",
      "The factorial of 32 is 263130836933693530167218012160000000\n",
      "The factorial of 33 is 8683317618811886495518194401280000000\n",
      "The factorial of 34 is 295232799039604140847618609643520000000\n",
      "The factorial of 35 is 10333147966386144929666651337523200000000\n"
     ]
    }
   ],
   "source": [
    "for num in range(1,36):\n",
    "    print(\"The factorial of {} is {}\".format(num, factorial(num)))"
   ]
  },
  {
   "cell_type": "code",
   "execution_count": 10,
   "metadata": {},
   "outputs": [],
   "source": [
    "def factorial_1(number):\n",
    "    \n",
    "    if number < 1:\n",
    "        return 1\n",
    "    \n",
    "    result = 2\n",
    "    for x in range(3, number + 1):\n",
    "        result *= x\n",
    "    return result"
   ]
  },
  {
   "cell_type": "code",
   "execution_count": 18,
   "metadata": {},
   "outputs": [
    {
     "data": {
      "text/plain": [
       "24"
      ]
     },
     "execution_count": 18,
     "metadata": {},
     "output_type": "execute_result"
    }
   ],
   "source": [
    "factorial_1(4)"
   ]
  },
  {
   "cell_type": "code",
   "execution_count": 16,
   "metadata": {},
   "outputs": [],
   "source": [
    "def factorial_2(number):\n",
    "    \n",
    "    if number < 1:\n",
    "        return 1\n",
    "    \n",
    "    else:\n",
    "        return number * factorial(number - 1)"
   ]
  },
  {
   "cell_type": "code",
   "execution_count": 19,
   "metadata": {},
   "outputs": [
    {
     "data": {
      "text/plain": [
       "5"
      ]
     },
     "execution_count": 19,
     "metadata": {},
     "output_type": "execute_result"
    }
   ],
   "source": [
    "factorial_2(5)"
   ]
  },
  {
   "cell_type": "code",
   "execution_count": null,
   "metadata": {},
   "outputs": [],
   "source": []
  }
 ],
 "metadata": {
  "kernelspec": {
   "display_name": "Python 3",
   "language": "python",
   "name": "python3"
  },
  "language_info": {
   "codemirror_mode": {
    "name": "ipython",
    "version": 3
   },
   "file_extension": ".py",
   "mimetype": "text/x-python",
   "name": "python",
   "nbconvert_exporter": "python",
   "pygments_lexer": "ipython3",
   "version": "3.8.3"
  }
 },
 "nbformat": 4,
 "nbformat_minor": 4
}
