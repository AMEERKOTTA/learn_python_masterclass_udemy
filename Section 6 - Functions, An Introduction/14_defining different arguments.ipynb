{
 "cells": [
  {
   "cell_type": "markdown",
   "metadata": {},
   "source": [
    "### DEFINING DIFFERENT PARAMETERS AND ARGUMENTS"
   ]
  },
  {
   "cell_type": "code",
   "execution_count": 10,
   "metadata": {},
   "outputs": [],
   "source": [
    "def function(p1,p2,*args,k,**kwargs):\n",
    "    \n",
    "    \n",
    "    print(\"Positional - or - Keyword :.....{0},{1}\".format(p1,p2))\n",
    "    print(\"Var-Positional (*args) :........{0}\".format(args))\n",
    "    print(\"Keyword :.......................{0}\".format(k))\n",
    "    #print(\"Var-Keyword :...................{0}\".format(**kwargs))\n",
    "    for key,value in kwargs.items():\n",
    "        print(\"Key : {}, Value : {}\".format(key,value))"
   ]
  },
  {
   "cell_type": "code",
   "execution_count": 11,
   "metadata": {},
   "outputs": [
    {
     "name": "stdout",
     "output_type": "stream",
     "text": [
      "Positional - or - Keyword :.....1,2\n",
      "Var-Positional (*args) :........(3, 4, 5)\n",
      "Keyword :.......................6\n",
      "Key : key1, Value : (1, 2, 3)\n",
      "Key : key2, Value : {1, 2, 3}\n"
     ]
    }
   ],
   "source": [
    "function(1,2,3,4,5, k=6, key1 = (1,2,3), key2 = {1,2,3})"
   ]
  },
  {
   "cell_type": "code",
   "execution_count": null,
   "metadata": {},
   "outputs": [],
   "source": []
  }
 ],
 "metadata": {
  "kernelspec": {
   "display_name": "Python 3",
   "language": "python",
   "name": "python3"
  },
  "language_info": {
   "codemirror_mode": {
    "name": "ipython",
    "version": 3
   },
   "file_extension": ".py",
   "mimetype": "text/x-python",
   "name": "python",
   "nbconvert_exporter": "python",
   "pygments_lexer": "ipython3",
   "version": "3.8.3"
  }
 },
 "nbformat": 4,
 "nbformat_minor": 4
}
