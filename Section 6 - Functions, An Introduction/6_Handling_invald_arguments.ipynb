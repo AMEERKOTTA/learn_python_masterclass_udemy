{
 "cells": [
  {
   "cell_type": "markdown",
   "metadata": {},
   "source": [
    "### Problem - Handling Invalid Arguments"
   ]
  },
  {
   "cell_type": "code",
   "execution_count": 1,
   "metadata": {},
   "outputs": [],
   "source": [
    "## lets say, the screen width is 50\n",
    "def banner_text(text):\n",
    "    screen_width = 50                 ## initialize the screen width as 150\n",
    "    \n",
    "    if len(text) > screen_width - 4:   ## if the length of the text is greater than that, print the below messages in the Output.\n",
    "        print(\"EEK!!\")\n",
    "        print(\"THE TEXT IS TOO LONG TO FIT IN THE SPECIFIED WIDTH\")\n",
    "        \n",
    "    if text == \"*\":                    ## if the text is *, then print the output as length as screen width, for that * character.\n",
    "        print(\"*\" * screen_width)\n",
    "        \n",
    "    else:\n",
    "        centered_text = text.center(screen_width-4).upper()    ## cemering the text, then, taking the upper case as well. \n",
    "        output_string = \"**{}**\".format(centered_text)         ## formatting that cenetered text to to string and print the output.\n",
    "        print(output_string)"
   ]
  },
  {
   "cell_type": "code",
   "execution_count": 2,
   "metadata": {},
   "outputs": [
    {
     "name": "stdout",
     "output_type": "stream",
     "text": [
      "**************************************************\n",
      "**  ALWAYS LOOK ON THE BRIGHT SIDE OF LIFE...   **\n",
      "**         IF LIFE SEEMS JOLLY ROTTEN,          **\n",
      "**     THERE'S SOMETHING YOU'VE FORGOTTEN!      **\n",
      "EEK!!\n",
      "THE TEXT IS TOO LONG TO FIT IN THE SPECIFIED WIDTH\n",
      "**AND THAT'S TO LAUGH AND SMILE AND DANCE AND SING,**\n",
      "**                                              **\n",
      "**      WHEN YOU'RE FEELING IN THE DUMPS,       **\n",
      "**            DON'T BE SILLY CHUMPS,            **\n",
      "EEK!!\n",
      "THE TEXT IS TOO LONG TO FIT IN THE SPECIFIED WIDTH\n",
      "**JUST PURSE YOUR LIPS AND WHISTLE - THAT'S THE THING!**\n",
      "EEK!!\n",
      "THE TEXT IS TOO LONG TO FIT IN THE SPECIFIED WIDTH\n",
      "**AND... ALWAYS LOOK ON THE BRIGHT SIDE OF LIFE...**\n",
      "**************************************************\n"
     ]
    }
   ],
   "source": [
    "banner_text(\"*\")\n",
    "banner_text(\"Always look on the bright side of life...\")\n",
    "banner_text(\"If life seems jolly rotten,\")\n",
    "banner_text(\"There's something you've forgotten!\")\n",
    "banner_text(\"And that's to laugh and smile and dance and sing,\")\n",
    "banner_text(\" \")\n",
    "banner_text(\"When you're feeling in the dumps,\")\n",
    "banner_text(\"Don't be silly chumps,\")\n",
    "banner_text(\"Just purse your lips and whistle - that's the thing!\")\n",
    "banner_text(\"And... always look on the bright side of life...\")\n",
    "banner_text(\"*\")"
   ]
  },
  {
   "cell_type": "markdown",
   "metadata": {},
   "source": [
    "+ Here we will not be able to Understand the Result\n",
    "+ So we need to Include Exceptions in the Code."
   ]
  },
  {
   "cell_type": "code",
   "execution_count": 3,
   "metadata": {},
   "outputs": [],
   "source": [
    "## so changing the code by raising Exceptions\n",
    "\n",
    "## lets say, the screen width is 50\n",
    "def banner_text(text):\n",
    "    screen_width = 50                 ## initialize the screen width as 150\n",
    "    \n",
    "    if len(text) > screen_width - 4:   ## if the length of the text is greater than that, print the below messages in the Output.\n",
    "        raise ValueError(\"String {0} is larger than specified width {1}\".format(text,screen_width))\n",
    "        \n",
    "    if text == \"*\":                    ## if the text is *, then print the output as length as screen width, for that * character.\n",
    "        print(\"*\" * screen_width)\n",
    "        \n",
    "    else:\n",
    "        centered_text = text.center(screen_width-4).upper()    ## cemering the text, then, taking the upper case as well. \n",
    "        output_string = \"**{}**\".format(centered_text)         ## formatting that cenetered text to to string and print the output.\n",
    "        print(output_string)"
   ]
  },
  {
   "cell_type": "code",
   "execution_count": 4,
   "metadata": {},
   "outputs": [
    {
     "name": "stdout",
     "output_type": "stream",
     "text": [
      "**************************************************\n",
      "**  ALWAYS LOOK ON THE BRIGHT SIDE OF LIFE...   **\n",
      "**         IF LIFE SEEMS JOLLY ROTTEN,          **\n",
      "**     THERE'S SOMETHING YOU'VE FORGOTTEN!      **\n"
     ]
    },
    {
     "ename": "ValueError",
     "evalue": "String And that's to laugh and smile and dance and sing, is larger than specified width 50",
     "output_type": "error",
     "traceback": [
      "\u001b[1;31m---------------------------------------------------------------------------\u001b[0m",
      "\u001b[1;31mValueError\u001b[0m                                Traceback (most recent call last)",
      "\u001b[1;32m<ipython-input-4-a7181ee28607>\u001b[0m in \u001b[0;36m<module>\u001b[1;34m\u001b[0m\n\u001b[0;32m      3\u001b[0m \u001b[0mbanner_text\u001b[0m\u001b[1;33m(\u001b[0m\u001b[1;34m\"If life seems jolly rotten,\"\u001b[0m\u001b[1;33m)\u001b[0m\u001b[1;33m\u001b[0m\u001b[1;33m\u001b[0m\u001b[0m\n\u001b[0;32m      4\u001b[0m \u001b[0mbanner_text\u001b[0m\u001b[1;33m(\u001b[0m\u001b[1;34m\"There's something you've forgotten!\"\u001b[0m\u001b[1;33m)\u001b[0m\u001b[1;33m\u001b[0m\u001b[1;33m\u001b[0m\u001b[0m\n\u001b[1;32m----> 5\u001b[1;33m \u001b[0mbanner_text\u001b[0m\u001b[1;33m(\u001b[0m\u001b[1;34m\"And that's to laugh and smile and dance and sing,\"\u001b[0m\u001b[1;33m)\u001b[0m\u001b[1;33m\u001b[0m\u001b[1;33m\u001b[0m\u001b[0m\n\u001b[0m\u001b[0;32m      6\u001b[0m \u001b[0mbanner_text\u001b[0m\u001b[1;33m(\u001b[0m\u001b[1;34m\" \"\u001b[0m\u001b[1;33m)\u001b[0m\u001b[1;33m\u001b[0m\u001b[1;33m\u001b[0m\u001b[0m\n\u001b[0;32m      7\u001b[0m \u001b[0mbanner_text\u001b[0m\u001b[1;33m(\u001b[0m\u001b[1;34m\"When you're feeling in the dumps,\"\u001b[0m\u001b[1;33m)\u001b[0m\u001b[1;33m\u001b[0m\u001b[1;33m\u001b[0m\u001b[0m\n",
      "\u001b[1;32m<ipython-input-3-1fa7991fa1d0>\u001b[0m in \u001b[0;36mbanner_text\u001b[1;34m(text)\u001b[0m\n\u001b[0;32m      6\u001b[0m \u001b[1;33m\u001b[0m\u001b[0m\n\u001b[0;32m      7\u001b[0m     \u001b[1;32mif\u001b[0m \u001b[0mlen\u001b[0m\u001b[1;33m(\u001b[0m\u001b[0mtext\u001b[0m\u001b[1;33m)\u001b[0m \u001b[1;33m>\u001b[0m \u001b[0mscreen_width\u001b[0m \u001b[1;33m-\u001b[0m \u001b[1;36m4\u001b[0m\u001b[1;33m:\u001b[0m   \u001b[1;31m## if the length of the text is greater than that, print the below messages in the Output.\u001b[0m\u001b[1;33m\u001b[0m\u001b[1;33m\u001b[0m\u001b[0m\n\u001b[1;32m----> 8\u001b[1;33m         \u001b[1;32mraise\u001b[0m \u001b[0mValueError\u001b[0m\u001b[1;33m(\u001b[0m\u001b[1;34m\"String {0} is larger than specified width {1}\"\u001b[0m\u001b[1;33m.\u001b[0m\u001b[0mformat\u001b[0m\u001b[1;33m(\u001b[0m\u001b[0mtext\u001b[0m\u001b[1;33m,\u001b[0m\u001b[0mscreen_width\u001b[0m\u001b[1;33m)\u001b[0m\u001b[1;33m)\u001b[0m\u001b[1;33m\u001b[0m\u001b[1;33m\u001b[0m\u001b[0m\n\u001b[0m\u001b[0;32m      9\u001b[0m \u001b[1;33m\u001b[0m\u001b[0m\n\u001b[0;32m     10\u001b[0m     \u001b[1;32mif\u001b[0m \u001b[0mtext\u001b[0m \u001b[1;33m==\u001b[0m \u001b[1;34m\"*\"\u001b[0m\u001b[1;33m:\u001b[0m                    \u001b[1;31m## if the text is *, then print the output as length as screen width, for that * character.\u001b[0m\u001b[1;33m\u001b[0m\u001b[1;33m\u001b[0m\u001b[0m\n",
      "\u001b[1;31mValueError\u001b[0m: String And that's to laugh and smile and dance and sing, is larger than specified width 50"
     ]
    }
   ],
   "source": [
    "banner_text(\"*\")\n",
    "banner_text(\"Always look on the bright side of life...\")\n",
    "banner_text(\"If life seems jolly rotten,\")\n",
    "banner_text(\"There's something you've forgotten!\")\n",
    "banner_text(\"And that's to laugh and smile and dance and sing,\")\n",
    "banner_text(\" \")\n",
    "banner_text(\"When you're feeling in the dumps,\")\n",
    "banner_text(\"Don't be silly chumps,\")\n",
    "banner_text(\"Just purse your lips and whistle - that's the thing!\")\n",
    "banner_text(\"And... always look on the bright side of life...\")\n",
    "banner_text(\"*\")"
   ]
  },
  {
   "cell_type": "markdown",
   "metadata": {},
   "source": [
    "**CHALLENGE**\n",
    "\n",
    "+ Modify the banner_text function so that it takes another Argument, the width for the banner.\n",
    "+ You will need to Provide that argument in all lines that call the Function."
   ]
  },
  {
   "cell_type": "code",
   "execution_count": 5,
   "metadata": {},
   "outputs": [],
   "source": [
    "## so changing the code by raising Exceptions\n",
    "\n",
    "## lets say, the screen width is 50\n",
    "def banner_text(text,screen_width):\n",
    "    #screen_width = 50                 ## initialize the screen width as 150\n",
    "    \n",
    "    if len(text) > screen_width - 4:   ## if the length of the text is greater than that, print the below messages in the Output.\n",
    "        raise ValueError(\"String {0} is larger than specified width {1}\".format(text,screen_width))\n",
    "        \n",
    "    if text == \"*\":                    ## if the text is *, then print the output as length as screen width, for that * character.\n",
    "        print(\"*\" * screen_width)\n",
    "        \n",
    "    else:\n",
    "        centered_text = text.center(screen_width-4).upper()    ## cemering the text, then, taking the upper case as well. \n",
    "        output_string = \"**{}**\".format(centered_text)         ## formatting that cenetered text to to string and print the output.\n",
    "        print(output_string)"
   ]
  },
  {
   "cell_type": "code",
   "execution_count": 8,
   "metadata": {},
   "outputs": [
    {
     "name": "stdout",
     "output_type": "stream",
     "text": [
      "**************************************************\n",
      "**  ALWAYS LOOK ON THE BRIGHT SIDE OF LIFE...   **\n",
      "**         IF LIFE SEEMS JOLLY ROTTEN,          **\n",
      "**     THERE'S SOMETHING YOU'VE FORGOTTEN!      **\n"
     ]
    },
    {
     "ename": "ValueError",
     "evalue": "String And that's to laugh and smile and dance and sing, is larger than specified width 50",
     "output_type": "error",
     "traceback": [
      "\u001b[1;31m---------------------------------------------------------------------------\u001b[0m",
      "\u001b[1;31mValueError\u001b[0m                                Traceback (most recent call last)",
      "\u001b[1;32m<ipython-input-8-8a42910ed946>\u001b[0m in \u001b[0;36m<module>\u001b[1;34m\u001b[0m\n\u001b[0;32m      3\u001b[0m \u001b[0mbanner_text\u001b[0m\u001b[1;33m(\u001b[0m\u001b[1;34m\"If life seems jolly rotten,\"\u001b[0m\u001b[1;33m,\u001b[0m\u001b[1;36m50\u001b[0m\u001b[1;33m)\u001b[0m\u001b[1;33m\u001b[0m\u001b[1;33m\u001b[0m\u001b[0m\n\u001b[0;32m      4\u001b[0m \u001b[0mbanner_text\u001b[0m\u001b[1;33m(\u001b[0m\u001b[1;34m\"There's something you've forgotten!\"\u001b[0m\u001b[1;33m,\u001b[0m\u001b[1;36m50\u001b[0m\u001b[1;33m)\u001b[0m\u001b[1;33m\u001b[0m\u001b[1;33m\u001b[0m\u001b[0m\n\u001b[1;32m----> 5\u001b[1;33m \u001b[0mbanner_text\u001b[0m\u001b[1;33m(\u001b[0m\u001b[1;34m\"And that's to laugh and smile and dance and sing,\"\u001b[0m\u001b[1;33m,\u001b[0m\u001b[1;36m50\u001b[0m\u001b[1;33m)\u001b[0m\u001b[1;33m\u001b[0m\u001b[1;33m\u001b[0m\u001b[0m\n\u001b[0m\u001b[0;32m      6\u001b[0m \u001b[0mbanner_text\u001b[0m\u001b[1;33m(\u001b[0m\u001b[1;34m\" \"\u001b[0m\u001b[1;33m,\u001b[0m\u001b[1;36m50\u001b[0m\u001b[1;33m)\u001b[0m\u001b[1;33m\u001b[0m\u001b[1;33m\u001b[0m\u001b[0m\n\u001b[0;32m      7\u001b[0m \u001b[0mbanner_text\u001b[0m\u001b[1;33m(\u001b[0m\u001b[1;34m\"When you're feeling in the dumps,\"\u001b[0m\u001b[1;33m,\u001b[0m\u001b[1;36m50\u001b[0m\u001b[1;33m)\u001b[0m\u001b[1;33m\u001b[0m\u001b[1;33m\u001b[0m\u001b[0m\n",
      "\u001b[1;32m<ipython-input-5-ddbc9e772310>\u001b[0m in \u001b[0;36mbanner_text\u001b[1;34m(text, screen_width)\u001b[0m\n\u001b[0;32m      6\u001b[0m \u001b[1;33m\u001b[0m\u001b[0m\n\u001b[0;32m      7\u001b[0m     \u001b[1;32mif\u001b[0m \u001b[0mlen\u001b[0m\u001b[1;33m(\u001b[0m\u001b[0mtext\u001b[0m\u001b[1;33m)\u001b[0m \u001b[1;33m>\u001b[0m \u001b[0mscreen_width\u001b[0m \u001b[1;33m-\u001b[0m \u001b[1;36m4\u001b[0m\u001b[1;33m:\u001b[0m   \u001b[1;31m## if the length of the text is greater than that, print the below messages in the Output.\u001b[0m\u001b[1;33m\u001b[0m\u001b[1;33m\u001b[0m\u001b[0m\n\u001b[1;32m----> 8\u001b[1;33m         \u001b[1;32mraise\u001b[0m \u001b[0mValueError\u001b[0m\u001b[1;33m(\u001b[0m\u001b[1;34m\"String {0} is larger than specified width {1}\"\u001b[0m\u001b[1;33m.\u001b[0m\u001b[0mformat\u001b[0m\u001b[1;33m(\u001b[0m\u001b[0mtext\u001b[0m\u001b[1;33m,\u001b[0m\u001b[0mscreen_width\u001b[0m\u001b[1;33m)\u001b[0m\u001b[1;33m)\u001b[0m\u001b[1;33m\u001b[0m\u001b[1;33m\u001b[0m\u001b[0m\n\u001b[0m\u001b[0;32m      9\u001b[0m \u001b[1;33m\u001b[0m\u001b[0m\n\u001b[0;32m     10\u001b[0m     \u001b[1;32mif\u001b[0m \u001b[0mtext\u001b[0m \u001b[1;33m==\u001b[0m \u001b[1;34m\"*\"\u001b[0m\u001b[1;33m:\u001b[0m                    \u001b[1;31m## if the text is *, then print the output as length as screen width, for that * character.\u001b[0m\u001b[1;33m\u001b[0m\u001b[1;33m\u001b[0m\u001b[0m\n",
      "\u001b[1;31mValueError\u001b[0m: String And that's to laugh and smile and dance and sing, is larger than specified width 50"
     ]
    }
   ],
   "source": [
    "banner_text(\"*\",50)\n",
    "banner_text(\"Always look on the bright side of life...\",50)\n",
    "banner_text(\"If life seems jolly rotten,\",50)\n",
    "banner_text(\"There's something you've forgotten!\",50)\n",
    "banner_text(\"And that's to laugh and smile and dance and sing,\",50)\n",
    "banner_text(\" \",50)\n",
    "banner_text(\"When you're feeling in the dumps,\",50)\n",
    "banner_text(\"Don't be silly chumps,\",50)\n",
    "banner_text(\"Just purse your lips and whistle - that's the thing!\",50)\n",
    "banner_text(\"And... always look on the bright side of life...\",50)\n",
    "banner_text(\"*\",50)"
   ]
  },
  {
   "cell_type": "markdown",
   "metadata": {},
   "source": [
    "### Default Parameter Values\n",
    "\n",
    "+ If a function defines two Positional Parameters.\n",
    "+ Then you must provide two Arguments when you call the Function.\n",
    "+ Unless the Parameter have Default Values"
   ]
  },
  {
   "cell_type": "code",
   "execution_count": 17,
   "metadata": {},
   "outputs": [],
   "source": [
    "## so changing the code by raising Exceptions\n",
    "\n",
    "## lets say, the screen width is 50\n",
    "def banner_text(text,screen_width=100):   ## screen_width have default value, no need to define screen_width when calling the function.\n",
    "    #screen_width = 50                 ## initialize the screen width as 150\n",
    "    \n",
    "    if len(text) > screen_width - 4:   ## if the length of the text is greater than that, print the below messages in the Output.\n",
    "        raise ValueError(\"String {0} is larger than specified width {1}\".format(text,screen_width))\n",
    "        \n",
    "    if text == \"*\":                    ## if the text is *, then print the output as length as screen width, for that * character.\n",
    "        print(\"*\" * screen_width)\n",
    "        \n",
    "    else:\n",
    "        centered_text = text.center(screen_width-4).upper()    ## cemering the text, then, taking the upper case as well. \n",
    "        output_string = \"**{}**\".format(centered_text)         ## formatting that cenetered text to to string and print the output.\n",
    "        print(output_string)"
   ]
  },
  {
   "cell_type": "code",
   "execution_count": 18,
   "metadata": {},
   "outputs": [
    {
     "name": "stdout",
     "output_type": "stream",
     "text": [
      "****************************************************************************************************\n",
      "**                           ALWAYS LOOK ON THE BRIGHT SIDE OF LIFE...                            **\n",
      "**                                  IF LIFE SEEMS JOLLY ROTTEN,                                   **\n",
      "**                              THERE'S SOMETHING YOU'VE FORGOTTEN!                               **\n",
      "**                       AND THAT'S TO LAUGH AND SMILE AND DANCE AND SING,                        **\n",
      "**                                                                                                **\n",
      "**                               WHEN YOU'RE FEELING IN THE DUMPS,                                **\n",
      "**                                     DON'T BE SILLY CHUMPS,                                     **\n",
      "**                      JUST PURSE YOUR LIPS AND WHISTLE - THAT'S THE THING!                      **\n",
      "**                        AND... ALWAYS LOOK ON THE BRIGHT SIDE OF LIFE...                        **\n",
      "****************************************************************************************************\n"
     ]
    }
   ],
   "source": [
    "banner_text(\"*\")\n",
    "banner_text(\"Always look on the bright side of life...\")\n",
    "banner_text(\"If life seems jolly rotten,\")\n",
    "banner_text(\"There's something you've forgotten!\")\n",
    "banner_text(\"And that's to laugh and smile and dance and sing,\")\n",
    "banner_text(\" \")\n",
    "banner_text(\"When you're feeling in the dumps,\")\n",
    "banner_text(\"Don't be silly chumps,\")\n",
    "banner_text(\"Just purse your lips and whistle - that's the thing!\")\n",
    "banner_text(\"And... always look on the bright side of life...\")\n",
    "banner_text(\"*\")"
   ]
  },
  {
   "cell_type": "markdown",
   "metadata": {},
   "source": [
    "### Keyword Arguments (kwargs)\n",
    "\n",
    "+ They are named Arguments.\n",
    "+ Keyword Arguments are values that, when passed into a function are identifiable by specific parameter names."
   ]
  },
  {
   "cell_type": "code",
   "execution_count": 19,
   "metadata": {},
   "outputs": [],
   "source": [
    "## so changing the code by raising Exceptions\n",
    "\n",
    "## lets say, the screen width is 50\n",
    "def banner_text(text=\" \",screen_width=100):   ## screen_width have default value, no need to define screen_width when calling the function.\n",
    "    #screen_width = 50                 ## initialize the screen width as 150\n",
    "    \n",
    "    if len(text) > screen_width - 4:   ## if the length of the text is greater than that, print the below messages in the Output.\n",
    "        raise ValueError(\"String {0} is larger than specified width {1}\".format(text,screen_width))\n",
    "        \n",
    "    if text == \"*\":                    ## if the text is *, then print the output as length as screen width, for that * character.\n",
    "        print(\"*\" * screen_width)\n",
    "        \n",
    "    else:\n",
    "        centered_text = text.center(screen_width-4).upper()    ## cemering the text, then, taking the upper case as well. \n",
    "        output_string = \"**{}**\".format(centered_text)         ## formatting that cenetered text to to string and print the output.\n",
    "        print(output_string)"
   ]
  },
  {
   "cell_type": "code",
   "execution_count": 25,
   "metadata": {},
   "outputs": [
    {
     "name": "stdout",
     "output_type": "stream",
     "text": [
      "****************************************************************************************************\n",
      "**                           ALWAYS LOOK ON THE BRIGHT SIDE OF LIFE...                            **\n",
      "**                                  IF LIFE SEEMS JOLLY ROTTEN,                                   **\n",
      "**                              THERE'S SOMETHING YOU'VE FORGOTTEN!                               **\n",
      "**                       AND THAT'S TO LAUGH AND SMILE AND DANCE AND SING,                        **\n",
      "**                                                                                                **\n",
      "**                               WHEN YOU'RE FEELING IN THE DUMPS,                                **\n",
      "**                                     DON'T BE SILLY CHUMPS,                                     **\n",
      "**                      JUST PURSE YOUR LIPS AND WHISTLE - THAT'S THE THING!                      **\n",
      "**                        AND... ALWAYS LOOK ON THE BRIGHT SIDE OF LIFE...                        **\n",
      "****************************************************************************************************\n"
     ]
    }
   ],
   "source": [
    "banner_text(\"*\")\n",
    "banner_text(\"Always look on the bright side of life...\")\n",
    "banner_text(\"If life seems jolly rotten,\")\n",
    "banner_text(\"There's something you've forgotten!\")\n",
    "banner_text(\"And that's to laugh and smile and dance and sing,\")\n",
    "banner_text(screen_width=100)   ## screen_width = keyword Argument.\n",
    "banner_text(\"When you're feeling in the dumps,\")\n",
    "banner_text(\"Don't be silly chumps,\")\n",
    "banner_text(\"Just purse your lips and whistle - that's the thing!\")\n",
    "banner_text(\"And... always look on the bright side of life...\")\n",
    "banner_text(\"*\")"
   ]
  },
  {
   "cell_type": "code",
   "execution_count": null,
   "metadata": {},
   "outputs": [],
   "source": []
  }
 ],
 "metadata": {
  "kernelspec": {
   "display_name": "Python 3",
   "language": "python",
   "name": "python3"
  },
  "language_info": {
   "codemirror_mode": {
    "name": "ipython",
    "version": 3
   },
   "file_extension": ".py",
   "mimetype": "text/x-python",
   "name": "python",
   "nbconvert_exporter": "python",
   "pygments_lexer": "ipython3",
   "version": "3.8.3"
  }
 },
 "nbformat": 4,
 "nbformat_minor": 4
}
