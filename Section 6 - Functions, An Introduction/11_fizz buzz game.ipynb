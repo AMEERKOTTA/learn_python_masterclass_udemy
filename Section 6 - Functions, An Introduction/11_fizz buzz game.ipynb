{
 "cells": [
  {
   "cell_type": "markdown",
   "metadata": {},
   "source": [
    "### Fizz Buzz Game\n",
    "\n",
    "+ Write a function, fizzbuzz_game()\n",
    "+ It is a game usually played 2 or more people.\n",
    "+ This function will check through a range of number (eg 1-100)\n",
    "+ if the number is divisible by 3, you say fizz.\n",
    "+ if the number is divisible by 5, you say buzz.\n",
    "+ if the number is divisible by both 3 and 5, you say fizzbuzz.\n",
    "+ if number is not divisible by either 3 or 5, it will return the number.\n",
    "+ The function will always return a string, so when you return the number, you should convert it to a string first."
   ]
  },
  {
   "cell_type": "code",
   "execution_count": 10,
   "metadata": {},
   "outputs": [
    {
     "name": "stdout",
     "output_type": "stream",
     "text": [
      "FIZZ\n",
      "FIZZ\n",
      "BUZZ\n",
      "FIZZ\n",
      "FIZZ\n",
      "BUZZ\n",
      "FIZZ\n",
      "FIZZ\n",
      "BUZZ\n",
      "FIZZ\n",
      "FIZZ\n",
      "BUZZ\n",
      "FIZZ\n",
      "FIZZ\n",
      "Number is not divisible by either 3 or 5:---- 15\n",
      "FIZZ\n",
      "FIZZ\n",
      "BUZZ\n",
      "FIZZ\n",
      "FIZZ\n",
      "BUZZ\n",
      "FIZZ\n",
      "FIZZ\n",
      "BUZZ\n",
      "FIZZ\n",
      "FIZZ\n",
      "BUZZ\n",
      "FIZZ\n",
      "FIZZ\n",
      "Number is not divisible by either 3 or 5:---- 30\n",
      "FIZZ\n",
      "FIZZ\n",
      "BUZZ\n",
      "FIZZ\n",
      "FIZZ\n",
      "BUZZ\n",
      "FIZZ\n",
      "FIZZ\n",
      "BUZZ\n",
      "FIZZ\n",
      "FIZZ\n",
      "BUZZ\n",
      "FIZZ\n",
      "FIZZ\n",
      "Number is not divisible by either 3 or 5:---- 45\n",
      "FIZZ\n",
      "FIZZ\n",
      "BUZZ\n",
      "FIZZ\n",
      "FIZZ\n",
      "BUZZ\n",
      "FIZZ\n",
      "FIZZ\n",
      "BUZZ\n",
      "FIZZ\n",
      "FIZZ\n",
      "BUZZ\n",
      "FIZZ\n",
      "FIZZ\n",
      "Number is not divisible by either 3 or 5:---- 60\n",
      "FIZZ\n",
      "FIZZ\n",
      "BUZZ\n",
      "FIZZ\n",
      "FIZZ\n",
      "BUZZ\n",
      "FIZZ\n",
      "FIZZ\n",
      "BUZZ\n",
      "FIZZ\n",
      "FIZZ\n",
      "BUZZ\n",
      "FIZZ\n",
      "FIZZ\n",
      "Number is not divisible by either 3 or 5:---- 75\n",
      "FIZZ\n",
      "FIZZ\n",
      "BUZZ\n",
      "FIZZ\n",
      "FIZZ\n",
      "BUZZ\n",
      "FIZZ\n",
      "FIZZ\n",
      "BUZZ\n",
      "FIZZ\n",
      "FIZZ\n",
      "BUZZ\n",
      "FIZZ\n",
      "FIZZ\n",
      "Number is not divisible by either 3 or 5:---- 90\n",
      "FIZZ\n",
      "FIZZ\n",
      "BUZZ\n",
      "FIZZ\n",
      "FIZZ\n",
      "BUZZ\n",
      "FIZZ\n",
      "FIZZ\n",
      "BUZZ\n",
      "FIZZ\n"
     ]
    }
   ],
   "source": [
    "low = 1\n",
    "high = 100\n",
    "for number in range(low, high + 1):\n",
    "    #print(number)\n",
    "    \n",
    "    if number % 3:\n",
    "        print(\"FIZZ\")\n",
    "        \n",
    "    elif number % 5:\n",
    "        print(\"BUZZ\")\n",
    "        \n",
    "    elif (number % 3 and number % 5):\n",
    "        print(\"FIZZBUZZ\")\n",
    "        \n",
    "    else:\n",
    "        print(\"Number is not divisible by either 3 or 5:----\", number)"
   ]
  },
  {
   "cell_type": "code",
   "execution_count": 11,
   "metadata": {},
   "outputs": [],
   "source": [
    "def fizzbuzz_game(number):\n",
    "    \n",
    "    if number % 15 == 0: ## if the number is divisible by 3 and 5\n",
    "        return \"FIZZBUZZ\"\n",
    "    \n",
    "    elif number % 3 == 0:\n",
    "        return \"FIZZ\"\n",
    "    \n",
    "    elif number % 5 == 0:\n",
    "        return \"BUZZ\"\n",
    "    \n",
    "    else:\n",
    "        return str(number)"
   ]
  },
  {
   "cell_type": "code",
   "execution_count": 13,
   "metadata": {},
   "outputs": [
    {
     "name": "stdout",
     "output_type": "stream",
     "text": [
      "1\n",
      "2\n",
      "FIZZ\n",
      "4\n",
      "BUZZ\n",
      "FIZZ\n",
      "7\n",
      "8\n",
      "FIZZ\n",
      "BUZZ\n",
      "11\n",
      "FIZZ\n",
      "13\n",
      "14\n",
      "FIZZBUZZ\n",
      "16\n",
      "17\n",
      "FIZZ\n",
      "19\n",
      "BUZZ\n",
      "FIZZ\n",
      "22\n",
      "23\n",
      "FIZZ\n",
      "BUZZ\n",
      "26\n",
      "FIZZ\n",
      "28\n",
      "29\n",
      "FIZZBUZZ\n",
      "31\n",
      "32\n",
      "FIZZ\n",
      "34\n",
      "BUZZ\n",
      "FIZZ\n",
      "37\n",
      "38\n",
      "FIZZ\n",
      "BUZZ\n",
      "41\n",
      "FIZZ\n",
      "43\n",
      "44\n",
      "FIZZBUZZ\n",
      "46\n",
      "47\n",
      "FIZZ\n",
      "49\n",
      "BUZZ\n",
      "FIZZ\n",
      "52\n",
      "53\n",
      "FIZZ\n",
      "BUZZ\n",
      "56\n",
      "FIZZ\n",
      "58\n",
      "59\n",
      "FIZZBUZZ\n",
      "61\n",
      "62\n",
      "FIZZ\n",
      "64\n",
      "BUZZ\n",
      "FIZZ\n",
      "67\n",
      "68\n",
      "FIZZ\n",
      "BUZZ\n",
      "71\n",
      "FIZZ\n",
      "73\n",
      "74\n",
      "FIZZBUZZ\n",
      "76\n",
      "77\n",
      "FIZZ\n",
      "79\n",
      "BUZZ\n",
      "FIZZ\n",
      "82\n",
      "83\n",
      "FIZZ\n",
      "BUZZ\n",
      "86\n",
      "FIZZ\n",
      "88\n",
      "89\n",
      "FIZZBUZZ\n",
      "91\n",
      "92\n",
      "FIZZ\n",
      "94\n",
      "BUZZ\n",
      "FIZZ\n",
      "97\n",
      "98\n",
      "FIZZ\n",
      "BUZZ\n"
     ]
    }
   ],
   "source": [
    "for i in range(1,101):\n",
    "    print(fizzbuzz_game(i))"
   ]
  },
  {
   "cell_type": "code",
   "execution_count": 15,
   "metadata": {},
   "outputs": [
    {
     "data": {
      "text/plain": [
       "'11'"
      ]
     },
     "execution_count": 15,
     "metadata": {},
     "output_type": "execute_result"
    }
   ],
   "source": [
    "fizzbuzz_game(11)"
   ]
  },
  {
   "cell_type": "markdown",
   "metadata": {},
   "source": [
    "### Playing the FIZZBUZZ Game\n",
    "\n",
    "+ The Computer will start with the value 1.\n",
    "+ The player and computer will take turns.\n",
    "+ The player will type in their response.\n",
    "+ And the computer will print out the next value.\n",
    "+ And so on.\n",
    "+ Game ends when the player makes a mistake.\n",
    "+ Or it get to 100"
   ]
  },
  {
   "cell_type": "code",
   "execution_count": 19,
   "metadata": {},
   "outputs": [
    {
     "name": "stdin",
     "output_type": "stream",
     "text": [
      "Play FIZZ BUZZ.  Press ENTER to Start:---- \n"
     ]
    },
    {
     "name": "stdout",
     "output_type": "stream",
     "text": [
      "\n",
      "1\n"
     ]
    },
    {
     "name": "stdin",
     "output_type": "stream",
     "text": [
      "Your Go:  2\n"
     ]
    },
    {
     "name": "stdout",
     "output_type": "stream",
     "text": [
      "FIZZ\n"
     ]
    },
    {
     "name": "stdin",
     "output_type": "stream",
     "text": [
      "Your Go:  4\n"
     ]
    },
    {
     "name": "stdout",
     "output_type": "stream",
     "text": [
      "BUZZ\n"
     ]
    },
    {
     "name": "stdin",
     "output_type": "stream",
     "text": [
      "Your Go:  FIZZ\n"
     ]
    },
    {
     "name": "stdout",
     "output_type": "stream",
     "text": [
      "7\n"
     ]
    },
    {
     "name": "stdin",
     "output_type": "stream",
     "text": [
      "Your Go:  BUZZ\n"
     ]
    },
    {
     "name": "stdout",
     "output_type": "stream",
     "text": [
      "You Lose, the correct answer was 8\n"
     ]
    }
   ],
   "source": [
    "input(\"Play FIZZ BUZZ.  Press ENTER to Start:----\")\n",
    "print()\n",
    "\n",
    "\n",
    "next_number = 0\n",
    "while next_number < 99:\n",
    "    next_number += 1\n",
    "    print(fizzbuzz_game(next_number))\n",
    "    next_number += 1\n",
    "    correct_answer = fizzbuzz_game(next_number)\n",
    "    \n",
    "    players_answer = input(\"Your Go: \")\n",
    "    if players_answer != correct_answer:\n",
    "        \n",
    "        print(\"You Lose, the correct answer was {}\".format(correct_answer))\n",
    "        break\n",
    "        \n",
    "else:\n",
    "    print(\"Well Done, you reached {}\".format(next_number))"
   ]
  },
  {
   "cell_type": "code",
   "execution_count": null,
   "metadata": {},
   "outputs": [],
   "source": []
  }
 ],
 "metadata": {
  "kernelspec": {
   "display_name": "Python 3",
   "language": "python",
   "name": "python3"
  },
  "language_info": {
   "codemirror_mode": {
    "name": "ipython",
    "version": 3
   },
   "file_extension": ".py",
   "mimetype": "text/x-python",
   "name": "python",
   "nbconvert_exporter": "python",
   "pygments_lexer": "ipython3",
   "version": "3.8.3"
  }
 },
 "nbformat": 4,
 "nbformat_minor": 4
}
