{
 "cells": [
  {
   "cell_type": "markdown",
   "metadata": {},
   "source": [
    "### Functions that Performs Actions.\n",
    "\n",
    "+ We need to Create Functions that Performs some kind of Actions.\n",
    "+ MOre than returning an answer."
   ]
  },
  {
   "cell_type": "code",
   "execution_count": 1,
   "metadata": {},
   "outputs": [
    {
     "name": "stdout",
     "output_type": "stream",
     "text": [
      "********************************************************************************************************\n",
      "**    Always look on the bright side of life...                                                       **\n",
      "**   If life seems jolly rotten,                                                                      **\n",
      "**    There's something you've forgotten!                                                             **\n",
      "**    And that's to laugh and smile and dance and sing,                                               **\n",
      "**                                                                                                    **\n",
      "**     When you're feeling in the dumps,                                                              **\n",
      "**     Don't be silly chumps,                                                                         **\n",
      "**    Just purse your lips and whistle - that's the thing!                                            **\n",
      "**    And... always look on the bright side of life...                                                **\n",
      "********************************************************************************************************\n"
     ]
    }
   ],
   "source": [
    "print(\"********************************************************************************************************\")\n",
    "print(\"**    Always look on the bright side of life...                                                       **\")\n",
    "print(\"**   If life seems jolly rotten,                                                                      **\")\n",
    "print(\"**    There's something you've forgotten!                                                             **\")\n",
    "print(\"**    And that's to laugh and smile and dance and sing,                                               **\")\n",
    "print(\"**                                                                                                    **\")\n",
    "print(\"**     When you're feeling in the dumps,                                                              **\")\n",
    "print(\"**     Don't be silly chumps,                                                                         **\")\n",
    "print(\"**    Just purse your lips and whistle - that's the thing!                                            **\")\n",
    "print(\"**    And... always look on the bright side of life...                                                **\")\n",
    "print(\"********************************************************************************************************\")"
   ]
  },
  {
   "cell_type": "code",
   "execution_count": 61,
   "metadata": {},
   "outputs": [],
   "source": [
    "def banner_text(text):\n",
    "    screen_width = 150                 ## initialize the screen width as 150\n",
    "    \n",
    "    if len(text) > screen_width - 4:   ## if the length of the text is greater than that, print the below messages in the Output.\n",
    "        print(\"EEK!!\")\n",
    "        print(\"THE TEXT IS TOO LONG TO FIT IN THE SPECIFIED WIDTH\")\n",
    "        \n",
    "    if text == \"*\":                    ## if the text is *, then print the output as length as screen width, for that * character.\n",
    "        print(\"*\" * screen_width)\n",
    "        \n",
    "    else:\n",
    "        centered_text = text.center(screen_width-4).upper()    ## cemering the text, then, taking the upper case as well. \n",
    "        output_string = \"**{}**\".format(centered_text)         ## formatting that cenetered text to to string and print the output.\n",
    "        print(output_string)"
   ]
  },
  {
   "cell_type": "code",
   "execution_count": 62,
   "metadata": {},
   "outputs": [
    {
     "name": "stdout",
     "output_type": "stream",
     "text": [
      "******************************************************************************************************************************************************\n",
      "**                                                    ALWAYS LOOK ON THE BRIGHT SIDE OF LIFE...                                                     **\n",
      "**                                                           IF LIFE SEEMS JOLLY ROTTEN,                                                            **\n",
      "**                                                       THERE'S SOMETHING YOU'VE FORGOTTEN!                                                        **\n",
      "**                                                AND THAT'S TO LAUGH AND SMILE AND DANCE AND SING,                                                 **\n",
      "**                                                                                                                                                  **\n",
      "**                                                        WHEN YOU'RE FEELING IN THE DUMPS,                                                         **\n",
      "**                                                              DON'T BE SILLY CHUMPS,                                                              **\n",
      "**                                               JUST PURSE YOUR LIPS AND WHISTLE - THAT'S THE THING!                                               **\n",
      "**                                                 AND... ALWAYS LOOK ON THE BRIGHT SIDE OF LIFE...                                                 **\n",
      "******************************************************************************************************************************************************\n"
     ]
    }
   ],
   "source": [
    "banner_text(\"*\")\n",
    "banner_text(\"Always look on the bright side of life...\")\n",
    "banner_text(\"If life seems jolly rotten,\")\n",
    "banner_text(\"There's something you've forgotten!\")\n",
    "banner_text(\"And that's to laugh and smile and dance and sing,\")\n",
    "banner_text(\" \")\n",
    "banner_text(\"When you're feeling in the dumps,\")\n",
    "banner_text(\"Don't be silly chumps,\")\n",
    "banner_text(\"Just purse your lips and whistle - that's the thing!\")\n",
    "banner_text(\"And... always look on the bright side of life...\")\n",
    "banner_text(\"*\")"
   ]
  },
  {
   "cell_type": "code",
   "execution_count": 50,
   "metadata": {},
   "outputs": [],
   "source": [
    "screen_width = 150\n",
    "string = \"just purse your lips and whistle - that's the thing!\""
   ]
  },
  {
   "cell_type": "code",
   "execution_count": 60,
   "metadata": {},
   "outputs": [
    {
     "name": "stdout",
     "output_type": "stream",
     "text": [
      "**                                               JUST PURSE YOUR LIPS AND WHISTLE - THAT'S THE THING!                                               **\n"
     ]
    }
   ],
   "source": [
    "output_string = \"**{}**\".format(string.center(screen_width-4).upper())\n",
    "print(output_string)"
   ]
  },
  {
   "cell_type": "code",
   "execution_count": 63,
   "metadata": {},
   "outputs": [
    {
     "name": "stdout",
     "output_type": "stream",
     "text": [
      "**                                                               NOTHING IS RETURNED                                                                **\n",
      "None\n"
     ]
    }
   ],
   "source": [
    "## checking whether we getting the result None\n",
    "\n",
    "result = banner_text(\"Nothing is Returned\")\n",
    "print(result)"
   ]
  },
  {
   "cell_type": "code",
   "execution_count": 64,
   "metadata": {},
   "outputs": [
    {
     "name": "stdout",
     "output_type": "stream",
     "text": [
      "None\n"
     ]
    }
   ],
   "source": [
    "## another Example \n",
    "numbers = [4,2,7,5,8,3,9,6,1]\n",
    "print(numbers.sort())"
   ]
  },
  {
   "cell_type": "code",
   "execution_count": 66,
   "metadata": {},
   "outputs": [],
   "source": [
    "sorted_list = numbers.sort()"
   ]
  },
  {
   "cell_type": "code",
   "execution_count": 68,
   "metadata": {},
   "outputs": [
    {
     "name": "stdout",
     "output_type": "stream",
     "text": [
      "None\n"
     ]
    }
   ],
   "source": [
    "print(sorted_list)"
   ]
  },
  {
   "cell_type": "code",
   "execution_count": 71,
   "metadata": {},
   "outputs": [
    {
     "data": {
      "text/plain": [
       "['BMW', 'Ford', 'Volvo']"
      ]
     },
     "execution_count": 71,
     "metadata": {},
     "output_type": "execute_result"
    }
   ],
   "source": [
    "cars = ['Ford', 'BMW', 'Volvo']\n",
    "\n",
    "cars.sort()\n",
    "cars"
   ]
  },
  {
   "cell_type": "code",
   "execution_count": 72,
   "metadata": {},
   "outputs": [
    {
     "data": {
      "text/plain": [
       "[9, 8, 7, 6, 5, 4, 3, 2, 1]"
      ]
     },
     "execution_count": 72,
     "metadata": {},
     "output_type": "execute_result"
    }
   ],
   "source": [
    "## another Example \n",
    "numbers = [4,2,7,5,8,3,9,6,1]\n",
    "numbers.sort()\n",
    "\n",
    "numbers[::-1]"
   ]
  },
  {
   "cell_type": "markdown",
   "metadata": {},
   "source": [
    "**SUMMARY**\n",
    "\n",
    "+ If you don't explicitly return a Value. Python will automatically return None.\n",
    "+ It is valid to Explicitly return None from your Functions. You might do that to indicate something wasn't found.\n",
    "+ The dictionary get method do"
   ]
  }
 ],
 "metadata": {
  "kernelspec": {
   "display_name": "Python 3",
   "language": "python",
   "name": "python3"
  },
  "language_info": {
   "codemirror_mode": {
    "name": "ipython",
    "version": 3
   },
   "file_extension": ".py",
   "mimetype": "text/x-python",
   "name": "python",
   "nbconvert_exporter": "python",
   "pygments_lexer": "ipython3",
   "version": "3.8.3"
  }
 },
 "nbformat": 4,
 "nbformat_minor": 4
}
