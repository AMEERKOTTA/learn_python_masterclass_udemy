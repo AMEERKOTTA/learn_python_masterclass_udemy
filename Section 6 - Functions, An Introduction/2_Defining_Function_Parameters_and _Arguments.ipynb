{
 "cells": [
  {
   "cell_type": "markdown",
   "metadata": {},
   "source": [
    "### Defining the Function"
   ]
  },
  {
   "cell_type": "code",
   "execution_count": 1,
   "metadata": {},
   "outputs": [],
   "source": [
    "## define a function to Multiply \n",
    "\n",
    "def multiply():\n",
    "    result = 10.5 * 4\n",
    "    return result"
   ]
  },
  {
   "cell_type": "code",
   "execution_count": 4,
   "metadata": {},
   "outputs": [],
   "source": [
    "## calling the function to another variable\n",
    "answer = multiply()"
   ]
  },
  {
   "cell_type": "code",
   "execution_count": 5,
   "metadata": {},
   "outputs": [
    {
     "name": "stdout",
     "output_type": "stream",
     "text": [
      "42.0\n"
     ]
    }
   ],
   "source": [
    "print(answer)"
   ]
  },
  {
   "cell_type": "markdown",
   "metadata": {},
   "source": [
    "**PARAMETERS AND ARGUMENTS**\n",
    "\n",
    "+ Parameters are like Placeholders.\n",
    "+ for the real values that you will pass to your function.\n",
    "+ They are just variables.\n",
    "+ But they are given a Value when you call the Function."
   ]
  },
  {
   "cell_type": "code",
   "execution_count": 6,
   "metadata": {},
   "outputs": [],
   "source": [
    "## define the Function\n",
    "def multiply(parameter_1, parameter_2):\n",
    "    result = parameter_1 * parameter_2\n",
    "    return result"
   ]
  },
  {
   "cell_type": "code",
   "execution_count": 8,
   "metadata": {},
   "outputs": [
    {
     "name": "stdout",
     "output_type": "stream",
     "text": [
      "41.6\n"
     ]
    }
   ],
   "source": [
    "## calling the function\n",
    "## here the values, 10.4 and 2 are the arguments passed to the function as the value of the two parameters.\n",
    "multiplication = multiply(parameter_1=10.4,parameter_2=4)\n",
    "print(multiplication)"
   ]
  },
  {
   "cell_type": "markdown",
   "metadata": {},
   "source": [
    "**ARGUMENTS**\n",
    "\n",
    "+ Arguments are the values that will be used for Parameters, when we call a Function.\n",
    "+ Each Parameter must be given a Value, by Providing a value an argument in the function Call.\n",
    "+ Providing value as Arguments is called Passing the Arguments.\n",
    "+ If a function defines two parameters, we must pass two arguments when we call it.\n",
    "+ Some function Parameters can have default values"
   ]
  },
  {
   "cell_type": "code",
   "execution_count": 9,
   "metadata": {},
   "outputs": [
    {
     "name": "stdout",
     "output_type": "stream",
     "text": [
      "42\n"
     ]
    }
   ],
   "source": [
    "## function use\n",
    "forty_two = multiply(6,7)\n",
    "print(forty_two)"
   ]
  },
  {
   "cell_type": "code",
   "execution_count": 10,
   "metadata": {},
   "outputs": [
    {
     "name": "stdout",
     "output_type": "stream",
     "text": [
      "2\n",
      "4\n",
      "6\n",
      "8\n"
     ]
    }
   ],
   "source": [
    "## another program.\n",
    "for val in range(1,5):\n",
    "    two_times = multiply(2, val)\n",
    "    print(two_times)"
   ]
  },
  {
   "cell_type": "markdown",
   "metadata": {},
   "source": [
    "**DEBUGGING WITH PARAMETERS**\n",
    "\n",
    "+ Python arguments are Passed by Assignments.\n",
    "+ Parameter is the Variable exist inside the Function.\n",
    "+ Positional Arguments are assigned to the Parameters in the Order they Appear."
   ]
  },
  {
   "cell_type": "code",
   "execution_count": null,
   "metadata": {},
   "outputs": [],
   "source": []
  }
 ],
 "metadata": {
  "kernelspec": {
   "display_name": "Python 3",
   "language": "python",
   "name": "python3"
  },
  "language_info": {
   "codemirror_mode": {
    "name": "ipython",
    "version": 3
   },
   "file_extension": ".py",
   "mimetype": "text/x-python",
   "name": "python",
   "nbconvert_exporter": "python",
   "pygments_lexer": "ipython3",
   "version": "3.8.3"
  }
 },
 "nbformat": 4,
 "nbformat_minor": 4
}
