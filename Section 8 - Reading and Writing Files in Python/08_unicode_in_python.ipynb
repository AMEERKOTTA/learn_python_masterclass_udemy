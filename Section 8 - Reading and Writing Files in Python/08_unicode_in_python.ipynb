{
 "cells": [
  {
   "cell_type": "markdown",
   "metadata": {},
   "source": [
    "### UNICODE IN PYTHON"
   ]
  },
  {
   "cell_type": "code",
   "execution_count": 1,
   "metadata": {},
   "outputs": [
    {
     "name": "stdout",
     "output_type": "stream",
     "text": [
      "'Twas brillig, and the slithy toves\n",
      "Did gyre and gimble in the wabe;\n",
      "All mimsy were the borogoves,\n",
      "And the mome raths outgrabe.\n",
      "\n",
      "\"Beware the Jabberwock, my son!\n",
      "The jaws that bite, the claws that catch!\n",
      "Beware the Jubjub bird, and shun\n",
      "The frumious Bandersnatch!\"\n",
      "\n",
      "He took his vorpal sword in hand:\n",
      "Long time the manxome foe he soughtâ€”\n",
      "So rested he by the Tumtum tree,\n",
      "And stood awhile in thought.\n",
      "\n",
      "And as in uffish thought he stood,\n",
      "The Jabberwock, with eyes of flame,\n",
      "Came whiffling through the tulgey wood,\n",
      "And burbled as it came!\n",
      "\n",
      "One two! One two! And through and through\n",
      "The vorpal blade went snicker-snack!\n",
      "He left it dead, and with its head\n",
      "He went galumphing back.\n",
      "\n",
      "\"And hast thou slain the Jabberwock?\n",
      "Come to my arms, my beamish boy!\"\n",
      "\"O frabjous day! Callooh! Callay!\"\n",
      "He chortled in his joy.\n",
      "\n",
      "'Twas brillig, and the slithy toves\n",
      "Did gyre and gimble in the wabe;\n",
      "All mimsy were the borogoves,\n",
      "And the mome raths outgrabe.\n",
      "\n",
      "    â€“ Lewis Carroll\n"
     ]
    }
   ],
   "source": [
    "## read the Jabberwocky poem again.\n",
    "\n",
    "filename = \"Jabberwocky.txt\"\n",
    "with open(filename) as jabber:\n",
    "    for line in jabber:\n",
    "        print(line.rstrip())"
   ]
  },
  {
   "cell_type": "code",
   "execution_count": 2,
   "metadata": {},
   "outputs": [
    {
     "name": "stdout",
     "output_type": "stream",
     "text": [
      "'Twas brillig, and the slithy toves\n",
      "Did gyre and gimble in the wabe;\n",
      "All mimsy were the borogoves,\n",
      "And the mome raths outgrabe.\n",
      "\n",
      "\"Beware the Jabberwock, my son!\n",
      "The jaws that bite, the claws that catch!\n",
      "Beware the Jubjub bird, and shun\n",
      "The frumious Bandersnatch!\"\n",
      "\n",
      "He took his vorpal sword in hand:\n",
      "Long time the manxome foe he sought—\n",
      "So rested he by the Tumtum tree,\n",
      "And stood awhile in thought.\n",
      "\n",
      "And as in uffish thought he stood,\n",
      "The Jabberwock, with eyes of flame,\n",
      "Came whiffling through the tulgey wood,\n",
      "And burbled as it came!\n",
      "\n",
      "One two! One two! And through and through\n",
      "The vorpal blade went snicker-snack!\n",
      "He left it dead, and with its head\n",
      "He went galumphing back.\n",
      "\n",
      "\"And hast thou slain the Jabberwock?\n",
      "Come to my arms, my beamish boy!\"\n",
      "\"O frabjous day! Callooh! Callay!\"\n",
      "He chortled in his joy.\n",
      "\n",
      "'Twas brillig, and the slithy toves\n",
      "Did gyre and gimble in the wabe;\n",
      "All mimsy were the borogoves,\n",
      "And the mome raths outgrabe.\n",
      "\n",
      "    – Lewis Carroll\n"
     ]
    }
   ],
   "source": [
    "## add the encoding using utf-8\n",
    "## read the Jabberwocky poem again.\n",
    "\n",
    "filename = \"Jabberwocky.txt\"\n",
    "with open(filename, encoding = \"utf-8\") as jabber:\n",
    "    for line in jabber:\n",
    "        print(line.rstrip())"
   ]
  },
  {
   "cell_type": "code",
   "execution_count": 3,
   "metadata": {},
   "outputs": [
    {
     "name": "stdout",
     "output_type": "stream",
     "text": [
      "'Twas brillig, and the slithy toves\n",
      "Did gyre and gimble in the wabe;\n",
      "All mimsy were the borogoves,\n",
      "And the mome raths outgrabe.\n",
      "\n",
      "\"Beware the Jabberwock, my son!\n",
      "The jaws that bite, the claws that catch!\n",
      "Beware the Jubjub bird, and shun\n",
      "The frumious Bandersnatch!\"\n",
      "\n",
      "He took his vorpal sword in hand:\n",
      "Long time the manxome foe he soughtâ€”\n",
      "So rested he by the Tumtum tree,\n",
      "And stood awhile in thought.\n",
      "\n",
      "And as in uffish thought he stood,\n",
      "The Jabberwock, with eyes of flame,\n",
      "Came whiffling through the tulgey wood,\n",
      "And burbled as it came!\n",
      "\n",
      "One two! One two! And through and through\n",
      "The vorpal blade went snicker-snack!\n",
      "He left it dead, and with its head\n",
      "He went galumphing back.\n",
      "\n",
      "\"And hast thou slain the Jabberwock?\n",
      "Come to my arms, my beamish boy!\"\n",
      "\"O frabjous day! Callooh! Callay!\"\n",
      "He chortled in his joy.\n",
      "\n",
      "'Twas brillig, and the slithy toves\n",
      "Did gyre and gimble in the wabe;\n",
      "All mimsy were the borogoves,\n",
      "And the mome raths outgrabe.\n",
      "\n",
      "    â€“ Lewis Carroll\n"
     ]
    }
   ],
   "source": [
    "## using another encodings \n",
    "## add the encoding using utf-8\n",
    "## read the Jabberwocky poem again.\n",
    "\n",
    "filename = \"Jabberwocky.txt\"\n",
    "with open(filename, encoding = \"windows-1252\") as jabber:\n",
    "    for line in jabber:\n",
    "        print(line.rstrip())"
   ]
  },
  {
   "cell_type": "code",
   "execution_count": null,
   "metadata": {},
   "outputs": [],
   "source": []
  }
 ],
 "metadata": {
  "kernelspec": {
   "display_name": "Python 3",
   "language": "python",
   "name": "python3"
  },
  "language_info": {
   "codemirror_mode": {
    "name": "ipython",
    "version": 3
   },
   "file_extension": ".py",
   "mimetype": "text/x-python",
   "name": "python",
   "nbconvert_exporter": "python",
   "pygments_lexer": "ipython3",
   "version": "3.8.3"
  }
 },
 "nbformat": 4,
 "nbformat_minor": 4
}
