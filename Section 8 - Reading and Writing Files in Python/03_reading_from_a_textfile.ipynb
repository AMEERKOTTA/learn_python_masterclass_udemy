{
 "cells": [
  {
   "cell_type": "markdown",
   "metadata": {},
   "source": [
    "### READING FROM A TEXT FILE\n",
    "\n",
    "+ Reading from the text file is done using Open function.\n",
    "+ r represents the read operation\n",
    "+ we have to give the file name as well.\n",
    "+ then iterate over the lines in poem.\n",
    "+ print the lines.\n",
    "+ All lines are in string format."
   ]
  },
  {
   "cell_type": "code",
   "execution_count": 3,
   "metadata": {},
   "outputs": [
    {
     "name": "stdout",
     "output_type": "stream",
     "text": [
      "'Twas brillig, and the slithy toves\n",
      "\n",
      "Did gyre and gimble in the wabe;\n",
      "\n",
      "All mimsy were the borogoves,\n",
      "\n",
      "And the mome raths outgrabe.\n",
      "\n",
      "\n",
      "\n",
      "\"Beware the Jabberwock, my son!\n",
      "\n",
      "The jaws that bite, the claws that catch!\n",
      "\n",
      "Beware the Jubjub bird, and shun\n",
      "\n",
      "The frumious Bandersnatch!\"\n",
      "\n",
      "\n",
      "\n",
      "He took his vorpal sword in hand:\n",
      "\n",
      "Long time the manxome foe he soughtâ€”\n",
      "\n",
      "So rested he by the Tumtum tree,\n",
      "\n",
      "And stood awhile in thought.\n",
      "\n",
      "\n",
      "\n",
      "And as in uffish thought he stood,\n",
      "\n",
      "The Jabberwock, with eyes of flame,\n",
      "\n",
      "Came whiffling through the tulgey wood,\n",
      "\n",
      "And burbled as it came!\n",
      "\n",
      "\n",
      "\n",
      "One two! One two! And through and through\n",
      "\n",
      "The vorpal blade went snicker-snack!\n",
      "\n",
      "He left it dead, and with its head\n",
      "\n",
      "He went galumphing back.\n",
      "\n",
      "\n",
      "\n",
      "\"And hast thou slain the Jabberwock?\n",
      "\n",
      "Come to my arms, my beamish boy!\"\n",
      "\n",
      "\"O frabjous day! Callooh! Callay!\"\n",
      "\n",
      "He chortled in his joy.\n",
      "\n",
      "\n",
      "\n",
      "'Twas brillig, and the slithy toves\n",
      "\n",
      "Did gyre and gimble in the wabe;\n",
      "\n",
      "All mimsy were the borogoves,\n",
      "\n",
      "And the mome raths outgrabe.\n",
      "\n",
      "\n",
      "\n",
      "    â€“ Lewis Carroll\n",
      "\n"
     ]
    }
   ],
   "source": [
    "jabber = open(\"Jabberwocky.txt\",\"r\")\n",
    "\n",
    "for line in jabber:\n",
    "    print(line)\n",
    "    #print(type(line))\n",
    "    \n",
    "    \n",
    "jabber.close()"
   ]
  },
  {
   "cell_type": "code",
   "execution_count": 4,
   "metadata": {},
   "outputs": [
    {
     "data": {
      "text/plain": [
       "<_io.TextIOWrapper name='Jabberwocky.txt' mode='r' encoding='cp1252'>"
      ]
     },
     "execution_count": 4,
     "metadata": {},
     "output_type": "execute_result"
    }
   ],
   "source": [
    "jabber"
   ]
  },
  {
   "cell_type": "markdown",
   "metadata": {},
   "source": [
    "+ There is one new line printed after every line.\n",
    "+ This is because there is a new line Character \\n\n",
    "+ By the end of every Line.\n",
    "+ To get rid of this.\n",
    "+ One way is to Add end to the print funtion, So print function will not defaultly print a new line.\n",
    "\n",
    "+ Other method is to strip the new line from the data.\n",
    "+ That can be done using strip method"
   ]
  },
  {
   "cell_type": "code",
   "execution_count": 8,
   "metadata": {},
   "outputs": [
    {
     "name": "stdout",
     "output_type": "stream",
     "text": [
      "'Twas brillig, and the slithy toves\n",
      " Did gyre and gimble in the wabe;\n",
      " All mimsy were the borogoves,\n",
      " And the mome raths outgrabe.\n",
      " \n",
      " \"Beware the Jabberwock, my son!\n",
      " The jaws that bite, the claws that catch!\n",
      " Beware the Jubjub bird, and shun\n",
      " The frumious Bandersnatch!\"\n",
      " \n",
      " He took his vorpal sword in hand:\n",
      " Long time the manxome foe he soughtâ€”\n",
      " So rested he by the Tumtum tree,\n",
      " And stood awhile in thought.\n",
      " \n",
      " And as in uffish thought he stood,\n",
      " The Jabberwock, with eyes of flame,\n",
      " Came whiffling through the tulgey wood,\n",
      " And burbled as it came!\n",
      " \n",
      " One two! One two! And through and through\n",
      " The vorpal blade went snicker-snack!\n",
      " He left it dead, and with its head\n",
      " He went galumphing back.\n",
      " \n",
      " \"And hast thou slain the Jabberwock?\n",
      " Come to my arms, my beamish boy!\"\n",
      " \"O frabjous day! Callooh! Callay!\"\n",
      " He chortled in his joy.\n",
      " \n",
      " 'Twas brillig, and the slithy toves\n",
      " Did gyre and gimble in the wabe;\n",
      " All mimsy were the borogoves,\n",
      " And the mome raths outgrabe.\n",
      " \n",
      "     â€“ Lewis Carroll\n",
      " "
     ]
    }
   ],
   "source": [
    "jabber = open(\"Jabberwocky.txt\",\"r\")\n",
    "\n",
    "for line in jabber:\n",
    "    print(line, end = \" \")  ## add the end\n",
    "    \n",
    "    \n",
    "jabber.close()"
   ]
  },
  {
   "cell_type": "code",
   "execution_count": 9,
   "metadata": {},
   "outputs": [
    {
     "name": "stdout",
     "output_type": "stream",
     "text": [
      "'Twas brillig, and the slithy toves Did gyre and gimble in the wabe; All mimsy were the borogoves, And the mome raths outgrabe.  \"Beware the Jabberwock, my son! The jaws that bite, the claws that catch! Beware the Jubjub bird, and shun The frumious Bandersnatch!\"  He took his vorpal sword in hand: Long time the manxome foe he soughtâ€” So rested he by the Tumtum tree, And stood awhile in thought.  And as in uffish thought he stood, The Jabberwock, with eyes of flame, Came whiffling through the tulgey wood, And burbled as it came!  One two! One two! And through and through The vorpal blade went snicker-snack! He left it dead, and with its head He went galumphing back.  \"And hast thou slain the Jabberwock? Come to my arms, my beamish boy!\" \"O frabjous day! Callooh! Callay!\" He chortled in his joy.  'Twas brillig, and the slithy toves Did gyre and gimble in the wabe; All mimsy were the borogoves, And the mome raths outgrabe.  â€“ Lewis Carroll "
     ]
    }
   ],
   "source": [
    "jabber = open(\"Jabberwocky.txt\",\"r\")\n",
    "\n",
    "for line in jabber:\n",
    "    print(line.strip(), end = \" \")  ## add the end, strip method.\n",
    "    \n",
    "    \n",
    "jabber.close()"
   ]
  },
  {
   "cell_type": "code",
   "execution_count": 10,
   "metadata": {},
   "outputs": [
    {
     "name": "stdout",
     "output_type": "stream",
     "text": [
      "'Twas brillig, and the slithy toves\n",
      "Did gyre and gimble in the wabe;\n",
      "All mimsy were the borogoves,\n",
      "And the mome raths outgrabe.\n",
      "\n",
      "\"Beware the Jabberwock, my son!\n",
      "The jaws that bite, the claws that catch!\n",
      "Beware the Jubjub bird, and shun\n",
      "The frumious Bandersnatch!\"\n",
      "\n",
      "He took his vorpal sword in hand:\n",
      "Long time the manxome foe he soughtâ€”\n",
      "So rested he by the Tumtum tree,\n",
      "And stood awhile in thought.\n",
      "\n",
      "And as in uffish thought he stood,\n",
      "The Jabberwock, with eyes of flame,\n",
      "Came whiffling through the tulgey wood,\n",
      "And burbled as it came!\n",
      "\n",
      "One two! One two! And through and through\n",
      "The vorpal blade went snicker-snack!\n",
      "He left it dead, and with its head\n",
      "He went galumphing back.\n",
      "\n",
      "\"And hast thou slain the Jabberwock?\n",
      "Come to my arms, my beamish boy!\"\n",
      "\"O frabjous day! Callooh! Callay!\"\n",
      "He chortled in his joy.\n",
      "\n",
      "'Twas brillig, and the slithy toves\n",
      "Did gyre and gimble in the wabe;\n",
      "All mimsy were the borogoves,\n",
      "And the mome raths outgrabe.\n",
      "\n",
      "â€“ Lewis Carroll\n"
     ]
    }
   ],
   "source": [
    "jabber = open(\"Jabberwocky.txt\",\"r\")\n",
    "\n",
    "for line in jabber:\n",
    "    print(line.strip())  ## add only the strip method.\n",
    "    \n",
    "    \n",
    "jabber.close()"
   ]
  },
  {
   "cell_type": "markdown",
   "metadata": {},
   "source": [
    "**STRIP OUTPUT**"
   ]
  },
  {
   "cell_type": "code",
   "execution_count": 11,
   "metadata": {},
   "outputs": [
    {
     "name": "stdout",
     "output_type": "stream",
     "text": [
      "'Twas brillig, and the slithy toves\n",
      "Did gyre and gimble in the wabe;\n",
      "All mimsy were the borogoves,\n",
      "And the mome raths outgrabe.\n",
      "\n",
      "\"Beware the Jabberwock, my son!\n",
      "The jaws that bite, the claws that catch!\n",
      "Beware the Jubjub bird, and shun\n",
      "The frumious Bandersnatch!\"\n",
      "\n",
      "He took his vorpal sword in hand:\n",
      "Long time the manxome foe he soughtâ€”\n",
      "So rested he by the Tumtum tree,\n",
      "And stood awhile in thought.\n",
      "\n",
      "And as in uffish thought he stood,\n",
      "The Jabberwock, with eyes of flame,\n",
      "Came whiffling through the tulgey wood,\n",
      "And burbled as it came!\n",
      "\n",
      "One two! One two! And through and through\n",
      "The vorpal blade went snicker-snack!\n",
      "He left it dead, and with its head\n",
      "He went galumphing back.\n",
      "\n",
      "\"And hast thou slain the Jabberwock?\n",
      "Come to my arms, my beamish boy!\"\n",
      "\"O frabjous day! Callooh! Callay!\"\n",
      "He chortled in his joy.\n",
      "\n",
      "'Twas brillig, and the slithy toves\n",
      "Did gyre and gimble in the wabe;\n",
      "All mimsy were the borogoves,\n",
      "And the mome raths outgrabe.\n",
      "\n",
      "â€“ Lewis Carroll\n"
     ]
    }
   ],
   "source": [
    "jabber = open(\"Jabberwocky.txt\",\"r\")\n",
    "\n",
    "for line in jabber:\n",
    "    print(line.strip())\n",
    "    \n",
    "    \n",
    "jabber.close()"
   ]
  },
  {
   "cell_type": "markdown",
   "metadata": {},
   "source": [
    "**RSTRIP OUTPUT**"
   ]
  }
 ],
 "metadata": {
  "kernelspec": {
   "display_name": "Python 3",
   "language": "python",
   "name": "python3"
  },
  "language_info": {
   "codemirror_mode": {
    "name": "ipython",
    "version": 3
   },
   "file_extension": ".py",
   "mimetype": "text/x-python",
   "name": "python",
   "nbconvert_exporter": "python",
   "pygments_lexer": "ipython3",
   "version": "3.8.3"
  }
 },
 "nbformat": 4,
 "nbformat_minor": 4
}
