{
 "cells": [
  {
   "cell_type": "markdown",
   "metadata": {},
   "source": [
    "### ZIP FUNCTION"
   ]
  },
  {
   "cell_type": "code",
   "execution_count": 1,
   "metadata": {},
   "outputs": [],
   "source": [
    "albums = [(\"Welcome to my Nightmare\", \"Alice Cooper\", 1975),\n",
    "          (\"Bad Company\", \"Bad Company\", 1974),\n",
    "          (\"Nightflight\", \"Budgie\", 1981),\n",
    "          (\"More Mayhem\", \"Imelda May\", 2011),\n",
    "          (\"Ride the Lightning\", \"Metallica\", 1984),\n",
    "          ]"
   ]
  },
  {
   "cell_type": "code",
   "execution_count": 8,
   "metadata": {},
   "outputs": [],
   "source": [
    "keys = [\"album\", \"artist\", \"year\"]"
   ]
  },
  {
   "cell_type": "code",
   "execution_count": 12,
   "metadata": {},
   "outputs": [
    {
     "name": "stdout",
     "output_type": "stream",
     "text": [
      "\t ('album', 'Welcome to my Nightmare')\n",
      "\t ('artist', 'Alice Cooper')\n",
      "\t ('year', 1975)\n",
      "\t ('album', 'Bad Company')\n",
      "\t ('artist', 'Bad Company')\n",
      "\t ('year', 1974)\n",
      "\t ('album', 'Nightflight')\n",
      "\t ('artist', 'Budgie')\n",
      "\t ('year', 1981)\n",
      "\t ('album', 'More Mayhem')\n",
      "\t ('artist', 'Imelda May')\n",
      "\t ('year', 2011)\n",
      "\t ('album', 'Ride the Lightning')\n",
      "\t ('artist', 'Metallica')\n",
      "\t ('year', 1984)\n"
     ]
    }
   ],
   "source": [
    "for row in albums:\n",
    "    #print(row)\n",
    "    zip_object = zip(keys, row)\n",
    "    #print(zip_object)\n",
    "    \n",
    "    for thing in zip(keys, row):\n",
    "        print(\"\\t\", thing)"
   ]
  },
  {
   "cell_type": "code",
   "execution_count": 13,
   "metadata": {},
   "outputs": [
    {
     "name": "stdout",
     "output_type": "stream",
     "text": [
      "{'album': 'Welcome to my Nightmare', 'artist': 'Alice Cooper', 'year': 1975}\n",
      "{'album': 'Bad Company', 'artist': 'Bad Company', 'year': 1974}\n",
      "{'album': 'Nightflight', 'artist': 'Budgie', 'year': 1981}\n",
      "{'album': 'More Mayhem', 'artist': 'Imelda May', 'year': 2011}\n",
      "{'album': 'Ride the Lightning', 'artist': 'Metallica', 'year': 1984}\n"
     ]
    }
   ],
   "source": [
    "for row in albums:\n",
    "    zip_object = zip(keys, row)\n",
    "    \n",
    "    ## creating dictionaries\n",
    "    albums_dict = dict(zip_object)\n",
    "    print(albums_dict)"
   ]
  },
  {
   "cell_type": "code",
   "execution_count": 18,
   "metadata": {},
   "outputs": [
    {
     "name": "stdout",
     "output_type": "stream",
     "text": [
      "{'album': 'Welcome to my Nightmare', 'artist': 'Alice Cooper', 'year': 1975}\n",
      "{'album': 'Bad Company', 'artist': 'Bad Company', 'year': 1974}\n",
      "{'album': 'Nightflight', 'artist': 'Budgie', 'year': 1981}\n",
      "{'album': 'More Mayhem', 'artist': 'Imelda May', 'year': 2011}\n",
      "{'album': 'Ride the Lightning', 'artist': 'Metallica', 'year': 1984}\n"
     ]
    }
   ],
   "source": [
    "import csv\n",
    "\n",
    "albums = [(\"Welcome to my Nightmare\", \"Alice Cooper\", 1975),\n",
    "          (\"Bad Company\", \"Bad Company\", 1974),\n",
    "          (\"Nightflight\", \"Budgie\", 1981),\n",
    "          (\"More Mayhem\", \"Imelda May\", 2011),\n",
    "          (\"Ride the Lightning\", \"Metallica\", 1984),\n",
    "          ]\n",
    "\n",
    "keys = [\"album\",\"artist\",\"year\"]\n",
    "\n",
    "filename = \"albums.csv\"\n",
    "\n",
    "with open(filename, \"w\", encoding = \"utf-8\", newline = \"\") as csv_file:\n",
    "    \n",
    "    writer = csv.DictWriter(csv_file, fieldnames = keys)\n",
    "    \n",
    "    writer.writeheader()\n",
    "    \n",
    "    ## create the dictionary from the above albums list of tuples.\n",
    "    for row in albums:\n",
    "        zip_object = zip(keys, row)\n",
    "        ## now create dictionary\n",
    "        album_dict = dict(zip_object)\n",
    "        print(album_dict)\n",
    "        \n",
    "        writer.writerow(album_dict)"
   ]
  },
  {
   "cell_type": "code",
   "execution_count": null,
   "metadata": {},
   "outputs": [],
   "source": []
  }
 ],
 "metadata": {
  "kernelspec": {
   "display_name": "Python 3",
   "language": "python",
   "name": "python3"
  },
  "language_info": {
   "codemirror_mode": {
    "name": "ipython",
    "version": 3
   },
   "file_extension": ".py",
   "mimetype": "text/x-python",
   "name": "python",
   "nbconvert_exporter": "python",
   "pygments_lexer": "ipython3",
   "version": "3.8.3"
  }
 },
 "nbformat": 4,
 "nbformat_minor": 4
}
