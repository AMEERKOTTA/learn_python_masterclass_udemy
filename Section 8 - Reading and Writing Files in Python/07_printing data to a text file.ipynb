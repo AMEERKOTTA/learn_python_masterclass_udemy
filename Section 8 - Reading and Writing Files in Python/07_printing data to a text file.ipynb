{
 "cells": [
  {
   "cell_type": "markdown",
   "metadata": {},
   "source": [
    "### WRITING DATA TO A TEXT FILE\n",
    "\n",
    "Steps for Reading file from the text file..\n",
    "\n",
    "+ Open the File.\n",
    "+ Read the Data.\n",
    "+ Close the File.\n",
    "\n",
    "\n",
    "Steps for Writing Data to a text file..\n",
    "\n",
    "+ Open the File.\n",
    "+ Write the Data.\n",
    "+ Close the File."
   ]
  },
  {
   "cell_type": "code",
   "execution_count": 1,
   "metadata": {},
   "outputs": [],
   "source": [
    "## data to write to a text file.\n",
    "data = [\n",
    "    \"Andromeda - Shrub\",\n",
    "    \"Bellflower - Flower\",\n",
    "    \"China Pink - Flower\",\n",
    "    \"Daffodil - Flower\",\n",
    "    \"Evening Primrose - Flower\",\n",
    "    \"French Marigold - Flower\",\n",
    "    \"Hydrangea - Shrub\",\n",
    "    \"Iris - Flower\",\n",
    "    \"Japanese Camellia - Shrub\",\n",
    "    \"Lavender - Shrub\",\n",
    "    \"Lilac- Shrub\",\n",
    "    \"Magnolia - Shrub\",\n",
    "    \"Peony - Shrub\",\n",
    "    \"Queen Anne's Lace - Flower\",\n",
    "    \"Red Hot Poker - Flower\",\n",
    "    \"Snapdragon - Flower\",\n",
    "    \"Sunflower - Flower\",\n",
    "    \"Tiger Lily - Flower\",\n",
    "    \"Witch Hazel - Shrub\",\n",
    "]"
   ]
  },
  {
   "cell_type": "code",
   "execution_count": 2,
   "metadata": {},
   "outputs": [],
   "source": [
    "## define file name to the filename we want to save the data.\n",
    "plants_filename = \"flowers_print.txt\""
   ]
  },
  {
   "cell_type": "code",
   "execution_count": 3,
   "metadata": {},
   "outputs": [],
   "source": [
    "## now write the data to that filename.\n",
    "with open(plants_filename, \"w\") as plants:\n",
    "    for plant in data:\n",
    "        ## way 1\n",
    "        print(plant, file = plants)\n",
    "        "
   ]
  },
  {
   "cell_type": "markdown",
   "metadata": {},
   "source": [
    "This will print the Data in the Current Directory."
   ]
  },
  {
   "cell_type": "code",
   "execution_count": 4,
   "metadata": {},
   "outputs": [
    {
     "name": "stdout",
     "output_type": "stream",
     "text": [
      "['Andromeda - Shrub', 'Bellflower - Flower', 'China Pink - Flower', 'Daffodil - Flower', 'Evening Primrose - Flower', 'French Marigold - Flower', 'Hydrangea - Shrub', 'Iris - Flower', 'Japanese Camellia - Shrub', 'Lavender - Shrub', 'Lilac- Shrub', 'Magnolia - Shrub', 'Peony - Shrub', \"Queen Anne's Lace - Flower\", 'Red Hot Poker - Flower', 'Snapdragon - Flower', 'Sunflower - Flower', 'Tiger Lily - Flower', 'Witch Hazel - Shrub']\n"
     ]
    }
   ],
   "source": [
    "## read the data now.\n",
    "new_list = []\n",
    "with open(plants_filename) as plants:\n",
    "    for plant in plants:\n",
    "        new_list.append(plant.rstrip())\n",
    "        \n",
    "        \n",
    "print(new_list)"
   ]
  },
  {
   "cell_type": "markdown",
   "metadata": {},
   "source": [
    "**WRITING DATA TO A TEXT FILE**"
   ]
  },
  {
   "cell_type": "code",
   "execution_count": 10,
   "metadata": {},
   "outputs": [],
   "source": [
    "plants_filename = \"flowers_write.txt\"\n",
    "\n",
    "with open(plants_filename, \"w\") as plants:\n",
    "    \n",
    "    for plant in data:\n",
    "        \n",
    "        plants.write(plant)\n",
    "        "
   ]
  },
  {
   "cell_type": "code",
   "execution_count": 11,
   "metadata": {},
   "outputs": [
    {
     "name": "stdout",
     "output_type": "stream",
     "text": [
      "['Andromeda - Shrub', 'Bellflower - Flower', 'China Pink - Flower', 'Daffodil - Flower', 'Evening Primrose - Flower', 'French Marigold - Flower', 'Hydrangea - Shrub', 'Iris - Flower', 'Japanese Camellia - Shrub', 'Lavender - Shrub', 'Lilac- Shrub', 'Magnolia - Shrub', 'Peony - Shrub', \"Queen Anne's Lace - Flower\", 'Red Hot Poker - Flower', 'Snapdragon - Flower', 'Sunflower - Flower', 'Tiger Lily - Flower', 'Witch Hazel - Shrub']\n"
     ]
    }
   ],
   "source": [
    "print(data)"
   ]
  },
  {
   "cell_type": "code",
   "execution_count": 14,
   "metadata": {},
   "outputs": [
    {
     "name": "stdout",
     "output_type": "stream",
     "text": [
      "<class 'str'>\n"
     ]
    }
   ],
   "source": [
    "string_representation = data.__str__()\n",
    "print(type(string_representation))"
   ]
  },
  {
   "cell_type": "code",
   "execution_count": 15,
   "metadata": {},
   "outputs": [],
   "source": [
    "## writing a range of numbers from 0 to 9 to a text file.\n",
    "filename = \"test_numbers.txt\"\n",
    "\n",
    "with open(filename, \"w\") as test:\n",
    "    for i in range(10):\n",
    "        print(i, file = test)"
   ]
  },
  {
   "cell_type": "code",
   "execution_count": 16,
   "metadata": {},
   "outputs": [
    {
     "ename": "TypeError",
     "evalue": "write() argument must be str, not int",
     "output_type": "error",
     "traceback": [
      "\u001b[1;31m---------------------------------------------------------------------------\u001b[0m",
      "\u001b[1;31mTypeError\u001b[0m                                 Traceback (most recent call last)",
      "\u001b[1;32m<ipython-input-16-cd0933b0c7e4>\u001b[0m in \u001b[0;36m<module>\u001b[1;34m\u001b[0m\n\u001b[0;32m      4\u001b[0m \u001b[1;32mwith\u001b[0m \u001b[0mopen\u001b[0m\u001b[1;33m(\u001b[0m\u001b[0mfilename\u001b[0m\u001b[1;33m,\u001b[0m \u001b[1;34m\"w\"\u001b[0m\u001b[1;33m)\u001b[0m \u001b[1;32mas\u001b[0m \u001b[0mtest\u001b[0m\u001b[1;33m:\u001b[0m\u001b[1;33m\u001b[0m\u001b[1;33m\u001b[0m\u001b[0m\n\u001b[0;32m      5\u001b[0m     \u001b[1;32mfor\u001b[0m \u001b[0mi\u001b[0m \u001b[1;32min\u001b[0m \u001b[0mrange\u001b[0m\u001b[1;33m(\u001b[0m\u001b[1;36m10\u001b[0m\u001b[1;33m)\u001b[0m\u001b[1;33m:\u001b[0m\u001b[1;33m\u001b[0m\u001b[1;33m\u001b[0m\u001b[0m\n\u001b[1;32m----> 6\u001b[1;33m         \u001b[0mtest\u001b[0m\u001b[1;33m.\u001b[0m\u001b[0mwrite\u001b[0m\u001b[1;33m(\u001b[0m\u001b[0mi\u001b[0m\u001b[1;33m)\u001b[0m\u001b[1;33m\u001b[0m\u001b[1;33m\u001b[0m\u001b[0m\n\u001b[0m",
      "\u001b[1;31mTypeError\u001b[0m: write() argument must be str, not int"
     ]
    }
   ],
   "source": [
    "## but the write method will not work like this.\n",
    "filename = \"test_numbers_1.txt\"\n",
    "\n",
    "with open(filename, \"w\") as test:\n",
    "    for i in range(10):\n",
    "        test.write(i)"
   ]
  },
  {
   "cell_type": "markdown",
   "metadata": {},
   "source": [
    "We cannot write an Integer to a Text File.\n",
    "BUt Only the String elemeents."
   ]
  },
  {
   "cell_type": "code",
   "execution_count": 17,
   "metadata": {},
   "outputs": [],
   "source": [
    "## change the integer to string\n",
    "## but the write method will not work like this.\n",
    "filename = \"test_numbers_1.txt\"\n",
    "\n",
    "with open(filename, \"w\") as test:\n",
    "    for i in range(10):\n",
    "        test.write(str(i))"
   ]
  },
  {
   "cell_type": "markdown",
   "metadata": {},
   "source": [
    "Now we have text file with integers from 0 to 9\n"
   ]
  },
  {
   "cell_type": "code",
   "execution_count": 19,
   "metadata": {},
   "outputs": [],
   "source": [
    "## if we want to write the numbers in new lines.\n",
    "## then we have to explicitly add character for new line.\n",
    "## but the write method will not work like this.\n",
    "filename = \"test_numbers_1.txt\"\n",
    "\n",
    "with open(filename, \"w\") as test:\n",
    "    for i in range(10):\n",
    "        test.write(str(i) + \"\\n\")"
   ]
  },
  {
   "cell_type": "markdown",
   "metadata": {},
   "source": [
    "Now it got Changed."
   ]
  },
  {
   "cell_type": "markdown",
   "metadata": {},
   "source": [
    "**TWO WAYS TO WRITE**\n",
    "\n",
    "+ print method and write method.\n",
    "+ print function will the string representation of any object you ask to print.\n",
    "+ In addition, you can use seperators between multiple arguments using sep keyword.\n",
    "+ Write method only write what you tell it to write.\n",
    "+ No seperators or newline characters are included.\n",
    "+ If you want something like that, you explicitly have to define it in the code.\n",
    "+ Also no Conversion is Performed.\n",
    "\n",
    "\n",
    "**WHICH ONE TO USE**\n",
    "\n",
    "+ If you want complete control over what gets written, Use Write method.\n",
    "\n",
    "+ If its more convenient to let print Include Seperators and newline, and convert objects to their syting representations, then use print method."
   ]
  },
  {
   "cell_type": "markdown",
   "metadata": {},
   "source": [
    "**FILES MODES**\n",
    "\n",
    "+ \"r\" --> read\n",
    "+ \"w\" --> write\n",
    "+ there are other modes in documention"
   ]
  }
 ],
 "metadata": {
  "kernelspec": {
   "display_name": "Python 3",
   "language": "python",
   "name": "python3"
  },
  "language_info": {
   "codemirror_mode": {
    "name": "ipython",
    "version": 3
   },
   "file_extension": ".py",
   "mimetype": "text/x-python",
   "name": "python",
   "nbconvert_exporter": "python",
   "pygments_lexer": "ipython3",
   "version": "3.8.3"
  }
 },
 "nbformat": 4,
 "nbformat_minor": 4
}
