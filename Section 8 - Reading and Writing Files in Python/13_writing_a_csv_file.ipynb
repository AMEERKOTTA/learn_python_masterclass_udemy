{
 "cells": [
  {
   "cell_type": "markdown",
   "metadata": {},
   "source": [
    "### WRITING A CSV FILE"
   ]
  },
  {
   "cell_type": "code",
   "execution_count": 1,
   "metadata": {},
   "outputs": [],
   "source": [
    "import csv\n",
    "\n",
    "cereals = [\n",
    "    [\"Barley\", 556, 1.7, 32.9, 10.1, 13.8],\n",
    "    [\"Durum\", 339, 5, 27.4, 4.09, 9.7],\n",
    "    [\"Fonio\", 240, 1, 4, 1.7, 0.05],\n",
    "    [\"Maize\", 442, 7.4, 37.45, 6.15, 11.03],\n",
    "    [\"Millet\", 484, 2, 37.9, 13.4, 9.15],\n",
    "    [\"Oats\", 231, 9.2, 35.1, 10.3, 3.73],\n",
    "    [\"Rice (Brown)\", 346, 2.8, 38.1, 9.9, 0.8],\n",
    "    [\"Rice, (White)\", 345, 3.6, 37.6, 5.4, 0.1],\n",
    "    [\"Rye\", 422, 2, 31.4, 18.2, 21.2],\n",
    "    [\"Sorghum\", 316, 3, 37.8, 9.92, 9.15],\n",
    "    [\"Triticale\", 338, 1.81, 36.6, 19, 0.9],\n",
    "    [\"Wheat\", 407, 1.2, 27.8, 12.9, 13.8],\n",
    "]\n",
    "\n",
    "column_headings = [\"Cereal\", \"Calories\", \"Fat\", \"Protein\", \"Fibre\", \"Vitamin E\"]\n",
    "\n",
    "output_filename = 'my_cereals.csv'\n",
    "\n"
   ]
  },
  {
   "cell_type": "markdown",
   "metadata": {},
   "source": [
    "First Output"
   ]
  },
  {
   "cell_type": "code",
   "execution_count": 2,
   "metadata": {},
   "outputs": [],
   "source": [
    "output_filename = 'my_cereals.csv'\n",
    "\n",
    "with open(output_filename, \"w\", encoding = \"utf-8\", newline = \"\") as output_file:\n",
    "    \n",
    "    writer = csv.writer(output_file)\n",
    "    writer.writerows(cereals)"
   ]
  },
  {
   "cell_type": "markdown",
   "metadata": {},
   "source": [
    "Second Output"
   ]
  },
  {
   "cell_type": "code",
   "execution_count": 3,
   "metadata": {},
   "outputs": [],
   "source": [
    "output_filename = 'my_cereals_2.csv'\n",
    "\n",
    "with open(output_filename, \"w\", encoding = \"utf-8\", newline = \"\") as output_file:\n",
    "    \n",
    "    writer = csv.writer(output_file, quoting = csv.QUOTE_NONNUMERIC)\n",
    "    writer.writerows(cereals)"
   ]
  },
  {
   "cell_type": "markdown",
   "metadata": {},
   "source": [
    "Third Output"
   ]
  },
  {
   "cell_type": "code",
   "execution_count": 4,
   "metadata": {},
   "outputs": [],
   "source": [
    "## inclusing Columns\n",
    "output_filename = 'my_cereals_3.csv'\n",
    "\n",
    "with open(output_filename, \"w\", encoding = \"utf-8\", newline = \"\") as output_file:\n",
    "    \n",
    "    writer = csv.writer(output_file, quoting = csv.QUOTE_NONNUMERIC)\n",
    "    writer.writerow(column_headings)\n",
    "    writer.writerows(cereals)"
   ]
  },
  {
   "cell_type": "code",
   "execution_count": null,
   "metadata": {},
   "outputs": [],
   "source": []
  }
 ],
 "metadata": {
  "kernelspec": {
   "display_name": "Python 3",
   "language": "python",
   "name": "python3"
  },
  "language_info": {
   "codemirror_mode": {
    "name": "ipython",
    "version": 3
   },
   "file_extension": ".py",
   "mimetype": "text/x-python",
   "name": "python",
   "nbconvert_exporter": "python",
   "pygments_lexer": "ipython3",
   "version": "3.8.3"
  }
 },
 "nbformat": 4,
 "nbformat_minor": 4
}
