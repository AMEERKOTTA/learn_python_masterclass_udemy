{
 "cells": [
  {
   "cell_type": "markdown",
   "metadata": {},
   "source": [
    "### STRIP, LSTRIP AND RSTRIP"
   ]
  },
  {
   "cell_type": "code",
   "execution_count": 1,
   "metadata": {},
   "outputs": [
    {
     "name": "stdout",
     "output_type": "stream",
     "text": [
      "'Twas brillig, and the slithy toves\n"
     ]
    }
   ],
   "source": [
    "filename = \"Jabberwocky.txt\"\n",
    "\n",
    "with open(filename) as poem:\n",
    "    \n",
    "    first_line = poem.readline().rstrip()\n",
    "    \n",
    "print(first_line)"
   ]
  },
  {
   "cell_type": "code",
   "execution_count": 4,
   "metadata": {},
   "outputs": [
    {
     "name": "stdout",
     "output_type": "stream",
     "text": [
      "'Twas brillig, and the slithy toves\n",
      "Twas brillig, and the slithy toves\n"
     ]
    }
   ],
   "source": [
    "## here there is appostrophe in the string that printed.\n",
    "## we need to remove appostrophe from the string\n",
    "\n",
    "chars = \"'\"\n",
    "no_appostrophe = first_line.strip(chars)\n",
    "print(first_line)\n",
    "print(no_appostrophe)"
   ]
  },
  {
   "cell_type": "code",
   "execution_count": 5,
   "metadata": {},
   "outputs": [
    {
     "name": "stdout",
     "output_type": "stream",
     "text": [
      " brillig, and the slithy tove\n"
     ]
    }
   ],
   "source": [
    "## again\n",
    "## remove the first letter including the appostrophe.\n",
    "## \"'Twas\"\n",
    "\n",
    "chars = \"'Twas\"\n",
    "no_appo_twas = first_line.strip(chars)\n",
    "print(no_appo_twas)"
   ]
  },
  {
   "cell_type": "markdown",
   "metadata": {},
   "source": [
    "But in the end, the strip method removes the \"s\" also from the toves.\n",
    "\n",
    "+ So this will check in the Chars, and will remove the matching letters.\n",
    "+ This is checking the e and v chars are removed from the end of the line."
   ]
  },
  {
   "cell_type": "code",
   "execution_count": 6,
   "metadata": {},
   "outputs": [
    {
     "name": "stdout",
     "output_type": "stream",
     "text": [
      " brillig, and the slithy to\n"
     ]
    }
   ],
   "source": [
    "## checking again\n",
    "chars = \"'Twasebv\"\n",
    "no_appo_twasebv = first_line.strip(chars)\n",
    "print(no_appo_twasebv)"
   ]
  },
  {
   "cell_type": "code",
   "execution_count": 8,
   "metadata": {},
   "outputs": [
    {
     "name": "stdout",
     "output_type": "stream",
     "text": [
      "rillig, and the slithy to\n"
     ]
    }
   ],
   "source": [
    "## checking with the space\n",
    "chars = \" 'Twasebv\"\n",
    "no_app_space_teasebv = first_line.strip(chars)\n",
    "print(no_app_space_teasebv)"
   ]
  },
  {
   "cell_type": "code",
   "execution_count": 12,
   "metadata": {},
   "outputs": [
    {
     "name": "stdout",
     "output_type": "stream",
     "text": [
      "removing \"'\"\n",
      "removing \"T\"\n",
      "removing \"w\"\n",
      "removing \"a\"\n",
      "removing \"s\"\n",
      "removing \" \"\n",
      "removing \"b\"\n"
     ]
    }
   ],
   "source": [
    "## checking how the loop works.\n",
    "chars = \" 'Twasebv\"\n",
    "for character in first_line:\n",
    "    if character in chars:\n",
    "        print(f'removing \"{character}\"')\n",
    "              \n",
    "    else:\n",
    "        break"
   ]
  },
  {
   "cell_type": "code",
   "execution_count": 13,
   "metadata": {},
   "outputs": [
    {
     "name": "stdout",
     "output_type": "stream",
     "text": [
      "removing \"s\"\n",
      "removing \"e\"\n",
      "removing \"v\"\n"
     ]
    }
   ],
   "source": [
    "## checking backwards\n",
    "## checking how the loop works.\n",
    "chars = \" 'Twasebv\"\n",
    "for character in first_line[::-1]:\n",
    "    if character in chars:\n",
    "        print(f'removing \"{character}\"')\n",
    "              \n",
    "    else:\n",
    "        break"
   ]
  },
  {
   "cell_type": "markdown",
   "metadata": {},
   "source": [
    "RemovePrefix and RemoveSuffix methods"
   ]
  },
  {
   "cell_type": "code",
   "execution_count": 14,
   "metadata": {},
   "outputs": [
    {
     "name": "stdout",
     "output_type": "stream",
     "text": [
      "********************************************************************************\n"
     ]
    },
    {
     "ename": "AttributeError",
     "evalue": "'str' object has no attribute 'removeprefix'",
     "output_type": "error",
     "traceback": [
      "\u001b[1;31m---------------------------------------------------------------------------\u001b[0m",
      "\u001b[1;31mAttributeError\u001b[0m                            Traceback (most recent call last)",
      "\u001b[1;32m<ipython-input-14-40517a6748c7>\u001b[0m in \u001b[0;36m<module>\u001b[1;34m\u001b[0m\n\u001b[0;32m      1\u001b[0m \u001b[0mprint\u001b[0m\u001b[1;33m(\u001b[0m\u001b[1;34m\"*\"\u001b[0m \u001b[1;33m*\u001b[0m \u001b[1;36m80\u001b[0m\u001b[1;33m)\u001b[0m\u001b[1;33m\u001b[0m\u001b[1;33m\u001b[0m\u001b[0m\n\u001b[0;32m      2\u001b[0m \u001b[1;33m\u001b[0m\u001b[0m\n\u001b[1;32m----> 3\u001b[1;33m \u001b[0mtwas_removed\u001b[0m \u001b[1;33m=\u001b[0m \u001b[0mfirst_line\u001b[0m\u001b[1;33m.\u001b[0m\u001b[0mremoveprefix\u001b[0m\u001b[1;33m(\u001b[0m\u001b[1;34m\"Twas\"\u001b[0m\u001b[1;33m)\u001b[0m\u001b[1;33m\u001b[0m\u001b[1;33m\u001b[0m\u001b[0m\n\u001b[0m\u001b[0;32m      4\u001b[0m \u001b[0mtoves_removed\u001b[0m \u001b[1;33m=\u001b[0m \u001b[0mfirst_line\u001b[0m\u001b[1;33m.\u001b[0m\u001b[0mremovesuffix\u001b[0m\u001b[1;33m(\u001b[0m\u001b[1;34m\"toves\"\u001b[0m\u001b[1;33m)\u001b[0m\u001b[1;33m\u001b[0m\u001b[1;33m\u001b[0m\u001b[0m\n\u001b[0;32m      5\u001b[0m \u001b[1;33m\u001b[0m\u001b[0m\n",
      "\u001b[1;31mAttributeError\u001b[0m: 'str' object has no attribute 'removeprefix'"
     ]
    }
   ],
   "source": [
    "print(\"*\" * 80)\n",
    "\n",
    "twas_removed = first_line.removeprefix(\"Twas\")\n",
    "toves_removed = first_line.removesuffix(\"toves\")\n",
    "\n",
    "print(twas_removed)\n",
    "print(toves_removed)"
   ]
  },
  {
   "cell_type": "markdown",
   "metadata": {},
   "source": [
    "Im using the Python Version 3.8.3\n",
    "+ This two removeprefix and removesuffix only works on 3.9 Versions."
   ]
  },
  {
   "cell_type": "code",
   "execution_count": 15,
   "metadata": {},
   "outputs": [],
   "source": [
    "## so drfining functions for both"
   ]
  },
  {
   "cell_type": "code",
   "execution_count": 16,
   "metadata": {},
   "outputs": [],
   "source": [
    "def removeprefix(string, prefix):\n",
    "    \n",
    "    if string.startswith(prefix):\n",
    "        result = string[len(prefix):]\n",
    "        return result\n",
    "    else:\n",
    "        result = string[:]\n",
    "        return result"
   ]
  },
  {
   "cell_type": "code",
   "execution_count": 17,
   "metadata": {},
   "outputs": [
    {
     "name": "stdout",
     "output_type": "stream",
     "text": [
      " brillig, and the slithy toves\n"
     ]
    }
   ],
   "source": [
    "string = \"'Twas brillig, and the slithy toves\"\n",
    "prefix = \"'Twas\"\n",
    "\n",
    "result = removeprefix(string,prefix)\n",
    "print(result)"
   ]
  },
  {
   "cell_type": "code",
   "execution_count": 18,
   "metadata": {},
   "outputs": [],
   "source": [
    "## function to remove the suffix\n",
    "def removesuffix(string, suffix):\n",
    "    \n",
    "    if suffix and string.endswith(suffix):\n",
    "        result = string[:-len(suffix)]\n",
    "        return result\n",
    "    else:\n",
    "        result = string[:]\n",
    "        return result"
   ]
  },
  {
   "cell_type": "code",
   "execution_count": 25,
   "metadata": {},
   "outputs": [
    {
     "name": "stdout",
     "output_type": "stream",
     "text": [
      "'Twas brillig, and the slithy t\n"
     ]
    }
   ],
   "source": [
    "string = \"'Twas brillig, and the slithy toves\"\n",
    "suffix = \"oves\"\n",
    "result = removesuffix(string, suffix)\n",
    "print(result)"
   ]
  },
  {
   "cell_type": "code",
   "execution_count": null,
   "metadata": {},
   "outputs": [],
   "source": []
  }
 ],
 "metadata": {
  "kernelspec": {
   "display_name": "Python 3",
   "language": "python",
   "name": "python3"
  },
  "language_info": {
   "codemirror_mode": {
    "name": "ipython",
    "version": 3
   },
   "file_extension": ".py",
   "mimetype": "text/x-python",
   "name": "python",
   "nbconvert_exporter": "python",
   "pygments_lexer": "ipython3",
   "version": "3.8.3"
  }
 },
 "nbformat": 4,
 "nbformat_minor": 4
}
