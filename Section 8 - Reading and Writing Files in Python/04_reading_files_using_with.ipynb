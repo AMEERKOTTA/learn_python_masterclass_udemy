{
 "cells": [
  {
   "cell_type": "markdown",
   "metadata": {},
   "source": [
    "### READING FILES USING WITH\n",
    "\n",
    "+ Here we dont have to close the operation explicitly.\n",
    "+ Because, the files will be autmatically close when the loop comes out of loop.\n",
    "+ This is the Best Method"
   ]
  },
  {
   "cell_type": "code",
   "execution_count": 2,
   "metadata": {},
   "outputs": [
    {
     "name": "stdout",
     "output_type": "stream",
     "text": [
      "'Twas brillig, and the slithy toves\n",
      "Did gyre and gimble in the wabe;\n",
      "All mimsy were the borogoves,\n",
      "And the mome raths outgrabe.\n",
      "\n",
      "\"Beware the Jabberwock, my son!\n",
      "The jaws that bite, the claws that catch!\n",
      "Beware the Jubjub bird, and shun\n",
      "The frumious Bandersnatch!\"\n",
      "\n",
      "He took his vorpal sword in hand:\n",
      "Long time the manxome foe he soughtâ€”\n",
      "So rested he by the Tumtum tree,\n",
      "And stood awhile in thought.\n",
      "\n",
      "And as in uffish thought he stood,\n",
      "The Jabberwock, with eyes of flame,\n",
      "Came whiffling through the tulgey wood,\n",
      "And burbled as it came!\n",
      "\n",
      "One two! One two! And through and through\n",
      "The vorpal blade went snicker-snack!\n",
      "He left it dead, and with its head\n",
      "He went galumphing back.\n",
      "\n",
      "\"And hast thou slain the Jabberwock?\n",
      "Come to my arms, my beamish boy!\"\n",
      "\"O frabjous day! Callooh! Callay!\"\n",
      "He chortled in his joy.\n",
      "\n",
      "'Twas brillig, and the slithy toves\n",
      "Did gyre and gimble in the wabe;\n",
      "All mimsy were the borogoves,\n",
      "And the mome raths outgrabe.\n",
      "\n",
      "    â€“ Lewis Carroll\n"
     ]
    }
   ],
   "source": [
    "with open(\"Jabberwocky.txt\",\"r\") as jabber:\n",
    "    for line in jabber:\n",
    "        print(line.rstrip())"
   ]
  },
  {
   "cell_type": "markdown",
   "metadata": {},
   "source": [
    "**THREE DIFFERENT METHODS TO READ THE FILES**\n",
    "\n",
    "+ readlines :- This will return list of strings as output.\n",
    "            + readlines can be useful when the data will be fit in our memory.\n",
    "+ readline :- This will read lines one by one. We can use this to find something that we are Looking for.\n",
    "            + And the program will terminates when it finds the word that we are looking for.\n",
    "+ read :- This will return the string instead of list, unlike readlines method.\n",
    "            + this can be used when we have a lot of data."
   ]
  },
  {
   "cell_type": "markdown",
   "metadata": {},
   "source": [
    "**readlines**"
   ]
  },
  {
   "cell_type": "code",
   "execution_count": 3,
   "metadata": {},
   "outputs": [
    {
     "name": "stdout",
     "output_type": "stream",
     "text": [
      "[\"'Twas brillig, and the slithy toves\\n\", 'Did gyre and gimble in the wabe;\\n', 'All mimsy were the borogoves,\\n', 'And the mome raths outgrabe.\\n', '\\n', '\"Beware the Jabberwock, my son!\\n', 'The jaws that bite, the claws that catch!\\n', 'Beware the Jubjub bird, and shun\\n', 'The frumious Bandersnatch!\"\\n', '\\n', 'He took his vorpal sword in hand:\\n', 'Long time the manxome foe he soughtâ€”\\n', 'So rested he by the Tumtum tree,\\n', 'And stood awhile in thought.\\n', '\\n', 'And as in uffish thought he stood,\\n', 'The Jabberwock, with eyes of flame,\\n', 'Came whiffling through the tulgey wood,\\n', 'And burbled as it came!\\n', '\\n', 'One two! One two! And through and through\\n', 'The vorpal blade went snicker-snack!\\n', 'He left it dead, and with its head\\n', 'He went galumphing back.\\n', '\\n', '\"And hast thou slain the Jabberwock?\\n', 'Come to my arms, my beamish boy!\"\\n', '\"O frabjous day! Callooh! Callay!\"\\n', 'He chortled in his joy.\\n', '\\n', \"'Twas brillig, and the slithy toves\\n\", 'Did gyre and gimble in the wabe;\\n', 'All mimsy were the borogoves,\\n', 'And the mome raths outgrabe.\\n', '\\n', '    â€“ Lewis Carroll\\n']\n"
     ]
    }
   ],
   "source": [
    "with open(\"Jabberwocky.txt\",\"r\") as jabber:\n",
    "    lines = jabber.readlines()\n",
    "    \n",
    "print(lines)"
   ]
  },
  {
   "cell_type": "code",
   "execution_count": 5,
   "metadata": {},
   "outputs": [
    {
     "name": "stdout",
     "output_type": "stream",
     "text": [
      "['    â€“ Lewis Carroll\\n']\n"
     ]
    }
   ],
   "source": [
    "## to get the last line \n",
    "print(lines[-1:])"
   ]
  },
  {
   "cell_type": "code",
   "execution_count": 6,
   "metadata": {},
   "outputs": [
    {
     "name": "stdout",
     "output_type": "stream",
     "text": [
      "    â€“ Lewis Carroll\n",
      "\n",
      "And the mome raths outgrabe.\n",
      "All mimsy were the borogoves,\n",
      "Did gyre and gimble in the wabe;\n",
      "'Twas brillig, and the slithy toves\n",
      "\n",
      "He chortled in his joy.\n",
      "\"O frabjous day! Callooh! Callay!\"\n",
      "Come to my arms, my beamish boy!\"\n",
      "\"And hast thou slain the Jabberwock?\n",
      "\n",
      "He went galumphing back.\n",
      "He left it dead, and with its head\n",
      "The vorpal blade went snicker-snack!\n",
      "One two! One two! And through and through\n",
      "\n",
      "And burbled as it came!\n",
      "Came whiffling through the tulgey wood,\n",
      "The Jabberwock, with eyes of flame,\n",
      "And as in uffish thought he stood,\n",
      "\n",
      "And stood awhile in thought.\n",
      "So rested he by the Tumtum tree,\n",
      "Long time the manxome foe he soughtâ€”\n",
      "He took his vorpal sword in hand:\n",
      "\n",
      "The frumious Bandersnatch!\"\n",
      "Beware the Jubjub bird, and shun\n",
      "The jaws that bite, the claws that catch!\n",
      "\"Beware the Jabberwock, my son!\n",
      "\n",
      "And the mome raths outgrabe.\n",
      "All mimsy were the borogoves,\n",
      "Did gyre and gimble in the wabe;\n",
      "'Twas brillig, and the slithy toves\n"
     ]
    }
   ],
   "source": [
    "## to gte the reversed lines.\n",
    "for line in reversed(lines):\n",
    "    print(line, end = \"\")"
   ]
  },
  {
   "cell_type": "markdown",
   "metadata": {},
   "source": [
    "**read**"
   ]
  },
  {
   "cell_type": "code",
   "execution_count": 10,
   "metadata": {},
   "outputs": [
    {
     "name": "stdout",
     "output_type": "stream",
     "text": [
      "'Twas brillig, and the slithy toves\n",
      "Did gyre and gimble in the wabe;\n",
      "All mimsy were the borogoves,\n",
      "And the mome raths outgrabe.\n",
      "\n",
      "\"Beware the Jabberwock, my son!\n",
      "The jaws that bite, the claws that catch!\n",
      "Beware the Jubjub bird, and shun\n",
      "The frumious Bandersnatch!\"\n",
      "\n",
      "He took his vorpal sword in hand:\n",
      "Long time the manxome foe he soughtâ€”\n",
      "So rested he by the Tumtum tree,\n",
      "And stood awhile in thought.\n",
      "\n",
      "And as in uffish thought he stood,\n",
      "The Jabberwock, with eyes of flame,\n",
      "Came whiffling through the tulgey wood,\n",
      "And burbled as it came!\n",
      "\n",
      "One two! One two! And through and through\n",
      "The vorpal blade went snicker-snack!\n",
      "He left it dead, and with its head\n",
      "He went galumphing back.\n",
      "\n",
      "\"And hast thou slain the Jabberwock?\n",
      "Come to my arms, my beamish boy!\"\n",
      "\"O frabjous day! Callooh! Callay!\"\n",
      "He chortled in his joy.\n",
      "\n",
      "'Twas brillig, and the slithy toves\n",
      "Did gyre and gimble in the wabe;\n",
      "All mimsy were the borogoves,\n",
      "And the mome raths outgrabe.\n",
      "\n",
      "    â€“ Lewis Carroll\n",
      "\n",
      "<class 'str'>\n",
      "959\n"
     ]
    }
   ],
   "source": [
    "## read method\n",
    "with open(\"Jabberwocky.txt\",\"r\") as jabber:\n",
    "    text = jabber.read()\n",
    "    \n",
    "print(text)\n",
    "print(type(text))\n",
    "print(len(text))"
   ]
  },
  {
   "cell_type": "code",
   "execution_count": 11,
   "metadata": {},
   "outputs": [
    {
     "name": "stdout",
     "output_type": "stream",
     "text": [
      "\n",
      "llorraC siweL “€â    \n",
      "\n",
      ".ebargtuo shtar emom eht dnA\n",
      ",sevogorob eht erew ysmim llA\n",
      ";ebaw eht ni elbmig dna eryg diD\n",
      "sevot yhtils eht dna ,gillirb sawT'\n",
      "\n",
      ".yoj sih ni deltrohc eH\n",
      "\"!yallaC !hoollaC !yad suojbarf O\"\n",
      "\"!yob hsimaeb ym ,smra ym ot emoC\n",
      "?kcowrebbaJ eht nials uoht tsah dnA\"\n",
      "\n",
      ".kcab gnihpmulag tnew eH\n",
      "daeh sti htiw dna ,daed ti tfel eH\n",
      "!kcans-rekcins tnew edalb laprov ehT\n",
      "hguorht dna hguorht dnA !owt enO !owt enO\n",
      "\n",
      "!emac ti sa delbrub dnA\n",
      ",doow yeglut eht hguorht gnilffihw emaC\n",
      ",emalf fo seye htiw ,kcowrebbaJ ehT\n",
      ",doots eh thguoht hsiffu ni sa dnA\n",
      "\n",
      ".thguoht ni elihwa doots dnA\n",
      ",eert mutmuT eht yb eh detser oS\n",
      "”€âthguos eh eof emoxnam eht emit gnoL\n",
      ":dnah ni drows laprov sih koot eH\n",
      "\n",
      "\"!hctansrednaB suoimurf ehT\n",
      "nuhs dna ,drib bujbuJ eht eraweB\n",
      "!hctac taht swalc eht ,etib taht swaj ehT\n",
      "!nos ym ,kcowrebbaJ eht eraweB\"\n",
      "\n",
      ".ebargtuo shtar emom eht dnA\n",
      ",sevogorob eht erew ysmim llA\n",
      ";ebaw eht ni elbmig dna eryg diD\n",
      "sevot yhtils eht dna ,gillirb sawT'"
     ]
    }
   ],
   "source": [
    "## reversing \n",
    "for char in reversed(text):\n",
    "    print(char, end=\"\")"
   ]
  },
  {
   "cell_type": "markdown",
   "metadata": {},
   "source": [
    "**readline**"
   ]
  },
  {
   "cell_type": "code",
   "execution_count": 13,
   "metadata": {},
   "outputs": [
    {
     "name": "stdout",
     "output_type": "stream",
     "text": [
      "'Twas brillig, and the slithy toves\n",
      "Did gyre and gimble in the wabe;\n",
      "All mimsy were the borogoves,\n",
      "And the mome raths outgrabe.\n",
      "\n",
      "\"Beware the Jabberwock, my son!\n",
      "The jaws that bite, the claws that catch!\n",
      "Beware the Jubjub bird, and shun\n"
     ]
    }
   ],
   "source": [
    "with open(\"Jabberwocky.txt\") as jabber:\n",
    "    \n",
    "    while True:\n",
    "        ## define the line using the readline method and rstrip\n",
    "        line = jabber.readline().rstrip()\n",
    "        print(line)\n",
    "        ## if the selected element is present in the line that read.\n",
    "        ## it will exit the loop.\n",
    "        if \"jubjub\" in line.casefold():\n",
    "            break"
   ]
  },
  {
   "cell_type": "code",
   "execution_count": 14,
   "metadata": {},
   "outputs": [
    {
     "name": "stdout",
     "output_type": "stream",
     "text": [
      "'Twas brillig, and the slithy toves\n",
      "Did gyre and gimble in the wabe;\n",
      "All mimsy were the borogoves,\n",
      "And the mome raths outgrabe.\n"
     ]
    }
   ],
   "source": [
    "with open(\"Jabberwocky.txt\") as jabber:\n",
    "    \n",
    "    while True:\n",
    "        ## define the line using the readline method and rstrip\n",
    "        line = jabber.readline().rstrip()\n",
    "        print(line)\n",
    "        ## if the selected element is present in the line that read.\n",
    "        ## it will exit the loop.\n",
    "        if \"raths\" in line.casefold():\n",
    "            break"
   ]
  },
  {
   "cell_type": "code",
   "execution_count": null,
   "metadata": {},
   "outputs": [],
   "source": [
    "## this can be done\n",
    "\n",
    "with open(\"Jabberwocky.txt\") as jabber:\n",
    "    for line in jabber:\n",
    "        print(line.rstrip())\n",
    "        \n",
    "        if \"jubjub\""
   ]
  }
 ],
 "metadata": {
  "kernelspec": {
   "display_name": "Python 3",
   "language": "python",
   "name": "python3"
  },
  "language_info": {
   "codemirror_mode": {
    "name": "ipython",
    "version": 3
   },
   "file_extension": ".py",
   "mimetype": "text/x-python",
   "name": "python",
   "nbconvert_exporter": "python",
   "pygments_lexer": "ipython3",
   "version": "3.8.3"
  }
 },
 "nbformat": 4,
 "nbformat_minor": 4
}
