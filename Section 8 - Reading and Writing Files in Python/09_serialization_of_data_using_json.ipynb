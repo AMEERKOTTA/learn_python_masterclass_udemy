{
 "cells": [
  {
   "cell_type": "markdown",
   "metadata": {},
   "source": [
    "### SERIALIZATION OF DATA USING JSON\n",
    "\n",
    "**SERIALIZATION**\n",
    "\n",
    "+ Converting a data object into a format that allows us to store or transmit the data\n",
    "+ and then recreate the object when needed using the reverse process of deserialization.\n",
    "\n",
    "**WHAT IS JSON**\n",
    "\n",
    "+ json is an open standard format for saving and interchanging data.\n",
    "+ json is human readable, as numbers and other objects are serialized to plain text.\n",
    "+ Applications can include json parser, that takes the json text, and parses into a format that the application can use.\n",
    "\n",
    "+ Python includes a json module."
   ]
  },
  {
   "cell_type": "code",
   "execution_count": 1,
   "metadata": {},
   "outputs": [],
   "source": [
    "import json\n",
    "\n",
    "languages = [\n",
    "    ['ABC', 1987],\n",
    "    ['Algol 68', 1968],\n",
    "    ['APL', 1962],\n",
    "    ['C', 1973],\n",
    "    ['Haskell', 1990],\n",
    "    ['Lisp', 1958],\n",
    "    ['Modula-2', 1977],\n",
    "    ['Perl', 1987],\n",
    "]\n",
    "\n"
   ]
  },
  {
   "cell_type": "code",
   "execution_count": 3,
   "metadata": {},
   "outputs": [
    {
     "data": {
      "text/plain": [
       "list"
      ]
     },
     "execution_count": 3,
     "metadata": {},
     "output_type": "execute_result"
    }
   ],
   "source": [
    "type(languages)"
   ]
  },
  {
   "cell_type": "code",
   "execution_count": 4,
   "metadata": {},
   "outputs": [],
   "source": [
    "filename = \"testjson.json\"\n",
    "with open(filename, \"w\", encoding = \"utf-8\") as testfile:\n",
    "    json.dump(languages, testfile)"
   ]
  },
  {
   "cell_type": "code",
   "execution_count": 7,
   "metadata": {},
   "outputs": [
    {
     "name": "stdout",
     "output_type": "stream",
     "text": [
      "[['ABC', 1987], ['Algol 68', 1968], ['APL', 1962], ['C', 1973], ['Haskell', 1990], ['Lisp', 1958], ['Modula-2', 1977], ['Perl', 1987]]\n",
      "['APL', 1962]\n",
      "1962\n"
     ]
    }
   ],
   "source": [
    "## reading the same json file.\n",
    "filename = \"testjson.json\"\n",
    "with open(filename, \"r\", encoding = \"utf-8\") as testfile:\n",
    "    data = json.load(testfile)\n",
    "    \n",
    "print(data)\n",
    "print(data[2])\n",
    "print(data[2][1])"
   ]
  },
  {
   "cell_type": "markdown",
   "metadata": {},
   "source": [
    "### LIMITATIONS OF JSON"
   ]
  },
  {
   "cell_type": "code",
   "execution_count": 8,
   "metadata": {},
   "outputs": [],
   "source": [
    "import json\n",
    "\n",
    "languages = [\n",
    "    ('ABC', 1987),\n",
    "    ('Algol 68', 1968),\n",
    "    ('APL', 1962),\n",
    "    ('C', 1973),\n",
    "    ('Haskell', 1990),\n",
    "    ('Lisp', 1958),\n",
    "    ('Modula-2', 1977),\n",
    "    ('Perl', 1987),\n",
    "]\n",
    "\n"
   ]
  },
  {
   "cell_type": "code",
   "execution_count": 9,
   "metadata": {},
   "outputs": [],
   "source": [
    "filename = \"testjson_1.json\"\n",
    "with open(filename, \"w\", encoding = \"utf-8\") as testfile:\n",
    "    json.dump(languages, testfile)"
   ]
  },
  {
   "cell_type": "markdown",
   "metadata": {},
   "source": [
    "**WHEN TO USE JSON**\n",
    "\n",
    "+ Use JSON when you want to store data, or transmit it, in a format that other systems can use.\n",
    "+ JSON is not suitable for storing your program's data, if you need to preserve the exact types.\n",
    "+ JSON can only be used to represent a limited number of data types.\n",
    "+ ie, we cannot manipulate data using tuples in json.\n",
    "\n",
    "\n",
    "**LIMITATIONS OF JSON**\n",
    "\n",
    "+ "
   ]
  }
 ],
 "metadata": {
  "kernelspec": {
   "display_name": "Python 3",
   "language": "python",
   "name": "python3"
  },
  "language_info": {
   "codemirror_mode": {
    "name": "ipython",
    "version": 3
   },
   "file_extension": ".py",
   "mimetype": "text/x-python",
   "name": "python",
   "nbconvert_exporter": "python",
   "pygments_lexer": "ipython3",
   "version": "3.8.3"
  }
 },
 "nbformat": 4,
 "nbformat_minor": 4
}
