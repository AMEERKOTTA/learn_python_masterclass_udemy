{
 "cells": [
  {
   "cell_type": "markdown",
   "metadata": {},
   "source": [
    "### CSV DICTREADER\n",
    "\n",
    "+ DictReader works like the reader, but produces row of Dictionaries.\n",
    "+ We can do all operations as same as reader, like, delimiter, dialect etc to DictReader.\n",
    "\n",
    "+ We will get Dictionary Instead of Lists, with key as Column name and Values as Values in the COlumns."
   ]
  },
  {
   "cell_type": "code",
   "execution_count": 4,
   "metadata": {},
   "outputs": [
    {
     "name": "stdout",
     "output_type": "stream",
     "text": [
      "{'Cereal': 'Barley', 'Calories': '556', 'Fat': '1.7', 'Protein': '32.9', 'Fibre': '10.1', 'Vitamin E': '13.8'}\n",
      "{'Cereal': 'Durum', 'Calories': '339', 'Fat': '5', 'Protein': '27.4', 'Fibre': '4.09', 'Vitamin E': '9.7'}\n",
      "{'Cereal': 'Fonio', 'Calories': '240', 'Fat': '1', 'Protein': '4', 'Fibre': '1.7', 'Vitamin E': '0.05'}\n",
      "{'Cereal': 'Maize', 'Calories': '442', 'Fat': '7.4', 'Protein': '37.45', 'Fibre': '6.15', 'Vitamin E': '11.03'}\n",
      "{'Cereal': 'Millet', 'Calories': '484', 'Fat': '2', 'Protein': '37.9', 'Fibre': '13.4', 'Vitamin E': '9.15'}\n",
      "{'Cereal': 'Oats', 'Calories': '231', 'Fat': '9.2', 'Protein': '35.1', 'Fibre': '10.3', 'Vitamin E': '3.73'}\n",
      "{'Cereal': 'Rice (Brown)', 'Calories': '346', 'Fat': '2.8', 'Protein': '38.1', 'Fibre': '9.9', 'Vitamin E': '0.8'}\n",
      "{'Cereal': 'Rice (White)', 'Calories': '345', 'Fat': '3.6', 'Protein': '37.6', 'Fibre': '5.4', 'Vitamin E': '0.1'}\n",
      "{'Cereal': 'Rye', 'Calories': '422', 'Fat': '2', 'Protein': '31.4', 'Fibre': '18.2', 'Vitamin E': '21.2'}\n",
      "{'Cereal': 'Sorghum', 'Calories': '316', 'Fat': '3', 'Protein': '37.8', 'Fibre': '9.92', 'Vitamin E': '9.15'}\n",
      "{'Cereal': 'Triticale', 'Calories': '338', 'Fat': '1.81', 'Protein': '36.6', 'Fibre': '19', 'Vitamin E': '0.9'}\n",
      "{'Cereal': 'Wheat', 'Calories': '407', 'Fat': '1.2', 'Protein': '27.8', 'Fibre': '12.9', 'Vitamin E': '13.8'}\n"
     ]
    }
   ],
   "source": [
    "import csv\n",
    "\n",
    "cereals_filename = \"cereal_grains.csv\"\n",
    "\n",
    "with open(cereals_filename, encoding = \"utf-8\", newline = \"\") as cereals_file:\n",
    "    \n",
    "    reader = csv.DictReader(cereals_file)   ## using DictReader\n",
    "    \n",
    "    for row in reader:\n",
    "        \n",
    "        print(row)"
   ]
  },
  {
   "cell_type": "markdown",
   "metadata": {},
   "source": [
    "**CHALLENGE**\n",
    "\n",
    "+ Modify the Code in country.py that reads the data to create the countries dictionary.\n",
    "+ Your new Code should use DictReader to read country_info.txt as a csv file.\n",
    "+ The key will be COuntry Names, and the Value will be values in the Dictionary."
   ]
  },
  {
   "cell_type": "code",
   "execution_count": 7,
   "metadata": {},
   "outputs": [
    {
     "name": "stdin",
     "output_type": "stream",
     "text": [
      "Please enter the name of a country:  Belgium\n"
     ]
    },
    {
     "name": "stdout",
     "output_type": "stream",
     "text": [
      "The capital of Belgium is Brussels\n"
     ]
    },
    {
     "name": "stdin",
     "output_type": "stream",
     "text": [
      "Please enter the name of a country:  belhium\n",
      "Please enter the name of a country:  belgium\n"
     ]
    },
    {
     "name": "stdout",
     "output_type": "stream",
     "text": [
      "The capital of belgium is Brussels\n"
     ]
    },
    {
     "name": "stdin",
     "output_type": "stream",
     "text": [
      "Please enter the name of a country:  be\n"
     ]
    },
    {
     "name": "stdout",
     "output_type": "stream",
     "text": [
      "The capital of be is Brussels\n"
     ]
    },
    {
     "name": "stdin",
     "output_type": "stream",
     "text": [
      "Please enter the name of a country:  india\n"
     ]
    },
    {
     "name": "stdout",
     "output_type": "stream",
     "text": [
      "The capital of india is New Delhi\n"
     ]
    },
    {
     "name": "stdin",
     "output_type": "stream",
     "text": [
      "Please enter the name of a country:  India\n"
     ]
    },
    {
     "name": "stdout",
     "output_type": "stream",
     "text": [
      "The capital of India is New Delhi\n"
     ]
    },
    {
     "name": "stdin",
     "output_type": "stream",
     "text": [
      "Please enter the name of a country:  in\n"
     ]
    },
    {
     "name": "stdout",
     "output_type": "stream",
     "text": [
      "The capital of in is New Delhi\n"
     ]
    },
    {
     "name": "stdin",
     "output_type": "stream",
     "text": [
      "Please enter the name of a country:  quit\n"
     ]
    }
   ],
   "source": [
    "import csv\n",
    "\n",
    "\n",
    "input_filename = 'country_info.txt'\n",
    "\n",
    "countries = {}\n",
    "with open(input_filename, encoding = \"utf-8\", newline = \"\") as country_file:\n",
    "    #country_file.readline()\n",
    "    dict_reader = csv.DictReader(country_file, delimiter = \"|\")\n",
    "    for row in dict_reader:\n",
    "#         data = row.strip('\\n').split('|')\n",
    "#         country, capital, code, code3, dialing, timezone, currency = data\n",
    "#         # print(country, capital, code, code3, dialing, timezone, currency, sep='\\n\\t')\n",
    "#         country_dict = {\n",
    "#             'name': country,\n",
    "#             'capital': capital,\n",
    "#             'country_code': code,\n",
    "#             'cc3': code3,\n",
    "#             'dialing_code': dialing,\n",
    "#             'timezone': timezone,\n",
    "#             'currency': currency,\n",
    "#         }\n",
    "#         # print(country_dict)\n",
    "#         countries[country.casefold()] = country_dict\n",
    "        countries[row[\"Country\"].casefold()] = row\n",
    "        countries[row[\"CC\"].casefold()] = row\n",
    "\n",
    "# print(countries)\n",
    "\n",
    "while True:\n",
    "    chosen_country = input('Please enter the name of a country: ')\n",
    "    country_key = chosen_country.casefold()\n",
    "    if country_key in countries:\n",
    "        country_data = countries[country_key]\n",
    "        print(f\"The capital of {chosen_country} is {country_data['Capital']}\")\n",
    "    elif chosen_country == 'quit':\n",
    "        break\n"
   ]
  },
  {
   "cell_type": "markdown",
   "metadata": {},
   "source": [
    "**FIELD NAMES WITH DICTREADER AND DICTWRITER**\n",
    "\n",
    "+ DictReader will Automatically reads the Column names in the CSV File.\n",
    "+ But What happens when there is no column names.\n",
    "+ We need to Provide Keys when using a DictWriter to create a CSV file.\n",
    "+ We can Pass list, containing the keys, to these Objects, in the filenames arguments."
   ]
  },
  {
   "cell_type": "markdown",
   "metadata": {},
   "source": [
    "How to Create Dialect Object"
   ]
  },
  {
   "cell_type": "code",
   "execution_count": 14,
   "metadata": {},
   "outputs": [],
   "source": [
    "import csv\n",
    "\n",
    "dialect = csv.excel\n",
    "dialect.delimiter = \"|\""
   ]
  },
  {
   "cell_type": "code",
   "execution_count": 13,
   "metadata": {},
   "outputs": [
    {
     "name": "stdin",
     "output_type": "stream",
     "text": [
      "Please enter the name of a country:  india\n"
     ]
    },
    {
     "name": "stdout",
     "output_type": "stream",
     "text": [
      "The capital of india is New Delhi\n"
     ]
    },
    {
     "name": "stdin",
     "output_type": "stream",
     "text": [
      "Please enter the name of a country:  IN\n"
     ]
    },
    {
     "name": "stdout",
     "output_type": "stream",
     "text": [
      "The capital of IN is New Delhi\n"
     ]
    },
    {
     "name": "stdin",
     "output_type": "stream",
     "text": [
      "Please enter the name of a country:  Sri Lanka\n"
     ]
    },
    {
     "name": "stdout",
     "output_type": "stream",
     "text": [
      "The capital of Sri Lanka is Sri Jayawardenapura Kotte\n"
     ]
    },
    {
     "name": "stdin",
     "output_type": "stream",
     "text": [
      "Please enter the name of a country:  Nepal\n"
     ]
    },
    {
     "name": "stdout",
     "output_type": "stream",
     "text": [
      "The capital of Nepal is Kathmandu\n"
     ]
    },
    {
     "name": "stdin",
     "output_type": "stream",
     "text": [
      "Please enter the name of a country:  quit\n"
     ]
    }
   ],
   "source": [
    "import csv\n",
    "\n",
    "dialect = csv.excel\n",
    "dialect.delimiter = \"|\"\n",
    "\n",
    "input_filename = 'country_info.txt'\n",
    "\n",
    "countries = {}\n",
    "with open(input_filename, encoding = \"utf-8\", newline = \"\") as country_file:\n",
    "    \n",
    "    ## get the column headings from the first line of file\n",
    "    headings = country_file.readline().strip(\"\\n\").split(dialect.delimiter)\n",
    "    for index, heading in enumerate(headings):\n",
    "        headings[index] = heading.casefold()\n",
    "    #country_file.readline()\n",
    "    dict_reader = csv.DictReader(country_file, dialect = dialect, fieldnames = headings)\n",
    "    for row in dict_reader:\n",
    "#         data = row.strip('\\n').split('|')\n",
    "#         country, capital, code, code3, dialing, timezone, currency = data\n",
    "#         # print(country, capital, code, code3, dialing, timezone, currency, sep='\\n\\t')\n",
    "#         country_dict = {\n",
    "#             'name': country,\n",
    "#             'capital': capital,\n",
    "#             'country_code': code,\n",
    "#             'cc3': code3,\n",
    "#             'dialing_code': dialing,\n",
    "#             'timezone': timezone,\n",
    "#             'currency': currency,\n",
    "#         }\n",
    "#         # print(country_dict)\n",
    "#         countries[country.casefold()] = country_dict\n",
    "        countries[row[\"country\"].casefold()] = row\n",
    "        countries[row[\"cc\"].casefold()] = row\n",
    "\n",
    "# print(countries)\n",
    "\n",
    "while True:\n",
    "    chosen_country = input('Please enter the name of a country: ')\n",
    "    country_key = chosen_country.casefold()\n",
    "    if country_key in countries:\n",
    "        country_data = countries[country_key]\n",
    "        print(f\"The capital of {chosen_country} is {country_data['capital']}\")\n",
    "    elif chosen_country == 'quit':\n",
    "        break\n"
   ]
  },
  {
   "cell_type": "markdown",
   "metadata": {},
   "source": [
    "**READING AND WRITING MULTIPLE FILES**"
   ]
  },
  {
   "cell_type": "code",
   "execution_count": 15,
   "metadata": {},
   "outputs": [],
   "source": [
    "import csv\n",
    "\n",
    "ordering = ['Country', 'Gold', 'Silver', 'Bronze', 'Rank']\n",
    "# Note the lack of 'Total' in `ordering`\n",
    "\n",
    "with open('OlympicMedals_2020.csv', encoding='utf-8', newline='') as data, open('medals_dict.py', 'w', encoding='utf-8') as output_file:\n",
    "    # Write the first part of the code (excluding the actual data)\n",
    "    print('import csv', file=output_file)\n",
    "    print(file=output_file)\n",
    "    print('medals_table = [', file=output_file)\n",
    "\n",
    "    reader = csv.DictReader(data)\n",
    "    # Read each row from the CSV file, as a dictionary,\n",
    "    # and produce a new dictionary containing the key/value\n",
    "    # pairs we want, in the order we want.\n",
    "    for row_dict in reader:\n",
    "        new_dict = {}\n",
    "        # Only print the values for the keys we want\n",
    "        # (in the order we want them).\n",
    "        for key in ordering:\n",
    "            value = row_dict[key]\n",
    "            if value.isnumeric():\n",
    "                value = int(value)\n",
    "            new_dict[key.casefold()] = value\n",
    "\n",
    "        # print the dictionary to the output file\n",
    "        # (indented by 4 spaces, with a trailing comma).\n",
    "        print(f'    {new_dict},', file=output_file)\n",
    "\n",
    "    # All the data rows have been written, print the terminating ]\n",
    "    print(']', file=output_file)\n",
    "    print(file=output_file)  # and finish with a blank line.\n",
    "\n"
   ]
  },
  {
   "cell_type": "markdown",
   "metadata": {},
   "source": [
    "**THE CSV DICTWRITER**"
   ]
  },
  {
   "cell_type": "code",
   "execution_count": 16,
   "metadata": {},
   "outputs": [],
   "source": [
    "import csv\n",
    "\n",
    "medals_table = [\n",
    "    {'country': 'United States', 'gold': 39, 'silver': 41, 'bronze': 33, 'rank': 1},\n",
    "    {'country': 'China', 'gold': 38, 'silver': 32, 'bronze': 18, 'rank': 2},\n",
    "    {'country': 'Japan', 'gold': 27, 'silver': 14, 'bronze': 17, 'rank': 3},\n",
    "    {'country': 'Great Britain', 'gold': 22, 'silver': 21, 'bronze': 22, 'rank': 4},\n",
    "    {'country': 'ROC', 'gold': 20, 'silver': 28, 'bronze': 23, 'rank': 5},\n",
    "    {'country': 'Australia', 'gold': 17, 'silver': 7, 'bronze': 22, 'rank': 6},\n",
    "    {'country': 'Netherlands', 'gold': 10, 'silver': 12, 'bronze': 14, 'rank': 7},\n",
    "    {'country': 'France', 'gold': 10, 'silver': 12, 'bronze': 11, 'rank': 8},\n",
    "    {'country': 'Germany', 'gold': 10, 'silver': 11, 'bronze': 16, 'rank': 9},\n",
    "    {'country': 'Italy', 'gold': 10, 'silver': 10, 'bronze': 20, 'rank': 10},\n",
    "    {'country': 'Canada', 'gold': 7, 'silver': 6, 'bronze': 11, 'rank': 11},\n",
    "    {'country': 'Brazil', 'gold': 7, 'silver': 6, 'bronze': 8, 'rank': 12},\n",
    "    {'country': 'New Zealand', 'gold': 7, 'silver': 6, 'bronze': 7, 'rank': 13},\n",
    "    {'country': 'Cuba', 'gold': 7, 'silver': 3, 'bronze': 5, 'rank': 14},\n",
    "    {'country': 'Hungary', 'gold': 6, 'silver': 7, 'bronze': 7, 'rank': 15},\n",
    "    {'country': 'South Korea', 'gold': 6, 'silver': 4, 'bronze': 10, 'rank': 16},\n",
    "    {'country': 'Poland', 'gold': 4, 'silver': 5, 'bronze': 5, 'rank': 17},\n",
    "    {'country': 'Czech Republic', 'gold': 4, 'silver': 4, 'bronze': 3, 'rank': 18},\n",
    "    {'country': 'Kenya', 'gold': 4, 'silver': 4, 'bronze': 2, 'rank': 19},\n",
    "    {'country': 'Norway', 'gold': 4, 'silver': 2, 'bronze': 2, 'rank': 20},\n",
    "    {'country': 'Jamaica', 'gold': 4, 'silver': 1, 'bronze': 4, 'rank': 21},\n",
    "    {'country': 'Spain', 'gold': 3, 'silver': 8, 'bronze': 6, 'rank': 22},\n",
    "    {'country': 'Sweden', 'gold': 3, 'silver': 6, 'bronze': 0, 'rank': 23},\n",
    "    {'country': 'Switzerland', 'gold': 3, 'silver': 4, 'bronze': 6, 'rank': 24},\n",
    "    {'country': 'Denmark', 'gold': 3, 'silver': 4, 'bronze': 4, 'rank': 25},\n",
    "    {'country': 'Croatia', 'gold': 3, 'silver': 3, 'bronze': 2, 'rank': 26},\n",
    "    {'country': 'Iran', 'gold': 3, 'silver': 2, 'bronze': 2, 'rank': 27},\n",
    "    {'country': 'Serbia', 'gold': 3, 'silver': 1, 'bronze': 5, 'rank': 28},\n",
    "    {'country': 'Belgium', 'gold': 3, 'silver': 1, 'bronze': 3, 'rank': 29},\n",
    "    {'country': 'Bulgaria', 'gold': 3, 'silver': 1, 'bronze': 2, 'rank': 30},\n",
    "    {'country': 'Slovenia', 'gold': 3, 'silver': 1, 'bronze': 1, 'rank': 31},\n",
    "    {'country': 'Uzbekistan', 'gold': 3, 'silver': 0, 'bronze': 2, 'rank': 32},\n",
    "    {'country': 'Georgia', 'gold': 2, 'silver': 5, 'bronze': 1, 'rank': 33},\n",
    "    {'country': 'Chinese Taipei', 'gold': 2, 'silver': 4, 'bronze': 6, 'rank': 34},\n",
    "    {'country': 'Turkey', 'gold': 2, 'silver': 2, 'bronze': 9, 'rank': 35},\n",
    "    {'country': 'Greece', 'gold': 2, 'silver': 1, 'bronze': 1, 'rank': 36},\n",
    "    {'country': 'Uganda', 'gold': 2, 'silver': 1, 'bronze': 1, 'rank': 36},\n",
    "    {'country': 'Ecuador', 'gold': 2, 'silver': 1, 'bronze': 0, 'rank': 38},\n",
    "    {'country': 'Ireland', 'gold': 2, 'silver': 0, 'bronze': 2, 'rank': 39},\n",
    "    {'country': 'Israel', 'gold': 2, 'silver': 0, 'bronze': 2, 'rank': 39},\n",
    "    {'country': 'Qatar', 'gold': 2, 'silver': 0, 'bronze': 1, 'rank': 41},\n",
    "    {'country': 'Bahamas', 'gold': 2, 'silver': 0, 'bronze': 0, 'rank': 42},\n",
    "    {'country': 'Kosovo', 'gold': 2, 'silver': 0, 'bronze': 0, 'rank': 42},\n",
    "    {'country': 'Ukraine', 'gold': 1, 'silver': 6, 'bronze': 12, 'rank': 44},\n",
    "    {'country': 'Belarus', 'gold': 1, 'silver': 3, 'bronze': 3, 'rank': 45},\n",
    "    {'country': 'Romania', 'gold': 1, 'silver': 3, 'bronze': 0, 'rank': 46},\n",
    "    {'country': 'Venezuela', 'gold': 1, 'silver': 3, 'bronze': 0, 'rank': 46},\n",
    "    {'country': 'India', 'gold': 1, 'silver': 2, 'bronze': 4, 'rank': 48},\n",
    "    {'country': 'Hong Kong', 'gold': 1, 'silver': 2, 'bronze': 3, 'rank': 49},\n",
    "    {'country': 'Philippines', 'gold': 1, 'silver': 2, 'bronze': 1, 'rank': 50},\n",
    "    {'country': 'Slovakia', 'gold': 1, 'silver': 2, 'bronze': 1, 'rank': 50},\n",
    "    {'country': 'South Africa', 'gold': 1, 'silver': 2, 'bronze': 0, 'rank': 52},\n",
    "    {'country': 'Austria', 'gold': 1, 'silver': 1, 'bronze': 5, 'rank': 53},\n",
    "    {'country': 'Egypt', 'gold': 1, 'silver': 1, 'bronze': 4, 'rank': 54},\n",
    "    {'country': 'Indonesia', 'gold': 1, 'silver': 1, 'bronze': 3, 'rank': 55},\n",
    "    {'country': 'Ethiopia', 'gold': 1, 'silver': 1, 'bronze': 2, 'rank': 56},\n",
    "    {'country': 'Portugal', 'gold': 1, 'silver': 1, 'bronze': 2, 'rank': 56},\n",
    "    {'country': 'Tunisia', 'gold': 1, 'silver': 1, 'bronze': 0, 'rank': 58},\n",
    "    {'country': 'Estonia', 'gold': 1, 'silver': 0, 'bronze': 1, 'rank': 59},\n",
    "    {'country': 'Fiji', 'gold': 1, 'silver': 0, 'bronze': 1, 'rank': 59},\n",
    "    {'country': 'Latvia', 'gold': 1, 'silver': 0, 'bronze': 1, 'rank': 59},\n",
    "    {'country': 'Thailand', 'gold': 1, 'silver': 0, 'bronze': 1, 'rank': 59},\n",
    "    {'country': 'Bermuda', 'gold': 1, 'silver': 0, 'bronze': 0, 'rank': 63},\n",
    "    {'country': 'Morocco', 'gold': 1, 'silver': 0, 'bronze': 0, 'rank': 63},\n",
    "    {'country': 'Puerto Rico', 'gold': 1, 'silver': 0, 'bronze': 0, 'rank': 63},\n",
    "    {'country': 'Colombia', 'gold': 0, 'silver': 4, 'bronze': 1, 'rank': 66},\n",
    "    {'country': 'Azerbaijan', 'gold': 0, 'silver': 3, 'bronze': 4, 'rank': 67},\n",
    "    {'country': 'Dominican Republic', 'gold': 0, 'silver': 3, 'bronze': 2, 'rank': 68},\n",
    "    {'country': 'Armenia', 'gold': 0, 'silver': 2, 'bronze': 2, 'rank': 69},\n",
    "    {'country': 'Kyrgyzstan', 'gold': 0, 'silver': 2, 'bronze': 1, 'rank': 70},\n",
    "    {'country': 'Mongolia', 'gold': 0, 'silver': 1, 'bronze': 3, 'rank': 71},\n",
    "    {'country': 'Argentina', 'gold': 0, 'silver': 1, 'bronze': 2, 'rank': 72},\n",
    "    {'country': 'San Marino', 'gold': 0, 'silver': 1, 'bronze': 2, 'rank': 72},\n",
    "    {'country': 'Jordan', 'gold': 0, 'silver': 1, 'bronze': 1, 'rank': 74},\n",
    "    {'country': 'Malaysia', 'gold': 0, 'silver': 1, 'bronze': 1, 'rank': 74},\n",
    "    {'country': 'Nigeria', 'gold': 0, 'silver': 1, 'bronze': 1, 'rank': 74},\n",
    "    {'country': 'Bahrain', 'gold': 0, 'silver': 1, 'bronze': 0, 'rank': 77},\n",
    "    {'country': 'Saudi Arabia', 'gold': 0, 'silver': 1, 'bronze': 0, 'rank': 77},\n",
    "    {'country': 'Lithuania', 'gold': 0, 'silver': 1, 'bronze': 0, 'rank': 77},\n",
    "    {'country': 'North Macedonia', 'gold': 0, 'silver': 1, 'bronze': 0, 'rank': 77},\n",
    "    {'country': 'Namibia', 'gold': 0, 'silver': 1, 'bronze': 0, 'rank': 77},\n",
    "    {'country': 'Turkmenistan', 'gold': 0, 'silver': 1, 'bronze': 0, 'rank': 77},\n",
    "    {'country': 'Kazakhstan', 'gold': 0, 'silver': 0, 'bronze': 8, 'rank': 83},\n",
    "    {'country': 'Mexico', 'gold': 0, 'silver': 0, 'bronze': 4, 'rank': 84},\n",
    "    {'country': 'Finland', 'gold': 0, 'silver': 0, 'bronze': 2, 'rank': 85},\n",
    "    {'country': 'Botswana', 'gold': 0, 'silver': 0, 'bronze': 1, 'rank': 86},\n",
    "    {'country': 'Burkina Faso', 'gold': 0, 'silver': 0, 'bronze': 1, 'rank': 86},\n",
    "    {'country': \"Côte d'Ivoire\", 'gold': 0, 'silver': 0, 'bronze': 1, 'rank': 86},\n",
    "    {'country': 'Ghana', 'gold': 0, 'silver': 0, 'bronze': 1, 'rank': 86},\n",
    "    {'country': 'Grenada', 'gold': 0, 'silver': 0, 'bronze': 1, 'rank': 86},\n",
    "    {'country': 'Kuwait', 'gold': 0, 'silver': 0, 'bronze': 1, 'rank': 86},\n",
    "    {'country': 'Moldova', 'gold': 0, 'silver': 0, 'bronze': 1, 'rank': 86},\n",
    "    {'country': 'Syria', 'gold': 0, 'silver': 0, 'bronze': 1, 'rank': 86},\n",
    "]\n",
    "\n"
   ]
  },
  {
   "cell_type": "code",
   "execution_count": 17,
   "metadata": {},
   "outputs": [],
   "source": [
    "columns = [\"country\",\"gold\",\"silver\",\"bronze\",\"rank\"]"
   ]
  },
  {
   "cell_type": "code",
   "execution_count": 20,
   "metadata": {},
   "outputs": [],
   "source": [
    "filename = \"country_medals_1.csv\""
   ]
  },
  {
   "cell_type": "code",
   "execution_count": 21,
   "metadata": {},
   "outputs": [],
   "source": [
    "with open(filename, \"w\", encoding = \"utf-8\", newline = \"\") as output_file:\n",
    "    \n",
    "    writer = csv.DictWriter(output_file, fieldnames=columns)\n",
    "    \n",
    "    writer.writeheader()\n",
    "    \n",
    "#     for row in medals_table:\n",
    "#         writer.writerow(row)\n",
    "\n",
    "    writer.writerows(medals_table)"
   ]
  },
  {
   "cell_type": "code",
   "execution_count": 22,
   "metadata": {},
   "outputs": [
    {
     "ename": "TypeError",
     "evalue": "'<' not supported between instances of 'dict' and 'dict'",
     "output_type": "error",
     "traceback": [
      "\u001b[1;31m---------------------------------------------------------------------------\u001b[0m",
      "\u001b[1;31mTypeError\u001b[0m                                 Traceback (most recent call last)",
      "\u001b[1;32m<ipython-input-22-fe7c40bf6d8d>\u001b[0m in \u001b[0;36m<module>\u001b[1;34m\u001b[0m\n\u001b[0;32m     11\u001b[0m \u001b[1;31m#         writer.writerow(row)\u001b[0m\u001b[1;33m\u001b[0m\u001b[1;33m\u001b[0m\u001b[1;33m\u001b[0m\u001b[0m\n\u001b[0;32m     12\u001b[0m \u001b[1;33m\u001b[0m\u001b[0m\n\u001b[1;32m---> 13\u001b[1;33m     \u001b[0mwriter\u001b[0m\u001b[1;33m.\u001b[0m\u001b[0mwriterows\u001b[0m\u001b[1;33m(\u001b[0m\u001b[0msorted\u001b[0m\u001b[1;33m(\u001b[0m\u001b[0mmedals_table\u001b[0m\u001b[1;33m)\u001b[0m\u001b[1;33m)\u001b[0m\u001b[1;33m\u001b[0m\u001b[1;33m\u001b[0m\u001b[0m\n\u001b[0m",
      "\u001b[1;31mTypeError\u001b[0m: '<' not supported between instances of 'dict' and 'dict'"
     ]
    }
   ],
   "source": [
    "## to get the country names in Alphabetical Order\n",
    "filename = \"country_medals_alphaorder.csv\"\n",
    "\n",
    "with open(filename, \"w\", encoding = \"utf-8\", newline = \"\") as output_file:\n",
    "    \n",
    "    writer = csv.DictWriter(output_file, fieldnames=columns)\n",
    "    \n",
    "    writer.writeheader()\n",
    "    \n",
    "#     for row in medals_table:\n",
    "#         writer.writerow(row)\n",
    "\n",
    "    writer.writerows(sorted(medals_table))"
   ]
  },
  {
   "cell_type": "code",
   "execution_count": 23,
   "metadata": {},
   "outputs": [],
   "source": [
    "## that is not working.\n",
    "## so create a function that will take dictionary and will return the country name as output."
   ]
  },
  {
   "cell_type": "code",
   "execution_count": 28,
   "metadata": {},
   "outputs": [],
   "source": [
    "def sort_key(dictionary : dict) -> str:\n",
    "    return dictionary[\"country\"]"
   ]
  },
  {
   "cell_type": "code",
   "execution_count": 27,
   "metadata": {},
   "outputs": [
    {
     "ename": "TypeError",
     "evalue": "list indices must be integers or slices, not str",
     "output_type": "error",
     "traceback": [
      "\u001b[1;31m---------------------------------------------------------------------------\u001b[0m",
      "\u001b[1;31mTypeError\u001b[0m                                 Traceback (most recent call last)",
      "\u001b[1;32m<ipython-input-27-cc51aff8bd0c>\u001b[0m in \u001b[0;36m<module>\u001b[1;34m\u001b[0m\n\u001b[1;32m----> 1\u001b[1;33m \u001b[0msort_key\u001b[0m\u001b[1;33m(\u001b[0m\u001b[0mmedals_table\u001b[0m\u001b[1;33m)\u001b[0m\u001b[1;33m\u001b[0m\u001b[1;33m\u001b[0m\u001b[0m\n\u001b[0m",
      "\u001b[1;32m<ipython-input-26-616c84367080>\u001b[0m in \u001b[0;36msort_key\u001b[1;34m(dictionary)\u001b[0m\n\u001b[0;32m      1\u001b[0m \u001b[1;32mdef\u001b[0m \u001b[0msort_key\u001b[0m\u001b[1;33m(\u001b[0m\u001b[0mdictionary\u001b[0m \u001b[1;33m:\u001b[0m \u001b[0mdict\u001b[0m\u001b[1;33m)\u001b[0m \u001b[1;33m->\u001b[0m \u001b[0mstr\u001b[0m\u001b[1;33m:\u001b[0m\u001b[1;33m\u001b[0m\u001b[1;33m\u001b[0m\u001b[0m\n\u001b[1;32m----> 2\u001b[1;33m     \u001b[1;32mreturn\u001b[0m \u001b[0mdictionary\u001b[0m\u001b[1;33m[\u001b[0m\u001b[1;34m\"Country\"\u001b[0m\u001b[1;33m]\u001b[0m\u001b[1;33m\u001b[0m\u001b[1;33m\u001b[0m\u001b[0m\n\u001b[0m",
      "\u001b[1;31mTypeError\u001b[0m: list indices must be integers or slices, not str"
     ]
    }
   ],
   "source": [
    "sort_key(medals_table)"
   ]
  },
  {
   "cell_type": "code",
   "execution_count": 30,
   "metadata": {},
   "outputs": [
    {
     "ename": "TypeError",
     "evalue": "list indices must be integers or slices, not str",
     "output_type": "error",
     "traceback": [
      "\u001b[1;31m---------------------------------------------------------------------------\u001b[0m",
      "\u001b[1;31mTypeError\u001b[0m                                 Traceback (most recent call last)",
      "\u001b[1;32m<ipython-input-30-cdc834fdd073>\u001b[0m in \u001b[0;36m<module>\u001b[1;34m\u001b[0m\n\u001b[0;32m     11\u001b[0m \u001b[1;31m#         writer.writerow(row)\u001b[0m\u001b[1;33m\u001b[0m\u001b[1;33m\u001b[0m\u001b[1;33m\u001b[0m\u001b[0m\n\u001b[0;32m     12\u001b[0m \u001b[1;33m\u001b[0m\u001b[0m\n\u001b[1;32m---> 13\u001b[1;33m     \u001b[0mwriter\u001b[0m\u001b[1;33m.\u001b[0m\u001b[0mwriterows\u001b[0m\u001b[1;33m(\u001b[0m\u001b[0msorted\u001b[0m\u001b[1;33m(\u001b[0m\u001b[0mmedals_table\u001b[0m\u001b[1;33m,\u001b[0m \u001b[0mkey\u001b[0m \u001b[1;33m=\u001b[0m \u001b[0msort_key\u001b[0m\u001b[1;33m(\u001b[0m\u001b[0mmedals_table\u001b[0m\u001b[1;33m)\u001b[0m\u001b[1;33m)\u001b[0m\u001b[1;33m)\u001b[0m\u001b[1;33m\u001b[0m\u001b[1;33m\u001b[0m\u001b[0m\n\u001b[0m",
      "\u001b[1;32m<ipython-input-28-99ab477449f5>\u001b[0m in \u001b[0;36msort_key\u001b[1;34m(dictionary)\u001b[0m\n\u001b[0;32m      1\u001b[0m \u001b[1;32mdef\u001b[0m \u001b[0msort_key\u001b[0m\u001b[1;33m(\u001b[0m\u001b[0mdictionary\u001b[0m \u001b[1;33m:\u001b[0m \u001b[0mdict\u001b[0m\u001b[1;33m)\u001b[0m \u001b[1;33m->\u001b[0m \u001b[0mstr\u001b[0m\u001b[1;33m:\u001b[0m\u001b[1;33m\u001b[0m\u001b[1;33m\u001b[0m\u001b[0m\n\u001b[1;32m----> 2\u001b[1;33m     \u001b[1;32mreturn\u001b[0m \u001b[0mdictionary\u001b[0m\u001b[1;33m[\u001b[0m\u001b[1;34m\"country\"\u001b[0m\u001b[1;33m]\u001b[0m\u001b[1;33m\u001b[0m\u001b[1;33m\u001b[0m\u001b[0m\n\u001b[0m",
      "\u001b[1;31mTypeError\u001b[0m: list indices must be integers or slices, not str"
     ]
    }
   ],
   "source": [
    "## to get the country names in Alphabetical Order\n",
    "filename = \"country_medals_alphaorder.csv\"\n",
    "\n",
    "with open(filename, \"w\", encoding = \"utf-8\", newline = \"\") as output_file:\n",
    "    \n",
    "    writer = csv.DictWriter(output_file, fieldnames=columns)\n",
    "    \n",
    "    writer.writeheader()\n",
    "    \n",
    "#     for row in medals_table:\n",
    "#         writer.writerow(row)\n",
    "\n",
    "    writer.writerows(sorted(medals_table, key = sort_key(medals_table)))"
   ]
  },
  {
   "cell_type": "code",
   "execution_count": null,
   "metadata": {},
   "outputs": [],
   "source": []
  }
 ],
 "metadata": {
  "kernelspec": {
   "display_name": "Python 3",
   "language": "python",
   "name": "python3"
  },
  "language_info": {
   "codemirror_mode": {
    "name": "ipython",
    "version": 3
   },
   "file_extension": ".py",
   "mimetype": "text/x-python",
   "name": "python",
   "nbconvert_exporter": "python",
   "pygments_lexer": "ipython3",
   "version": "3.8.3"
  }
 },
 "nbformat": 4,
 "nbformat_minor": 4
}
