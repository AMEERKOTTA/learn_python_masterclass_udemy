{
 "cells": [
  {
   "cell_type": "markdown",
   "metadata": {},
   "source": [
    "### **TKINTER CHALLENGE**"
   ]
  },
  {
   "cell_type": "code",
   "execution_count": 11,
   "metadata": {},
   "outputs": [],
   "source": [
    "# Write a GUI program to create a simple calculator\n",
    "# layout that looks like the screenshot.\n",
    "#\n",
    "# Try to be as Pythonic as possible - it's ok if you\n",
    "# end up writing repeated Button and Grid statements,\n",
    "# but consider using lists and a for loop.\n",
    "#\n",
    "# There is no need to store the buttons in variables.\n",
    "#\n",
    "# As an optional extra, refer to the documentation to\n",
    "# work out how to use minsize() to prevent your window\n",
    "# from being shrunk so that the widgets vanish from view.\n",
    "#\n",
    "# Hint: You may want to use the widgets .winfo_height() and\n",
    "# winfo_width() methods, in which case you should know that\n",
    "# they will not return the correct results unless the window\n",
    "# has been forced to draw the widgets by calling its .update()\n",
    "# method first.\n",
    "#\n",
    "# If you are using Windows you will probably find that the\n",
    "# width is already constrained and can't be resized too small.\n",
    "# The height will still need to be constrained, though.\n",
    "\n",
    "try:\n",
    "    import tkinter\n",
    "except ImportError: # python 2\n",
    "    import Tkinter as tkinter\n",
    "\n",
    "keys = [[('C', 1), ('CE', 1)],\n",
    "        [('7', 1), ('8', 1), ('9', 1), ('+', 1)],\n",
    "        [('4', 1), ('5', 1), ('6', 1), ('-', 1)],\n",
    "        [('1', 1), ('2', 1), ('3', 1), ('*', 1)],\n",
    "        [('0', 1), ('=', 1), ('/', 1)],\n",
    "        ]\n",
    "\n",
    "mainWindowPadding = 8\n",
    "\n",
    "mainWindow = tkinter.Tk()\n",
    "mainWindow.title(\"Calculator\")\n",
    "mainWindow.geometry('640x480-8-200')\n",
    "mainWindow['padx'] = mainWindowPadding\n",
    "\n",
    "result = tkinter.Entry(mainWindow)\n",
    "result.grid(row=0, column=0, sticky='nsew')\n",
    "\n",
    "keyPad = tkinter.Frame(mainWindow)\n",
    "keyPad.grid(row=1, column=0, sticky='nsew')\n",
    "\n",
    "row = 0\n",
    "for keyRow in keys:\n",
    "    col = 0\n",
    "    for key in keyRow:\n",
    "        tkinter.Button(keyPad, text=key[0]).grid(row=row, column=col, columnspan=key[1], sticky=tkinter.E + tkinter.W)\n",
    "        col += key[1]\n",
    "    row += 1\n",
    "\n",
    "mainWindow.update()\n",
    "mainWindow.minsize(keyPad.winfo_width() + mainWindowPadding, result.winfo_height() + keyPad.winfo_height())\n",
    "mainWindow.maxsize(keyPad.winfo_width() + mainWindowPadding, result.winfo_height() + keyPad.winfo_height())\n",
    "\n",
    "mainWindow.mainloop()\n"
   ]
  },
  {
   "cell_type": "code",
   "execution_count": null,
   "metadata": {},
   "outputs": [],
   "source": []
  }
 ],
 "metadata": {
  "kernelspec": {
   "display_name": "Python 3",
   "language": "python",
   "name": "python3"
  },
  "language_info": {
   "codemirror_mode": {
    "name": "ipython",
    "version": 3
   },
   "file_extension": ".py",
   "mimetype": "text/x-python",
   "name": "python",
   "nbconvert_exporter": "python",
   "pygments_lexer": "ipython3",
   "version": "3.8.3"
  }
 },
 "nbformat": 4,
 "nbformat_minor": 4
}
