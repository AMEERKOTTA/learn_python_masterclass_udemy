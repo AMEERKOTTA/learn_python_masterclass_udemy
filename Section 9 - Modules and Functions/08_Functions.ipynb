{
 "cells": [
  {
   "cell_type": "markdown",
   "metadata": {},
   "source": [
    "### **FUNCTIONS IN PYTHON**\n",
    "\n",
    "+ All functions should return something.\n",
    "\n",
    "+ If you don't specify anything.\n",
    "\n",
    "+ It will return None.\n",
    "\n",
    "+ **parameter** :- Variable Defined in the function definition.\n",
    "\n",
    "+ **arguments** :- Actual Value used when function is Called."
   ]
  },
  {
   "cell_type": "code",
   "execution_count": 1,
   "metadata": {},
   "outputs": [
    {
     "name": "stdout",
     "output_type": "stream",
     "text": [
      "Spam and Eggs\n"
     ]
    }
   ],
   "source": [
    "def python_food():\n",
    "    \n",
    "    print(\"Spam and Eggs\")\n",
    "    \n",
    "## call the function\n",
    "python_food()"
   ]
  },
  {
   "cell_type": "code",
   "execution_count": 2,
   "metadata": {},
   "outputs": [
    {
     "name": "stdout",
     "output_type": "stream",
     "text": [
      "                                  Spam and Eggs\n"
     ]
    }
   ],
   "source": [
    "def python_food():\n",
    "    \n",
    "    width = 80\n",
    "    text = \"Spam and Eggs\"\n",
    "    left_margin = (width - len(text)) // 2\n",
    "    print(\" \" * left_margin, text)\n",
    "    \n",
    "## call the function\n",
    "\n",
    "python_food()"
   ]
  },
  {
   "cell_type": "code",
   "execution_count": 3,
   "metadata": {},
   "outputs": [
    {
     "name": "stdout",
     "output_type": "stream",
     "text": [
      "                                   Ameer Kotta\n",
      "                               Shahul Hameed Kotta\n",
      "                            Ameer Shahul Hameed Kotta\n"
     ]
    }
   ],
   "source": [
    "def centered_text(text):\n",
    "    \n",
    "    left_margin = (80 - len(text)) // 2\n",
    "    print(\" \" * left_margin, text)\n",
    "    \n",
    "## call the function\n",
    "centered_text(\"Ameer Kotta\")\n",
    "centered_text(\"Shahul Hameed Kotta\")\n",
    "centered_text(\"Ameer Shahul Hameed Kotta\")"
   ]
  },
  {
   "cell_type": "code",
   "execution_count": 4,
   "metadata": {},
   "outputs": [
    {
     "ename": "TypeError",
     "evalue": "object of type 'int' has no len()",
     "output_type": "error",
     "traceback": [
      "\u001b[1;31m---------------------------------------------------------------------------\u001b[0m",
      "\u001b[1;31mTypeError\u001b[0m                                 Traceback (most recent call last)",
      "\u001b[1;32m<ipython-input-4-0dcdbf8efaa8>\u001b[0m in \u001b[0;36m<module>\u001b[1;34m\u001b[0m\n\u001b[1;32m----> 1\u001b[1;33m \u001b[0mcentered_text\u001b[0m\u001b[1;33m(\u001b[0m\u001b[1;36m123\u001b[0m\u001b[1;33m)\u001b[0m\u001b[1;33m\u001b[0m\u001b[1;33m\u001b[0m\u001b[0m\n\u001b[0m",
      "\u001b[1;32m<ipython-input-3-20b7701cf547>\u001b[0m in \u001b[0;36mcentered_text\u001b[1;34m(text)\u001b[0m\n\u001b[0;32m      1\u001b[0m \u001b[1;32mdef\u001b[0m \u001b[0mcentered_text\u001b[0m\u001b[1;33m(\u001b[0m\u001b[0mtext\u001b[0m\u001b[1;33m)\u001b[0m\u001b[1;33m:\u001b[0m\u001b[1;33m\u001b[0m\u001b[1;33m\u001b[0m\u001b[0m\n\u001b[0;32m      2\u001b[0m \u001b[1;33m\u001b[0m\u001b[0m\n\u001b[1;32m----> 3\u001b[1;33m     \u001b[0mleft_margin\u001b[0m \u001b[1;33m=\u001b[0m \u001b[1;33m(\u001b[0m\u001b[1;36m80\u001b[0m \u001b[1;33m-\u001b[0m \u001b[0mlen\u001b[0m\u001b[1;33m(\u001b[0m\u001b[0mtext\u001b[0m\u001b[1;33m)\u001b[0m\u001b[1;33m)\u001b[0m \u001b[1;33m//\u001b[0m \u001b[1;36m2\u001b[0m\u001b[1;33m\u001b[0m\u001b[1;33m\u001b[0m\u001b[0m\n\u001b[0m\u001b[0;32m      4\u001b[0m     \u001b[0mprint\u001b[0m\u001b[1;33m(\u001b[0m\u001b[1;34m\" \"\u001b[0m \u001b[1;33m*\u001b[0m \u001b[0mleft_margin\u001b[0m\u001b[1;33m,\u001b[0m \u001b[0mtext\u001b[0m\u001b[1;33m)\u001b[0m\u001b[1;33m\u001b[0m\u001b[1;33m\u001b[0m\u001b[0m\n\u001b[0;32m      5\u001b[0m \u001b[1;33m\u001b[0m\u001b[0m\n",
      "\u001b[1;31mTypeError\u001b[0m: object of type 'int' has no len()"
     ]
    }
   ],
   "source": [
    "centered_text(123)"
   ]
  },
  {
   "cell_type": "markdown",
   "metadata": {},
   "source": [
    "We will not get an output for this.\n",
    "\n",
    "+ Because int object has no len()"
   ]
  },
  {
   "cell_type": "code",
   "execution_count": 5,
   "metadata": {},
   "outputs": [
    {
     "name": "stdout",
     "output_type": "stream",
     "text": [
      "                                       123\n"
     ]
    }
   ],
   "source": [
    "def centered_text(text):\n",
    "    \n",
    "    text = str(text)\n",
    "    left_margin = (80 - len(text)) // 2\n",
    "    print(\" \" * left_margin, text)\n",
    "    \n",
    "centered_text(123)"
   ]
  },
  {
   "cell_type": "code",
   "execution_count": 7,
   "metadata": {},
   "outputs": [
    {
     "name": "stdout",
     "output_type": "stream",
     "text": [
      "                                   Ameer Kotta \n",
      "                               Shahul Hameed Kotta \n",
      "                            Ameer Shahul Hameed Kotta \n",
      "                            Ameer Shahul Hameed Kotta \n",
      "                                   1 2 3 4 567 \n"
     ]
    }
   ],
   "source": [
    "def centered_text(*args):\n",
    "    \n",
    "    text = \"\"\n",
    "    for arg in args:\n",
    "        text += str(arg) + \" \"\n",
    "        #print(text)\n",
    "    left_margin = (80 - len(text)) // 2\n",
    "    print(\" \" * left_margin, text)\n",
    "    \n",
    "centered_text(\"Ameer Kotta\")\n",
    "centered_text(\"Shahul Hameed Kotta\")\n",
    "centered_text(\"Ameer Shahul Hameed Kotta\")\n",
    "centered_text(\"Ameer\", \"Shahul\", \"Hameed\", \"Kotta\")\n",
    "centered_text(1,2,3,4,567)"
   ]
  },
  {
   "cell_type": "code",
   "execution_count": 8,
   "metadata": {},
   "outputs": [
    {
     "name": "stdout",
     "output_type": "stream",
     "text": [
      "                                   Ameer Kotta\n",
      "                               Shahul Hameed Kotta\n",
      "                            Ameer Shahul Hameed Kotta\n",
      "                              AmeerShahulHameedKotta\n"
     ]
    },
    {
     "ename": "TypeError",
     "evalue": "sequence item 0: expected str instance, int found",
     "output_type": "error",
     "traceback": [
      "\u001b[1;31m---------------------------------------------------------------------------\u001b[0m",
      "\u001b[1;31mTypeError\u001b[0m                                 Traceback (most recent call last)",
      "\u001b[1;32m<ipython-input-8-a32302c11092>\u001b[0m in \u001b[0;36m<module>\u001b[1;34m\u001b[0m\n\u001b[0;32m     14\u001b[0m \u001b[0mcentered_text\u001b[0m\u001b[1;33m(\u001b[0m\u001b[1;34m\"Ameer Shahul Hameed Kotta\"\u001b[0m\u001b[1;33m)\u001b[0m\u001b[1;33m\u001b[0m\u001b[1;33m\u001b[0m\u001b[0m\n\u001b[0;32m     15\u001b[0m \u001b[0mcentered_text\u001b[0m\u001b[1;33m(\u001b[0m\u001b[1;34m\"Ameer\"\u001b[0m\u001b[1;33m,\u001b[0m \u001b[1;34m\"Shahul\"\u001b[0m\u001b[1;33m,\u001b[0m \u001b[1;34m\"Hameed\"\u001b[0m\u001b[1;33m,\u001b[0m \u001b[1;34m\"Kotta\"\u001b[0m\u001b[1;33m)\u001b[0m\u001b[1;33m\u001b[0m\u001b[1;33m\u001b[0m\u001b[0m\n\u001b[1;32m---> 16\u001b[1;33m \u001b[0mcentered_text\u001b[0m\u001b[1;33m(\u001b[0m\u001b[1;36m1\u001b[0m\u001b[1;33m,\u001b[0m\u001b[1;36m2\u001b[0m\u001b[1;33m,\u001b[0m\u001b[1;36m3\u001b[0m\u001b[1;33m,\u001b[0m\u001b[1;36m4\u001b[0m\u001b[1;33m,\u001b[0m\u001b[1;36m567\u001b[0m\u001b[1;33m)\u001b[0m\u001b[1;33m\u001b[0m\u001b[1;33m\u001b[0m\u001b[0m\n\u001b[0m",
      "\u001b[1;32m<ipython-input-8-a32302c11092>\u001b[0m in \u001b[0;36mcentered_text\u001b[1;34m(*args)\u001b[0m\n\u001b[0;32m      1\u001b[0m \u001b[1;32mdef\u001b[0m \u001b[0mcentered_text\u001b[0m\u001b[1;33m(\u001b[0m\u001b[1;33m*\u001b[0m\u001b[0margs\u001b[0m\u001b[1;33m)\u001b[0m\u001b[1;33m:\u001b[0m\u001b[1;33m\u001b[0m\u001b[1;33m\u001b[0m\u001b[0m\n\u001b[0;32m      2\u001b[0m \u001b[1;33m\u001b[0m\u001b[0m\n\u001b[1;32m----> 3\u001b[1;33m     \u001b[0mtext\u001b[0m \u001b[1;33m=\u001b[0m \u001b[1;34m\"\"\u001b[0m\u001b[1;33m.\u001b[0m\u001b[0mjoin\u001b[0m\u001b[1;33m(\u001b[0m\u001b[0margs\u001b[0m\u001b[1;33m)\u001b[0m\u001b[1;33m\u001b[0m\u001b[1;33m\u001b[0m\u001b[0m\n\u001b[0m\u001b[0;32m      4\u001b[0m \u001b[1;33m\u001b[0m\u001b[0m\n\u001b[0;32m      5\u001b[0m     \u001b[1;31m#text = \"\"\u001b[0m\u001b[1;33m\u001b[0m\u001b[1;33m\u001b[0m\u001b[1;33m\u001b[0m\u001b[0m\n",
      "\u001b[1;31mTypeError\u001b[0m: sequence item 0: expected str instance, int found"
     ]
    }
   ],
   "source": [
    "def centered_text(*args):\n",
    "    \n",
    "    text = \"\".join(args)\n",
    "    \n",
    "    #text = \"\"\n",
    "    #for arg in args:\n",
    "        #text += str(arg) + \" \"\n",
    "        #print(text)\n",
    "    left_margin = (80 - len(text)) // 2\n",
    "    print(\" \" * left_margin, text)\n",
    "    \n",
    "centered_text(\"Ameer Kotta\")\n",
    "centered_text(\"Shahul Hameed Kotta\")\n",
    "centered_text(\"Ameer Shahul Hameed Kotta\")\n",
    "centered_text(\"Ameer\", \"Shahul\", \"Hameed\", \"Kotta\")\n",
    "centered_text(1,2,3,4,567)"
   ]
  },
  {
   "cell_type": "code",
   "execution_count": 11,
   "metadata": {},
   "outputs": [
    {
     "name": "stdout",
     "output_type": "stream",
     "text": [
      "                                 ('Ameer Kotta',)\n",
      "                             ('Shahul Hameed Kotta',)\n",
      "                          ('Ameer Shahul Hameed Kotta',)\n",
      "                      ('Ameer', 'Shahul', 'Hameed', 'Kotta')\n",
      "                                (1, 2, 3, 4, 567)\n"
     ]
    }
   ],
   "source": [
    "def centered_text(*args):\n",
    "    \n",
    "    text = \"\".join(str(args))\n",
    "    \n",
    "    #text = \"\"\n",
    "    #for arg in args:\n",
    "        #text += str(arg) + \" \"\n",
    "        #print(text)\n",
    "    left_margin = (80 - len(text)) // 2\n",
    "    print(\" \" * left_margin, text)\n",
    "    \n",
    "centered_text(\"Ameer Kotta\")\n",
    "centered_text(\"Shahul Hameed Kotta\")\n",
    "centered_text(\"Ameer Shahul Hameed Kotta\")\n",
    "centered_text(\"Ameer\", \"Shahul\", \"Hameed\", \"Kotta\")\n",
    "centered_text(1,2,3,4,567)"
   ]
  },
  {
   "cell_type": "code",
   "execution_count": 12,
   "metadata": {},
   "outputs": [
    {
     "name": "stdout",
     "output_type": "stream",
     "text": [
      "                              first:second:3:4:spam:\n"
     ]
    }
   ],
   "source": [
    "def centered_text(*args, sep = \" \", end = \"\\n\", file = None, flush = False):\n",
    "    \n",
    "    text = \"\"\n",
    "    for arg in args:\n",
    "        text += str(arg) + sep\n",
    "        #print(text)\n",
    "    left_margin = (80 - len(text)) // 2\n",
    "    print(\" \" * left_margin, text, end = end, flush=flush)\n",
    "    \n",
    "centered_text(\"first\",\"second\",3,4,\"spam\",sep=\":\")\n",
    "    "
   ]
  },
  {
   "cell_type": "code",
   "execution_count": 13,
   "metadata": {},
   "outputs": [
    {
     "name": "stdout",
     "output_type": "stream",
     "text": [
      "                              first:second:3:4:spam:\n"
     ]
    }
   ],
   "source": [
    "def centered_text(*args, sep = \" \", end = \"\\n\", file = None, flush = False):\n",
    "    \n",
    "    text = \"\"\n",
    "    for arg in args:\n",
    "        text += str(arg) + sep\n",
    "        #print(text)\n",
    "    left_margin = (80 - len(text)) // 2\n",
    "    print(\" \" * left_margin, text, end = end, flush=flush)\n",
    "    \n",
    "centered_text(\"first\",\"second\",3,4,\"spam\",sep=\":\", end = \"\\n\")\n",
    "    "
   ]
  },
  {
   "cell_type": "code",
   "execution_count": 18,
   "metadata": {},
   "outputs": [],
   "source": [
    "def centred_text(*args, sep = \" \", end = \"\\n\", file = None, flush = False):\n",
    "    \n",
    "    text = \" \"\n",
    "    for arg in args:\n",
    "        text += str(arg) + sep\n",
    "    left_margin = (80 - len(text)) // 2\n",
    "    print(\"\" * left_margin, text, end = end, file=file, flush=flush)\n",
    "    \n",
    "\n",
    "    \n",
    "with open(\"centred\", mode = \"w\") as centred_file:\n",
    "    \n",
    "    centred_text(\"Ameer\", \"Kotta\", file=centred_file)\n",
    "    centred_text(\"Ameer\", \"Kotta\",1,234,\"Hameed\", file=centred_file)\n",
    "    centred_text(\"Ameer\", \"Kotta\", file=centred_file)\n",
    "    centred_text(\"Ameer\", \"Kotta\", file=centred_file)\n",
    "    centred_text(\"Ameer\", \"Shahul\", file=centred_file)"
   ]
  },
  {
   "cell_type": "code",
   "execution_count": 19,
   "metadata": {},
   "outputs": [
    {
     "name": "stdout",
     "output_type": "stream",
     "text": [
      "                                   Ameer Kotta \n",
      "None\n",
      "                               Shahul Hameed Kotta \n",
      "None\n",
      "                            Ameer Shahul Hameed Kotta \n",
      "None\n",
      "                            Ameer Shahul Hameed Kotta \n",
      "None\n",
      "                                   1 2 3 4 567 \n",
      "None\n"
     ]
    }
   ],
   "source": [
    "print(centered_text(\"Ameer Kotta\"))\n",
    "print(centered_text(\"Shahul Hameed Kotta\"))\n",
    "print(centered_text(\"Ameer Shahul Hameed Kotta\"))\n",
    "print(centered_text(\"Ameer\", \"Shahul\", \"Hameed\", \"Kotta\"))\n",
    "print(centered_text(1,2,3,4,567))"
   ]
  },
  {
   "cell_type": "code",
   "execution_count": 23,
   "metadata": {},
   "outputs": [
    {
     "name": "stdout",
     "output_type": "stream",
     "text": [
      "                                  Ameer Kotta \n",
      "                              Shahul Hameed Kotta \n",
      "                           Ameer Shahul Hameed Kotta \n",
      "                           Ameer Shahul Hameed Kotta \n",
      "                                  1 2 3 4 567 \n"
     ]
    }
   ],
   "source": [
    "def centered_text(*args, sep = \" \", end = \"\\n\", file = None, flush = False):\n",
    "    \n",
    "    text = \"\"\n",
    "    for arg in args:\n",
    "        text += str(arg) + sep\n",
    "        #print(text)\n",
    "    left_margin = (80 - len(text)) // 2\n",
    "    return \" \" * left_margin + text\n",
    "\n",
    "s1 = centered_text(\"Ameer Kotta\")\n",
    "s2 = centered_text(\"Shahul Hameed Kotta\")\n",
    "s3 = centered_text(\"Ameer Shahul Hameed Kotta\")\n",
    "s4 = centered_text(\"Ameer\", \"Shahul\", \"Hameed\", \"Kotta\")\n",
    "s5 = centered_text(1,2,3,4,567)\n",
    "\n",
    "print(s1)\n",
    "print(s2)\n",
    "print(s3)\n",
    "print(s4)\n",
    "print(s5)"
   ]
  },
  {
   "cell_type": "code",
   "execution_count": null,
   "metadata": {},
   "outputs": [],
   "source": []
  }
 ],
 "metadata": {
  "kernelspec": {
   "display_name": "Python 3",
   "language": "python",
   "name": "python3"
  },
  "language_info": {
   "codemirror_mode": {
    "name": "ipython",
    "version": 3
   },
   "file_extension": ".py",
   "mimetype": "text/x-python",
   "name": "python",
   "nbconvert_exporter": "python",
   "pygments_lexer": "ipython3",
   "version": "3.8.3"
  }
 },
 "nbformat": 4,
 "nbformat_minor": 4
}
