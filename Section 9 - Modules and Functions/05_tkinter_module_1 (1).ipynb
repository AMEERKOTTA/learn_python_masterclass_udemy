{
 "cells": [
  {
   "cell_type": "markdown",
   "metadata": {},
   "source": [
    "### TKINTER MODULE IN PYTHON\n",
    "\n",
    "+ Used to Create GUI Programs."
   ]
  },
  {
   "cell_type": "code",
   "execution_count": 5,
   "metadata": {},
   "outputs": [
    {
     "name": "stdout",
     "output_type": "stream",
     "text": [
      "8.6\n",
      "8.6\n"
     ]
    }
   ],
   "source": [
    "import tkinter\n",
    "\n",
    "print(tkinter.TkVersion)\n",
    "print(tkinter.TclVersion)\n",
    "\n",
    "tkinter._test()"
   ]
  },
  {
   "cell_type": "code",
   "execution_count": 8,
   "metadata": {},
   "outputs": [
    {
     "name": "stdout",
     "output_type": "stream",
     "text": [
      "8.6\n",
      "8.6\n"
     ]
    }
   ],
   "source": [
    "## we can call tkinter module like this as well.\n",
    "\n",
    "try:\n",
    "    import tkinter\n",
    "except ImportError:\n",
    "    import Tkinter as tkinter\n",
    "    \n",
    "print(tkinter.TkVersion)\n",
    "print(tkinter.TclVersion)\n",
    "\n",
    "tkinter._test()"
   ]
  },
  {
   "cell_type": "code",
   "execution_count": 14,
   "metadata": {},
   "outputs": [],
   "source": [
    "mainWindow = tkinter.Tk()\n",
    "mainWindow.title(\"Hello World!...\")\n",
    "mainWindow.geometry(\"640x480+8+100\")\n",
    "mainWindow.mainloop()"
   ]
  },
  {
   "cell_type": "markdown",
   "metadata": {},
   "source": [
    "**PACK GEOMETRY MANAGER**"
   ]
  },
  {
   "cell_type": "code",
   "execution_count": 23,
   "metadata": {},
   "outputs": [],
   "source": [
    "import tkinter\n",
    "\n",
    "mainWindow = tkinter.Tk()\n",
    "mainWindow.title(\"Hello World!...\")\n",
    "mainWindow.geometry(\"640x480+8+100\")\n",
    "\n",
    "label = tkinter.Label(mainWindow, text = \"Hello World!...\")\n",
    "label.pack(side = \"top\")\n",
    "\n",
    "canvas = tkinter.Canvas(mainWindow, relief = \"raised\", borderwidth = 1)\n",
    "canvas.pack(side = \"bottom\")\n",
    "\n",
    "mainWindow.mainloop()"
   ]
  },
  {
   "cell_type": "code",
   "execution_count": 26,
   "metadata": {},
   "outputs": [],
   "source": [
    "import tkinter\n",
    "\n",
    "mainWindow = tkinter.Tk()\n",
    "mainWindow.title(\"Hello World!...\")\n",
    "mainWindow.geometry(\"640x480+8+100\")\n",
    "\n",
    "label = tkinter.Label(mainWindow, text = \"Hello World!...\")\n",
    "label.pack(side = \"top\")\n",
    "\n",
    "canvas = tkinter.Canvas(mainWindow, relief = \"raised\", borderwidth = 1)\n",
    "canvas.pack(side = \"bottom\", fill = tkinter.Y)\n",
    "\n",
    "mainWindow.mainloop()"
   ]
  },
  {
   "cell_type": "code",
   "execution_count": 27,
   "metadata": {},
   "outputs": [],
   "source": [
    "import tkinter\n",
    "\n",
    "mainWindow = tkinter.Tk()\n",
    "mainWindow.title(\"Hello World!...\")\n",
    "mainWindow.geometry(\"640x480+8+100\")\n",
    "\n",
    "label = tkinter.Label(mainWindow, text = \"Hello World!...\")\n",
    "label.pack(side = \"top\")\n",
    "\n",
    "canvas = tkinter.Canvas(mainWindow, relief = \"raised\", borderwidth = 1)\n",
    "canvas.pack(side = \"bottom\", fill = tkinter.X)\n",
    "\n",
    "mainWindow.mainloop()"
   ]
  },
  {
   "cell_type": "code",
   "execution_count": 28,
   "metadata": {},
   "outputs": [],
   "source": [
    "import tkinter\n",
    "\n",
    "mainWindow = tkinter.Tk()\n",
    "mainWindow.title(\"Hello World!...\")\n",
    "mainWindow.geometry(\"640x480+8+100\")\n",
    "\n",
    "label = tkinter.Label(mainWindow, text = \"Hello World!...\")\n",
    "label.pack(side = \"top\")\n",
    "\n",
    "canvas = tkinter.Canvas(mainWindow, relief = \"raised\", borderwidth = 1)\n",
    "canvas.pack(side = \"bottom\", fill = tkinter.Y, expand = True)\n",
    "\n",
    "mainWindow.mainloop()"
   ]
  },
  {
   "cell_type": "code",
   "execution_count": 29,
   "metadata": {},
   "outputs": [],
   "source": [
    "import tkinter\n",
    "\n",
    "mainWindow = tkinter.Tk()\n",
    "mainWindow.title(\"Hello World!...\")\n",
    "mainWindow.geometry(\"640x480+8+100\")\n",
    "\n",
    "label = tkinter.Label(mainWindow, text = \"Hello World!...\")\n",
    "label.pack(side = \"top\")\n",
    "\n",
    "canvas = tkinter.Canvas(mainWindow, relief = \"raised\", borderwidth = 1)\n",
    "canvas.pack(side = \"bottom\", fill = tkinter.X, expand = True)\n",
    "\n",
    "mainWindow.mainloop()"
   ]
  },
  {
   "cell_type": "code",
   "execution_count": 31,
   "metadata": {},
   "outputs": [],
   "source": [
    "import tkinter\n",
    "\n",
    "mainWindow = tkinter.Tk()\n",
    "mainWindow.title(\"Hello World!...\")\n",
    "mainWindow.geometry(\"640x480+8+100\")\n",
    "\n",
    "label = tkinter.Label(mainWindow, text = \"Hello World!...\")\n",
    "label.pack(side = \"top\")\n",
    "\n",
    "canvas = tkinter.Canvas(mainWindow, relief = \"raised\", borderwidth = 1)\n",
    "canvas.pack(side = \"bottom\", fill = tkinter.BOTH, expand = True)\n",
    "\n",
    "mainWindow.mainloop()"
   ]
  },
  {
   "cell_type": "markdown",
   "metadata": {},
   "source": [
    "Adding Buttons."
   ]
  },
  {
   "cell_type": "code",
   "execution_count": 36,
   "metadata": {},
   "outputs": [],
   "source": [
    "import tkinter\n",
    "\n",
    "mainWindow = tkinter.Tk()\n",
    "mainWindow.title(\"Hello World!...\")\n",
    "mainWindow.geometry(\"640x480+8+100\")\n",
    "\n",
    "label = tkinter.Label(mainWindow, text = \"Hello World!...\")\n",
    "label.pack(side = \"top\")\n",
    "\n",
    "canvas = tkinter.Canvas(mainWindow, relief = \"raised\", borderwidth = 1)\n",
    "canvas.pack(side = \"bottom\")\n",
    "\n",
    "button1 = tkinter.Button(mainWindow, text = \"Home\")\n",
    "button2 = tkinter.Button(mainWindow, text = \"Sign Up\")\n",
    "button3 = tkinter.Button(mainWindow, text = \"Log In\")\n",
    "button1.pack(side = \"left\")\n",
    "button2.pack(side = \"left\")\n",
    "button3.pack(side = \"left\")\n",
    "\n",
    "mainWindow.mainloop()"
   ]
  },
  {
   "cell_type": "code",
   "execution_count": 39,
   "metadata": {},
   "outputs": [],
   "source": [
    "## in different locations\n",
    "import tkinter\n",
    "\n",
    "mainWindow = tkinter.Tk()\n",
    "mainWindow.title(\"Hello World!...\")\n",
    "mainWindow.geometry(\"640x480+8+100\")\n",
    "\n",
    "label = tkinter.Label(mainWindow, text = \"Hello World!...\")\n",
    "label.pack(side = \"top\")\n",
    "\n",
    "leftFrame = tkinter.Frame(mainWindow)\n",
    "leftFrame.pack(side = \"left\", anchor = \"n\", fill = tkinter.Y, expand = False)\n",
    "\n",
    "canvas = tkinter.Canvas(mainWindow, relief = \"raised\", borderwidth = 1)\n",
    "canvas.pack(side = \"bottom\", anchor = \"n\")\n",
    "\n",
    "rightFrame = tkinter.Frame(mainWindow)\n",
    "rightFrame.pack(side = \"right\", anchor = \"n\", expand = True)\n",
    "\n",
    "\n",
    "button1 = tkinter.Button(rightFrame, text = \"Home\")\n",
    "button2 = tkinter.Button(rightFrame, text = \"Sign Up\")\n",
    "button3 = tkinter.Button(rightFrame, text = \"Log In\")\n",
    "button1.pack(side = \"left\")\n",
    "button2.pack(side = \"left\")\n",
    "button3.pack(side = \"left\")\n",
    "\n",
    "mainWindow.mainloop()"
   ]
  },
  {
   "cell_type": "markdown",
   "metadata": {},
   "source": [
    "**GRID GEOMETRY MANAGER**\n",
    "\n",
    "+ Using grid method instead of Pack method"
   ]
  },
  {
   "cell_type": "code",
   "execution_count": 43,
   "metadata": {},
   "outputs": [],
   "source": [
    "## in different locations\n",
    "import tkinter\n",
    "\n",
    "mainWindow = tkinter.Tk()\n",
    "mainWindow.title(\"Hello World!...\")\n",
    "mainWindow.geometry(\"640x480+8+200\")   ## changed to 200\n",
    "\n",
    "label = tkinter.Label(mainWindow, text = \"Hello World!...\")\n",
    "label.grid(row = 0, column = 0)  ## change the pack to grid, and do row and column.\n",
    "\n",
    "leftFrame = tkinter.Frame(mainWindow)\n",
    "leftFrame.grid(row = 1, column = 1)\n",
    "\n",
    "canvas = tkinter.Canvas(mainWindow, relief = \"raised\", borderwidth = 1)\n",
    "canvas.grid(row = 1, column = 1)\n",
    "\n",
    "rightFrame = tkinter.Frame(mainWindow)\n",
    "rightFrame.grid(row = 1, column = 1)\n",
    "\n",
    "\n",
    "button1 = tkinter.Button(rightFrame, text = \"Home\")\n",
    "button2 = tkinter.Button(rightFrame, text = \"Sign Up\")\n",
    "button3 = tkinter.Button(rightFrame, text = \"Log In\")\n",
    "button1.grid(row = 1, column = 0)\n",
    "button2.grid(row = 2, column = 0)\n",
    "button3.grid(row = 3, column = 0)\n",
    "\n",
    "mainWindow.mainloop()"
   ]
  },
  {
   "cell_type": "code",
   "execution_count": 44,
   "metadata": {},
   "outputs": [],
   "source": [
    "## in different locations\n",
    "import tkinter\n",
    "\n",
    "mainWindow = tkinter.Tk()\n",
    "mainWindow.title(\"Hello World!...\")\n",
    "mainWindow.geometry(\"640x480+8+200\")   ## changed to 200\n",
    "\n",
    "label = tkinter.Label(mainWindow, text = \"Hello World!...\")\n",
    "label.grid(row = 0, column = 0)  ## change the pack to grid, and do row and column.\n",
    "\n",
    "leftFrame = tkinter.Frame(mainWindow)\n",
    "leftFrame.grid(row = 1, column = 1)\n",
    "\n",
    "canvas = tkinter.Canvas(mainWindow, relief = \"raised\", borderwidth = 1)\n",
    "canvas.grid(row = 1, column = 1)\n",
    "\n",
    "rightFrame = tkinter.Frame(mainWindow)\n",
    "rightFrame.grid(row = 1, column = 1, sticky = \"n\")\n",
    "\n",
    "\n",
    "button1 = tkinter.Button(rightFrame, text = \"Home\")\n",
    "button2 = tkinter.Button(rightFrame, text = \"Sign Up\")\n",
    "button3 = tkinter.Button(rightFrame, text = \"Log In\")\n",
    "button1.grid(row = 1, column = 0)\n",
    "button2.grid(row = 2, column = 0)\n",
    "button3.grid(row = 3, column = 0)\n",
    "\n",
    "mainWindow.mainloop()"
   ]
  },
  {
   "cell_type": "code",
   "execution_count": 56,
   "metadata": {},
   "outputs": [],
   "source": [
    "## configure the columns\n",
    "\n",
    "## in different locations\n",
    "import tkinter\n",
    "\n",
    "mainWindow = tkinter.Tk()\n",
    "mainWindow.title(\"Hello World!...\")\n",
    "mainWindow.geometry(\"640x480+8+200\")   ## changed to 200\n",
    "\n",
    "label = tkinter.Label(mainWindow, text = \"Hello World!...\")\n",
    "label.grid(row = 0, column = 0)  ## change the pack to grid, and do row and column.\n",
    "\n",
    "leftFrame = tkinter.Frame(mainWindow)\n",
    "leftFrame.grid(row = 1, column = 1)\n",
    "\n",
    "canvas = tkinter.Canvas(mainWindow, relief = \"raised\", borderwidth = 1)\n",
    "canvas.grid(row = 1, column = 1)\n",
    "\n",
    "rightFrame = tkinter.Frame(mainWindow)\n",
    "rightFrame.grid(row = 1, column = 1, sticky = \"n\")\n",
    "\n",
    "\n",
    "button1 = tkinter.Button(rightFrame, text = \"Home\")\n",
    "button2 = tkinter.Button(rightFrame, text = \"Sign Up\")\n",
    "button3 = tkinter.Button(rightFrame, text = \"Log In\")\n",
    "button1.grid(row = 1, column = 0)\n",
    "button2.grid(row = 2, column = 0)\n",
    "button3.grid(row = 3, column = 0)\n",
    "\n",
    "mainWindow.columnconfigure(0, weight = 1)\n",
    "mainWindow.columnconfigure(1, weight = 1)\n",
    "mainWindow.grid_columnconfigure(2, weight = 1)\n",
    "\n",
    "\n",
    "mainWindow.mainloop()"
   ]
  },
  {
   "cell_type": "code",
   "execution_count": 57,
   "metadata": {},
   "outputs": [],
   "source": [
    "## configure the columns\n",
    "\n",
    "## in different locations\n",
    "import tkinter\n",
    "\n",
    "mainWindow = tkinter.Tk()\n",
    "mainWindow.title(\"Hello World!...\")\n",
    "mainWindow.geometry(\"640x480+8+200\")   ## changed to 200\n",
    "\n",
    "label = tkinter.Label(mainWindow, text = \"Hello World!...\")\n",
    "label.grid(row = 0, column = 0)  ## change the pack to grid, and do row and column.\n",
    "\n",
    "leftFrame = tkinter.Frame(mainWindow)\n",
    "leftFrame.grid(row = 1, column = 1)\n",
    "\n",
    "canvas = tkinter.Canvas(mainWindow, relief = \"raised\", borderwidth = 1)\n",
    "canvas.grid(row = 1, column = 1)\n",
    "\n",
    "rightFrame = tkinter.Frame(mainWindow)\n",
    "rightFrame.grid(row = 1, column = 1, sticky = \"n\")\n",
    "\n",
    "\n",
    "button1 = tkinter.Button(rightFrame, text = \"Home\")\n",
    "button2 = tkinter.Button(rightFrame, text = \"Sign Up\")\n",
    "button3 = tkinter.Button(rightFrame, text = \"Log In\")\n",
    "button1.grid(row = 1, column = 0)\n",
    "button2.grid(row = 2, column = 0)\n",
    "button3.grid(row = 3, column = 0)\n",
    "\n",
    "mainWindow.columnconfigure(0, weight = 1)\n",
    "mainWindow.columnconfigure(1, weight = 1)\n",
    "mainWindow.grid_columnconfigure(2, weight = 1)\n",
    "\n",
    "leftFrame.config(relief = \"sunken\", borderwidth = 1)\n",
    "rightFrame.config(relief = \"sunken\", borderwidth = 1)\n",
    "leftFrame.grid(sticky = \"ns\")\n",
    "rightFrame.grid(sticky = \"new\")\n",
    "\n",
    "rightFrame.columnconfigure(0, weight = 1)\n",
    "\n",
    "\n",
    "mainWindow.mainloop()"
   ]
  },
  {
   "cell_type": "code",
   "execution_count": null,
   "metadata": {},
   "outputs": [],
   "source": []
  }
 ],
 "metadata": {
  "kernelspec": {
   "display_name": "Python 3",
   "language": "python",
   "name": "python3"
  },
  "language_info": {
   "codemirror_mode": {
    "name": "ipython",
    "version": 3
   },
   "file_extension": ".py",
   "mimetype": "text/x-python",
   "name": "python",
   "nbconvert_exporter": "python",
   "pygments_lexer": "ipython3",
   "version": "3.8.3"
  }
 },
 "nbformat": 4,
 "nbformat_minor": 4
}
