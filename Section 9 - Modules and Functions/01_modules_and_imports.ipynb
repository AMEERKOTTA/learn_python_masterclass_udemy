{
 "cells": [
  {
   "cell_type": "markdown",
   "metadata": {},
   "source": [
    "### MODULES AND IMPORTS"
   ]
  },
  {
   "cell_type": "markdown",
   "metadata": {},
   "source": [
    "Importing Turtle Module.\n",
    "\n",
    "+ By Importing Turtle Module Like the first Cell of COde.\n",
    "+ Python will do the Drawing using Turtle Module.\n",
    "+ But we will not be able to see it.\n",
    "\n",
    "+ By implementing sleep method from time module.\n",
    "+ It will last for some given seconds in that Module.\n",
    "+ So import time module.\n",
    "+ And give sleep function some seconds."
   ]
  },
  {
   "cell_type": "code",
   "execution_count": 1,
   "metadata": {},
   "outputs": [],
   "source": [
    "import turtle\n",
    "\n",
    "turtle.forward(250)\n",
    "turtle.right(150)\n",
    "turtle.forward(250)"
   ]
  },
  {
   "cell_type": "code",
   "execution_count": 2,
   "metadata": {},
   "outputs": [],
   "source": [
    "import turtle\n",
    "import time\n",
    "\n",
    "turtle.forward(250)\n",
    "turtle.right(250)\n",
    "turtle.forward(250)\n",
    "turtle.left(250)\n",
    "\n",
    "time.sleep(10)"
   ]
  },
  {
   "cell_type": "code",
   "execution_count": 3,
   "metadata": {},
   "outputs": [],
   "source": [
    "import turtle\n",
    "\n",
    "turtle.forward(250)\n",
    "turtle.right(250)\n",
    "turtle.forward(250)\n",
    "\n",
    "turtle.done()"
   ]
  },
  {
   "cell_type": "code",
   "execution_count": 6,
   "metadata": {},
   "outputs": [],
   "source": [
    "from turtle import forward, right, done\n",
    "\n",
    "forward(100)\n",
    "right(100)\n",
    "forward(100)\n",
    "\n",
    "done()"
   ]
  },
  {
   "cell_type": "code",
   "execution_count": 11,
   "metadata": {},
   "outputs": [],
   "source": [
    "## drawing a circle using turtle.\n",
    "from turtle import forward, right, done\n",
    "import turtle\n",
    "\n",
    "forward(100)\n",
    "right(100)\n",
    "forward(100)\n",
    "turtle.circle(100)\n",
    "\n",
    "done()"
   ]
  },
  {
   "cell_type": "code",
   "execution_count": 21,
   "metadata": {},
   "outputs": [],
   "source": [
    "## import * is the way to import almost everything from turtle module.\n",
    "from turtle import *\n",
    "\n",
    "forward(100)\n",
    "right(100)\n",
    "circle(150)\n",
    "left(100)\n",
    "right(100)\n",
    "circle(100)\n",
    "\n",
    "done()"
   ]
  },
  {
   "cell_type": "code",
   "execution_count": 23,
   "metadata": {},
   "outputs": [],
   "source": [
    "from turtle import *\n",
    "\n",
    "forward(150)\n",
    "right(250)\n",
    "forward(150)\n",
    "circle(75)\n",
    "\n",
    "done()"
   ]
  },
  {
   "cell_type": "code",
   "execution_count": 27,
   "metadata": {},
   "outputs": [
    {
     "name": "stdout",
     "output_type": "stream",
     "text": [
      "<function mainloop at 0x000001BB60396E50>\n"
     ]
    }
   ],
   "source": [
    "done = \"Well Done!, you have finished your Drawing.....\"\n",
    "\n",
    "from turtle import *\n",
    "\n",
    "forward(150)\n",
    "right(250)\n",
    "forward(150)\n",
    "circle(75)\n",
    "\n",
    "done()\n",
    "\n",
    "print(done)"
   ]
  },
  {
   "cell_type": "code",
   "execution_count": 29,
   "metadata": {},
   "outputs": [
    {
     "ename": "TypeError",
     "evalue": "'str' object is not callable",
     "output_type": "error",
     "traceback": [
      "\u001b[1;31m---------------------------------------------------------------------------\u001b[0m",
      "\u001b[1;31mTypeError\u001b[0m                                 Traceback (most recent call last)",
      "\u001b[1;32m<ipython-input-29-30106c90a884>\u001b[0m in \u001b[0;36m<module>\u001b[1;34m\u001b[0m\n\u001b[0;32m     10\u001b[0m \u001b[0mcircle\u001b[0m\u001b[1;33m(\u001b[0m\u001b[1;36m75\u001b[0m\u001b[1;33m)\u001b[0m\u001b[1;33m\u001b[0m\u001b[1;33m\u001b[0m\u001b[0m\n\u001b[0;32m     11\u001b[0m \u001b[1;33m\u001b[0m\u001b[0m\n\u001b[1;32m---> 12\u001b[1;33m \u001b[0mdone\u001b[0m\u001b[1;33m(\u001b[0m\u001b[1;33m)\u001b[0m\u001b[1;33m\u001b[0m\u001b[1;33m\u001b[0m\u001b[0m\n\u001b[0m\u001b[0;32m     13\u001b[0m \u001b[1;33m\u001b[0m\u001b[0m\n\u001b[0;32m     14\u001b[0m \u001b[0mprint\u001b[0m\u001b[1;33m(\u001b[0m\u001b[0mdone\u001b[0m\u001b[1;33m)\u001b[0m\u001b[1;33m\u001b[0m\u001b[1;33m\u001b[0m\u001b[0m\n",
      "\u001b[1;31mTypeError\u001b[0m: 'str' object is not callable"
     ]
    }
   ],
   "source": [
    "from turtle import *\n",
    "\n",
    "done = \"Well Done!, you have finished your Drawing.....\"\n",
    "\n",
    "\n",
    "\n",
    "forward(150)\n",
    "right(250)\n",
    "forward(150)\n",
    "circle(75)\n",
    "\n",
    "done()\n",
    "\n",
    "print(done)"
   ]
  },
  {
   "cell_type": "markdown",
   "metadata": {},
   "source": [
    "When we import everything, the done method is trying to execute with the String"
   ]
  }
 ],
 "metadata": {
  "kernelspec": {
   "display_name": "Python 3",
   "language": "python",
   "name": "python3"
  },
  "language_info": {
   "codemirror_mode": {
    "name": "ipython",
    "version": 3
   },
   "file_extension": ".py",
   "mimetype": "text/x-python",
   "name": "python",
   "nbconvert_exporter": "python",
   "pygments_lexer": "ipython3",
   "version": "3.8.3"
  }
 },
 "nbformat": 4,
 "nbformat_minor": 4
}
