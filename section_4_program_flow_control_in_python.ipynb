{
 "cells": [
  {
   "cell_type": "code",
   "execution_count": 5,
   "metadata": {},
   "outputs": [
    {
     "name": "stdin",
     "output_type": "stream",
     "text": [
      "Please enter your Name: -- Ameer Kotta\n",
      "How old are you, Ameer Kotta 19\n"
     ]
    },
    {
     "name": "stdout",
     "output_type": "stream",
     "text": [
      "You are old enough to Vote\n",
      "Please put an X in the Box\n"
     ]
    }
   ],
   "source": [
    "name = input(\"Please enter your Name: --\")\n",
    "age = int(input(\"How old are you, {0}\".format(name)))\n",
    "if age >= 18:\n",
    "    print(\"You are old enough to Vote\")\n",
    "    print(\"Please put an X in the Box\")\n",
    "else:\n",
    "    print(\"Please Come back in {0} years\".format(18-age))"
   ]
  },
  {
   "cell_type": "code",
   "execution_count": 6,
   "metadata": {},
   "outputs": [
    {
     "name": "stdin",
     "output_type": "stream",
     "text": [
      "Please enter your Name: -- Ameer\n",
      "How old are you, Ameer 900\n"
     ]
    },
    {
     "name": "stdout",
     "output_type": "stream",
     "text": [
      "You are old enough to Vote\n",
      "Please put an X in the Box\n"
     ]
    }
   ],
   "source": [
    "name = input(\"Please enter your Name: --\")\n",
    "age = int(input(\"How old are you, {0}\".format(name)))\n",
    "if age >= 18:\n",
    "    print(\"You are old enough to Vote\")\n",
    "    print(\"Please put an X in the Box\")\n",
    "elif age == 900:\n",
    "    print(\"Sorry, You die in Return of the Jedi\")\n",
    "else:\n",
    "    print(\"Please Come back in {0} years\".format(18-age))"
   ]
  },
  {
   "cell_type": "code",
   "execution_count": 8,
   "metadata": {},
   "outputs": [
    {
     "name": "stdin",
     "output_type": "stream",
     "text": [
      "Enter your Price:-- 300\n"
     ]
    },
    {
     "name": "stdout",
     "output_type": "stream",
     "text": [
      "Price is Greater than 100\n"
     ]
    }
   ],
   "source": [
    "price = int(input(\"Enter your Price:--\"))\n",
    "if price < 100:\n",
    "    print(\"Price is less than 100\")\n",
    "else:\n",
    "    print(\"Price is Greater than 100\")"
   ]
  },
  {
   "cell_type": "code",
   "execution_count": 8,
   "metadata": {},
   "outputs": [
    {
     "name": "stdin",
     "output_type": "stream",
     "text": [
      "Enter your Price :-- 10\n",
      "Enter the number of Product you taken:-- 5\n"
     ]
    },
    {
     "name": "stdout",
     "output_type": "stream",
     "text": [
      "Total price is less than 500\n",
      "Price 10\n",
      "Quantity 5\n"
     ]
    }
   ],
   "source": [
    "price = int(input(\"Enter your Price :--\"))\n",
    "quantity = int(input(\"Enter the number of Product you taken:--\"))\n",
    "\n",
    "#price = 200\n",
    "#quantity = 12\n",
    "#total = price * quantity\n",
    "#print(total)\n",
    "\n",
    "if price * quantity<500:\n",
    "    print(\"Total price is less than 500\")\n",
    "    print(\"Price\",price)\n",
    "    print(\"Quantity\",quantity)\n",
    "else:\n",
    "    print(\"Total Price is greater than 500\")"
   ]
  },
  {
   "cell_type": "code",
   "execution_count": 11,
   "metadata": {},
   "outputs": [
    {
     "name": "stdin",
     "output_type": "stream",
     "text": [
      "Enter the Price :-- 100\n"
     ]
    },
    {
     "name": "stdout",
     "output_type": "stream",
     "text": [
      "Price is equal to 100\n"
     ]
    }
   ],
   "source": [
    "price = int(input(\"Enter the Price :--\"))\n",
    "\n",
    "if price > 100:\n",
    "    print(\"Price is greater than 100\")\n",
    "elif price == 100:\n",
    "    print(\"Price is equal to 100\")\n",
    "else:\n",
    "    print(\"Price is less than 100\")"
   ]
  },
  {
   "cell_type": "code",
   "execution_count": 14,
   "metadata": {},
   "outputs": [
    {
     "name": "stdin",
     "output_type": "stream",
     "text": [
      "Enter the price:-- 1\n",
      "Enter the Quantity:-- 1\n"
     ]
    },
    {
     "name": "stdout",
     "output_type": "stream",
     "text": [
      "Amount is less than 100\n"
     ]
    }
   ],
   "source": [
    "price = int(input(\"Enter the price:--\"))\n",
    "quantity = int(input(\"Enter the Quantity:--\"))\n",
    "amount = price * quantity\n",
    "\n",
    "if amount > 100:\n",
    "    if amount > 500:\n",
    "        print(\"Amount is greater than 500\")\n",
    "    else:\n",
    "        if amount < 500 and amount > 400:\n",
    "            print(\"Amount is between 400 and 500\")\n",
    "        elif amount <400 and amount > 300:\n",
    "            print(\"Amount is between 300 and 400\")\n",
    "        elif amount < 300 and amount > 200:\n",
    "            print(\"Amount is between 200 and 300\")\n",
    "        else:\n",
    "            print(\"The Amount is between 200 and 100\")\n",
    "            \n",
    "elif amount == 100:\n",
    "    print(\"Amount is 100\")\n",
    "    \n",
    "else:\n",
    "    print(\"Amount is less than 100\")"
   ]
  },
  {
   "cell_type": "code",
   "execution_count": 17,
   "metadata": {},
   "outputs": [
    {
     "name": "stdout",
     "output_type": "stream",
     "text": [
      "Please guess any number between 1 and 10: \n"
     ]
    },
    {
     "name": "stdin",
     "output_type": "stream",
     "text": [
      " 9\n"
     ]
    },
    {
     "name": "stdout",
     "output_type": "stream",
     "text": [
      "Please guess lower\n"
     ]
    }
   ],
   "source": [
    "## gussing game \n",
    "answer = 5\n",
    "\n",
    "print(\"Please guess any number between 1 and 10: \")\n",
    "\n",
    "guess = int(input())\n",
    "\n",
    "if guess < answer:\n",
    "    print(\"Please guess higher\")\n",
    "elif guess > answer:\n",
    "    print(\"Please guess lower\")\n",
    "else:\n",
    "    print(\"You got it first time\")"
   ]
  },
  {
   "cell_type": "code",
   "execution_count": 26,
   "metadata": {},
   "outputs": [
    {
     "name": "stdout",
     "output_type": "stream",
     "text": [
      "Please guess any number between 1 and 10: \n"
     ]
    },
    {
     "name": "stdin",
     "output_type": "stream",
     "text": [
      " 3\n"
     ]
    },
    {
     "name": "stdout",
     "output_type": "stream",
     "text": [
      "Please guess higher\n"
     ]
    },
    {
     "name": "stdin",
     "output_type": "stream",
     "text": [
      " 3\n"
     ]
    },
    {
     "name": "stdout",
     "output_type": "stream",
     "text": [
      "Sorry you did not guessed correctly\n"
     ]
    }
   ],
   "source": [
    "## gussing game \n",
    "answer = 5\n",
    "\n",
    "print(\"Please guess any number between 1 and 10: \")\n",
    "\n",
    "guess = int(input())\n",
    "\n",
    "if guess < answer:\n",
    "    print(\"Please guess higher\")\n",
    "    guess = int(input())\n",
    "    if guess == answer:\n",
    "        print(\"Well done, you guessed it\")\n",
    "    else:\n",
    "        print(\"Sorry you did not guessed correctly\")\n",
    "elif guess > answer:\n",
    "    print(\"Please guess lower\")\n",
    "    guess = int(input())\n",
    "    if guess == answer:\n",
    "        print(\"Well done, you guessed it\")\n",
    "    else:\n",
    "        print(\"Sorry you did not guesed correctly\")\n",
    "else:\n",
    "    print(\"You got it first time\")"
   ]
  },
  {
   "cell_type": "code",
   "execution_count": 39,
   "metadata": {},
   "outputs": [
    {
     "name": "stdout",
     "output_type": "stream",
     "text": [
      "Please guess a number between 1 and 10: \n"
     ]
    },
    {
     "name": "stdin",
     "output_type": "stream",
     "text": [
      " 5\n"
     ]
    },
    {
     "name": "stdout",
     "output_type": "stream",
     "text": [
      "You got it first time\n"
     ]
    }
   ],
   "source": [
    "answer = 5\n",
    "\n",
    "print(\"Please guess a number between 1 and 10: \")\n",
    "guess = int(input())\n",
    "#print(guess)\n",
    "\n",
    "if guess != answer:\n",
    "    if guess < answer:\n",
    "        print(\"Please guess higher values\")\n",
    "    else:\n",
    "        print(\"Please guess lower values\")\n",
    "    guess = int(input())\n",
    "    if guess == answer:\n",
    "        print(\"Well Done, You guessed it\")\n",
    "    else:\n",
    "        print(\"Sorry Your guess is incorrect\")\n",
    "else:\n",
    "    print(\"You got it first time\")"
   ]
  },
  {
   "cell_type": "code",
   "execution_count": 33,
   "metadata": {},
   "outputs": [
    {
     "name": "stdout",
     "output_type": "stream",
     "text": [
      "5\n"
     ]
    }
   ],
   "source": [
    "print(guess)"
   ]
  },
  {
   "cell_type": "code",
   "execution_count": 43,
   "metadata": {},
   "outputs": [
    {
     "name": "stdout",
     "output_type": "stream",
     "text": [
      "Please guess a number between 1 and 10: \n"
     ]
    },
    {
     "name": "stdin",
     "output_type": "stream",
     "text": [
      " 3\n"
     ]
    },
    {
     "name": "stdout",
     "output_type": "stream",
     "text": [
      "Please guess higher value\n"
     ]
    },
    {
     "name": "stdin",
     "output_type": "stream",
     "text": [
      " 5\n"
     ]
    },
    {
     "name": "stdout",
     "output_type": "stream",
     "text": [
      "Well Done you guessed it\n"
     ]
    }
   ],
   "source": [
    "answer = 5\n",
    "\n",
    "print(\"Please guess a number between 1 and 10: \")\n",
    "guess = int(input())\n",
    "\n",
    "if guess == answer:  ##if the guess == answer == 5\n",
    "    print(\"You got it first time\")\n",
    "else:\n",
    "    if guess < answer:\n",
    "        print(\"Please guess higher value\")\n",
    "    else:\n",
    "        print(\"Please guess lower value\")\n",
    "    guess = int(input())\n",
    "    if guess == answer:\n",
    "        print(\"Well Done you guessed it\")\n",
    "    else:\n",
    "        print(\"Sorry, you have not guessed it correctly\")"
   ]
  },
  {
   "cell_type": "code",
   "execution_count": 53,
   "metadata": {},
   "outputs": [
    {
     "name": "stdout",
     "output_type": "stream",
     "text": [
      "Please guess a number between 1 and 10: \n"
     ]
    },
    {
     "name": "stdin",
     "output_type": "stream",
     "text": [
      " 4\n"
     ]
    },
    {
     "name": "stdout",
     "output_type": "stream",
     "text": [
      "Your Guess is less than 5, Please guess a Higher Value\n"
     ]
    },
    {
     "name": "stdin",
     "output_type": "stream",
     "text": [
      " 5\n"
     ]
    },
    {
     "name": "stdout",
     "output_type": "stream",
     "text": [
      "Well Done, now you got it correctly\n"
     ]
    }
   ],
   "source": [
    "##Program\n",
    "\n",
    "answer = 5  ## this is the answer we need to guess\n",
    "print(\"Please guess a number between 1 and 10: \")\n",
    "guess = int(input())\n",
    "\n",
    "\n",
    "## when the guess is equal to the correct answer\n",
    "if guess == answer:    ## guess == answer = 5\n",
    "    print(\"You got it Correctly in the first time, You are Lucky\")\n",
    "    \n",
    "## when the guess is not correct\n",
    "## either it will be less than 5\n",
    "## or it will be greater than 5.\n",
    "\n",
    "## when less than 5\n",
    "else:\n",
    "    if guess < answer:  ## the guess is less than 5\n",
    "        print(\"Your Guess is less than 5, Please guess a Higher Value\")\n",
    "        \n",
    "        ###------------GUESSING AGAIN BLOCK-----------###\n",
    "        \n",
    "        guess = int(input())  ## guessing again\n",
    "        if guess == answer:  \n",
    "            print(\"Well Done, now you got it correctly\")\n",
    "        else:\n",
    "            print(\"Sorry Your guess is incorrect this time as well\")\n",
    "    else:               ## when the guess is greater than 5\n",
    "        print(\"Your guess is greater than 5, Please guess a Lower Value\")\n",
    "        \n",
    "        ###------------GUESSING AGAIN BLOCK-----------###\n",
    "        \n",
    "        guess = int(input())  ## guessing again\n",
    "        if guess == answer:\n",
    "            print(\"Well Done, now you got it correctly\")\n",
    "        else:\n",
    "            print(\"Sorry Your guess is incorrect this time as well\")\n",
    "        "
   ]
  },
  {
   "cell_type": "code",
   "execution_count": 59,
   "metadata": {},
   "outputs": [
    {
     "name": "stdout",
     "output_type": "stream",
     "text": [
      "Please guess a number between 1 and 10: \n"
     ]
    },
    {
     "name": "stdin",
     "output_type": "stream",
     "text": [
      " 9\n"
     ]
    },
    {
     "name": "stdout",
     "output_type": "stream",
     "text": [
      "Your guess is greater than 5, Please guess a Lower Value\n"
     ]
    },
    {
     "name": "stdin",
     "output_type": "stream",
     "text": [
      " 5\n"
     ]
    },
    {
     "name": "stdout",
     "output_type": "stream",
     "text": [
      "Well Done, now you got it correctly\n"
     ]
    }
   ],
   "source": [
    "##Program\n",
    "\n",
    "answer = 5  ## this is the answer we need to guess\n",
    "print(\"Please guess a number between 1 and 10: \")\n",
    "guess = int(input())\n",
    "\n",
    "\n",
    "## when the guess is equal to the correct answer\n",
    "if guess == answer:    ## guess == answer = 5\n",
    "    print(\"You got it Correctly in the first time, You are Lucky\")\n",
    "    \n",
    "## when the guess is not correct\n",
    "## either it will be less than 5\n",
    "## or it will be greater than 5.\n",
    "\n",
    "## when less than 5\n",
    "else:\n",
    "    if guess < answer:  ## the guess is less than 5\n",
    "        print(\"Your Guess is less than 5, Please guess a Higher Value\")\n",
    "    else:               ## when the guess is greater than 5\n",
    "        print(\"Your guess is greater than 5, Please guess a Lower Value\")\n",
    "        \n",
    "###------------GUESSING AGAIN BLOCK-----------###\n",
    "    guess = int(input())  ## guessing again\n",
    "    if guess == answer:  \n",
    "        print(\"Well Done, now you got it correctly\")\n",
    "    else:\n",
    "        print(\"Sorry Your guess is incorrect this time as well\")\n",
    "        "
   ]
  },
  {
   "cell_type": "markdown",
   "metadata": {},
   "source": [
    "### Boolean Expression"
   ]
  },
  {
   "cell_type": "code",
   "execution_count": 60,
   "metadata": {},
   "outputs": [
    {
     "name": "stdout",
     "output_type": "stream",
     "text": [
      "Learn Python\n"
     ]
    }
   ],
   "source": [
    "day = \"Monday\"\n",
    "temperature = 30\n",
    "raining = True\n",
    "\n",
    "if day == \"Saturday\" and temperature > 27 and not raining:\n",
    "    print(\"Go Swimming\")\n",
    "else:\n",
    "    print(\"Learn Python\")"
   ]
  },
  {
   "cell_type": "markdown",
   "metadata": {},
   "source": [
    "### Truthy Values"
   ]
  },
  {
   "cell_type": "code",
   "execution_count": 63,
   "metadata": {},
   "outputs": [
    {
     "name": "stdin",
     "output_type": "stream",
     "text": [
      "Enter your Name:  Ameer\n"
     ]
    },
    {
     "name": "stdout",
     "output_type": "stream",
     "text": [
      "Hello, Ameer\n"
     ]
    }
   ],
   "source": [
    "name = input(\"Enter your Name: \")\n",
    "\n",
    "if name:\n",
    "    print(\"Hello, {}\".format(name))\n",
    "else:\n",
    "    print(\"Are you the man with no name\")"
   ]
  },
  {
   "cell_type": "markdown",
   "metadata": {},
   "source": [
    "### Checking \"in\" and \"not in\""
   ]
  },
  {
   "cell_type": "code",
   "execution_count": 67,
   "metadata": {},
   "outputs": [
    {
     "name": "stdin",
     "output_type": "stream",
     "text": [
      "Enter the letter:  re\n"
     ]
    },
    {
     "name": "stdout",
     "output_type": "stream",
     "text": [
      "The re is not in the Norwegian Blue\n",
      "I don't need that letter\n"
     ]
    }
   ],
   "source": [
    "parrot = \"Norwegian Blue\"\n",
    "letter = input(\"Enter the letter: \")\n",
    "\n",
    "if letter in parrot:\n",
    "    print(\"{} is in {}\".format(letter,parrot))\n",
    "else:\n",
    "    print(\"The {} is not in the {}\".format(letter,parrot))\n",
    "    print(\"I don't need that letter\")"
   ]
  },
  {
   "cell_type": "code",
   "execution_count": 70,
   "metadata": {},
   "outputs": [
    {
     "name": "stdin",
     "output_type": "stream",
     "text": [
      "What would you like to do today?  i want to go to Cinema\n"
     ]
    },
    {
     "name": "stdout",
     "output_type": "stream",
     "text": [
      "But, I want to go to the cinema\n"
     ]
    }
   ],
   "source": [
    "activity = input(\"What would you like to do today? \")\n",
    "\n",
    "if \"cinema\" not in activity:\n",
    "    print(\"But, I want to go to the cinema\")\n",
    "else:\n",
    "    print(\"Go and Sleep\")"
   ]
  },
  {
   "cell_type": "code",
   "execution_count": 71,
   "metadata": {},
   "outputs": [
    {
     "name": "stdin",
     "output_type": "stream",
     "text": [
      "What would you like to do today?  to do\n"
     ]
    },
    {
     "name": "stdout",
     "output_type": "stream",
     "text": [
      "But, I want to go to the cinema\n"
     ]
    }
   ],
   "source": [
    "activity = input(\"What would you like to do today? \")\n",
    "\n",
    "if \"cinema\" not in activity.casefold():\n",
    "    print(\"But, I want to go to the cinema\")\n",
    "else:\n",
    "    print(\"Go and Sleep\")"
   ]
  },
  {
   "cell_type": "markdown",
   "metadata": {},
   "source": [
    "### if Challenge"
   ]
  },
  {
   "cell_type": "code",
   "execution_count": 4,
   "metadata": {},
   "outputs": [
    {
     "name": "stdin",
     "output_type": "stream",
     "text": [
      "Enter the name:-- Rinsi\n",
      "Enter the age:-- 26\n"
     ]
    },
    {
     "name": "stdout",
     "output_type": "stream",
     "text": [
      "Enjoy the Vacation, Rinsi\n"
     ]
    }
   ],
   "source": [
    "name = input(\"Enter the name:--\")\n",
    "age = int(input(\"Enter the age:--\"))\n",
    "\n",
    "## case 1, the person is eligible for vacation\n",
    "if age >= 18 and age <= 30:\n",
    "    print(\"Enjoy the Vacation, {}\".format(name))\n",
    "    \n",
    "## case 2, the person is not eligible\n",
    "else:\n",
    "    ## the person is aged than 30\n",
    "    if age > 30:\n",
    "        print(\"You have more Responsilities, You cannot go for Vacation\")\n",
    "    ## the person is less age than 18    \n",
    "    else:\n",
    "        print(\"You have to study now\")\n",
    "        "
   ]
  },
  {
   "cell_type": "markdown",
   "metadata": {},
   "source": [
    "### For Loops"
   ]
  },
  {
   "cell_type": "code",
   "execution_count": 5,
   "metadata": {},
   "outputs": [
    {
     "name": "stdout",
     "output_type": "stream",
     "text": [
      "N\n",
      "o\n",
      "r\n",
      "w\n",
      "e\n",
      "g\n",
      "i\n",
      "a\n",
      "n\n",
      " \n",
      "B\n",
      "l\n",
      "u\n",
      "e\n"
     ]
    }
   ],
   "source": [
    "parrot = \"Norwegian Blue\"\n",
    "\n",
    "for char in parrot:\n",
    "    print(char)"
   ]
  },
  {
   "cell_type": "code",
   "execution_count": 7,
   "metadata": {},
   "outputs": [
    {
     "name": "stdout",
     "output_type": "stream",
     "text": [
      ",;: ,;\n"
     ]
    }
   ],
   "source": [
    "number = \"9,223;372:036 854,775;807\"\n",
    "seperators = \"\"\n",
    "\n",
    "for char in number:\n",
    "    if not char.isnumeric():\n",
    "        seperators=seperators+char\n",
    "print(seperators)"
   ]
  },
  {
   "cell_type": "code",
   "execution_count": 8,
   "metadata": {},
   "outputs": [
    {
     "name": "stdout",
     "output_type": "stream",
     "text": [
      "9223372036854775807\n"
     ]
    }
   ],
   "source": [
    "number = \"9,223;372:036 854,775;807\"\n",
    "seperators = \"\"\n",
    "\n",
    "for char in number:\n",
    "    if char.isnumeric():\n",
    "        seperators=seperators+char\n",
    "print(seperators)"
   ]
  },
  {
   "cell_type": "code",
   "execution_count": 10,
   "metadata": {},
   "outputs": [
    {
     "name": "stdout",
     "output_type": "stream",
     "text": [
      "The Sum is:--- 383\n"
     ]
    }
   ],
   "source": [
    "## program to find the sum of all numbers in a given list\n",
    "## list of numbers\n",
    "numbers = [2,3,4,5,67,78,89,90,23,4,5,6,7]\n",
    "## variable to store the sum\n",
    "sum = 0\n",
    "## iterate over the list\n",
    "for value in numbers:\n",
    "    sum = sum + value\n",
    "    \n",
    "print(\"The Sum is:---\", sum)"
   ]
  },
  {
   "cell_type": "code",
   "execution_count": 11,
   "metadata": {},
   "outputs": [
    {
     "name": "stdout",
     "output_type": "stream",
     "text": [
      ",;: ,;\n"
     ]
    }
   ],
   "source": [
    "number = \"9,223;372:036 854,775;807\"\n",
    "seperators = \"\"\n",
    "\n",
    "for char in number:\n",
    "    if not char.isnumeric():\n",
    "        seperators=seperators+char\n",
    "print(seperators)"
   ]
  },
  {
   "cell_type": "code",
   "execution_count": 12,
   "metadata": {},
   "outputs": [],
   "source": [
    "values = \"\".join(char if char not in seperators else \" \" for char in number).split()"
   ]
  },
  {
   "cell_type": "code",
   "execution_count": 13,
   "metadata": {},
   "outputs": [
    {
     "name": "stdout",
     "output_type": "stream",
     "text": [
      "['9', '223', '372', '036', '854', '775', '807']\n"
     ]
    }
   ],
   "source": [
    "print(values)"
   ]
  },
  {
   "cell_type": "code",
   "execution_count": 18,
   "metadata": {},
   "outputs": [
    {
     "data": {
      "text/plain": [
       "['9,223', '372:036 854,775', '807']"
      ]
     },
     "execution_count": 18,
     "metadata": {},
     "output_type": "execute_result"
    }
   ],
   "source": [
    "number = \"9,223;372:036 854,775;807\"\n",
    "number.split(\";\")"
   ]
  },
  {
   "cell_type": "code",
   "execution_count": 21,
   "metadata": {},
   "outputs": [
    {
     "name": "stdout",
     "output_type": "stream",
     "text": [
      "The uppercase characters in the string are ['A', 'S', 'M', 'E', 'W', 'P', 'O', 'I', 'R', 'F', 'W', 'S', 'P', 'H', 'R']\n"
     ]
    }
   ],
   "source": [
    "## write a program to extract the capital letters in the string\n",
    "\n",
    "quote = \"\"\"\n",
    "Alright, but apart from the Sanitation, the Medicine, Education, Wine,\n",
    "Public Order, Irrigation, Roads, the Fresh-Water System,\n",
    "and Public Health, what have the Romans ever done for us?\n",
    "\"\"\"\n",
    "\n",
    "list_caps = []\n",
    "\n",
    "for letter in quote:             ## iterating through the string\n",
    "    if letter.isupper():         ## if block to identify the capital letter\n",
    "        list_caps.append(letter) ## if the capital letter is identified, then appending to the empty list\n",
    "        \n",
    "print(\"The uppercase characters in the string are\", list_caps)\n",
    "        \n",
    "    "
   ]
  },
  {
   "cell_type": "code",
   "execution_count": 23,
   "metadata": {},
   "outputs": [
    {
     "name": "stdout",
     "output_type": "stream",
     "text": [
      "['A', 'S', 'M', 'E', 'W', 'P', 'O', 'I', 'R', 'F', 'W', 'S', 'P', 'H', 'R']\n"
     ]
    }
   ],
   "source": [
    "# Extract Upper Case Characters\n",
    "# Using filter() + lambda\n",
    "\n",
    "quote = \"\"\"\n",
    "Alright, but apart from the Sanitation, the Medicine, Education, Wine,\n",
    "Public Order, Irrigation, Roads, the Fresh-Water System,\n",
    "and Public Health, what have the Romans ever done for us?\n",
    "\"\"\"\n",
    "\n",
    "list_caps = list(filter(lambda c:c.isupper(),quote))\n",
    "print(list_caps)"
   ]
  },
  {
   "cell_type": "code",
   "execution_count": 24,
   "metadata": {},
   "outputs": [
    {
     "name": "stdout",
     "output_type": "stream",
     "text": [
      "['A', 'S', 'M', 'E', 'W', 'P', 'O', 'I', 'R', 'F', 'W', 'S', 'P', 'H', 'R']\n"
     ]
    }
   ],
   "source": [
    "# Extract Upper Case Characters\n",
    "# Using list comprehension + isupper()\n",
    "\n",
    "quote = \"\"\"\n",
    "Alright, but apart from the Sanitation, the Medicine, Education, Wine,\n",
    "Public Order, Irrigation, Roads, the Fresh-Water System,\n",
    "and Public Health, what have the Romans ever done for us?\n",
    "\"\"\"\n",
    "\n",
    "list_caps = [letter for letter in quote if letter.isupper()]\n",
    "print(list_caps)"
   ]
  },
  {
   "cell_type": "markdown",
   "metadata": {},
   "source": [
    "### Iterating Over a Range"
   ]
  },
  {
   "cell_type": "code",
   "execution_count": 25,
   "metadata": {},
   "outputs": [
    {
     "name": "stdout",
     "output_type": "stream",
     "text": [
      "i is now 1\n",
      "i is now 2\n",
      "i is now 3\n",
      "i is now 4\n",
      "i is now 5\n",
      "i is now 6\n",
      "i is now 7\n",
      "i is now 8\n",
      "i is now 9\n"
     ]
    }
   ],
   "source": [
    "for i in range(1,10):\n",
    "    print(\"i is now {}\".format(i))"
   ]
  },
  {
   "cell_type": "code",
   "execution_count": 26,
   "metadata": {},
   "outputs": [
    {
     "name": "stdout",
     "output_type": "stream",
     "text": [
      "The list of numbers are:-- None\n",
      "The list of numbers are:-- None\n",
      "The list of numbers are:-- None\n",
      "The list of numbers are:-- None\n",
      "The list of numbers are:-- None\n",
      "The list of numbers are:-- None\n",
      "The list of numbers are:-- None\n",
      "The list of numbers are:-- None\n",
      "The list of numbers are:-- None\n",
      "The list of numbers are:-- None\n"
     ]
    }
   ],
   "source": [
    "list_num=[]\n",
    "\n",
    "for i in range(0,10):\n",
    "    print(\"The list of numbers are:--\",list_num.append(i))"
   ]
  },
  {
   "cell_type": "code",
   "execution_count": 27,
   "metadata": {},
   "outputs": [
    {
     "name": "stdout",
     "output_type": "stream",
     "text": [
      "0\n",
      "1\n",
      "2\n",
      "3\n",
      "4\n",
      "5\n",
      "6\n",
      "7\n",
      "8\n",
      "9\n"
     ]
    }
   ],
   "source": [
    "for i in range(10):\n",
    "    print(i)"
   ]
  },
  {
   "cell_type": "code",
   "execution_count": 29,
   "metadata": {},
   "outputs": [
    {
     "name": "stdout",
     "output_type": "stream",
     "text": [
      "0\n",
      "7\n",
      "14\n",
      "21\n",
      "28\n",
      "35\n",
      "42\n",
      "49\n",
      "56\n",
      "63\n",
      "70\n",
      "77\n",
      "84\n",
      "91\n",
      "98\n"
     ]
    }
   ],
   "source": [
    "for i in range(0,101,7):\n",
    "    print(i)"
   ]
  },
  {
   "cell_type": "markdown",
   "metadata": {},
   "source": [
    "### Nested for Loops"
   ]
  },
  {
   "cell_type": "code",
   "execution_count": 34,
   "metadata": {},
   "outputs": [
    {
     "name": "stdout",
     "output_type": "stream",
     "text": [
      "1 time 1 is 1\n",
      "2 time 1 is 2\n",
      "3 time 1 is 3\n",
      "4 time 1 is 4\n",
      "========================================\n",
      "1 time 2 is 2\n",
      "2 time 2 is 4\n",
      "3 time 2 is 6\n",
      "4 time 2 is 8\n",
      "========================================\n",
      "1 time 3 is 3\n",
      "2 time 3 is 6\n",
      "3 time 3 is 9\n",
      "4 time 3 is 12\n",
      "========================================\n",
      "1 time 4 is 4\n",
      "2 time 4 is 8\n",
      "3 time 4 is 12\n",
      "4 time 4 is 16\n",
      "========================================\n"
     ]
    }
   ],
   "source": [
    "for i in range(1,5):\n",
    "    for j in range(1,5):\n",
    "        print(\"{0} time {1} is {2}\".format(j,i,i*j))\n",
    "    print(\"========================================\")"
   ]
  },
  {
   "cell_type": "markdown",
   "metadata": {},
   "source": [
    "### Continue statements"
   ]
  },
  {
   "cell_type": "code",
   "execution_count": 36,
   "metadata": {},
   "outputs": [
    {
     "name": "stdout",
     "output_type": "stream",
     "text": [
      "Buy milk\n",
      "Buy pasta\n",
      "Buy eggs\n",
      "Buy spam\n",
      "Buy bread\n",
      "Buy rice\n"
     ]
    }
   ],
   "source": [
    "shopping_list = [\"milk\",\"pasta\",\"eggs\",\"spam\",\"bread\",\"rice\"]\n",
    "\n",
    "for item in shopping_list:\n",
    "    print(\"Buy \" + item)"
   ]
  },
  {
   "cell_type": "code",
   "execution_count": 7,
   "metadata": {},
   "outputs": [
    {
     "name": "stdout",
     "output_type": "stream",
     "text": [
      "Buy milk\n",
      "Buy pasta\n",
      "Buy eggs\n",
      "Buy spam\n",
      "Buy bread\n",
      "Buy rice\n"
     ]
    }
   ],
   "source": [
    "shopping_list = [\"milk\",\"pasta\",\"eggs\",\"spam\",\"bread\",\"rice\"]\n",
    "\n",
    "for sadhanam in shopping_list:\n",
    "    print(\"Buy \" + sadhanam)"
   ]
  },
  {
   "cell_type": "code",
   "execution_count": 37,
   "metadata": {},
   "outputs": [
    {
     "name": "stdout",
     "output_type": "stream",
     "text": [
      "Buy milk\n",
      "Buy pasta\n",
      "Buy eggs\n",
      "Buy bread\n",
      "Buy rice\n"
     ]
    }
   ],
   "source": [
    "for item in shopping_list:\n",
    "    if item != \"spam\":\n",
    "        print(\"Buy \" + item)"
   ]
  },
  {
   "cell_type": "code",
   "execution_count": 38,
   "metadata": {},
   "outputs": [
    {
     "name": "stdout",
     "output_type": "stream",
     "text": [
      "Buy milk\n",
      "Buy pasta\n",
      "Buy eggs\n",
      "Buy bread\n",
      "Buy rice\n"
     ]
    }
   ],
   "source": [
    "for item in shopping_list:\n",
    "    if item == \"spam\":\n",
    "        continue\n",
    "    print(\"Buy \" + item)"
   ]
  },
  {
   "cell_type": "markdown",
   "metadata": {},
   "source": [
    "### Break statement"
   ]
  },
  {
   "cell_type": "code",
   "execution_count": 39,
   "metadata": {},
   "outputs": [
    {
     "name": "stdout",
     "output_type": "stream",
     "text": [
      "Buy milk\n",
      "Buy pasta\n",
      "Buy eggs\n"
     ]
    }
   ],
   "source": [
    "shopping_list = [\"milk\",\"pasta\",\"eggs\",\"spam\",\"bread\",\"rice\"]\n",
    "\n",
    "for item in shopping_list:\n",
    "    if item == \"spam\":\n",
    "        break\n",
    "        \n",
    "    print(\"Buy \" + item)"
   ]
  },
  {
   "cell_type": "code",
   "execution_count": 40,
   "metadata": {},
   "outputs": [
    {
     "name": "stdout",
     "output_type": "stream",
     "text": [
      "Item found at the Position 3\n"
     ]
    }
   ],
   "source": [
    "## find an item from the list\n",
    "shopping_list = [\"milk\",\"pasta\",\"eggs\",\"spam\",\"bread\",\"rice\"]\n",
    "\n",
    "item_to_find = \"spam\"\n",
    "found_at = None\n",
    "\n",
    "for index in range(len(shopping_list)):\n",
    "    if shopping_list[index]==item_to_find:\n",
    "        found_at=index\n",
    "print(\"Item found at the Position {}\".format(found_at))"
   ]
  },
  {
   "cell_type": "markdown",
   "metadata": {},
   "source": [
    "### While Loop"
   ]
  },
  {
   "cell_type": "code",
   "execution_count": 1,
   "metadata": {},
   "outputs": [
    {
     "name": "stdout",
     "output_type": "stream",
     "text": [
      "i is now 0\n",
      "i is now 1\n",
      "i is now 2\n",
      "i is now 3\n",
      "i is now 4\n",
      "i is now 5\n",
      "i is now 6\n",
      "i is now 7\n",
      "i is now 8\n",
      "i is now 9\n"
     ]
    }
   ],
   "source": [
    "i = 0\n",
    "\n",
    "while i < 10:\n",
    "    print(\"i is now {}\".format(i))\n",
    "    i = i + 1"
   ]
  },
  {
   "cell_type": "code",
   "execution_count": 4,
   "metadata": {},
   "outputs": [
    {
     "name": "stdin",
     "output_type": "stream",
     "text": [
      "Please chose a Direction: up\n",
      "Please chose a Direction: down\n",
      "Please chose a Direction: right\n",
      "Please chose a Direction: left\n",
      "Please chose a Direction: straght\n",
      "Please chose a Direction: west\n"
     ]
    },
    {
     "name": "stdout",
     "output_type": "stream",
     "text": [
      "aren't you glad you got out there\n"
     ]
    }
   ],
   "source": [
    "available_exits = [\"north\",\"south\",\"east\",\"west\"]\n",
    "chosen_exit = \"\"\n",
    "\n",
    "while chosen_exit not in available_exits:\n",
    "    chosen_exit=input(\"Please chose a Direction:\")\n",
    "print(\"aren't you glad you got out there\")"
   ]
  },
  {
   "cell_type": "code",
   "execution_count": null,
   "metadata": {},
   "outputs": [],
   "source": [
    "##Program\n",
    "\n",
    "answer = 5  ## this is the answer we need to guess\n",
    "print(\"Please guess a number between 1 and 10: \")\n",
    "guess = int(input())\n",
    "\n",
    "\n",
    "## when the guess is equal to the correct answer\n",
    "if guess == answer:    ## guess == answer = 5\n",
    "    print(\"You got it Correctly in the first time, You are Lucky\")\n",
    "    \n",
    "## when the guess is not correct\n",
    "## either it will be less than 5\n",
    "## or it will be greater than 5.\n",
    "\n",
    "## when less than 5\n",
    "else:\n",
    "    if guess < answer:  ## the guess is less than 5\n",
    "        print(\"Your Guess is less than 5, Please guess a Higher Value\")\n",
    "    else:               ## when the guess is greater than 5\n",
    "        print(\"Your guess is greater than 5, Please guess a Lower Value\")\n",
    "        \n",
    "###------------GUESSING AGAIN BLOCK-----------###\n",
    "    guess = int(input())  ## guessing again\n",
    "    if guess == answer:  \n",
    "        print(\"Well Done, now you got it correctly\")\n",
    "    else:\n",
    "        print(\"Sorry Your guess is incorrect this time as well\")\n",
    "        "
   ]
  },
  {
   "cell_type": "code",
   "execution_count": 8,
   "metadata": {},
   "outputs": [
    {
     "name": "stdout",
     "output_type": "stream",
     "text": [
      "Please guess a number between 1 and 10: \n"
     ]
    },
    {
     "name": "stdin",
     "output_type": "stream",
     "text": [
      " 6\n"
     ]
    },
    {
     "name": "stdout",
     "output_type": "stream",
     "text": [
      "Your guess is greater than 5, Please guess a Lower Value\n"
     ]
    },
    {
     "name": "stdin",
     "output_type": "stream",
     "text": [
      "Please guess again:-- 7\n"
     ]
    },
    {
     "name": "stdout",
     "output_type": "stream",
     "text": [
      "Guess is nont Correct, Try again\n"
     ]
    },
    {
     "name": "stdin",
     "output_type": "stream",
     "text": [
      "Please guess again:-- 4\n"
     ]
    },
    {
     "name": "stdout",
     "output_type": "stream",
     "text": [
      "Guess is nont Correct, Try again\n"
     ]
    },
    {
     "name": "stdin",
     "output_type": "stream",
     "text": [
      "Please guess again:-- 5\n"
     ]
    },
    {
     "name": "stdout",
     "output_type": "stream",
     "text": [
      "You got it Correctly Now\n"
     ]
    }
   ],
   "source": [
    "##Program\n",
    "\n",
    "answer = 5  ## this is the answer we need to guess\n",
    "print(\"Please guess a number between 1 and 10: \")\n",
    "guess = int(input())\n",
    "\n",
    "\n",
    "## when the guess is equal to the correct answer\n",
    "if guess == answer:    ## guess == answer = 5\n",
    "    print(\"You got it Correctly in the first time, You are Lucky\")\n",
    "    \n",
    "## when the guess is not correct\n",
    "## either it will be less than 5\n",
    "## or it will be greater than 5.\n",
    "\n",
    "## when less than 5\n",
    "else:\n",
    "    if guess < answer:  ## the guess is less than 5\n",
    "        print(\"Your Guess is less than 5, Please guess a Higher Value\")\n",
    "    else:               ## when the guess is greater than 5\n",
    "        print(\"Your guess is greater than 5, Please guess a Lower Value\")\n",
    "        \n",
    "    while guess!=answer:\n",
    "        guess = int(input(\"Please guess again:--\"))\n",
    "        if guess == answer:\n",
    "            print(\"You got it Correctly Now\")\n",
    "        else:\n",
    "            print(\"Guess is nont Correct, Try again\")"
   ]
  },
  {
   "cell_type": "code",
   "execution_count": 11,
   "metadata": {},
   "outputs": [
    {
     "name": "stdin",
     "output_type": "stream",
     "text": [
      "Please chose a Direction: Quit\n"
     ]
    },
    {
     "name": "stdout",
     "output_type": "stream",
     "text": [
      "Game Over\n",
      "aren't you glad you got out there\n"
     ]
    }
   ],
   "source": [
    "available_exits = [\"north\",\"south\",\"east\",\"west\"]\n",
    "chosen_exit = \"\"\n",
    "\n",
    "while chosen_exit not in available_exits:\n",
    "    chosen_exit=input(\"Please chose a Direction:\")\n",
    "    if chosen_exit.casefold()==\"quit\":\n",
    "        print(\"Game Over\")\n",
    "        break\n",
    "print(\"aren't you glad you got out there\")"
   ]
  },
  {
   "cell_type": "code",
   "execution_count": 18,
   "metadata": {},
   "outputs": [
    {
     "name": "stdout",
     "output_type": "stream",
     "text": [
      "0\n",
      "7\n",
      "14\n",
      "21\n",
      "28\n",
      "35\n",
      "42\n",
      "49\n",
      "56\n",
      "63\n",
      "70\n",
      "77\n",
      "The number didvisible by 11 is 77\n"
     ]
    }
   ],
   "source": [
    "for i in range(0, 100, 7):\n",
    "    print(i)\n",
    "    if i > 0 and i % 11 == 0:\n",
    "        print(\"The number didvisible by 11 is {}\".format(i))\n",
    "        break"
   ]
  },
  {
   "cell_type": "code",
   "execution_count": null,
   "metadata": {},
   "outputs": [
    {
     "name": "stdout",
     "output_type": "stream",
     "text": [
      "Numbers from 0 to 20 that aren't divisible by either 3 or 5.\n",
      "1\n",
      "2\n"
     ]
    }
   ],
   "source": [
    "## Write a program to print out all the numbers from 0 to 20 that aren't divisible by either 3 or 5.\n",
    "\n",
    "max_num = 20\n",
    "n = 1\n",
    "\n",
    "print(\"Numbers from 0 to 20 that aren't divisible by either 3 or 5.\")\n",
    "\n",
    "while n < max_num:\n",
    "    ## check if numbers are divisible by 2 and 3\n",
    "    if n % 3 != 0 and n % 5 != 0:\n",
    "        print(n)\n",
    "        n = n + 1"
   ]
  },
  {
   "cell_type": "code",
   "execution_count": 5,
   "metadata": {},
   "outputs": [
    {
     "name": "stdout",
     "output_type": "stream",
     "text": [
      "The Numbers are 1\n",
      "The Numbers are 2\n",
      "The Numbers are 3\n",
      "The Numbers are 4\n",
      "The Numbers are 5\n",
      "The Numbers are 6\n",
      "The Numbers are 7\n",
      "The Numbers are 8\n",
      "The Numbers are 9\n",
      "The Numbers are 10\n",
      "The Numbers are 11\n",
      "The Numbers are 12\n",
      "The Numbers are 13\n",
      "The Numbers are 14\n",
      "The Numbers are 16\n",
      "The Numbers are 17\n",
      "The Numbers are 18\n",
      "The Numbers are 19\n",
      "The Numbers are 20\n"
     ]
    }
   ],
   "source": [
    "for num in range(21):\n",
    "    if num % 3 == 0 and num % 5 == 0:\n",
    "        continue\n",
    "    print(\"The Numbers are {}\".format(num))"
   ]
  },
  {
   "cell_type": "code",
   "execution_count": 6,
   "metadata": {},
   "outputs": [
    {
     "name": "stdout",
     "output_type": "stream",
     "text": [
      "The Numbers are 1\n",
      "The Numbers are 2\n",
      "The Numbers are 4\n",
      "The Numbers are 7\n",
      "The Numbers are 8\n",
      "The Numbers are 11\n",
      "The Numbers are 13\n",
      "The Numbers are 14\n",
      "The Numbers are 16\n",
      "The Numbers are 17\n",
      "The Numbers are 19\n"
     ]
    }
   ],
   "source": [
    "for num in range(21):\n",
    "    if num % 3 != 0 and num % 5 != 0:\n",
    "       # continue\n",
    "        print(\"The Numbers are {}\".format(num))"
   ]
  },
  {
   "cell_type": "code",
   "execution_count": 12,
   "metadata": {},
   "outputs": [
    {
     "name": "stdout",
     "output_type": "stream",
     "text": [
      "Please guess number betwwen 1 and 10\n"
     ]
    },
    {
     "name": "stdin",
     "output_type": "stream",
     "text": [
      " 5\n"
     ]
    },
    {
     "name": "stdout",
     "output_type": "stream",
     "text": [
      "Guessed value is higher, Please guess a Lower value\n"
     ]
    },
    {
     "name": "stdin",
     "output_type": "stream",
     "text": [
      " 4\n"
     ]
    },
    {
     "name": "stdout",
     "output_type": "stream",
     "text": [
      "Well Done, you got it correctly\n"
     ]
    }
   ],
   "source": [
    "#### Challenge\n",
    "\n",
    "import random     ## library to choose a random value to get the answer\n",
    "highest = 10      ## highest value is given as 10\n",
    "answer = random.randint(1,highest)  ## randomly choosing a number between 1 and 10\n",
    "#print(answer)\n",
    "\n",
    "print(\"Please guess number betwwen 1 and {}\".format(highest))   ## print the number\n",
    "\n",
    "## guess\n",
    "guess = 0 ## initialize to any number that doesn't equal to the answer\n",
    "\n",
    "while guess != answer:     ## while the answer is not the guessed value\n",
    "    guess = int(input())   ## our guess\n",
    "    \n",
    "    if guess == 0:         ## if guess is given as 0, then we can exit the game\n",
    "        print(\"I'm out of the Game, I can't do this anymore\")\n",
    "        break              ## with the break statement, the program will exit from the game\n",
    "    \n",
    "    if guess == answer:    ## if the guessed answer is correct\n",
    "        print(\"Well Done, you got it correctly\")\n",
    "        break\n",
    "    else:\n",
    "        if guess < answer: ## if the guessed answer is not correct,either it will be greater than or less than.\n",
    "            print(\"Guessed value is lower, Please guess a Higher value\")\n",
    "        else:\n",
    "            print(\"Guessed value is higher, Please guess a Lower value\")\n",
    "            \n",
    "    "
   ]
  },
  {
   "cell_type": "markdown",
   "metadata": {},
   "source": [
    "### printing Key-Value pair from a Dictionary"
   ]
  },
  {
   "cell_type": "code",
   "execution_count": 13,
   "metadata": {},
   "outputs": [
    {
     "name": "stdout",
     "output_type": "stream",
     "text": [
      "Original dictionary is : {'Geeks': 1, 'for': 2, 'geeks': 3}\n",
      "Dict key-value are : \n",
      "Geeks 1\n",
      "for 2\n",
      "geeks 3\n"
     ]
    }
   ],
   "source": [
    "test_dict = {\"Geeks\" : 1, \"for\" : 2, \"geeks\" : 3}\n",
    "  \n",
    "# Printing dictionary\n",
    "print (\"Original dictionary is : \" + str(test_dict))\n",
    "  \n",
    "# using in operator to\n",
    "# get key and value\n",
    "print (\"Dict key-value are : \")\n",
    "for i in test_dict :\n",
    "    print(i, test_dict[i])"
   ]
  },
  {
   "cell_type": "code",
   "execution_count": 14,
   "metadata": {},
   "outputs": [
    {
     "name": "stdout",
     "output_type": "stream",
     "text": [
      "Original dictionary is : {'Geeks': 1, 'for': 2, 'geeks': 3}\n",
      "Dict key-value are : \n",
      "[('Geeks', 1), ('for', 2), ('geeks', 3)]\n"
     ]
    }
   ],
   "source": [
    "test_dict = {\"Geeks\" : 1, \"for\" : 2, \"geeks\" : 3}\n",
    "  \n",
    "# Printing dictionary\n",
    "print (\"Original dictionary is : \" + str(test_dict))\n",
    "  \n",
    "# using list comprehension to\n",
    "# get key and value\n",
    "print (\"Dict key-value are : \")\n",
    "print([(k, test_dict[k]) for k in test_dict])"
   ]
  },
  {
   "cell_type": "markdown",
   "metadata": {},
   "source": [
    "### Binary Search\n",
    "### HI LO Game"
   ]
  },
  {
   "cell_type": "code",
   "execution_count": 7,
   "metadata": {},
   "outputs": [
    {
     "name": "stdout",
     "output_type": "stream",
     "text": [
      "Please think of a number between 1 and 1000\n"
     ]
    },
    {
     "name": "stdin",
     "output_type": "stream",
     "text": [
      "Press Enter to Start \n"
     ]
    },
    {
     "name": "stdout",
     "output_type": "stream",
     "text": [
      "\tGuessing in the range of 1 to 1000\n"
     ]
    },
    {
     "name": "stdin",
     "output_type": "stream",
     "text": [
      "my guess is 500, should i guess higher or lower?, enter h or l or c if my guess was correct h\n"
     ]
    },
    {
     "name": "stdout",
     "output_type": "stream",
     "text": [
      "\tGuessing in the range of 501 to 1000\n"
     ]
    },
    {
     "name": "stdin",
     "output_type": "stream",
     "text": [
      "my guess is 750, should i guess higher or lower?, enter h or l or c if my guess was correct l\n"
     ]
    },
    {
     "name": "stdout",
     "output_type": "stream",
     "text": [
      "\tGuessing in the range of 501 to 749\n"
     ]
    },
    {
     "name": "stdin",
     "output_type": "stream",
     "text": [
      "my guess is 625, should i guess higher or lower?, enter h or l or c if my guess was correct h\n"
     ]
    },
    {
     "name": "stdout",
     "output_type": "stream",
     "text": [
      "\tGuessing in the range of 626 to 749\n"
     ]
    },
    {
     "name": "stdin",
     "output_type": "stream",
     "text": [
      "my guess is 687, should i guess higher or lower?, enter h or l or c if my guess was correct h\n"
     ]
    },
    {
     "name": "stdout",
     "output_type": "stream",
     "text": [
      "\tGuessing in the range of 688 to 749\n"
     ]
    },
    {
     "name": "stdin",
     "output_type": "stream",
     "text": [
      "my guess is 718, should i guess higher or lower?, enter h or l or c if my guess was correct l\n"
     ]
    },
    {
     "name": "stdout",
     "output_type": "stream",
     "text": [
      "\tGuessing in the range of 688 to 717\n"
     ]
    },
    {
     "name": "stdin",
     "output_type": "stream",
     "text": [
      "my guess is 702, should i guess higher or lower?, enter h or l or c if my guess was correct l\n"
     ]
    },
    {
     "name": "stdout",
     "output_type": "stream",
     "text": [
      "\tGuessing in the range of 688 to 701\n"
     ]
    },
    {
     "name": "stdin",
     "output_type": "stream",
     "text": [
      "my guess is 694, should i guess higher or lower?, enter h or l or c if my guess was correct h\n"
     ]
    },
    {
     "name": "stdout",
     "output_type": "stream",
     "text": [
      "\tGuessing in the range of 695 to 701\n"
     ]
    },
    {
     "name": "stdin",
     "output_type": "stream",
     "text": [
      "my guess is 698, should i guess higher or lower?, enter h or l or c if my guess was correct h\n"
     ]
    },
    {
     "name": "stdout",
     "output_type": "stream",
     "text": [
      "\tGuessing in the range of 699 to 701\n"
     ]
    },
    {
     "name": "stdin",
     "output_type": "stream",
     "text": [
      "my guess is 700, should i guess higher or lower?, enter h or l or c if my guess was correct c\n"
     ]
    },
    {
     "name": "stdout",
     "output_type": "stream",
     "text": [
      "I got in the 9 guesses\n"
     ]
    }
   ],
   "source": [
    "low = 1\n",
    "high = 1000\n",
    "\n",
    "print(\"Please think of a number between {} and {}\".format(low,high))\n",
    "input(\"Press Enter to Start\")\n",
    "\n",
    "guesses = 1\n",
    "\n",
    "while True:\n",
    "    \n",
    "    print(\"\\tGuessing in the range of {} to {}\".format(low,high))\n",
    "    \n",
    "    guess = low + (high - low) // 2\n",
    "    \n",
    "    high_low = input(\"My guess is {}, Should I guess higher or lower?, Enter h or l or c if my guess was correct\".format(guess).casefold())\n",
    "    \n",
    "    \n",
    "    if high_low == \"h\":\n",
    "        ## guess higher, the low end of the range becomes 1 greater than the guess\n",
    "        low = guess + 1\n",
    "        pass\n",
    "    elif high_low == \"l\":\n",
    "        ## guess lower, the high end of the range becomes 1 less than the guess\n",
    "        high = guess - 1\n",
    "        pass\n",
    "    elif high_low == \"c\":\n",
    "        ## \n",
    "        print(\"I got in the {} guesses\".format(guesses))\n",
    "        break\n",
    "        \n",
    "    else:\n",
    "        print(\"Please enter h,l or c\")\n",
    "        \n",
    "    \n",
    "    guesses = guesses + 1\n",
    "        "
   ]
  },
  {
   "cell_type": "code",
   "execution_count": 17,
   "metadata": {},
   "outputs": [
    {
     "name": "stdout",
     "output_type": "stream",
     "text": [
      "Please think of a number between 1 and 1000\n"
     ]
    },
    {
     "name": "stdin",
     "output_type": "stream",
     "text": [
      "Press Enter to Start \n"
     ]
    },
    {
     "name": "stdout",
     "output_type": "stream",
     "text": [
      "\tGuessing in the range of 1 to 1000\n"
     ]
    },
    {
     "name": "stdin",
     "output_type": "stream",
     "text": [
      "my guess is 500, should i guess higher or lower?, enter h or l or c if my guess was correct l\n"
     ]
    },
    {
     "name": "stdout",
     "output_type": "stream",
     "text": [
      "\tGuessing in the range of 1 to 499\n"
     ]
    },
    {
     "name": "stdin",
     "output_type": "stream",
     "text": [
      "my guess is 250, should i guess higher or lower?, enter h or l or c if my guess was correct l\n"
     ]
    },
    {
     "name": "stdout",
     "output_type": "stream",
     "text": [
      "\tGuessing in the range of 1 to 249\n"
     ]
    },
    {
     "name": "stdin",
     "output_type": "stream",
     "text": [
      "my guess is 125, should i guess higher or lower?, enter h or l or c if my guess was correct l\n"
     ]
    },
    {
     "name": "stdout",
     "output_type": "stream",
     "text": [
      "\tGuessing in the range of 1 to 124\n"
     ]
    },
    {
     "name": "stdin",
     "output_type": "stream",
     "text": [
      "my guess is 62, should i guess higher or lower?, enter h or l or c if my guess was correct l\n"
     ]
    },
    {
     "name": "stdout",
     "output_type": "stream",
     "text": [
      "\tGuessing in the range of 1 to 61\n"
     ]
    },
    {
     "name": "stdin",
     "output_type": "stream",
     "text": [
      "my guess is 31, should i guess higher or lower?, enter h or l or c if my guess was correct l\n"
     ]
    },
    {
     "name": "stdout",
     "output_type": "stream",
     "text": [
      "\tGuessing in the range of 1 to 30\n"
     ]
    },
    {
     "name": "stdin",
     "output_type": "stream",
     "text": [
      "my guess is 15, should i guess higher or lower?, enter h or l or c if my guess was correct l\n"
     ]
    },
    {
     "name": "stdout",
     "output_type": "stream",
     "text": [
      "\tGuessing in the range of 1 to 14\n"
     ]
    },
    {
     "name": "stdin",
     "output_type": "stream",
     "text": [
      "my guess is 7, should i guess higher or lower?, enter h or l or c if my guess was correct l\n"
     ]
    },
    {
     "name": "stdout",
     "output_type": "stream",
     "text": [
      "\tGuessing in the range of 1 to 6\n"
     ]
    },
    {
     "name": "stdin",
     "output_type": "stream",
     "text": [
      "my guess is 3, should i guess higher or lower?, enter h or l or c if my guess was correct l\n"
     ]
    },
    {
     "name": "stdout",
     "output_type": "stream",
     "text": [
      "\tGuessing in the range of 1 to 2\n"
     ]
    },
    {
     "name": "stdin",
     "output_type": "stream",
     "text": [
      "my guess is 1, should i guess higher or lower?, enter h or l or c if my guess was correct h\n"
     ]
    },
    {
     "name": "stdout",
     "output_type": "stream",
     "text": [
      "\tGuessing in the range of 2 to 2\n"
     ]
    },
    {
     "name": "stdin",
     "output_type": "stream",
     "text": [
      "my guess is 2, should i guess higher or lower?, enter h or l or c if my guess was correct c\n"
     ]
    },
    {
     "name": "stdout",
     "output_type": "stream",
     "text": [
      "I got in the 10 guesses\n"
     ]
    }
   ],
   "source": [
    "low = 1\n",
    "high = 1000\n",
    "\n",
    "print(\"Please think of a number between {} and {}\".format(low,high))\n",
    "input(\"Press Enter to Start\")\n",
    "\n",
    "guesses = 1\n",
    "\n",
    "while True:\n",
    "    \n",
    "    print(\"\\tGuessing in the range of {} to {}\".format(low,high))\n",
    "    \n",
    "    guess = low + (high - low) // 2\n",
    "    \n",
    "    high_low = input(\"My guess is {}, Should I guess higher or lower?, Enter h or l or c if my guess was correct\".format(guess).casefold())\n",
    "    \n",
    "    \n",
    "    if high_low == \"h\":\n",
    "        ## guess higher, the low end of the range becomes 1 greater than the guess\n",
    "        low = guess + 1\n",
    "        pass\n",
    "    elif high_low == \"l\":\n",
    "        ## guess lower, the high end of the range becomes 1 less than the guess\n",
    "        high = guess - 1\n",
    "        pass\n",
    "    elif high_low == \"c\":\n",
    "        ## \n",
    "        print(\"I got in the {} guesses\".format(guesses))\n",
    "        break\n",
    "        \n",
    "    else:\n",
    "        print(\"Please enter h,l or c\")\n",
    "        \n",
    "    ## augmented assignment of guesses = guesses + 1\n",
    "    guesses += 1\n",
    "        "
   ]
  },
  {
   "cell_type": "markdown",
   "metadata": {},
   "source": [
    "### Augmented Assignment in a Loop"
   ]
  },
  {
   "cell_type": "code",
   "execution_count": 15,
   "metadata": {},
   "outputs": [
    {
     "name": "stdin",
     "output_type": "stream",
     "text": [
      "Enter the multiplier value :-- 23\n",
      "Enter the Number that need to be multiplied:-- 23\n"
     ]
    },
    {
     "name": "stdout",
     "output_type": "stream",
     "text": [
      "529\n"
     ]
    }
   ],
   "source": [
    "## need to print the answer after doing the addition\n",
    "## use the augmented assignment method to do this\n",
    "\n",
    "multiplier = int(input(\"Enter the multiplier value :--\"))\n",
    "number = int(input(\"Enter the Number that need to be multiplied:--\"))\n",
    "answer = 0  ## initialize the answer\n",
    "\n",
    "for i in range(multiplier):\n",
    "    answer += number  ## augmented assignment for doing the process\n",
    "    \n",
    "print(answer)"
   ]
  },
  {
   "cell_type": "code",
   "execution_count": 40,
   "metadata": {},
   "outputs": [
    {
     "name": "stdout",
     "output_type": "stream",
     "text": [
      "[1, 42, 32, 12, 60]\n",
      "The numbers are unacceptable, list contains the numbers divisible by 8 which is :- 32\n"
     ]
    }
   ],
   "source": [
    "numbers = [1,42,32,12,60]\n",
    "print(numbers)\n",
    "\n",
    "## reverse the list\n",
    "#reversed_list = numbers.reverse()\n",
    "#print(\"Reversed list is : --\",numbers)\n",
    "\n",
    "#print(numbers)\n",
    "\n",
    "for number in numbers:\n",
    "    ## checking if the numbers are exactly divisible by 8\n",
    "    if number % 8 == 0:\n",
    "        ## reject the list\n",
    "        print(\"The numbers are unacceptable, list contains the numbers divisible by 8 which is :-\", number)\n",
    "        break\n",
    "        \n",
    "else:\n",
    "    print(\"The numbers are acceptable, no numbers are divisible by 8\")"
   ]
  },
  {
   "cell_type": "markdown",
   "metadata": {},
   "source": [
    "### else in the Hi-Lo Game"
   ]
  },
  {
   "cell_type": "code",
   "execution_count": 42,
   "metadata": {},
   "outputs": [
    {
     "name": "stdout",
     "output_type": "stream",
     "text": [
      "Please think of a number between 1 and 1000\n"
     ]
    },
    {
     "name": "stdin",
     "output_type": "stream",
     "text": [
      "Press Enter to Start \n",
      "my guess is 500, should i guess higher or lower?, enter h or l or c if my guess was correct l\n",
      "my guess is 250, should i guess higher or lower?, enter h or l or c if my guess was correct h\n",
      "my guess is 375, should i guess higher or lower?, enter h or l or c if my guess was correct l\n",
      "my guess is 312, should i guess higher or lower?, enter h or l or c if my guess was correct h\n",
      "my guess is 343, should i guess higher or lower?, enter h or l or c if my guess was correct l\n",
      "my guess is 327, should i guess higher or lower?, enter h or l or c if my guess was correct h\n",
      "my guess is 335, should i guess higher or lower?, enter h or l or c if my guess was correct l\n",
      "my guess is 331, should i guess higher or lower?, enter h or l or c if my guess was correct l\n",
      "my guess is 329, should i guess higher or lower?, enter h or l or c if my guess was correct l\n"
     ]
    },
    {
     "name": "stdout",
     "output_type": "stream",
     "text": [
      "You guessed the number 328\n",
      "You got the guess correctly in 10 guesses\n"
     ]
    }
   ],
   "source": [
    "low = 1\n",
    "high = 1000\n",
    "\n",
    "print(\"Please think of a number between {} and {}\".format(low,high))\n",
    "input(\"Press Enter to Start\")\n",
    "\n",
    "guesses = 1\n",
    "\n",
    "while low != high:\n",
    "    \n",
    "    #print(\"\\tGuessing in the range of {} to {}\".format(low,high))\n",
    "    \n",
    "    guess = low + (high - low) // 2\n",
    "    \n",
    "    high_low = input(\"My guess is {}, Should I guess higher or lower?, Enter h or l or c if my guess was correct\".format(guess).casefold())\n",
    "    \n",
    "    \n",
    "    if high_low == \"h\":\n",
    "        ## guess higher, the low end of the range becomes 1 greater than the guess\n",
    "        low = guess + 1\n",
    "        pass\n",
    "    elif high_low == \"l\":\n",
    "        ## guess lower, the high end of the range becomes 1 less than the guess\n",
    "        high = guess - 1\n",
    "        pass\n",
    "    elif high_low == \"c\":\n",
    "        ## \n",
    "        print(\"I got in the {} guesses\".format(guesses))\n",
    "        break\n",
    "        \n",
    "    else:\n",
    "        print(\"Please enter h,l or c\")\n",
    "        \n",
    "    ## augmented assignment of guesses = guesses + 1\n",
    "    guesses += 1\n",
    "    \n",
    "else:\n",
    "    \n",
    "    print(\"You guessed the number {}\".format(low))\n",
    "    print(\"You got the guess correctly in {} guesses\".format(guesses))\n",
    "        "
   ]
  },
  {
   "cell_type": "markdown",
   "metadata": {},
   "source": [
    "### Another Else Example"
   ]
  },
  {
   "cell_type": "code",
   "execution_count": 43,
   "metadata": {},
   "outputs": [
    {
     "name": "stdin",
     "output_type": "stream",
     "text": [
      "Please chose a Direction: quit\n"
     ]
    },
    {
     "name": "stdout",
     "output_type": "stream",
     "text": [
      "Game Over\n",
      "aren't you glad you got out there\n"
     ]
    }
   ],
   "source": [
    "available_exits = [\"north\",\"south\",\"east\",\"west\"]\n",
    "chosen_exit = \"\"\n",
    "\n",
    "while chosen_exit not in available_exits:\n",
    "    chosen_exit=input(\"Please chose a Direction:\")\n",
    "    if chosen_exit.casefold()==\"quit\":\n",
    "        print(\"Game Over\")\n",
    "        break\n",
    "print(\"aren't you glad you got out there\")   ## here when we press quit and break out from the loop\n",
    "                                             ## even though we are out of the game the print statement following will run\n",
    "                                            ## but the fact is we dont need to\n",
    "        \n",
    "                                            ## so changing the code with a else and print following like in the next code"
   ]
  },
  {
   "cell_type": "code",
   "execution_count": 47,
   "metadata": {},
   "outputs": [
    {
     "name": "stdin",
     "output_type": "stream",
     "text": [
      "Please chose a Direction: north\n"
     ]
    },
    {
     "name": "stdout",
     "output_type": "stream",
     "text": [
      "The exit that you chose to get out is north\n",
      "aren't you glad you got out there\n"
     ]
    }
   ],
   "source": [
    "## list of available exits\n",
    "available_exits = [\"north\",\"south\",\"east\",\"west\"]\n",
    "## initialize the chosen_exit\n",
    "chosen_exit = \"\"\n",
    "\n",
    "\n",
    "## looping with while loop, when we dont have \n",
    "while chosen_exit not in available_exits:\n",
    "    chosen_exit=input(\"Please chose a Direction:\")\n",
    "    if chosen_exit.casefold()==\"quit\":   ## if chosen exit is entered as quit\n",
    "        print(\"Game Over\")               ## then game over\n",
    "        break                            ## and break from the loop\n",
    "else:\n",
    "    print(\"The exit that you chose to get out is {}\".format(chosen_exit))   ## else, if we get the correct output, by guessing any exit\n",
    "    print(\"aren't you glad you got out there\")  ## we won the game."
   ]
  },
  {
   "cell_type": "markdown",
   "metadata": {},
   "source": [
    "### Challenge\n",
    "\n",
    "+ Write a Program to print the number of Options, and allow the user to select an option from the list.\n",
    "+ The option should be numbered from 1 to 9, although you can use less than 9 options if you want.\n",
    "+ Make sure there atleast 4 options."
   ]
  },
  {
   "cell_type": "code",
   "execution_count": 54,
   "metadata": {},
   "outputs": [
    {
     "name": "stdout",
     "output_type": "stream",
     "text": [
      "Please choos your option from the list below:--\n",
      "1:\tLearn Python\n",
      "2:\tLearn Java\n",
      "3:\tGo Swimming\n",
      "4:\tHave Dinner\n",
      "5:\tGo to Bed\n",
      "6:\tTravel the World\n",
      "7:\tWork Out Daily\n",
      "8:\tEducate yourself\n",
      "9:\tMake Money\n",
      "0:\tExit\n"
     ]
    },
    {
     "name": "stdin",
     "output_type": "stream",
     "text": [
      " 10\n"
     ]
    },
    {
     "name": "stdout",
     "output_type": "stream",
     "text": [
      "Please choos your option from the list below:--\n",
      "1:\tLearn Python\n",
      "2:\tLearn Java\n",
      "3:\tGo Swimming\n",
      "4:\tHave Dinner\n",
      "5:\tGo to Bed\n",
      "6:\tTravel the World\n",
      "7:\tWork Out Daily\n",
      "8:\tEducate yourself\n",
      "9:\tMake Money\n",
      "0:\tExit\n"
     ]
    },
    {
     "name": "stdin",
     "output_type": "stream",
     "text": [
      " 0\n"
     ]
    },
    {
     "name": "stdout",
     "output_type": "stream",
     "text": [
      "I'm out of the Game\n"
     ]
    }
   ],
   "source": [
    "## program\n",
    "\n",
    "## list out the options using print statements.\n",
    "print(\"Please choos your option from the list below:--\")\n",
    "print(\"1:\\tLearn Python\")\n",
    "print(\"2:\\tLearn Java\")\n",
    "print(\"3:\\tGo Swimming\")\n",
    "print(\"4:\\tHave Dinner\")\n",
    "print(\"5:\\tGo to Bed\")\n",
    "print(\"6:\\tTravel the World\")\n",
    "print(\"7:\\tWork Out Daily\")\n",
    "print(\"8:\\tEducate yourself\")\n",
    "print(\"9:\\tMake Money\")\n",
    "print(\"0:\\tExit\")\n",
    "\n",
    "\n",
    "## looping with while loop when the condition is true\n",
    "\n",
    "while True:\n",
    "    ## choose an input\n",
    "    choice = input()\n",
    "    \n",
    "    ## if choice is equal to 0, then break out of the code and game\n",
    "    if choice == \"0\":\n",
    "        print(\"I'm out of the Game\")\n",
    "        break\n",
    "        \n",
    "    elif choice in \"123456789\":\n",
    "        print(\"You choose {}\".format(choice))\n",
    "        print(\"Enjoy the Activity\")\n",
    "        \n",
    "    else:\n",
    "        print(\"Please choos your option from the list below:--\")\n",
    "        print(\"1:\\tLearn Python\")\n",
    "        print(\"2:\\tLearn Java\")\n",
    "        print(\"3:\\tGo Swimming\")\n",
    "        print(\"4:\\tHave Dinner\")\n",
    "        print(\"5:\\tGo to Bed\")\n",
    "        print(\"6:\\tTravel the World\")\n",
    "        print(\"7:\\tWork Out Daily\")\n",
    "        print(\"8:\\tEducate yourself\")\n",
    "        print(\"9:\\tMake Money\")\n",
    "        print(\"0:\\tExit\")"
   ]
  },
  {
   "cell_type": "code",
   "execution_count": 64,
   "metadata": {},
   "outputs": [
    {
     "name": "stdout",
     "output_type": "stream",
     "text": [
      "Please choos your option from the list below:--\n",
      "1:\tLearn Python\n",
      "2:\tLearn Java\n",
      "3:\tGo Swimming\n",
      "4:\tHave Dinner\n",
      "5:\tGo to Bed\n",
      "6:\tTravel the World\n",
      "7:\tWork Out Daily\n",
      "8:\tEducate yourself\n",
      "9:\tMake Money\n",
      "Please choos your option from the list below:--\n",
      "1:\tLearn Python\n",
      "2:\tLearn Java\n",
      "3:\tGo Swimming\n",
      "4:\tHave Dinner\n",
      "5:\tGo to Bed\n",
      "6:\tTravel the World\n",
      "7:\tWork Out Daily\n",
      "8:\tEducate yourself\n",
      "9:\tMake Money\n",
      "0:\tExit\n"
     ]
    },
    {
     "name": "stdin",
     "output_type": "stream",
     "text": [
      " 10\n"
     ]
    },
    {
     "name": "stdout",
     "output_type": "stream",
     "text": [
      "Please choos your option from the list below:--\n",
      "1:\tLearn Python\n",
      "2:\tLearn Java\n",
      "3:\tGo Swimming\n",
      "4:\tHave Dinner\n",
      "5:\tGo to Bed\n",
      "6:\tTravel the World\n",
      "7:\tWork Out Daily\n",
      "8:\tEducate yourself\n",
      "9:\tMake Money\n",
      "0:\tExit\n"
     ]
    },
    {
     "name": "stdin",
     "output_type": "stream",
     "text": [
      " 1\n"
     ]
    },
    {
     "name": "stdout",
     "output_type": "stream",
     "text": [
      "You choose 1\n",
      "Enjoy the Activity\n"
     ]
    },
    {
     "name": "stdin",
     "output_type": "stream",
     "text": [
      " 0\n"
     ]
    },
    {
     "name": "stdout",
     "output_type": "stream",
     "text": [
      "I'm out of the Game\n"
     ]
    }
   ],
   "source": [
    "## what if i can give the choice declaration by the end of program\n",
    "\n",
    "## program\n",
    "\n",
    "choice = \"-\"\n",
    "## looping with while loop when the condition is true\n",
    "while True:\n",
    "    ## if choice is equal to 0, then break out of the code and game\n",
    "    if choice == \"0\":\n",
    "        print(\"I'm out of the Game\")\n",
    "        break\n",
    "    elif choice in \"123456789\":\n",
    "        print(\"You choose {}\".format(choice))\n",
    "        print(\"Enjoy the Activity\")\n",
    "    else:\n",
    "        print(\"Please choos your option from the list below:--\")\n",
    "        print(\"1:\\tLearn Python\")\n",
    "        print(\"2:\\tLearn Java\")\n",
    "        print(\"3:\\tGo Swimming\")\n",
    "        print(\"4:\\tHave Dinner\")\n",
    "        print(\"5:\\tGo to Bed\")\n",
    "        print(\"6:\\tTravel the World\")\n",
    "        print(\"7:\\tWork Out Daily\")\n",
    "        print(\"8:\\tEducate yourself\")\n",
    "        print(\"9:\\tMake Money\")\n",
    "        print(\"0:\\tExit\")\n",
    "        \n",
    "    ## choose an input\n",
    "    choice = input()"
   ]
  },
  {
   "cell_type": "markdown",
   "metadata": {},
   "source": [
    "### Quiz"
   ]
  },
  {
   "cell_type": "code",
   "execution_count": 66,
   "metadata": {},
   "outputs": [
    {
     "name": "stdout",
     "output_type": "stream",
     "text": [
      "1 times 8 is 8\n",
      "2 times 8 is 16\n",
      "3 times 8 is 24\n",
      "4 times 8 is 32\n",
      "5 times 8 is 40\n",
      "6 times 8 is 48\n",
      "7 times 8 is 56\n",
      "8 times 8 is 64\n",
      "9 times 8 is 72\n",
      "10 times 8 is 80\n",
      "11 times 8 is 88\n",
      "12 times 8 is 96\n"
     ]
    }
   ],
   "source": [
    "## problem 1\n",
    "\n",
    "value = 8\n",
    "answer = 0\n",
    " \n",
    "for x in range(1, 13):\n",
    "    answer = value * x\n",
    "    print(\"{0} times {1} is {2}\".format(x, value, answer))"
   ]
  },
  {
   "cell_type": "code",
   "execution_count": 69,
   "metadata": {},
   "outputs": [
    {
     "name": "stdout",
     "output_type": "stream",
     "text": [
      "0\n",
      "1\n",
      "2\n",
      "3\n",
      "4\n",
      "5\n",
      "6\n",
      "7\n",
      "8\n",
      "9\n",
      "10\n"
     ]
    }
   ],
   "source": [
    "for value in range(11):\n",
    "    value = value\n",
    "    print(value)"
   ]
  },
  {
   "cell_type": "code",
   "execution_count": 68,
   "metadata": {},
   "outputs": [
    {
     "name": "stdout",
     "output_type": "stream",
     "text": [
      "0\n",
      "2\n",
      "4\n",
      "6\n",
      "8\n",
      "10\n",
      "12\n",
      "14\n",
      "16\n",
      "18\n"
     ]
    }
   ],
   "source": [
    "for value in range(10):\n",
    "    value = value * 2\n",
    "    print(value)"
   ]
  },
  {
   "cell_type": "code",
   "execution_count": 70,
   "metadata": {},
   "outputs": [
    {
     "name": "stdout",
     "output_type": "stream",
     "text": [
      "Grahamchapman\n",
      "Johncleese\n",
      "Terrygilliam\n"
     ]
    }
   ],
   "source": [
    "asteroids = [9617, 9618, 9619, 9620, 9621, 9622, 13681]\n",
    " \n",
    "for asteroid in asteroids:\n",
    "    if asteroid == 9617:\n",
    "        print(\"Grahamchapman\")\n",
    "    elif asteroid == 9618:\n",
    "        print(\"Johncleese\")\n",
    "    elif asteroid == 9619:\n",
    "        print(\"Terrygilliam\")\n",
    "        break\n",
    "    elif asteroid == 9620:\n",
    "        print(\"Ericidle\")\n",
    "    elif asteroid == 9621:\n",
    "        print(\"Michaelpalin\")\n",
    "    else:\n",
    "        print(\"Terryjones\")\n",
    "else:\n",
    "    print(\"MontyPython\")\n"
   ]
  },
  {
   "cell_type": "code",
   "execution_count": 71,
   "metadata": {},
   "outputs": [
    {
     "name": "stdout",
     "output_type": "stream",
     "text": [
      "1\n",
      "2\n",
      "4\n",
      "7\n",
      "8\n",
      "11\n",
      "13\n",
      "14\n",
      "16\n",
      "17\n",
      "19\n",
      "22\n",
      "23\n",
      "26\n",
      "28\n",
      "29\n"
     ]
    }
   ],
   "source": [
    "for x in range(30):\n",
    "    if x % 3 == 0 or x % 5 == 0:\n",
    "        continue\n",
    "    print(x)"
   ]
  },
  {
   "cell_type": "code",
   "execution_count": 73,
   "metadata": {},
   "outputs": [
    {
     "name": "stdout",
     "output_type": "stream",
     "text": [
      "1\n",
      "2\n",
      "3\n",
      "4\n",
      "5\n",
      "6\n",
      "7\n",
      "8\n",
      "9\n",
      "10\n",
      "11\n",
      "12\n",
      "13\n",
      "14\n",
      "16\n",
      "17\n",
      "18\n",
      "19\n",
      "20\n",
      "21\n",
      "22\n",
      "23\n",
      "24\n",
      "25\n",
      "26\n",
      "27\n",
      "28\n",
      "29\n"
     ]
    }
   ],
   "source": [
    "for x in range(30):\n",
    "    if x % 3 != 0 or x % 5 != 0:\n",
    "        print(x)"
   ]
  },
  {
   "cell_type": "code",
   "execution_count": 74,
   "metadata": {},
   "outputs": [
    {
     "name": "stdout",
     "output_type": "stream",
     "text": [
      "1\n",
      "2\n",
      "4\n",
      "7\n",
      "8\n",
      "11\n",
      "13\n",
      "14\n",
      "16\n",
      "17\n",
      "19\n",
      "22\n",
      "23\n",
      "26\n",
      "28\n",
      "29\n"
     ]
    }
   ],
   "source": [
    "for x in range(30):\n",
    "    if x % 3 != 0 and x % 5 != 0:\n",
    "        print(x)"
   ]
  },
  {
   "cell_type": "code",
   "execution_count": 76,
   "metadata": {},
   "outputs": [
    {
     "name": "stdin",
     "output_type": "stream",
     "text": [
      "Please enter your choice.  Press enter to quit quit\n"
     ]
    },
    {
     "name": "stdout",
     "output_type": "stream",
     "text": [
      "You have selected quit\n"
     ]
    },
    {
     "name": "stdin",
     "output_type": "stream",
     "text": [
      "Please enter your choice.  Press enter to quit \n"
     ]
    }
   ],
   "source": [
    "choice = None\n",
    " \n",
    "while choice != '0':\n",
    "    choice = input(\"Please enter your choice.  Press enter to quit\")\n",
    "    if choice == '':\n",
    "        break\n",
    " \n",
    "    print(\"You have selected {}\".format(choice))\n",
    "else:\n",
    "    print(\"Thank you for playing, please call back soon.\")"
   ]
  },
  {
   "cell_type": "code",
   "execution_count": null,
   "metadata": {},
   "outputs": [],
   "source": []
  }
 ],
 "metadata": {
  "kernelspec": {
   "display_name": "Python 3",
   "language": "python",
   "name": "python3"
  },
  "language_info": {
   "codemirror_mode": {
    "name": "ipython",
    "version": 3
   },
   "file_extension": ".py",
   "mimetype": "text/x-python",
   "name": "python",
   "nbconvert_exporter": "python",
   "pygments_lexer": "ipython3",
   "version": "3.8.3"
  }
 },
 "nbformat": 4,
 "nbformat_minor": 4
}
